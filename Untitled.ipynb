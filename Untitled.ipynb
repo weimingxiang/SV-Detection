{
 "cells": [
  {
   "cell_type": "code",
   "execution_count": 19,
   "id": "e545e98c",
   "metadata": {},
   "outputs": [],
   "source": [
    "from utilities import preprocess\n",
    "from pudb import set_trace\n",
    "import pandas as pd\n",
    "import random\n",
    "import numpy as np\n",
    "import torchvision\n",
    "import math\n",
    "import torch\n",
    "import matplotlib.pyplot as plt\n",
    "from utilities import MaxMinNormalization"
   ]
  },
  {
   "cell_type": "code",
   "execution_count": null,
   "id": "e48233b4",
   "metadata": {},
   "outputs": [],
   "source": [
    "chromosome = \"chr1\""
   ]
  },
  {
   "cell_type": "code",
   "execution_count": null,
   "id": "5299957c",
   "metadata": {},
   "outputs": [
    {
     "name": "stdout",
     "output_type": "stream",
     "text": [
      "[*] Start generating images ===\n"
     ]
    }
   ],
   "source": [
    "from utilities import preprocess\n",
    "\n",
    "data_dir = \"../datasets/NA12878_PacBio_MtSinai/\"\n",
    "\n",
    "bam_path = data_dir + \"sorted_final_merged.bam\"\n",
    "\n",
    "a = ['chrM', 'chr1', 'chr2', 'chr3', 'chr4', 'chr5', 'chr6', 'chr7', 'chr8', 'chr9', 'chr10', 'chr11', 'chr12', 'chr13', 'chr14', 'chr15', 'chr16', 'chr17', 'chr18', 'chr19', 'chr20', 'chr21', 'chr22', 'chrX', 'chrY', 'chr1_gl000191_random', 'chr1_gl000192_random', 'chr4_ctg9_hap1', 'chr4_gl000193_random', 'chr4_gl000194_random', 'chr6_apd_hap1', 'chr6_cox_hap2', 'chr6_dbb_hap3', 'chr6_mann_hap4', 'chr6_mcf_hap5', 'chr6_qbl_hap6', 'chr6_ssto_hap7', 'chr7_gl000195_random', 'chr8_gl000196_random', 'chr8_gl000197_random', 'chr9_gl000198_random', 'chr9_gl000199_random', 'chr9_gl000200_random', 'chr9_gl000201_random', 'chr11_gl000202_random', 'chr17_ctg5_hap1', 'chr17_gl000203_random', 'chr17_gl000204_random', 'chr17_gl000205_random', 'chr17_gl000206_random', 'chr18_gl000207_random', 'chr19_gl000208_random', 'chr19_gl000209_random', 'chr21_gl000210_random', 'chrUn_gl000211', 'chrUn_gl000212', 'chrUn_gl000213', 'chrUn_gl000214', 'chrUn_gl000215', 'chrUn_gl000216', 'chrUn_gl000217', 'chrUn_gl000218', 'chrUn_gl000219', 'chrUn_gl000220', 'chrUn_gl000221', 'chrUn_gl000222', 'chrUn_gl000223', 'chrUn_gl000224', 'chrUn_gl000225', 'chrUn_gl000226', 'chrUn_gl000227', 'chrUn_gl000228', 'chrUn_gl000229', 'chrUn_gl000230', 'chrUn_gl000231', 'chrUn_gl000232', 'chrUn_gl000233', 'chrUn_gl000234', 'chrUn_gl000235', 'chrUn_gl000236', 'chrUn_gl000237', 'chrUn_gl000238', 'chrUn_gl000239', 'chrUn_gl000240', 'chrUn_gl000241', 'chrUn_gl000242', 'chrUn_gl000243', 'chrUn_gl000244', 'chrUn_gl000245', 'chrUn_gl000246', 'chrUn_gl000247', 'chrUn_gl000248', 'chrUn_gl000249']\n",
    "\n",
    "def p(chromosome):\n",
    "    chromosome_sign = preprocess(bam_path, chromosome, data_dir)\n",
    "    torch.save(data_dir + \"chromosome_sign/\" + chromosome + \".pt\", chromosome_sign)\n",
    "    \n",
    "\n",
    "p(\"chr1\")"
   ]
  },
  {
   "cell_type": "code",
   "execution_count": 12,
   "id": "52b191ec",
   "metadata": {},
   "outputs": [],
   "source": [
    "rd_depth_mean = np.mean(rd_depth)"
   ]
  },
  {
   "cell_type": "code",
   "execution_count": 6,
   "id": "e4392ecb",
   "metadata": {},
   "outputs": [],
   "source": [
    "filename = \"../datasets/NA12878_PacBio_MtSinai/insert_result_data.csv.vcf\"\n",
    "insert_result_data = pd.read_csv(filename, sep = \"\\t\", index_col=0)"
   ]
  },
  {
   "cell_type": "code",
   "execution_count": 7,
   "id": "45799b65",
   "metadata": {},
   "outputs": [],
   "source": [
    "insert_chromosome = insert_result_data[insert_result_data[\"CHROM\"] == chromosome]"
   ]
  },
  {
   "cell_type": "code",
   "execution_count": 136,
   "id": "e5ebc51d",
   "metadata": {},
   "outputs": [
    {
     "data": {
      "text/html": [
       "<div>\n",
       "<style scoped>\n",
       "    .dataframe tbody tr th:only-of-type {\n",
       "        vertical-align: middle;\n",
       "    }\n",
       "\n",
       "    .dataframe tbody tr th {\n",
       "        vertical-align: top;\n",
       "    }\n",
       "\n",
       "    .dataframe thead th {\n",
       "        text-align: right;\n",
       "    }\n",
       "</style>\n",
       "<table border=\"1\" class=\"dataframe\">\n",
       "  <thead>\n",
       "    <tr style=\"text-align: right;\">\n",
       "      <th></th>\n",
       "      <th>CHROM</th>\n",
       "      <th>POS</th>\n",
       "      <th>SPOS</th>\n",
       "      <th>EPOS</th>\n",
       "      <th>END</th>\n",
       "      <th>SEND</th>\n",
       "      <th>EEND</th>\n",
       "      <th>ID</th>\n",
       "      <th>REF</th>\n",
       "      <th>ALT</th>\n",
       "      <th>QUAL</th>\n",
       "      <th>FILTER</th>\n",
       "      <th>INFO</th>\n",
       "      <th>FORMAT</th>\n",
       "      <th>NA12878</th>\n",
       "    </tr>\n",
       "  </thead>\n",
       "  <tbody>\n",
       "    <tr>\n",
       "      <th>0</th>\n",
       "      <td>chr1</td>\n",
       "      <td>10632</td>\n",
       "      <td>-50</td>\n",
       "      <td>50</td>\n",
       "      <td>10743</td>\n",
       "      <td>0</td>\n",
       "      <td>0</td>\n",
       "      <td>.</td>\n",
       "      <td>G</td>\n",
       "      <td>&lt;INS&gt;</td>\n",
       "      <td>.</td>\n",
       "      <td>lt3</td>\n",
       "      <td>IMPRECISE;SVTYPE=INS;END=10743;CIPOS=-50,50;NS...</td>\n",
       "      <td>GT</td>\n",
       "      <td>0/1</td>\n",
       "    </tr>\n",
       "    <tr>\n",
       "      <th>1</th>\n",
       "      <td>chr1</td>\n",
       "      <td>10851</td>\n",
       "      <td>-50</td>\n",
       "      <td>50</td>\n",
       "      <td>10942</td>\n",
       "      <td>0</td>\n",
       "      <td>0</td>\n",
       "      <td>.</td>\n",
       "      <td>G</td>\n",
       "      <td>&lt;INS&gt;</td>\n",
       "      <td>.</td>\n",
       "      <td>lt3</td>\n",
       "      <td>IMPRECISE;SVTYPE=INS;END=10942;CIPOS=-50,50;NS...</td>\n",
       "      <td>GT</td>\n",
       "      <td>0/1</td>\n",
       "    </tr>\n",
       "    <tr>\n",
       "      <th>2</th>\n",
       "      <td>chr1</td>\n",
       "      <td>66191</td>\n",
       "      <td>-10</td>\n",
       "      <td>10</td>\n",
       "      <td>66452</td>\n",
       "      <td>0</td>\n",
       "      <td>0</td>\n",
       "      <td>.</td>\n",
       "      <td>T</td>\n",
       "      <td>&lt;INS&gt;</td>\n",
       "      <td>.</td>\n",
       "      <td>lt3</td>\n",
       "      <td>IMPRECISE;SVTYPE=INS;END=66192;SVLEN=+261;CIPO...</td>\n",
       "      <td>GT</td>\n",
       "      <td>0/1</td>\n",
       "    </tr>\n",
       "    <tr>\n",
       "      <th>3</th>\n",
       "      <td>chr1</td>\n",
       "      <td>66493</td>\n",
       "      <td>-10</td>\n",
       "      <td>10</td>\n",
       "      <td>66555</td>\n",
       "      <td>0</td>\n",
       "      <td>0</td>\n",
       "      <td>.</td>\n",
       "      <td>A</td>\n",
       "      <td>&lt;INS&gt;</td>\n",
       "      <td>.</td>\n",
       "      <td>lt3</td>\n",
       "      <td>IMPRECISE;SVTYPE=INS;END=66494;SVLEN=+62;CIPOS...</td>\n",
       "      <td>GT</td>\n",
       "      <td>0/1</td>\n",
       "    </tr>\n",
       "    <tr>\n",
       "      <th>4</th>\n",
       "      <td>chr1</td>\n",
       "      <td>386669</td>\n",
       "      <td>-50</td>\n",
       "      <td>50</td>\n",
       "      <td>386767</td>\n",
       "      <td>0</td>\n",
       "      <td>0</td>\n",
       "      <td>.</td>\n",
       "      <td>C</td>\n",
       "      <td>&lt;INS&gt;</td>\n",
       "      <td>.</td>\n",
       "      <td>lt3</td>\n",
       "      <td>IMPRECISE;SVTYPE=INS;END=386767;CIPOS=-50,50;N...</td>\n",
       "      <td>GT</td>\n",
       "      <td>0/1</td>\n",
       "    </tr>\n",
       "    <tr>\n",
       "      <th>...</th>\n",
       "      <td>...</td>\n",
       "      <td>...</td>\n",
       "      <td>...</td>\n",
       "      <td>...</td>\n",
       "      <td>...</td>\n",
       "      <td>...</td>\n",
       "      <td>...</td>\n",
       "      <td>...</td>\n",
       "      <td>...</td>\n",
       "      <td>...</td>\n",
       "      <td>...</td>\n",
       "      <td>...</td>\n",
       "      <td>...</td>\n",
       "      <td>...</td>\n",
       "      <td>...</td>\n",
       "    </tr>\n",
       "    <tr>\n",
       "      <th>1616</th>\n",
       "      <td>chr1</td>\n",
       "      <td>249205955</td>\n",
       "      <td>-10</td>\n",
       "      <td>10</td>\n",
       "      <td>249206082</td>\n",
       "      <td>0</td>\n",
       "      <td>0</td>\n",
       "      <td>.</td>\n",
       "      <td>C</td>\n",
       "      <td>&lt;INS&gt;</td>\n",
       "      <td>.</td>\n",
       "      <td>PASS</td>\n",
       "      <td>IMPRECISE;SVTYPE=INS;END=249205956;SVLEN=+127;...</td>\n",
       "      <td>GT</td>\n",
       "      <td>0/1</td>\n",
       "    </tr>\n",
       "    <tr>\n",
       "      <th>1617</th>\n",
       "      <td>chr1</td>\n",
       "      <td>249220300</td>\n",
       "      <td>-50</td>\n",
       "      <td>50</td>\n",
       "      <td>249220329</td>\n",
       "      <td>0</td>\n",
       "      <td>0</td>\n",
       "      <td>.</td>\n",
       "      <td>C</td>\n",
       "      <td>&lt;INS&gt;</td>\n",
       "      <td>.</td>\n",
       "      <td>lt3</td>\n",
       "      <td>IMPRECISE;SVTYPE=INS;END=249220329;CIPOS=-50,5...</td>\n",
       "      <td>GT</td>\n",
       "      <td>0/1</td>\n",
       "    </tr>\n",
       "    <tr>\n",
       "      <th>1618</th>\n",
       "      <td>chr1</td>\n",
       "      <td>249222991</td>\n",
       "      <td>-50</td>\n",
       "      <td>50</td>\n",
       "      <td>249223091</td>\n",
       "      <td>0</td>\n",
       "      <td>0</td>\n",
       "      <td>.</td>\n",
       "      <td>C</td>\n",
       "      <td>&lt;INS&gt;</td>\n",
       "      <td>.</td>\n",
       "      <td>lt3</td>\n",
       "      <td>IMPRECISE;SVTYPE=INS;END=249223091;CIPOS=-50,5...</td>\n",
       "      <td>GT</td>\n",
       "      <td>0/1</td>\n",
       "    </tr>\n",
       "    <tr>\n",
       "      <th>1619</th>\n",
       "      <td>chr1</td>\n",
       "      <td>249232755</td>\n",
       "      <td>-10</td>\n",
       "      <td>10</td>\n",
       "      <td>249232848</td>\n",
       "      <td>0</td>\n",
       "      <td>0</td>\n",
       "      <td>.</td>\n",
       "      <td>C</td>\n",
       "      <td>&lt;INS&gt;</td>\n",
       "      <td>.</td>\n",
       "      <td>lt3</td>\n",
       "      <td>IMPRECISE;SVTYPE=INS;END=249232756;SVLEN=+93;C...</td>\n",
       "      <td>GT</td>\n",
       "      <td>0/1</td>\n",
       "    </tr>\n",
       "    <tr>\n",
       "      <th>1620</th>\n",
       "      <td>chr1</td>\n",
       "      <td>249239158</td>\n",
       "      <td>-50</td>\n",
       "      <td>50</td>\n",
       "      <td>249239262</td>\n",
       "      <td>0</td>\n",
       "      <td>0</td>\n",
       "      <td>.</td>\n",
       "      <td>C</td>\n",
       "      <td>&lt;INS&gt;</td>\n",
       "      <td>.</td>\n",
       "      <td>lt3</td>\n",
       "      <td>IMPRECISE;SVTYPE=INS;END=249239262;CIPOS=-50,5...</td>\n",
       "      <td>GT</td>\n",
       "      <td>0/1</td>\n",
       "    </tr>\n",
       "  </tbody>\n",
       "</table>\n",
       "<p>1621 rows × 15 columns</p>\n",
       "</div>"
      ],
      "text/plain": [
       "     CHROM        POS  SPOS  EPOS        END  SEND  EEND ID REF    ALT QUAL  \\\n",
       "0     chr1      10632   -50    50      10743     0     0  .   G  <INS>    .   \n",
       "1     chr1      10851   -50    50      10942     0     0  .   G  <INS>    .   \n",
       "2     chr1      66191   -10    10      66452     0     0  .   T  <INS>    .   \n",
       "3     chr1      66493   -10    10      66555     0     0  .   A  <INS>    .   \n",
       "4     chr1     386669   -50    50     386767     0     0  .   C  <INS>    .   \n",
       "...    ...        ...   ...   ...        ...   ...   ... ..  ..    ...  ...   \n",
       "1616  chr1  249205955   -10    10  249206082     0     0  .   C  <INS>    .   \n",
       "1617  chr1  249220300   -50    50  249220329     0     0  .   C  <INS>    .   \n",
       "1618  chr1  249222991   -50    50  249223091     0     0  .   C  <INS>    .   \n",
       "1619  chr1  249232755   -10    10  249232848     0     0  .   C  <INS>    .   \n",
       "1620  chr1  249239158   -50    50  249239262     0     0  .   C  <INS>    .   \n",
       "\n",
       "     FILTER                                               INFO FORMAT NA12878  \n",
       "0       lt3  IMPRECISE;SVTYPE=INS;END=10743;CIPOS=-50,50;NS...     GT     0/1  \n",
       "1       lt3  IMPRECISE;SVTYPE=INS;END=10942;CIPOS=-50,50;NS...     GT     0/1  \n",
       "2       lt3  IMPRECISE;SVTYPE=INS;END=66192;SVLEN=+261;CIPO...     GT     0/1  \n",
       "3       lt3  IMPRECISE;SVTYPE=INS;END=66494;SVLEN=+62;CIPOS...     GT     0/1  \n",
       "4       lt3  IMPRECISE;SVTYPE=INS;END=386767;CIPOS=-50,50;N...     GT     0/1  \n",
       "...     ...                                                ...    ...     ...  \n",
       "1616   PASS  IMPRECISE;SVTYPE=INS;END=249205956;SVLEN=+127;...     GT     0/1  \n",
       "1617    lt3  IMPRECISE;SVTYPE=INS;END=249220329;CIPOS=-50,5...     GT     0/1  \n",
       "1618    lt3  IMPRECISE;SVTYPE=INS;END=249223091;CIPOS=-50,5...     GT     0/1  \n",
       "1619    lt3  IMPRECISE;SVTYPE=INS;END=249232756;SVLEN=+93;C...     GT     0/1  \n",
       "1620    lt3  IMPRECISE;SVTYPE=INS;END=249239262;CIPOS=-50,5...     GT     0/1  \n",
       "\n",
       "[1621 rows x 15 columns]"
      ]
     },
     "execution_count": 136,
     "metadata": {},
     "output_type": "execute_result"
    }
   ],
   "source": [
    "insert_chromosome"
   ]
  },
  {
   "cell_type": "code",
   "execution_count": 8,
   "id": "3d85a638",
   "metadata": {},
   "outputs": [],
   "source": [
    "positive_img = []\n",
    "negative_img = []\n",
    "\n",
    "for index, row in insert_chromosome.iterrows():\n",
    "    gap = int((row[\"END\"] - row[\"POS\"]) / 4)\n",
    "    if gap == 0:\n",
    "        gap = 1\n",
    "    # positive\n",
    "    begin = row[\"POS\"] - 1 - gap\n",
    "    end = row[\"END\"] - 1 + gap\n",
    "    if begin < 0:\n",
    "        begin = 0\n",
    "    if end >= len(rd_depth):\n",
    "        end = len(rd_depth) - 1\n",
    "    positive_img.append(rd_depth[begin:end])\n",
    "    #negative\n",
    "    random_begin = random.randint(1,len(rd_depth))\n",
    "    while random_begin == row[\"POS\"]:\n",
    "        random_begin = random.randint(1,len(rd_depth))\n",
    "    begin = random_begin - 1 - gap\n",
    "    end = begin + row[\"END\"] - row[\"POS\"] + 2 * gap\n",
    "    if begin < 0:\n",
    "        begin = 0\n",
    "    if end >= len(rd_depth):\n",
    "        end = len(rd_depth) - 1\n",
    "    negative_img.append(rd_depth[begin:end])\n",
    "    "
   ]
  },
  {
   "cell_type": "code",
   "execution_count": 14,
   "id": "aa833a41",
   "metadata": {},
   "outputs": [
    {
     "name": "stdout",
     "output_type": "stream",
     "text": [
      "1621\n",
      "1621\n"
     ]
    }
   ],
   "source": [
    "#train insert identify network\n",
    "# x = img y = 1\n",
    "print(len(positive_img))\n",
    "print(len(negative_img))"
   ]
  },
  {
   "cell_type": "code",
   "execution_count": 44,
   "id": "494872c9",
   "metadata": {},
   "outputs": [],
   "source": [
    "def to_input_image(img, hight = 224):\n",
    "    img = torch.tensor(img, dtype=torch.float)\n",
    "    img = img - rd_depth_mean + hight / 2\n",
    "    pic_length = len(img)\n",
    "    im = torch.zeros(3, pic_length, hight)\n",
    "\n",
    "    im[0, :, 112:] = 255\n",
    "    \n",
    "    for x in range(pic_length):\n",
    "        y = int(img[x])\n",
    "        im[1, x, 0:y] = 255\n",
    "        y_float = img[x] - y\n",
    "        im[1, x, y:y+1] = torch.round(255 * y_float)\n",
    "\n",
    "    return im"
   ]
  },
  {
   "cell_type": "code",
   "execution_count": 27,
   "id": "37a645c6",
   "metadata": {},
   "outputs": [
    {
     "data": {
      "text/plain": [
       "array([ 95.44480749,  95.44480749,  95.44480749,  93.44480749,\n",
       "        95.44480749,  94.44480749,  92.44480749,  94.44480749,\n",
       "        93.44480749,  94.44480749,  94.44480749,  92.44480749,\n",
       "        91.44480749,  93.44480749,  93.44480749,  93.44480749,\n",
       "        92.44480749,  91.44480749,  90.44480749,  93.44480749,\n",
       "        94.44480749,  93.44480749,  92.44480749,  91.44480749,\n",
       "        91.44480749,  92.44480749,  94.44480749,  94.44480749,\n",
       "        94.44480749,  94.44480749,  93.44480749,  94.44480749,\n",
       "        97.44480749,  95.44480749,  97.44480749,  97.44480749,\n",
       "        93.44480749,  98.44480749,  97.44480749,  97.44480749,\n",
       "        98.44480749,  98.44480749,  98.44480749,  98.44480749,\n",
       "        97.44480749,  98.44480749, 100.44480749,  99.44480749,\n",
       "        97.44480749,  98.44480749,  99.44480749,  99.44480749,\n",
       "        99.44480749,  99.44480749, 100.44480749, 101.44480749,\n",
       "       101.44480749, 101.44480749, 101.44480749, 101.44480749,\n",
       "       102.44480749, 102.44480749, 101.44480749, 102.44480749,\n",
       "       101.44480749,  99.44480749, 101.44480749, 102.44480749,\n",
       "       102.44480749, 102.44480749, 102.44480749, 101.44480749,\n",
       "        98.44480749,  98.44480749, 102.44480749, 102.44480749,\n",
       "       101.44480749, 102.44480749, 101.44480749, 101.44480749,\n",
       "       102.44480749, 102.44480749, 101.44480749, 102.44480749,\n",
       "       101.44480749, 102.44480749, 102.44480749, 102.44480749,\n",
       "       102.44480749, 102.44480749, 101.44480749, 101.44480749,\n",
       "       101.44480749, 102.44480749,  99.44480749, 102.44480749,\n",
       "       101.44480749, 101.44480749, 103.44480749, 102.44480749,\n",
       "       103.44480749, 103.44480749, 101.44480749, 103.44480749,\n",
       "       103.44480749, 101.44480749, 103.44480749, 103.44480749,\n",
       "       103.44480749, 103.44480749, 103.44480749, 103.44480749,\n",
       "       102.44480749, 102.44480749, 103.44480749, 102.44480749,\n",
       "       103.44480749, 103.44480749, 102.44480749, 103.44480749,\n",
       "       103.44480749, 101.44480749, 103.44480749, 100.44480749,\n",
       "       102.44480749, 103.44480749, 103.44480749, 103.44480749,\n",
       "       102.44480749, 101.44480749, 102.44480749, 102.44480749,\n",
       "       103.44480749, 102.44480749, 104.44480749, 103.44480749,\n",
       "       104.44480749, 103.44480749, 104.44480749, 104.44480749,\n",
       "       104.44480749, 103.44480749, 104.44480749, 103.44480749,\n",
       "       104.44480749, 104.44480749, 103.44480749, 103.44480749,\n",
       "       104.44480749, 103.44480749, 104.44480749, 103.44480749,\n",
       "       102.44480749, 104.44480749, 101.44480749, 104.44480749,\n",
       "       103.44480749, 104.44480749, 100.44480749, 104.44480749,\n",
       "       103.44480749, 103.44480749, 103.44480749, 103.44480749,\n",
       "       102.44480749])"
      ]
     },
     "execution_count": 27,
     "metadata": {},
     "output_type": "execute_result"
    }
   ],
   "source": [
    "positive_img[0] - rd_depth_mean + 112"
   ]
  },
  {
   "cell_type": "code",
   "execution_count": 45,
   "id": "c2737e5f",
   "metadata": {
    "scrolled": true
   },
   "outputs": [
    {
     "name": "stderr",
     "output_type": "stream",
     "text": [
      "Clipping input data to the valid range for imshow with RGB data ([0..1] for floats or [0..255] for integers).\n"
     ]
    },
    {
     "data": {
      "text/plain": [
       "<matplotlib.image.AxesImage at 0x7ff15a1bd588>"
      ]
     },
     "execution_count": 45,
     "metadata": {},
     "output_type": "execute_result"
    },
    {
     "data": {
      "image/png": "[encoded data removed]",
      "text/plain": [
       "<Figure size 432x288 with 1 Axes>"
      ]
     },
     "metadata": {
      "needs_background": "light"
     },
     "output_type": "display_data"
    }
   ],
   "source": [
    "img = to_input_image(positive_img[0], 224)\n",
    "\n",
    "img = img.transpose(0, 2).transpose(0, 1)\n",
    "img = img.numpy()\n",
    "plt.imshow(img)"
   ]
  },
  {
   "cell_type": "code",
   "execution_count": 46,
   "id": "3b970649",
   "metadata": {},
   "outputs": [
    {
     "name": "stderr",
     "output_type": "stream",
     "text": [
      "Clipping input data to the valid range for imshow with RGB data ([0..1] for floats or [0..255] for integers).\n"
     ]
    },
    {
     "data": {
      "text/plain": [
       "<matplotlib.image.AxesImage at 0x7ff15a2a54e0>"
      ]
     },
     "execution_count": 46,
     "metadata": {},
     "output_type": "execute_result"
    },
    {
     "data": {
      "image/png": "[encoded data removed]",
      "text/plain": [
       "<Figure size 432x288 with 1 Axes>"
      ]
     },
     "metadata": {
      "needs_background": "light"
     },
     "output_type": "display_data"
    }
   ],
   "source": [
    "img = to_input_image(positive_img[1], 224)\n",
    "\n",
    "img = img.transpose(0, 2).transpose(0, 1)\n",
    "img = img.numpy()\n",
    "plt.imshow(img)"
   ]
  },
  {
   "cell_type": "code",
   "execution_count": 51,
   "id": "a873df6f",
   "metadata": {},
   "outputs": [
    {
     "name": "stderr",
     "output_type": "stream",
     "text": [
      "Clipping input data to the valid range for imshow with RGB data ([0..1] for floats or [0..255] for integers).\n"
     ]
    },
    {
     "data": {
      "text/plain": [
       "<matplotlib.image.AxesImage at 0x7ff159f8bcf8>"
      ]
     },
     "execution_count": 51,
     "metadata": {},
     "output_type": "execute_result"
    },
    {
     "data": {
      "image/png": "[encoded data removed]",
      "text/plain": [
       "<Figure size 432x288 with 1 Axes>"
      ]
     },
     "metadata": {
      "needs_background": "light"
     },
     "output_type": "display_data"
    }
   ],
   "source": [
    "img = to_input_image(positive_img[2], 224)\n",
    "\n",
    "img = img.transpose(0, 2).transpose(0, 1)\n",
    "img = img.numpy()\n",
    "plt.imshow(img)"
   ]
  },
  {
   "cell_type": "code",
   "execution_count": 48,
   "id": "0a61f999",
   "metadata": {},
   "outputs": [
    {
     "name": "stderr",
     "output_type": "stream",
     "text": [
      "Clipping input data to the valid range for imshow with RGB data ([0..1] for floats or [0..255] for integers).\n"
     ]
    },
    {
     "data": {
      "text/plain": [
       "<matplotlib.image.AxesImage at 0x7ff15a0dc080>"
      ]
     },
     "execution_count": 48,
     "metadata": {},
     "output_type": "execute_result"
    },
    {
     "data": {
      "image/png": "[encoded data removed]",
      "text/plain": [
       "<Figure size 432x288 with 1 Axes>"
      ]
     },
     "metadata": {
      "needs_background": "light"
     },
     "output_type": "display_data"
    }
   ],
   "source": [
    "img = to_input_image(negative_img[0], 224)\n",
    "\n",
    "img = img.transpose(0, 2).transpose(0, 1)\n",
    "img = img.numpy()\n",
    "plt.imshow(img)"
   ]
  },
  {
   "cell_type": "code",
   "execution_count": 49,
   "id": "ba1d3ba7",
   "metadata": {},
   "outputs": [
    {
     "name": "stderr",
     "output_type": "stream",
     "text": [
      "Clipping input data to the valid range for imshow with RGB data ([0..1] for floats or [0..255] for integers).\n"
     ]
    },
    {
     "data": {
      "text/plain": [
       "<matplotlib.image.AxesImage at 0x7ff15a045208>"
      ]
     },
     "execution_count": 49,
     "metadata": {},
     "output_type": "execute_result"
    },
    {
     "data": {
      "image/png": "[encoded data removed]",
      "text/plain": [
       "<Figure size 432x288 with 1 Axes>"
      ]
     },
     "metadata": {
      "needs_background": "light"
     },
     "output_type": "display_data"
    }
   ],
   "source": [
    "img = to_input_image(negative_img[1], 224)\n",
    "\n",
    "img = img.transpose(0, 2).transpose(0, 1)\n",
    "img = img.numpy()\n",
    "plt.imshow(img)"
   ]
  },
  {
   "cell_type": "code",
   "execution_count": 50,
   "id": "d79dc571",
   "metadata": {},
   "outputs": [
    {
     "name": "stderr",
     "output_type": "stream",
     "text": [
      "Clipping input data to the valid range for imshow with RGB data ([0..1] for floats or [0..255] for integers).\n"
     ]
    },
    {
     "data": {
      "text/plain": [
       "<matplotlib.image.AxesImage at 0x7ff15a0287f0>"
      ]
     },
     "execution_count": 50,
     "metadata": {},
     "output_type": "execute_result"
    },
    {
     "data": {
      "image/png": "[encoded data removed]",
      "text/plain": [
       "<Figure size 432x288 with 1 Axes>"
      ]
     },
     "metadata": {
      "needs_background": "light"
     },
     "output_type": "display_data"
    }
   ],
   "source": [
    "img = to_input_image(negative_img[2], 224)\n",
    "\n",
    "img = img.transpose(0, 2).transpose(0, 1)\n",
    "img = img.numpy()\n",
    "plt.imshow(img)"
   ]
  },
  {
   "cell_type": "code",
   "execution_count": 57,
   "id": "2251dd26",
   "metadata": {},
   "outputs": [],
   "source": [
    "resize = torchvision.transforms.Resize([224, 224])"
   ]
  },
  {
   "cell_type": "code",
   "execution_count": 58,
   "id": "a8a36c82",
   "metadata": {},
   "outputs": [],
   "source": [
    "img = to_input_image(negative_img[2], 224)"
   ]
  },
  {
   "cell_type": "code",
   "execution_count": 62,
   "id": "45527a1e",
   "metadata": {
    "scrolled": true
   },
   "outputs": [
    {
     "name": "stderr",
     "output_type": "stream",
     "text": [
      "Clipping input data to the valid range for imshow with RGB data ([0..1] for floats or [0..255] for integers).\n"
     ]
    },
    {
     "data": {
      "text/plain": [
       "<matplotlib.image.AxesImage at 0x7ff159ebe710>"
      ]
     },
     "execution_count": 62,
     "metadata": {},
     "output_type": "execute_result"
    },
    {
     "data": {
      "image/png": "[encoded data removed]",
      "text/plain": [
       "<Figure size 432x288 with 1 Axes>"
      ]
     },
     "metadata": {
      "needs_background": "light"
     },
     "output_type": "display_data"
    }
   ],
   "source": [
    "img = resize(img)\n",
    "img = img.transpose(0, 2).transpose(0, 1)\n",
    "img = img.numpy()\n",
    "plt.imshow(img)"
   ]
  },
  {
   "cell_type": "code",
   "execution_count": 74,
   "id": "edb08416",
   "metadata": {},
   "outputs": [],
   "source": [
    "def to_input_image(imgs, rd_depth_mean, hight = 224):\n",
    "    resize = torchvision.transforms.Resize([hight, hight])\n",
    "    ims = torch.empty(0, 3, hight, hight)\n",
    "    for img in imgs:\n",
    "        img = torch.tensor(img, dtype=torch.float)\n",
    "        img = img - rd_depth_mean + hight / 2\n",
    "        pic_length = len(img)\n",
    "        im = torch.zeros(3, pic_length, hight)\n",
    "\n",
    "        im[0, :, 112:] = 255\n",
    "\n",
    "        for x in range(pic_length):\n",
    "            y = int(img[x])\n",
    "            im[1, x, 0:y] = 255\n",
    "            y_float = img[x] - y\n",
    "            im[1, x, y:y+1] = torch.round(255 * y_float)\n",
    "        im = resize(im)\n",
    "        ims = torch.cat((ims, im.unsqueeze(0)),0)\n",
    "\n",
    "    return ims"
   ]
  },
  {
   "cell_type": "code",
   "execution_count": 75,
   "id": "51d124a3",
   "metadata": {},
   "outputs": [],
   "source": [
    "img = to_input_image(negative_img, 224)"
   ]
  },
  {
   "cell_type": "code",
   "execution_count": 76,
   "id": "1630a4d7",
   "metadata": {},
   "outputs": [
    {
     "data": {
      "text/plain": [
       "torch.Size([1621, 3, 224, 224])"
      ]
     },
     "execution_count": 76,
     "metadata": {},
     "output_type": "execute_result"
    }
   ],
   "source": [
    "img.size()"
   ]
  },
  {
   "cell_type": "code",
   "execution_count": 77,
   "id": "e31d7c9b",
   "metadata": {},
   "outputs": [],
   "source": [
    "resnet_model = torchvision.models.resnet50(pretrained=True)"
   ]
  },
  {
   "cell_type": "code",
   "execution_count": 78,
   "id": "85a7ab69",
   "metadata": {},
   "outputs": [],
   "source": [
    "y_hat = resnet_model(img)"
   ]
  },
  {
   "cell_type": "code",
   "execution_count": 79,
   "id": "eac89348",
   "metadata": {},
   "outputs": [
    {
     "data": {
      "text/plain": [
       "torch.Size([1621, 1000])"
      ]
     },
     "execution_count": 79,
     "metadata": {},
     "output_type": "execute_result"
    }
   ],
   "source": [
    "y_hat.size()"
   ]
  },
  {
   "cell_type": "code",
   "execution_count": 103,
   "id": "36606e39",
   "metadata": {
    "scrolled": false
   },
   "outputs": [
    {
     "ename": "NameError",
     "evalue": "name 'IdentifyDataset' is not defined",
     "output_type": "error",
     "traceback": [
      "\u001b[0;31m---------------------------------------------------------------------------\u001b[0m",
      "\u001b[0;31mNameError\u001b[0m                                 Traceback (most recent call last)",
      "\u001b[0;32m<ipython-input-103-52a7ef6de177>\u001b[0m in \u001b[0;36m<module>\u001b[0;34m\u001b[0m\n\u001b[1;32m      7\u001b[0m \u001b[0mlogger\u001b[0m \u001b[0;34m=\u001b[0m \u001b[0mTensorBoardLogger\u001b[0m\u001b[0;34m(\u001b[0m\u001b[0mos\u001b[0m\u001b[0;34m.\u001b[0m\u001b[0mpath\u001b[0m\u001b[0;34m.\u001b[0m\u001b[0mjoin\u001b[0m\u001b[0;34m(\u001b[0m\u001b[0;34m\"/home/xwm/DeepSVFilter/code\"\u001b[0m\u001b[0;34m,\u001b[0m \u001b[0;34m\"tblogs_predict_\"\u001b[0m\u001b[0;34m)\u001b[0m\u001b[0;34m,\u001b[0m \u001b[0mname\u001b[0m\u001b[0;34m=\u001b[0m\u001b[0;34m'my_model'\u001b[0m\u001b[0;34m)\u001b[0m\u001b[0;34m\u001b[0m\u001b[0;34m\u001b[0m\u001b[0m\n\u001b[1;32m      8\u001b[0m \u001b[0;34m\u001b[0m\u001b[0m\n\u001b[0;32m----> 9\u001b[0;31m \u001b[0mmodel\u001b[0m \u001b[0;34m=\u001b[0m \u001b[0mIDENet\u001b[0m\u001b[0;34m(\u001b[0m\u001b[0mpositive_img\u001b[0m\u001b[0;34m,\u001b[0m \u001b[0mnegative_img\u001b[0m\u001b[0;34m)\u001b[0m\u001b[0;34m\u001b[0m\u001b[0;34m\u001b[0m\u001b[0m\n\u001b[0m\u001b[1;32m     10\u001b[0m \u001b[0;34m\u001b[0m\u001b[0m\n\u001b[1;32m     11\u001b[0m trainer = pl.Trainer(\n",
      "\u001b[0;32m~/DeepSVFilter/code/net.py\u001b[0m in \u001b[0;36m__init__\u001b[0;34m(self, positive_img, negative_img)\u001b[0m\n\u001b[1;32m     24\u001b[0m         \u001b[0mself\u001b[0m\u001b[0;34m.\u001b[0m\u001b[0mpositive_img\u001b[0m \u001b[0;34m=\u001b[0m \u001b[0mpositive_img\u001b[0m\u001b[0;34m\u001b[0m\u001b[0;34m\u001b[0m\u001b[0m\n\u001b[1;32m     25\u001b[0m         \u001b[0mself\u001b[0m\u001b[0;34m.\u001b[0m\u001b[0mnegative_img\u001b[0m \u001b[0;34m=\u001b[0m \u001b[0mnegative_img\u001b[0m\u001b[0;34m\u001b[0m\u001b[0;34m\u001b[0m\u001b[0m\n\u001b[0;32m---> 26\u001b[0;31m \u001b[0;34m\u001b[0m\u001b[0m\n\u001b[0m\u001b[1;32m     27\u001b[0m \u001b[0;34m\u001b[0m\u001b[0m\n\u001b[1;32m     28\u001b[0m         \u001b[0mself\u001b[0m\u001b[0;34m.\u001b[0m\u001b[0mresnet_model\u001b[0m \u001b[0;34m=\u001b[0m \u001b[0mtorchvision\u001b[0m\u001b[0;34m.\u001b[0m\u001b[0mmodels\u001b[0m\u001b[0;34m.\u001b[0m\u001b[0mresnet50\u001b[0m\u001b[0;34m(\u001b[0m\u001b[0mpretrained\u001b[0m\u001b[0;34m=\u001b[0m\u001b[0;32mTrue\u001b[0m\u001b[0;34m)\u001b[0m \u001b[0;31m# [224, 224] -> 1000\u001b[0m\u001b[0;34m\u001b[0m\u001b[0;34m\u001b[0m\u001b[0m\n",
      "\u001b[0;31mNameError\u001b[0m: name 'IdentifyDataset' is not defined"
     ]
    }
   ],
   "source": [
    "from pytorch_lightning.loggers import TensorBoardLogger\n",
    "import os\n",
    "\n",
    "from net import IDENet\n",
    "\n",
    "\n",
    "logger = TensorBoardLogger(os.path.join(\"/home/xwm/DeepSVFilter/code\", \"tblogs_predict_\"), name='my_model')\n",
    "\n",
    "model = IDENet(positive_img, negative_img)\n",
    "\n",
    "trainer = pl.Trainer(\n",
    "    max_epochs=200,\n",
    "    gpus=1,\n",
    "    # replace_sampler_ddp=False,\n",
    "    progress_bar_refresh_rate=0,\n",
    "    logger=logger,\n",
    "    # val_percent_check=0,\n",
    "    # callbacks=[checkpoint_callback],\n",
    "    # resume_from_checkpoint=resume\n",
    ")\n",
    "\n",
    "trainer.fit(model)"
   ]
  },
  {
   "cell_type": "code",
   "execution_count": 102,
   "id": "d1de7ea4",
   "metadata": {},
   "outputs": [
    {
     "data": {
      "text/plain": [
       "<utilities.IdentifyDataset at 0x7fefe8e03e48>"
      ]
     },
     "execution_count": 102,
     "metadata": {},
     "output_type": "execute_result"
    }
   ],
   "source": [
    "from utilities import IdentifyDataset\n",
    "IdentifyDataset(positive_img, negative_img)"
   ]
  },
  {
   "cell_type": "code",
   "execution_count": 4,
   "id": "1de6c339",
   "metadata": {},
   "outputs": [],
   "source": [
    "from utilities import preprocess, mymkdir\n",
    "from pudb import set_trace\n",
    "import pandas as pd\n",
    "import random\n",
    "import numpy as np\n",
    "import torchvision\n",
    "import math\n",
    "import torch\n",
    "import matplotlib.pyplot as plt\n",
    "from pytorch_lightning.loggers import TensorBoardLogger\n",
    "import os\n",
    "from net import IDENet\n",
    "import pytorch_lightning as pl\n",
    "from pytorch_lightning import seed_everything\n",
    "from pytorch_lightning.callbacks import ModelCheckpoint\n",
    "from multiprocessing import Pool, cpu_count\n",
    "\n",
    "data_dir = \"../datasets/NA12878_PacBio_MtSinai/\"\n",
    "chromosome = \"chr1\"\n",
    "\n",
    "\n",
    "pool = Pool(2)\n",
    "if os.path.exists(data_dir + 'image/' + chromosome + '/positive_img' + '.pt'):\n",
    "    _positive_img, _negative_img = pool.map(torch.load, [data_dir + 'image/' + chromosome + '/positive_img' + '.pt', data_dir + 'image/' + chromosome + '/negative_img' + '.pt'])"
   ]
  },
  {
   "cell_type": "code",
   "execution_count": 9,
   "id": "3c527cd7",
   "metadata": {},
   "outputs": [
    {
     "name": "stderr",
     "output_type": "stream",
     "text": [
      "Clipping input data to the valid range for imshow with RGB data ([0..1] for floats or [0..255] for integers).\n"
     ]
    },
    {
     "data": {
      "text/plain": [
       "<matplotlib.image.AxesImage at 0x7f78a05a0400>"
      ]
     },
     "execution_count": 9,
     "metadata": {},
     "output_type": "execute_result"
    },
    {
     "data": {
      "image/png": "[encoded data removed]",
      "text/plain": [
       "<Figure size 432x288 with 1 Axes>"
      ]
     },
     "metadata": {
      "needs_background": "light"
     },
     "output_type": "display_data"
    }
   ],
   "source": [
    "img = _negative_img[0].transpose(0, 2).transpose(0, 1)\n",
    "img = img.numpy()\n",
    "plt.imshow(img)"
   ]
  },
  {
   "cell_type": "code",
   "execution_count": 4,
   "id": "0c2eebca",
   "metadata": {},
   "outputs": [],
   "source": [
    "data_dir = \"../datasets/NA12878_PacBio_MtSinai/\"\n",
    "\n",
    "\n",
    "filename = data_dir + \"NA12878.sorted.vcf_chr\"\n",
    "file = open(filename,'r')\n",
    "label = [x.strip() for x in file]\n",
    "file.close()"
   ]
  },
  {
   "cell_type": "code",
   "execution_count": 6,
   "id": "1a235201",
   "metadata": {},
   "outputs": [
    {
     "data": {
      "text/plain": [
       "93"
      ]
     },
     "execution_count": 6,
     "metadata": {},
     "output_type": "execute_result"
    }
   ],
   "source": [
    "len(label)"
   ]
  },
  {
   "cell_type": "code",
   "execution_count": 8,
   "id": "3100c888",
   "metadata": {},
   "outputs": [],
   "source": [
    "import torch\n",
    "data_dir = \"../datasets/NA12878_PacBio_MtSinai/\"\n",
    "chromosome = \"chr1\"\n",
    "\n",
    "chromosome_sign = torch.load(data_dir + \"chromosome_sign/\" + chromosome + \".pt\")"
   ]
  },
  {
   "cell_type": "code",
   "execution_count": 9,
   "id": "4f4e4bcd",
   "metadata": {},
   "outputs": [
    {
     "data": {
      "text/plain": [
       "torch.Size([3, 249250621])"
      ]
     },
     "execution_count": 9,
     "metadata": {},
     "output_type": "execute_result"
    }
   ],
   "source": [
    "chromosome_sign.size()"
   ]
  },
  {
   "cell_type": "code",
   "execution_count": 10,
   "id": "599e2711",
   "metadata": {},
   "outputs": [],
   "source": [
    "import pysam\n",
    "\n",
    "data_dir = \"../datasets/NA12878_PacBio_MtSinai/\"\n",
    "\n",
    "sam_file_path = data_dir + \"sorted_final_merged.bam\"\n",
    "\n",
    "sam_file = pysam.AlignmentFile(sam_file_path, \"rb\")"
   ]
  },
  {
   "cell_type": "code",
   "execution_count": 16,
   "id": "624969eb",
   "metadata": {},
   "outputs": [],
   "source": [
    "for read in sam_file.fetch(\"chr1\", 0, 10001):\n",
    "    r = read"
   ]
  },
  {
   "cell_type": "code",
   "execution_count": 73,
   "id": "6a2f2c7c",
   "metadata": {},
   "outputs": [
    {
     "name": "stdout",
     "output_type": "stream",
     "text": [
      "chrM\n",
      "chr1\n",
      "chr2\n",
      "chr3\n",
      "chr4\n",
      "chr5\n",
      "chr6\n",
      "chr7\n",
      "chr8\n",
      "chr9\n",
      "chr10\n",
      "chr11\n",
      "chr12\n",
      "chr13\n",
      "chr14\n",
      "chr15\n",
      "chr16\n",
      "chr17\n",
      "chr18\n",
      "chr19\n",
      "chr20\n",
      "chr21\n",
      "chr22\n",
      "chrX\n",
      "chrY\n",
      "chr1_gl000191_random\n",
      "chr1_gl000192_random\n",
      "chr4_ctg9_hap1\n",
      "chr4_gl000193_random\n",
      "chr4_gl000194_random\n",
      "chr6_apd_hap1\n",
      "chr6_cox_hap2\n",
      "chr6_dbb_hap3\n",
      "chr6_mann_hap4\n",
      "chr6_mcf_hap5\n",
      "chr6_qbl_hap6\n",
      "chr6_ssto_hap7\n",
      "chr7_gl000195_random\n",
      "chr8_gl000196_random\n",
      "chr8_gl000197_random\n",
      "chr9_gl000198_random\n",
      "chr9_gl000199_random\n",
      "chr9_gl000200_random\n",
      "chr9_gl000201_random\n",
      "chr11_gl000202_random\n",
      "chr17_ctg5_hap1\n",
      "chr17_gl000203_random\n",
      "chr17_gl000204_random\n",
      "chr17_gl000205_random\n",
      "chr17_gl000206_random\n",
      "chr18_gl000207_random\n",
      "chr19_gl000208_random\n",
      "chr19_gl000209_random\n",
      "chr21_gl000210_random\n",
      "chrUn_gl000211\n",
      "chrUn_gl000212\n",
      "chrUn_gl000213\n",
      "chrUn_gl000214\n",
      "chrUn_gl000215\n",
      "chrUn_gl000216\n",
      "chrUn_gl000217\n",
      "chrUn_gl000218\n",
      "chrUn_gl000219\n",
      "chrUn_gl000220\n",
      "chrUn_gl000221\n",
      "chrUn_gl000222\n",
      "chrUn_gl000223\n",
      "chrUn_gl000224\n",
      "chrUn_gl000225\n",
      "chrUn_gl000226\n",
      "chrUn_gl000227\n",
      "chrUn_gl000228\n",
      "chrUn_gl000229\n",
      "chrUn_gl000230\n",
      "chrUn_gl000231\n",
      "chrUn_gl000232\n",
      "chrUn_gl000233\n",
      "chrUn_gl000234\n",
      "chrUn_gl000235\n",
      "chrUn_gl000236\n",
      "chrUn_gl000237\n",
      "chrUn_gl000238\n",
      "chrUn_gl000239\n",
      "chrUn_gl000240\n",
      "chrUn_gl000241\n",
      "chrUn_gl000242\n",
      "chrUn_gl000243\n",
      "chrUn_gl000244\n",
      "chrUn_gl000245\n",
      "chrUn_gl000246\n",
      "chrUn_gl000247\n",
      "chrUn_gl000248\n",
      "chrUn_gl000249\n"
     ]
    }
   ],
   "source": [
    "for i in sam_file.references:\n",
    "    print(i)"
   ]
  },
  {
   "cell_type": "code",
   "execution_count": 71,
   "id": "deea949e",
   "metadata": {},
   "outputs": [
    {
     "data": {
      "text/plain": [
       "(16571,\n",
       " 249250621,\n",
       " 243199373,\n",
       " 198022430,\n",
       " 191154276,\n",
       " 180915260,\n",
       " 171115067,\n",
       " 159138663,\n",
       " 146364022,\n",
       " 141213431,\n",
       " 135534747,\n",
       " 135006516,\n",
       " 133851895,\n",
       " 115169878,\n",
       " 107349540,\n",
       " 102531392,\n",
       " 90354753,\n",
       " 81195210,\n",
       " 78077248,\n",
       " 59128983,\n",
       " 63025520,\n",
       " 48129895,\n",
       " 51304566,\n",
       " 155270560,\n",
       " 59373566,\n",
       " 106433,\n",
       " 547496,\n",
       " 590426,\n",
       " 189789,\n",
       " 191469,\n",
       " 4622290,\n",
       " 4795371,\n",
       " 4610396,\n",
       " 4683263,\n",
       " 4833398,\n",
       " 4611984,\n",
       " 4928567,\n",
       " 182896,\n",
       " 38914,\n",
       " 37175,\n",
       " 90085,\n",
       " 169874,\n",
       " 187035,\n",
       " 36148,\n",
       " 40103,\n",
       " 1680828,\n",
       " 37498,\n",
       " 81310,\n",
       " 174588,\n",
       " 41001,\n",
       " 4262,\n",
       " 92689,\n",
       " 159169,\n",
       " 27682,\n",
       " 166566,\n",
       " 186858,\n",
       " 164239,\n",
       " 137718,\n",
       " 172545,\n",
       " 172294,\n",
       " 172149,\n",
       " 161147,\n",
       " 179198,\n",
       " 161802,\n",
       " 155397,\n",
       " 186861,\n",
       " 180455,\n",
       " 179693,\n",
       " 211173,\n",
       " 15008,\n",
       " 128374,\n",
       " 129120,\n",
       " 19913,\n",
       " 43691,\n",
       " 27386,\n",
       " 40652,\n",
       " 45941,\n",
       " 40531,\n",
       " 34474,\n",
       " 41934,\n",
       " 45867,\n",
       " 39939,\n",
       " 33824,\n",
       " 41933,\n",
       " 42152,\n",
       " 43523,\n",
       " 43341,\n",
       " 39929,\n",
       " 36651,\n",
       " 38154,\n",
       " 36422,\n",
       " 39786,\n",
       " 38502)"
      ]
     },
     "execution_count": 71,
     "metadata": {},
     "output_type": "execute_result"
    }
   ],
   "source": [
    "sam_file.lengths"
   ]
  },
  {
   "cell_type": "code",
   "execution_count": 97,
   "id": "bab8bb3c",
   "metadata": {},
   "outputs": [],
   "source": [
    "p = r.get_reference_positions(full_length=True)"
   ]
  },
  {
   "cell_type": "code",
   "execution_count": 57,
   "id": "203d0170",
   "metadata": {},
   "outputs": [],
   "source": [
    "pset = set(p)"
   ]
  },
  {
   "cell_type": "code",
   "execution_count": 98,
   "id": "5ddfceec",
   "metadata": {},
   "outputs": [
    {
     "data": {
      "text/plain": [
       "7320"
      ]
     },
     "execution_count": 98,
     "metadata": {},
     "output_type": "execute_result"
    }
   ],
   "source": [
    "len(p)"
   ]
  },
  {
   "cell_type": "code",
   "execution_count": 59,
   "id": "8af6cd45",
   "metadata": {},
   "outputs": [
    {
     "data": {
      "text/plain": [
       "2320"
      ]
     },
     "execution_count": 59,
     "metadata": {},
     "output_type": "execute_result"
    }
   ],
   "source": [
    "len(pset)"
   ]
  },
  {
   "cell_type": "code",
   "execution_count": 46,
   "id": "f25f6958",
   "metadata": {
    "scrolled": true
   },
   "outputs": [
    {
     "data": {
      "text/plain": [
       "7320"
      ]
     },
     "execution_count": 46,
     "metadata": {},
     "output_type": "execute_result"
    }
   ],
   "source": [
    "len(r.get_forward_sequence())"
   ]
  },
  {
   "cell_type": "code",
   "execution_count": null,
   "id": "8e09191c",
   "metadata": {},
   "outputs": [],
   "source": []
  },
  {
   "cell_type": "raw",
   "id": "edff9223",
   "metadata": {},
   "source": [
    "print(r)"
   ]
  },
  {
   "cell_type": "code",
   "execution_count": 45,
   "id": "5316ca5c",
   "metadata": {},
   "outputs": [
    {
     "data": {
      "text/plain": [
       "True"
      ]
     },
     "execution_count": 45,
     "metadata": {},
     "output_type": "execute_result"
    }
   ],
   "source": [
    "r.is_reverse\n"
   ]
  },
  {
   "cell_type": "code",
   "execution_count": 26,
   "id": "bd4ff6ba",
   "metadata": {},
   "outputs": [],
   "source": [
    "bam_op_count = torch.zeros([9, 10], dtype=torch.int)"
   ]
  },
  {
   "cell_type": "code",
   "execution_count": 27,
   "id": "b0ba51f4",
   "metadata": {},
   "outputs": [
    {
     "data": {
      "text/plain": [
       "torch.Size([9, 10])"
      ]
     },
     "execution_count": 27,
     "metadata": {},
     "output_type": "execute_result"
    }
   ],
   "source": [
    "bam_op_count.size()"
   ]
  },
  {
   "cell_type": "code",
   "execution_count": 28,
   "id": "64f683ab",
   "metadata": {},
   "outputs": [],
   "source": [
    "chromosome = \"chr1\"\n",
    "\n",
    "ref_chromosome_filename = data_dir + \"chr/\" + chromosome + \".fa\"\n",
    "fa = pysam.FastaFile(ref_chromosome_filename)\n",
    "chr_string = fa.fetch(chromosome)"
   ]
  },
  {
   "cell_type": "code",
   "execution_count": 61,
   "id": "dbac2fad",
   "metadata": {},
   "outputs": [
    {
     "data": {
      "text/plain": [
       "2423"
      ]
     },
     "execution_count": 61,
     "metadata": {},
     "output_type": "execute_result"
    }
   ],
   "source": [
    "start, end = (r.reference_start, r.reference_end)\n",
    "len(chr_string[start:end])"
   ]
  },
  {
   "cell_type": "code",
   "execution_count": 92,
   "id": "f3ac3dc0",
   "metadata": {},
   "outputs": [
    {
     "data": {
      "text/plain": [
       "(array('I', [2319, 1921, 104, 0, 3080, 0, 0, 0, 0, 0, 0]),\n",
       " array('I', [358, 283, 74, 0, 2, 0, 0, 0, 0, 0, 0]))"
      ]
     },
     "execution_count": 92,
     "metadata": {},
     "output_type": "execute_result"
    }
   ],
   "source": [
    "r.get_cigar_stats()"
   ]
  },
  {
   "cell_type": "code",
   "execution_count": 72,
   "id": "4506f5f4",
   "metadata": {},
   "outputs": [
    {
     "data": {
      "text/plain": [
       "249250621"
      ]
     },
     "execution_count": 72,
     "metadata": {},
     "output_type": "execute_result"
    }
   ],
   "source": [
    "len(chr_string)"
   ]
  },
  {
   "cell_type": "code",
   "execution_count": 79,
   "id": "dd59b5cc",
   "metadata": {},
   "outputs": [
    {
     "data": {
      "text/plain": [
       "249250621"
      ]
     },
     "execution_count": 79,
     "metadata": {},
     "output_type": "execute_result"
    }
   ],
   "source": [
    "sam_file.lengths[sam_file.references.index(chromosome)]"
   ]
  },
  {
   "cell_type": "code",
   "execution_count": 84,
   "id": "b9a60321",
   "metadata": {},
   "outputs": [
    {
     "data": {
      "text/plain": [
       "7320"
      ]
     },
     "execution_count": 84,
     "metadata": {},
     "output_type": "execute_result"
    }
   ],
   "source": [
    "len(r.get_forward_sequence())"
   ]
  },
  {
   "cell_type": "code",
   "execution_count": 83,
   "id": "c58e6bbc",
   "metadata": {},
   "outputs": [
    {
     "data": {
      "text/plain": [
       "2423"
      ]
     },
     "execution_count": 83,
     "metadata": {},
     "output_type": "execute_result"
    }
   ],
   "source": [
    "len(chr_string[start:end])"
   ]
  },
  {
   "cell_type": "code",
   "execution_count": 14,
   "id": "2a68be98",
   "metadata": {},
   "outputs": [
    {
     "ename": "NameError",
     "evalue": "name 'r' is not defined",
     "output_type": "error",
     "traceback": [
      "\u001b[0;31m---------------------------------------------------------------------------\u001b[0m",
      "\u001b[0;31mNameError\u001b[0m                                 Traceback (most recent call last)",
      "\u001b[0;32m<ipython-input-14-0136afe584ba>\u001b[0m in \u001b[0;36m<module>\u001b[0;34m\u001b[0m\n\u001b[0;32m----> 1\u001b[0;31m \u001b[0mr\u001b[0m\u001b[0;34m.\u001b[0m\u001b[0mcigar\u001b[0m\u001b[0;34m\u001b[0m\u001b[0;34m\u001b[0m\u001b[0m\n\u001b[0m",
      "\u001b[0;31mNameError\u001b[0m: name 'r' is not defined"
     ]
    }
   ],
   "source": [
    "r.cigar"
   ]
  },
  {
   "cell_type": "code",
   "execution_count": 93,
   "id": "685591b7",
   "metadata": {},
   "outputs": [],
   "source": [
    "sum = [0] * 10\n",
    "for operation, length in read.cigar: # (operation, length)\n",
    "    sum[operation] += length"
   ]
  },
  {
   "cell_type": "code",
   "execution_count": 100,
   "id": "a04bf822",
   "metadata": {},
   "outputs": [
    {
     "data": {
      "text/plain": [
       "[2319, 1921, 104, 0, 3080, 0, 0, 0, 0, 0]"
      ]
     },
     "execution_count": 100,
     "metadata": {},
     "output_type": "execute_result"
    }
   ],
   "source": [
    "sum"
   ]
  },
  {
   "cell_type": "code",
   "execution_count": 99,
   "id": "5037a42a",
   "metadata": {},
   "outputs": [
    {
     "data": {
      "text/plain": [
       "7320"
      ]
     },
     "execution_count": 99,
     "metadata": {},
     "output_type": "execute_result"
    }
   ],
   "source": [
    "sum[0] + sum[1] + sum[4]"
   ]
  },
  {
   "cell_type": "code",
   "execution_count": 95,
   "id": "344636bf",
   "metadata": {},
   "outputs": [],
   "source": [
    "all_sum = 0\n",
    "for operation, length in read.cigar: # (operation, length)\n",
    "    all_sum += length"
   ]
  },
  {
   "cell_type": "code",
   "execution_count": 96,
   "id": "2b629964",
   "metadata": {},
   "outputs": [
    {
     "data": {
      "text/plain": [
       "7424"
      ]
     },
     "execution_count": 96,
     "metadata": {},
     "output_type": "execute_result"
    }
   ],
   "source": [
    "all_sum"
   ]
  },
  {
   "cell_type": "code",
   "execution_count": 187,
   "id": "16dfd879",
   "metadata": {},
   "outputs": [],
   "source": [
    "a = 0\n",
    "b = 10\n",
    "l = np.array([])"
   ]
  },
  {
   "cell_type": "code",
   "execution_count": 193,
   "id": "35ff560d",
   "metadata": {},
   "outputs": [],
   "source": [
    "l = np.append(l, [a] * b)"
   ]
  },
  {
   "cell_type": "code",
   "execution_count": 207,
   "id": "93b03a92",
   "metadata": {},
   "outputs": [
    {
     "data": {
      "text/plain": [
       "array([0., 0., 0., 0., 0., 0., 0., 0., 0., 0., 0., 0., 0., 0., 0., 0., 0.,\n",
       "       0., 0., 0.])"
      ]
     },
     "execution_count": 207,
     "metadata": {},
     "output_type": "execute_result"
    }
   ],
   "source": [
    "l"
   ]
  },
  {
   "cell_type": "code",
   "execution_count": 1,
   "id": "88274a0d",
   "metadata": {},
   "outputs": [],
   "source": [
    "import utilities as ut\n",
    "import pysam\n",
    "data_dir = \"../datasets/NA12878_PacBio_MtSinai/\"\n",
    "bam_path = data_dir + \"sorted_final_merged.bam\"\n",
    "sam_file = pysam.AlignmentFile(bam_path, \"rb\")\n",
    "chro = \"chrM\"\n",
    "\n",
    "begin = 1\n",
    "end = 100"
   ]
  },
  {
   "cell_type": "code",
   "execution_count": 2,
   "id": "1502990e",
   "metadata": {
    "scrolled": true
   },
   "outputs": [
    {
     "name": "stdout",
     "output_type": "stream",
     "text": [
      "======= to input image begin =========\n"
     ]
    },
    {
     "ename": "ValueError",
     "evalue": "size shape must match input shape. Input is 1D, size is 2",
     "output_type": "error",
     "traceback": [
      "\u001b[0;31m---------------------------------------------------------------------------\u001b[0m",
      "\u001b[0;31mValueError\u001b[0m                                Traceback (most recent call last)",
      "\u001b[0;32m<ipython-input-2-f24f211b02cd>\u001b[0m in \u001b[0;36m<module>\u001b[0;34m\u001b[0m\n\u001b[0;32m----> 1\u001b[0;31m \u001b[0mut\u001b[0m\u001b[0;34m.\u001b[0m\u001b[0mcigar_img\u001b[0m\u001b[0;34m(\u001b[0m\u001b[0msam_file\u001b[0m\u001b[0;34m,\u001b[0m \u001b[0mchro\u001b[0m\u001b[0;34m,\u001b[0m \u001b[0mbegin\u001b[0m\u001b[0;34m,\u001b[0m \u001b[0mend\u001b[0m\u001b[0;34m)\u001b[0m\u001b[0;34m\u001b[0m\u001b[0;34m\u001b[0m\u001b[0m\n\u001b[0m",
      "\u001b[0;32m~/DeepSVFilter/code/utilities.py\u001b[0m in \u001b[0;36mcigar_img\u001b[0;34m(sam_file, chromosome, begin, end)\u001b[0m\n\u001b[1;32m     95\u001b[0m         \u001b[0mcigars_img\u001b[0m\u001b[0;34m[\u001b[0m\u001b[0mi\u001b[0m\u001b[0;34m,\u001b[0m \u001b[0;34m:\u001b[0m\u001b[0mlen\u001b[0m\u001b[0;34m(\u001b[0m\u001b[0mr_c\u001b[0m\u001b[0;34m)\u001b[0m\u001b[0;34m]\u001b[0m \u001b[0;34m=\u001b[0m \u001b[0mtorch\u001b[0m\u001b[0;34m.\u001b[0m\u001b[0mfrom_numpy\u001b[0m\u001b[0;34m(\u001b[0m\u001b[0mr_c\u001b[0m\u001b[0;34m)\u001b[0m\u001b[0;34m\u001b[0m\u001b[0;34m\u001b[0m\u001b[0m\n\u001b[1;32m     96\u001b[0m \u001b[0;34m\u001b[0m\u001b[0m\n\u001b[0;32m---> 97\u001b[0;31m     \u001b[0mcigars_img\u001b[0m \u001b[0;34m=\u001b[0m \u001b[0mresize\u001b[0m\u001b[0;34m(\u001b[0m\u001b[0mcigars_img\u001b[0m\u001b[0;34m)\u001b[0m\u001b[0;34m\u001b[0m\u001b[0;34m\u001b[0m\u001b[0m\n\u001b[0m\u001b[1;32m     98\u001b[0m \u001b[0;34m\u001b[0m\u001b[0m\n\u001b[1;32m     99\u001b[0m     \u001b[0mprint\u001b[0m\u001b[0;34m(\u001b[0m\u001b[0;34m\"======= to input image end =========\"\u001b[0m\u001b[0;34m)\u001b[0m\u001b[0;34m\u001b[0m\u001b[0;34m\u001b[0m\u001b[0m\n",
      "\u001b[0;32m~/anaconda3/envs/SV/lib/python3.6/site-packages/torch/nn/modules/module.py\u001b[0m in \u001b[0;36m_call_impl\u001b[0;34m(self, *input, **kwargs)\u001b[0m\n\u001b[1;32m   1100\u001b[0m         if not (self._backward_hooks or self._forward_hooks or self._forward_pre_hooks or _global_backward_hooks\n\u001b[1;32m   1101\u001b[0m                 or _global_forward_hooks or _global_forward_pre_hooks):\n\u001b[0;32m-> 1102\u001b[0;31m             \u001b[0;32mreturn\u001b[0m \u001b[0mforward_call\u001b[0m\u001b[0;34m(\u001b[0m\u001b[0;34m*\u001b[0m\u001b[0minput\u001b[0m\u001b[0;34m,\u001b[0m \u001b[0;34m**\u001b[0m\u001b[0mkwargs\u001b[0m\u001b[0;34m)\u001b[0m\u001b[0;34m\u001b[0m\u001b[0;34m\u001b[0m\u001b[0m\n\u001b[0m\u001b[1;32m   1103\u001b[0m         \u001b[0;31m# Do not call functions when jit is used\u001b[0m\u001b[0;34m\u001b[0m\u001b[0;34m\u001b[0m\u001b[0;34m\u001b[0m\u001b[0m\n\u001b[1;32m   1104\u001b[0m         \u001b[0mfull_backward_hooks\u001b[0m\u001b[0;34m,\u001b[0m \u001b[0mnon_full_backward_hooks\u001b[0m \u001b[0;34m=\u001b[0m \u001b[0;34m[\u001b[0m\u001b[0;34m]\u001b[0m\u001b[0;34m,\u001b[0m \u001b[0;34m[\u001b[0m\u001b[0;34m]\u001b[0m\u001b[0;34m\u001b[0m\u001b[0;34m\u001b[0m\u001b[0m\n",
      "\u001b[0;32m~/anaconda3/envs/SV/lib/python3.6/site-packages/torchvision/transforms/transforms.py\u001b[0m in \u001b[0;36mforward\u001b[0;34m(self, img)\u001b[0m\n\u001b[1;32m    302\u001b[0m             \u001b[0mPIL\u001b[0m \u001b[0mImage\u001b[0m \u001b[0;32mor\u001b[0m \u001b[0mTensor\u001b[0m\u001b[0;34m:\u001b[0m \u001b[0mRescaled\u001b[0m \u001b[0mimage\u001b[0m\u001b[0;34m.\u001b[0m\u001b[0;34m\u001b[0m\u001b[0;34m\u001b[0m\u001b[0m\n\u001b[1;32m    303\u001b[0m         \"\"\"\n\u001b[0;32m--> 304\u001b[0;31m         \u001b[0;32mreturn\u001b[0m \u001b[0mF\u001b[0m\u001b[0;34m.\u001b[0m\u001b[0mresize\u001b[0m\u001b[0;34m(\u001b[0m\u001b[0mimg\u001b[0m\u001b[0;34m,\u001b[0m \u001b[0mself\u001b[0m\u001b[0;34m.\u001b[0m\u001b[0msize\u001b[0m\u001b[0;34m,\u001b[0m \u001b[0mself\u001b[0m\u001b[0;34m.\u001b[0m\u001b[0minterpolation\u001b[0m\u001b[0;34m,\u001b[0m \u001b[0mself\u001b[0m\u001b[0;34m.\u001b[0m\u001b[0mmax_size\u001b[0m\u001b[0;34m,\u001b[0m \u001b[0mself\u001b[0m\u001b[0;34m.\u001b[0m\u001b[0mantialias\u001b[0m\u001b[0;34m)\u001b[0m\u001b[0;34m\u001b[0m\u001b[0;34m\u001b[0m\u001b[0m\n\u001b[0m\u001b[1;32m    305\u001b[0m \u001b[0;34m\u001b[0m\u001b[0m\n\u001b[1;32m    306\u001b[0m     \u001b[0;32mdef\u001b[0m \u001b[0m__repr__\u001b[0m\u001b[0;34m(\u001b[0m\u001b[0mself\u001b[0m\u001b[0;34m)\u001b[0m\u001b[0;34m:\u001b[0m\u001b[0;34m\u001b[0m\u001b[0;34m\u001b[0m\u001b[0m\n",
      "\u001b[0;32m~/anaconda3/envs/SV/lib/python3.6/site-packages/torchvision/transforms/functional.py\u001b[0m in \u001b[0;36mresize\u001b[0;34m(img, size, interpolation, max_size, antialias)\u001b[0m\n\u001b[1;32m    419\u001b[0m         \u001b[0;32mreturn\u001b[0m \u001b[0mF_pil\u001b[0m\u001b[0;34m.\u001b[0m\u001b[0mresize\u001b[0m\u001b[0;34m(\u001b[0m\u001b[0mimg\u001b[0m\u001b[0;34m,\u001b[0m \u001b[0msize\u001b[0m\u001b[0;34m=\u001b[0m\u001b[0msize\u001b[0m\u001b[0;34m,\u001b[0m \u001b[0minterpolation\u001b[0m\u001b[0;34m=\u001b[0m\u001b[0mpil_interpolation\u001b[0m\u001b[0;34m,\u001b[0m \u001b[0mmax_size\u001b[0m\u001b[0;34m=\u001b[0m\u001b[0mmax_size\u001b[0m\u001b[0;34m)\u001b[0m\u001b[0;34m\u001b[0m\u001b[0;34m\u001b[0m\u001b[0m\n\u001b[1;32m    420\u001b[0m \u001b[0;34m\u001b[0m\u001b[0m\n\u001b[0;32m--> 421\u001b[0;31m     \u001b[0;32mreturn\u001b[0m \u001b[0mF_t\u001b[0m\u001b[0;34m.\u001b[0m\u001b[0mresize\u001b[0m\u001b[0;34m(\u001b[0m\u001b[0mimg\u001b[0m\u001b[0;34m,\u001b[0m \u001b[0msize\u001b[0m\u001b[0;34m=\u001b[0m\u001b[0msize\u001b[0m\u001b[0;34m,\u001b[0m \u001b[0minterpolation\u001b[0m\u001b[0;34m=\u001b[0m\u001b[0minterpolation\u001b[0m\u001b[0;34m.\u001b[0m\u001b[0mvalue\u001b[0m\u001b[0;34m,\u001b[0m \u001b[0mmax_size\u001b[0m\u001b[0;34m=\u001b[0m\u001b[0mmax_size\u001b[0m\u001b[0;34m,\u001b[0m \u001b[0mantialias\u001b[0m\u001b[0;34m=\u001b[0m\u001b[0mantialias\u001b[0m\u001b[0;34m)\u001b[0m\u001b[0;34m\u001b[0m\u001b[0;34m\u001b[0m\u001b[0m\n\u001b[0m\u001b[1;32m    422\u001b[0m \u001b[0;34m\u001b[0m\u001b[0m\n\u001b[1;32m    423\u001b[0m \u001b[0;34m\u001b[0m\u001b[0m\n",
      "\u001b[0;32m~/anaconda3/envs/SV/lib/python3.6/site-packages/torchvision/transforms/functional_tensor.py\u001b[0m in \u001b[0;36mresize\u001b[0;34m(img, size, interpolation, max_size, antialias)\u001b[0m\n\u001b[1;32m    556\u001b[0m             \u001b[0mimg\u001b[0m \u001b[0;34m=\u001b[0m \u001b[0mtorch\u001b[0m\u001b[0;34m.\u001b[0m\u001b[0mops\u001b[0m\u001b[0;34m.\u001b[0m\u001b[0mtorchvision\u001b[0m\u001b[0;34m.\u001b[0m\u001b[0m_interpolate_bicubic2d_aa\u001b[0m\u001b[0;34m(\u001b[0m\u001b[0mimg\u001b[0m\u001b[0;34m,\u001b[0m \u001b[0;34m[\u001b[0m\u001b[0mnew_h\u001b[0m\u001b[0;34m,\u001b[0m \u001b[0mnew_w\u001b[0m\u001b[0;34m]\u001b[0m\u001b[0;34m,\u001b[0m \u001b[0malign_corners\u001b[0m\u001b[0;34m=\u001b[0m\u001b[0;32mFalse\u001b[0m\u001b[0;34m)\u001b[0m\u001b[0;34m\u001b[0m\u001b[0;34m\u001b[0m\u001b[0m\n\u001b[1;32m    557\u001b[0m     \u001b[0;32melse\u001b[0m\u001b[0;34m:\u001b[0m\u001b[0;34m\u001b[0m\u001b[0;34m\u001b[0m\u001b[0m\n\u001b[0;32m--> 558\u001b[0;31m         \u001b[0mimg\u001b[0m \u001b[0;34m=\u001b[0m \u001b[0minterpolate\u001b[0m\u001b[0;34m(\u001b[0m\u001b[0mimg\u001b[0m\u001b[0;34m,\u001b[0m \u001b[0msize\u001b[0m\u001b[0;34m=\u001b[0m\u001b[0;34m[\u001b[0m\u001b[0mnew_h\u001b[0m\u001b[0;34m,\u001b[0m \u001b[0mnew_w\u001b[0m\u001b[0;34m]\u001b[0m\u001b[0;34m,\u001b[0m \u001b[0mmode\u001b[0m\u001b[0;34m=\u001b[0m\u001b[0minterpolation\u001b[0m\u001b[0;34m,\u001b[0m \u001b[0malign_corners\u001b[0m\u001b[0;34m=\u001b[0m\u001b[0malign_corners\u001b[0m\u001b[0;34m)\u001b[0m\u001b[0;34m\u001b[0m\u001b[0;34m\u001b[0m\u001b[0m\n\u001b[0m\u001b[1;32m    559\u001b[0m \u001b[0;34m\u001b[0m\u001b[0m\n\u001b[1;32m    560\u001b[0m     \u001b[0;32mif\u001b[0m \u001b[0minterpolation\u001b[0m \u001b[0;34m==\u001b[0m \u001b[0;34m\"bicubic\"\u001b[0m \u001b[0;32mand\u001b[0m \u001b[0mout_dtype\u001b[0m \u001b[0;34m==\u001b[0m \u001b[0mtorch\u001b[0m\u001b[0;34m.\u001b[0m\u001b[0muint8\u001b[0m\u001b[0;34m:\u001b[0m\u001b[0;34m\u001b[0m\u001b[0;34m\u001b[0m\u001b[0m\n",
      "\u001b[0;32m~/anaconda3/envs/SV/lib/python3.6/site-packages/torch/nn/functional.py\u001b[0m in \u001b[0;36minterpolate\u001b[0;34m(input, size, scale_factor, mode, align_corners, recompute_scale_factor)\u001b[0m\n\u001b[1;32m   3651\u001b[0m             \u001b[0;32mif\u001b[0m \u001b[0mlen\u001b[0m\u001b[0;34m(\u001b[0m\u001b[0msize\u001b[0m\u001b[0;34m)\u001b[0m \u001b[0;34m!=\u001b[0m \u001b[0mdim\u001b[0m\u001b[0;34m:\u001b[0m\u001b[0;34m\u001b[0m\u001b[0;34m\u001b[0m\u001b[0m\n\u001b[1;32m   3652\u001b[0m                 raise ValueError(\n\u001b[0;32m-> 3653\u001b[0;31m                     \u001b[0;34m\"size shape must match input shape. \"\u001b[0m \u001b[0;34m\"Input is {}D, size is {}\"\u001b[0m\u001b[0;34m.\u001b[0m\u001b[0mformat\u001b[0m\u001b[0;34m(\u001b[0m\u001b[0mdim\u001b[0m\u001b[0;34m,\u001b[0m \u001b[0mlen\u001b[0m\u001b[0;34m(\u001b[0m\u001b[0msize\u001b[0m\u001b[0;34m)\u001b[0m\u001b[0;34m)\u001b[0m\u001b[0;34m\u001b[0m\u001b[0;34m\u001b[0m\u001b[0m\n\u001b[0m\u001b[1;32m   3654\u001b[0m                 )\n\u001b[1;32m   3655\u001b[0m             \u001b[0moutput_size\u001b[0m \u001b[0;34m=\u001b[0m \u001b[0msize\u001b[0m\u001b[0;34m\u001b[0m\u001b[0;34m\u001b[0m\u001b[0m\n",
      "\u001b[0;31mValueError\u001b[0m: size shape must match input shape. Input is 1D, size is 2"
     ]
    }
   ],
   "source": [
    "ut.cigar_img(sam_file, chro, begin, end)"
   ]
  },
  {
   "cell_type": "code",
   "execution_count": 139,
   "id": "88fa7b0f",
   "metadata": {},
   "outputs": [],
   "source": [
    "t = torch.rand([3, 5])"
   ]
  },
  {
   "cell_type": "code",
   "execution_count": 206,
   "id": "6c8cb084",
   "metadata": {},
   "outputs": [
    {
     "data": {
      "text/plain": [
       "3"
      ]
     },
     "execution_count": 206,
     "metadata": {},
     "output_type": "execute_result"
    }
   ],
   "source": [
    "len(t.numpy())"
   ]
  },
  {
   "cell_type": "code",
   "execution_count": 143,
   "id": "7e6b2d4d",
   "metadata": {},
   "outputs": [
    {
     "ename": "RuntimeError",
     "evalue": "The expanded size of the tensor (60) must match the existing size (5) at non-singleton dimension 2.  Target sizes: [3, 5, 60].  Tensor sizes: [3, 5]",
     "output_type": "error",
     "traceback": [
      "\u001b[0;31m---------------------------------------------------------------------------\u001b[0m",
      "\u001b[0;31mRuntimeError\u001b[0m                              Traceback (most recent call last)",
      "\u001b[0;32m<ipython-input-143-91d3cb9f9f53>\u001b[0m in \u001b[0;36m<module>\u001b[0;34m\u001b[0m\n\u001b[0;32m----> 1\u001b[0;31m \u001b[0mt\u001b[0m\u001b[0;34m.\u001b[0m\u001b[0mexpand\u001b[0m\u001b[0;34m(\u001b[0m\u001b[0;36m3\u001b[0m\u001b[0;34m,\u001b[0m \u001b[0;36m5\u001b[0m\u001b[0;34m,\u001b[0m \u001b[0;36m60\u001b[0m\u001b[0;34m)\u001b[0m\u001b[0;34m\u001b[0m\u001b[0;34m\u001b[0m\u001b[0m\n\u001b[0m",
      "\u001b[0;31mRuntimeError\u001b[0m: The expanded size of the tensor (60) must match the existing size (5) at non-singleton dimension 2.  Target sizes: [3, 5, 60].  Tensor sizes: [3, 5]"
     ]
    }
   ],
   "source": [
    "t.expand(3, 5, 60)"
   ]
  },
  {
   "cell_type": "code",
   "execution_count": 200,
   "id": "6bc87588",
   "metadata": {},
   "outputs": [],
   "source": [
    "a=[[1,2,3],[4,5],[7]]"
   ]
  },
  {
   "cell_type": "code",
   "execution_count": 201,
   "id": "7582803c",
   "metadata": {},
   "outputs": [
    {
     "name": "stdout",
     "output_type": "stream",
     "text": [
      "0\n",
      "1\n",
      "2\n"
     ]
    }
   ],
   "source": [
    "for i, r_c in enumerate(a):\n",
    "    print(i)"
   ]
  },
  {
   "cell_type": "code",
   "execution_count": 146,
   "id": "610e7317",
   "metadata": {},
   "outputs": [],
   "source": [
    "import numpy as np"
   ]
  },
  {
   "cell_type": "code",
   "execution_count": 176,
   "id": "dd3790e1",
   "metadata": {},
   "outputs": [],
   "source": [
    "t = torch.rand([3])"
   ]
  },
  {
   "cell_type": "code",
   "execution_count": 196,
   "id": "8fe4a588",
   "metadata": {},
   "outputs": [],
   "source": [
    "tt = torch.rand([2])"
   ]
  },
  {
   "cell_type": "code",
   "execution_count": 175,
   "id": "bfd8b095",
   "metadata": {},
   "outputs": [
    {
     "data": {
      "text/plain": [
       "2"
      ]
     },
     "execution_count": 175,
     "metadata": {},
     "output_type": "execute_result"
    }
   ],
   "source": [
    "len(t)"
   ]
  },
  {
   "cell_type": "code",
   "execution_count": 177,
   "id": "18cda846",
   "metadata": {},
   "outputs": [],
   "source": [
    "tt = [1, 2]"
   ]
  },
  {
   "cell_type": "code",
   "execution_count": 197,
   "id": "7a10c3fb",
   "metadata": {},
   "outputs": [],
   "source": [
    "t[:2] = tt"
   ]
  },
  {
   "cell_type": "code",
   "execution_count": 171,
   "id": "5d922bff",
   "metadata": {},
   "outputs": [
    {
     "data": {
      "text/plain": [
       "tensor([0.0504, 0.2557, 0.5756])"
      ]
     },
     "execution_count": 171,
     "metadata": {},
     "output_type": "execute_result"
    }
   ],
   "source": [
    "t"
   ]
  },
  {
   "cell_type": "code",
   "execution_count": 182,
   "id": "c3aa7e77",
   "metadata": {},
   "outputs": [],
   "source": [
    "q = torch.Tensor()"
   ]
  },
  {
   "cell_type": "code",
   "execution_count": 183,
   "id": "671c4801",
   "metadata": {},
   "outputs": [
    {
     "ename": "AttributeError",
     "evalue": "'Tensor' object has no attribute 'extend'",
     "output_type": "error",
     "traceback": [
      "\u001b[0;31m---------------------------------------------------------------------------\u001b[0m",
      "\u001b[0;31mAttributeError\u001b[0m                            Traceback (most recent call last)",
      "\u001b[0;32m<ipython-input-183-ca492773adb6>\u001b[0m in \u001b[0;36m<module>\u001b[0;34m\u001b[0m\n\u001b[0;32m----> 1\u001b[0;31m \u001b[0mq\u001b[0m\u001b[0;34m.\u001b[0m\u001b[0mextend\u001b[0m\u001b[0;34m(\u001b[0m\u001b[0;34m)\u001b[0m\u001b[0;34m\u001b[0m\u001b[0;34m\u001b[0m\u001b[0m\n\u001b[0m",
      "\u001b[0;31mAttributeError\u001b[0m: 'Tensor' object has no attribute 'extend'"
     ]
    }
   ],
   "source": [
    "q.extend()"
   ]
  },
  {
   "cell_type": "code",
   "execution_count": 15,
   "id": "534a076f",
   "metadata": {},
   "outputs": [],
   "source": [
    "import pysam\n",
    "data_dir = \"../datasets/NA12878_PacBio_MtSinai/\"\n",
    "bam_path = data_dir + \"sorted_final_merged.bam\"\n",
    "sam_file = pysam.AlignmentFile(bam_path, \"rb\")\n",
    "\n",
    "for read in sam_file.fetch(\"chr1\"):\n",
    "    r = read\n",
    "    break"
   ]
  },
  {
   "cell_type": "code",
   "execution_count": 21,
   "id": "0e261c12",
   "metadata": {},
   "outputs": [
    {
     "data": {
      "text/plain": [
       "1723"
      ]
     },
     "execution_count": 21,
     "metadata": {},
     "output_type": "execute_result"
    }
   ],
   "source": [
    "chromosome = \"chr1\"\n",
    "\n",
    "ref_chromosome_filename = data_dir + \"chr/\" + chromosome + \".fa\"\n",
    "fa = pysam.FastaFile(ref_chromosome_filename)\n",
    "chr_string = fa.fetch(chromosome)\n",
    "start, end = (r.reference_start, r.reference_end)\n",
    "len(r.get_forward_sequence())"
   ]
  },
  {
   "cell_type": "code",
   "execution_count": 20,
   "id": "94dfe378",
   "metadata": {},
   "outputs": [
    {
     "data": {
      "text/plain": [
       "450"
      ]
     },
     "execution_count": 20,
     "metadata": {},
     "output_type": "execute_result"
    }
   ],
   "source": [
    "len(chr_string[start:end])"
   ]
  },
  {
   "cell_type": "code",
   "execution_count": 25,
   "id": "b32fe3da",
   "metadata": {},
   "outputs": [
    {
     "data": {
      "text/plain": [
       "'TAACCCTAACCCTAACCCTAACCCTAACCCTAACCCTAACCCTAACCCTAACCCTAACCCTAACCCTAACCCTAACCCTAACCCTAACCCTAACCCTAACCCTAACCCAACCCTAACCCTAACCCTAACCCTAACCCTAACCCTAACCCCTAACCCTAACCCTAACCCTAACCCTAACCTAACCCTAACCCTAACCCTAACCCTAACCCTAACCCTAACCCTAACCCTAACCCCTAACCCTAACCCTAAACCCTAAACCCTAACCCTAACCCTAACCCTAACCCTAACCCCAACCCCAACCCCAACCCCAACCCCAACCCCAACCCTAACCCCTAACCCTAACCCTAACCCTACCCTAACCCTAACCCTAACCCTAACCCTAACCCTAACCCCTAACCCCTAACCCTAACCCTAACCCTAACCCTAACCCTAACCCTAACCCCTAACCCT'"
      ]
     },
     "execution_count": 25,
     "metadata": {},
     "output_type": "execute_result"
    }
   ],
   "source": [
    "chr_string[start:end].upper()"
   ]
  },
  {
   "cell_type": "code",
   "execution_count": 23,
   "id": "7e914c6d",
   "metadata": {
    "scrolled": false
   },
   "outputs": [
    {
     "data": {
      "text/plain": [
       "'GTATCCCCTACCCAGGGGTGAGGGTGAGGGTGTAGGGTTGGGTTAGGTTAGGGTTAGGGTGAGGGTGAGGGGTTAGTGAGGGTGAGGTGGGGGGTTGGAAGGGTGAGGGTGAGGGTTTAGGGTGCAGGGAAGGGTGAGGGTAGGGTTAGGGTGAGGTGAGTTGAGGGTTAGGGTGACGGGTGAGGGTTAGGGTGAGGGTTAGGGTTTAGGGTTTATGGGTTAGGGTTAGGTGAGGGTCGAGGGTGAGGGTTTAGGAGTGAGGGTGGAGGGTTTAAGGGTGAGGGTGAGGGTAGGGTGAGGGTTACGGGTTAGGGTGAGGGTTAGGGTTAAGGGTTAGGGTTTAGGGTGAGGGTGAGGGTTAGGGGTGAGGGTGAGGGTTAAGGGTGAGGGTTAGGGTTAGGGGTTAGGGTTAGGTTAGGGTTAGGGTTAGGGTTAGGGTTAGGGTTGAGGGTTAGGGTTAGGGTTTGGGTTTAGGGTGAGGGTTGAGGGTTAGGGAGGGTTGAGGTGAGGGTAAGGGTGAGGGTTAGGGTCTAGTGGTGAGGGTTAGGGTTAGGGTTAGGGTTTTAGGGTTAGGGTTTAGGGTTAGGGTGTAGGGGTTACGGGTGAGGGTTTTAGGGTTGAGGGTGAGGGGTTAGGGTGAGGGGAAGGGTTAGGGTGAGGGTTAGTTTAGGGTTAGGGTAGGGTTAGGTTAGGTTAGGGTAGGGTAGGGGTGGAGGGTTAGGGTTTAGGGTTAGGGTGAGGTTAGGGTTAGGGTTAGGGTTAGGGTTAGGGTTTAGGGTGAGGTTAAGGGTTAGGGTTAGGGTGAGGGGTTTAAGGGTTAGGGTTTTAGGGTTAGGGTTAGGGTTAGGGTTACGGGTTAGGTTTAGGGTGAGGGTTTAGGGTTAGGGTTAGGGTTAGGGTTTAGGGTTAGGTGTAGGGTTAACGGGTTAGCGGTTAAGGGTTAGGGGTTAGGGTTAGGGTTAGGGTTATAGGGTTAGGGTTAGGGTTAGGGTTTAGGGTTAGGTTAGGGTTATGGTTTAGGGTTTTAGGGTTAGGGTTAGGGTTAGGGTAGGGTTGGTTAGGGTTAGGGTTAGGGTTAGGGTTAGGTTAGGGTTTAGGGTTAGGGTTAGGGTTTAGGTTAGGGTTAGGGTTAGGGTTAGGGTTAGGGTTAGGGTTAGGTTAGGGTAGGGTTAGGGTAGGGTTAAGGGTTAGGGTAGGGTTAGGGTTAGGGTTAGGGTTGGGTTAGGGTTTAGGGTTAGGGTTAGGGTTAGGTTAGGGTTAGGGTTAGGGTTAAGGGTTAGGGTTAGGGTTAGGGTTAGGGTTAGGGTTAGGGTTTAGGGTAGGGTTACTGGGTTACGGGTTAGGGTTAGCGGTTAGGGTTAGGGTTAGGGTTAGGGTTAGGGTTAGGGTTAGGGTTAGGGTTAGGGTTTAGGGTTAGGGTAGGGTTAGGGTTAGGGTTTAGGGTTAGGGTTAGGGGTTAGGGTTAGGGTTAGGGTTAGGGTAGGGTTAGGGTTAGGGGTTAGGGTTAGGCGTTAGGCGTTACGGGTTAGGGTTAAGGGTATAGGGTTAGGGTAGGGTTTAGGGTTAGGGTTAGGGTAGGTTATGGTTAGGGTTTAGGGTTAGGGTTAGGGTTAGGGTTAGGGTTAGGGTTAGGGTTAGGGTTAGGGTTTAGGGTTAGGCGTTAAGGGTTAGGGTTAGGGTTAGGGTTAGGGTAGGGTTTGGGTTAGGGTTAGGGTTAGGGTTA'"
      ]
     },
     "execution_count": 23,
     "metadata": {},
     "output_type": "execute_result"
    }
   ],
   "source": [
    "r.get_forward_sequence()"
   ]
  },
  {
   "cell_type": "code",
   "execution_count": 35,
   "id": "2b798fd0",
   "metadata": {},
   "outputs": [
    {
     "data": {
      "text/plain": [
       "['__class__',\n",
       " '__copy__',\n",
       " '__deepcopy__',\n",
       " '__delattr__',\n",
       " '__dir__',\n",
       " '__doc__',\n",
       " '__eq__',\n",
       " '__format__',\n",
       " '__ge__',\n",
       " '__getattribute__',\n",
       " '__gt__',\n",
       " '__hash__',\n",
       " '__init__',\n",
       " '__init_subclass__',\n",
       " '__le__',\n",
       " '__lt__',\n",
       " '__ne__',\n",
       " '__new__',\n",
       " '__pyx_vtable__',\n",
       " '__reduce__',\n",
       " '__reduce_ex__',\n",
       " '__repr__',\n",
       " '__setattr__',\n",
       " '__setstate__',\n",
       " '__sizeof__',\n",
       " '__str__',\n",
       " '__subclasshook__',\n",
       " 'aend',\n",
       " 'alen',\n",
       " 'aligned_pairs',\n",
       " 'bin',\n",
       " 'blocks',\n",
       " 'cigar',\n",
       " 'cigarstring',\n",
       " 'cigartuples',\n",
       " 'compare',\n",
       " 'flag',\n",
       " 'from_dict',\n",
       " 'fromstring',\n",
       " 'get_aligned_pairs',\n",
       " 'get_blocks',\n",
       " 'get_cigar_stats',\n",
       " 'get_forward_qualities',\n",
       " 'get_forward_sequence',\n",
       " 'get_overlap',\n",
       " 'get_reference_positions',\n",
       " 'get_reference_sequence',\n",
       " 'get_tag',\n",
       " 'get_tags',\n",
       " 'has_tag',\n",
       " 'header',\n",
       " 'infer_query_length',\n",
       " 'infer_read_length',\n",
       " 'inferred_length',\n",
       " 'is_duplicate',\n",
       " 'is_paired',\n",
       " 'is_proper_pair',\n",
       " 'is_qcfail',\n",
       " 'is_read1',\n",
       " 'is_read2',\n",
       " 'is_reverse',\n",
       " 'is_secondary',\n",
       " 'is_supplementary',\n",
       " 'is_unmapped',\n",
       " 'isize',\n",
       " 'mapping_quality',\n",
       " 'mapq',\n",
       " 'mate_is_reverse',\n",
       " 'mate_is_unmapped',\n",
       " 'mpos',\n",
       " 'mrnm',\n",
       " 'next_reference_id',\n",
       " 'next_reference_name',\n",
       " 'next_reference_start',\n",
       " 'opt',\n",
       " 'overlap',\n",
       " 'pnext',\n",
       " 'pos',\n",
       " 'positions',\n",
       " 'qend',\n",
       " 'qlen',\n",
       " 'qname',\n",
       " 'qqual',\n",
       " 'qstart',\n",
       " 'qual',\n",
       " 'query',\n",
       " 'query_alignment_end',\n",
       " 'query_alignment_length',\n",
       " 'query_alignment_qualities',\n",
       " 'query_alignment_sequence',\n",
       " 'query_alignment_start',\n",
       " 'query_length',\n",
       " 'query_name',\n",
       " 'query_qualities',\n",
       " 'query_sequence',\n",
       " 'reference_end',\n",
       " 'reference_id',\n",
       " 'reference_length',\n",
       " 'reference_name',\n",
       " 'reference_start',\n",
       " 'rlen',\n",
       " 'rname',\n",
       " 'rnext',\n",
       " 'seq',\n",
       " 'setTag',\n",
       " 'set_tag',\n",
       " 'set_tags',\n",
       " 'tags',\n",
       " 'template_length',\n",
       " 'tid',\n",
       " 'tlen',\n",
       " 'to_dict',\n",
       " 'to_string',\n",
       " 'tostring']"
      ]
     },
     "execution_count": 35,
     "metadata": {},
     "output_type": "execute_result"
    }
   ],
   "source": [
    "dir(r)"
   ]
  },
  {
   "cell_type": "code",
   "execution_count": 30,
   "id": "47858589",
   "metadata": {},
   "outputs": [
    {
     "data": {
      "text/plain": [
       "[10000,\n",
       " 10001,\n",
       " 10002,\n",
       " 10003,\n",
       " 10004,\n",
       " 10005,\n",
       " 10006,\n",
       " 10007,\n",
       " 10008,\n",
       " 10009,\n",
       " 10010,\n",
       " 10011,\n",
       " 10012,\n",
       " 10013,\n",
       " 10014,\n",
       " 10015,\n",
       " 10016,\n",
       " 10017,\n",
       " 10018,\n",
       " 10019,\n",
       " 10020,\n",
       " 10021,\n",
       " 10022,\n",
       " 10023,\n",
       " None,\n",
       " None,\n",
       " None,\n",
       " None,\n",
       " None,\n",
       " None,\n",
       " 10024,\n",
       " 10025,\n",
       " None,\n",
       " None,\n",
       " None,\n",
       " None,\n",
       " 10026,\n",
       " None,\n",
       " 10027,\n",
       " 10028,\n",
       " 10029,\n",
       " 10030,\n",
       " 10031,\n",
       " 10032,\n",
       " 10033,\n",
       " 10034,\n",
       " 10035,\n",
       " 10036,\n",
       " 10037,\n",
       " 10038,\n",
       " 10039,\n",
       " 10040,\n",
       " 10041,\n",
       " 10042,\n",
       " 10043,\n",
       " 10044,\n",
       " 10045,\n",
       " 10046,\n",
       " 10047,\n",
       " 10048,\n",
       " None,\n",
       " 10049,\n",
       " 10050,\n",
       " 10051,\n",
       " None,\n",
       " 10052,\n",
       " 10053,\n",
       " 10054,\n",
       " 10055,\n",
       " 10056,\n",
       " 10057,\n",
       " 10058,\n",
       " 10059,\n",
       " 10060,\n",
       " 10061,\n",
       " 10062,\n",
       " None,\n",
       " 10063,\n",
       " 10064,\n",
       " 10065,\n",
       " 10066,\n",
       " 10067,\n",
       " 10068,\n",
       " 10069,\n",
       " 10070,\n",
       " 10071,\n",
       " 10072,\n",
       " 10073,\n",
       " 10074,\n",
       " 10075,\n",
       " 10076,\n",
       " 10077,\n",
       " 10078,\n",
       " 10079,\n",
       " 10080,\n",
       " 10081,\n",
       " 10082,\n",
       " 10083,\n",
       " 10084,\n",
       " 10085,\n",
       " 10086,\n",
       " 10087,\n",
       " 10088,\n",
       " 10089,\n",
       " 10090,\n",
       " 10091,\n",
       " 10092,\n",
       " 10093,\n",
       " 10094,\n",
       " 10095,\n",
       " 10096,\n",
       " 10097,\n",
       " 10098,\n",
       " 10099,\n",
       " 10100,\n",
       " 10101,\n",
       " 10102,\n",
       " 10103,\n",
       " 10104,\n",
       " 10105,\n",
       " 10106,\n",
       " 10107,\n",
       " None,\n",
       " 10108,\n",
       " 10109,\n",
       " 10110,\n",
       " 10111,\n",
       " 10112,\n",
       " 10113,\n",
       " 10114,\n",
       " 10115,\n",
       " None,\n",
       " 10116,\n",
       " 10117,\n",
       " 10118,\n",
       " 10119,\n",
       " 10120,\n",
       " 10121,\n",
       " 10122,\n",
       " 10123,\n",
       " None,\n",
       " None,\n",
       " None,\n",
       " None,\n",
       " 10124,\n",
       " None,\n",
       " None,\n",
       " None,\n",
       " None,\n",
       " None,\n",
       " None,\n",
       " 10125,\n",
       " 10126,\n",
       " 10127,\n",
       " 10128,\n",
       " 10129,\n",
       " 10130,\n",
       " 10131,\n",
       " 10132,\n",
       " 10133,\n",
       " 10134,\n",
       " 10135,\n",
       " 10136,\n",
       " 10137,\n",
       " 10138,\n",
       " 10139,\n",
       " None,\n",
       " 10140,\n",
       " 10141,\n",
       " 10142,\n",
       " None,\n",
       " None,\n",
       " None,\n",
       " None,\n",
       " None,\n",
       " None,\n",
       " None,\n",
       " None,\n",
       " None,\n",
       " None,\n",
       " None,\n",
       " None,\n",
       " None,\n",
       " None,\n",
       " None,\n",
       " None,\n",
       " None,\n",
       " None,\n",
       " None,\n",
       " None,\n",
       " None,\n",
       " None,\n",
       " None,\n",
       " None,\n",
       " None,\n",
       " None,\n",
       " None,\n",
       " None,\n",
       " None,\n",
       " None,\n",
       " None,\n",
       " None,\n",
       " None,\n",
       " None,\n",
       " None,\n",
       " None,\n",
       " None,\n",
       " None,\n",
       " None,\n",
       " None,\n",
       " None,\n",
       " None,\n",
       " None,\n",
       " None,\n",
       " None,\n",
       " None,\n",
       " None,\n",
       " None,\n",
       " None,\n",
       " None,\n",
       " None,\n",
       " None,\n",
       " None,\n",
       " None,\n",
       " None,\n",
       " None,\n",
       " None,\n",
       " None,\n",
       " None,\n",
       " None,\n",
       " None,\n",
       " None,\n",
       " None,\n",
       " None,\n",
       " None,\n",
       " None,\n",
       " None,\n",
       " None,\n",
       " None,\n",
       " None,\n",
       " None,\n",
       " 10143,\n",
       " 10144,\n",
       " None,\n",
       " None,\n",
       " None,\n",
       " None,\n",
       " 10145,\n",
       " None,\n",
       " None,\n",
       " None,\n",
       " 10146,\n",
       " None,\n",
       " None,\n",
       " None,\n",
       " 10147,\n",
       " 10148,\n",
       " 10149,\n",
       " 10150,\n",
       " 10151,\n",
       " 10152,\n",
       " 10153,\n",
       " 10154,\n",
       " 10155,\n",
       " 10156,\n",
       " 10157,\n",
       " 10158,\n",
       " 10159,\n",
       " 10160,\n",
       " 10161,\n",
       " None,\n",
       " 10162,\n",
       " 10163,\n",
       " 10164,\n",
       " 10165,\n",
       " 10166,\n",
       " 10167,\n",
       " 10168,\n",
       " 10169,\n",
       " 10170,\n",
       " 10171,\n",
       " 10172,\n",
       " 10173,\n",
       " 10174,\n",
       " 10175,\n",
       " 10176,\n",
       " None,\n",
       " 10177,\n",
       " 10178,\n",
       " None,\n",
       " 10179,\n",
       " 10180,\n",
       " 10181,\n",
       " 10182,\n",
       " 10183,\n",
       " 10184,\n",
       " 10185,\n",
       " None,\n",
       " None,\n",
       " None,\n",
       " None,\n",
       " None,\n",
       " None,\n",
       " None,\n",
       " None,\n",
       " None,\n",
       " None,\n",
       " None,\n",
       " None,\n",
       " None,\n",
       " None,\n",
       " None,\n",
       " None,\n",
       " None,\n",
       " None,\n",
       " None,\n",
       " None,\n",
       " None,\n",
       " None,\n",
       " None,\n",
       " None,\n",
       " None,\n",
       " 10186,\n",
       " None,\n",
       " None,\n",
       " None,\n",
       " None,\n",
       " 10187,\n",
       " None,\n",
       " 10188,\n",
       " 10189,\n",
       " 10190,\n",
       " 10191,\n",
       " 10192,\n",
       " 10193,\n",
       " 10194,\n",
       " 10195,\n",
       " 10196,\n",
       " 10197,\n",
       " 10198,\n",
       " 10199,\n",
       " 10200,\n",
       " 10201,\n",
       " 10202,\n",
       " 10203,\n",
       " 10204,\n",
       " 10205,\n",
       " 10206,\n",
       " 10207,\n",
       " 10208,\n",
       " 10209,\n",
       " 10210,\n",
       " 10211,\n",
       " 10212,\n",
       " 10213,\n",
       " 10214,\n",
       " 10215,\n",
       " 10216,\n",
       " 10217,\n",
       " 10218,\n",
       " 10219,\n",
       " 10220,\n",
       " 10221,\n",
       " 10222,\n",
       " 10223,\n",
       " 10224,\n",
       " 10225,\n",
       " 10226,\n",
       " 10227,\n",
       " 10228,\n",
       " 10229,\n",
       " 10230,\n",
       " 10231,\n",
       " None,\n",
       " 10232,\n",
       " None,\n",
       " None,\n",
       " None,\n",
       " 10233,\n",
       " None,\n",
       " None,\n",
       " 10234,\n",
       " 10235,\n",
       " 10236,\n",
       " 10237,\n",
       " 10238,\n",
       " 10239,\n",
       " None,\n",
       " 10240,\n",
       " 10241,\n",
       " 10242,\n",
       " None,\n",
       " None,\n",
       " None,\n",
       " None,\n",
       " None,\n",
       " None,\n",
       " None,\n",
       " None,\n",
       " None,\n",
       " None,\n",
       " None,\n",
       " None,\n",
       " None,\n",
       " None,\n",
       " None,\n",
       " None,\n",
       " None,\n",
       " None,\n",
       " None,\n",
       " None,\n",
       " None,\n",
       " None,\n",
       " None,\n",
       " None,\n",
       " None,\n",
       " None,\n",
       " None,\n",
       " None,\n",
       " None,\n",
       " None,\n",
       " None,\n",
       " None,\n",
       " 10243,\n",
       " 10244,\n",
       " 10245,\n",
       " 10246,\n",
       " 10247,\n",
       " 10248,\n",
       " None,\n",
       " None,\n",
       " None,\n",
       " None,\n",
       " 10249,\n",
       " None,\n",
       " 10250,\n",
       " 10251,\n",
       " 10252,\n",
       " 10253,\n",
       " 10254,\n",
       " 10255,\n",
       " None,\n",
       " None,\n",
       " None,\n",
       " None,\n",
       " 10256,\n",
       " None,\n",
       " 10257,\n",
       " 10258,\n",
       " 10259,\n",
       " 10260,\n",
       " None,\n",
       " 10261,\n",
       " 10262,\n",
       " 10263,\n",
       " 10264,\n",
       " 10265,\n",
       " 10266,\n",
       " 10267,\n",
       " 10268,\n",
       " 10269,\n",
       " 10270,\n",
       " 10271,\n",
       " 10272,\n",
       " 10273,\n",
       " 10274,\n",
       " 10275,\n",
       " 10276,\n",
       " 10277,\n",
       " 10278,\n",
       " 10279,\n",
       " 10280,\n",
       " 10281,\n",
       " 10282,\n",
       " None,\n",
       " None,\n",
       " None,\n",
       " 10283,\n",
       " None,\n",
       " None,\n",
       " 10284,\n",
       " 10285,\n",
       " 10286,\n",
       " 10287,\n",
       " 10288,\n",
       " 10289,\n",
       " 10290,\n",
       " 10291,\n",
       " 10292,\n",
       " 10293,\n",
       " 10294,\n",
       " 10295,\n",
       " 10296,\n",
       " 10297,\n",
       " 10309,\n",
       " 10310,\n",
       " 10311,\n",
       " 10312,\n",
       " 10313,\n",
       " 10314,\n",
       " 10315,\n",
       " 10316,\n",
       " 10317,\n",
       " 10318,\n",
       " 10319,\n",
       " 10321,\n",
       " 10322,\n",
       " 10323,\n",
       " 10324,\n",
       " 10325,\n",
       " 10326,\n",
       " 10327,\n",
       " 10328,\n",
       " 10329,\n",
       " 10330,\n",
       " 10331,\n",
       " 10333,\n",
       " 10334,\n",
       " 10335,\n",
       " 10336,\n",
       " 10337,\n",
       " 10338,\n",
       " 10339,\n",
       " 10340,\n",
       " 10341,\n",
       " 10342,\n",
       " 10343,\n",
       " 10344,\n",
       " 10345,\n",
       " 10346,\n",
       " None,\n",
       " None,\n",
       " None,\n",
       " None,\n",
       " 10347,\n",
       " None,\n",
       " 10348,\n",
       " 10349,\n",
       " 10350,\n",
       " 10351,\n",
       " None,\n",
       " 10352,\n",
       " None,\n",
       " 10353,\n",
       " 10354,\n",
       " 10355,\n",
       " 10356,\n",
       " 10357,\n",
       " None,\n",
       " None,\n",
       " None,\n",
       " None,\n",
       " 10358,\n",
       " None,\n",
       " 10359,\n",
       " 10360,\n",
       " 10361,\n",
       " 10362,\n",
       " 10363,\n",
       " None,\n",
       " None,\n",
       " None,\n",
       " None,\n",
       " 10364,\n",
       " None,\n",
       " 10365,\n",
       " 10366,\n",
       " None,\n",
       " None,\n",
       " None,\n",
       " 10367,\n",
       " None,\n",
       " None,\n",
       " 10368,\n",
       " 10369,\n",
       " 10370,\n",
       " 10371,\n",
       " 10372,\n",
       " 10373,\n",
       " 10374,\n",
       " 10375,\n",
       " 10376,\n",
       " 10377,\n",
       " 10378,\n",
       " 10379,\n",
       " 10380,\n",
       " 10381,\n",
       " 10382,\n",
       " 10383,\n",
       " 10384,\n",
       " 10385,\n",
       " 10386,\n",
       " 10387,\n",
       " 10388,\n",
       " 10389,\n",
       " 10390,\n",
       " 10391,\n",
       " None,\n",
       " None,\n",
       " None,\n",
       " 10392,\n",
       " None,\n",
       " None,\n",
       " 10393,\n",
       " 10394,\n",
       " 10395,\n",
       " 10396,\n",
       " 10397,\n",
       " None,\n",
       " None,\n",
       " None,\n",
       " None,\n",
       " 10398,\n",
       " 10399,\n",
       " None,\n",
       " 10400,\n",
       " 10401,\n",
       " 10402,\n",
       " 10403,\n",
       " 10404,\n",
       " None,\n",
       " None,\n",
       " None,\n",
       " None,\n",
       " None,\n",
       " None,\n",
       " None,\n",
       " None,\n",
       " None,\n",
       " None,\n",
       " None,\n",
       " None,\n",
       " None,\n",
       " None,\n",
       " None,\n",
       " None,\n",
       " None,\n",
       " None,\n",
       " None,\n",
       " None,\n",
       " None,\n",
       " None,\n",
       " None,\n",
       " None,\n",
       " None,\n",
       " None,\n",
       " None,\n",
       " None,\n",
       " 10405,\n",
       " None,\n",
       " None,\n",
       " 10406,\n",
       " 10407,\n",
       " 10408,\n",
       " 10409,\n",
       " 10410,\n",
       " 10411,\n",
       " 10412,\n",
       " 10413,\n",
       " 10414,\n",
       " 10415,\n",
       " 10416,\n",
       " 10417,\n",
       " 10418,\n",
       " 10419,\n",
       " 10420,\n",
       " 10421,\n",
       " 10422,\n",
       " None,\n",
       " None,\n",
       " 10423,\n",
       " None,\n",
       " None,\n",
       " 10424,\n",
       " 10425,\n",
       " None,\n",
       " None,\n",
       " None,\n",
       " None,\n",
       " 10426,\n",
       " None,\n",
       " 10427,\n",
       " 10428,\n",
       " 10429,\n",
       " 10430,\n",
       " 10431,\n",
       " 10432,\n",
       " 10433,\n",
       " 10434,\n",
       " 10435,\n",
       " 10436,\n",
       " None,\n",
       " None,\n",
       " None,\n",
       " None,\n",
       " None,\n",
       " None,\n",
       " None,\n",
       " None,\n",
       " None,\n",
       " None,\n",
       " None,\n",
       " None,\n",
       " None,\n",
       " None,\n",
       " None,\n",
       " None,\n",
       " None,\n",
       " None,\n",
       " None,\n",
       " None,\n",
       " None,\n",
       " None,\n",
       " None,\n",
       " None,\n",
       " None,\n",
       " None,\n",
       " None,\n",
       " None,\n",
       " None,\n",
       " None,\n",
       " None,\n",
       " None,\n",
       " None,\n",
       " None,\n",
       " None,\n",
       " None,\n",
       " None,\n",
       " None,\n",
       " None,\n",
       " None,\n",
       " None,\n",
       " None,\n",
       " None,\n",
       " None,\n",
       " None,\n",
       " None,\n",
       " None,\n",
       " None,\n",
       " None,\n",
       " None,\n",
       " None,\n",
       " None,\n",
       " None,\n",
       " None,\n",
       " None,\n",
       " None,\n",
       " None,\n",
       " 10437,\n",
       " 10438,\n",
       " 10439,\n",
       " 10440,\n",
       " 10441,\n",
       " None,\n",
       " None,\n",
       " None,\n",
       " None,\n",
       " None,\n",
       " 10442,\n",
       " None,\n",
       " None,\n",
       " 10443,\n",
       " 10444,\n",
       " None,\n",
       " None,\n",
       " None,\n",
       " None,\n",
       " None,\n",
       " 10445,\n",
       " None,\n",
       " 10446,\n",
       " 10447,\n",
       " 10448,\n",
       " 10449,\n",
       " None,\n",
       " None,\n",
       " None,\n",
       " None,\n",
       " None,\n",
       " None,\n",
       " None,\n",
       " None,\n",
       " None,\n",
       " None,\n",
       " None,\n",
       " None,\n",
       " None,\n",
       " None,\n",
       " None,\n",
       " None,\n",
       " None,\n",
       " None,\n",
       " None,\n",
       " None,\n",
       " None,\n",
       " None,\n",
       " None,\n",
       " None,\n",
       " None,\n",
       " None,\n",
       " None,\n",
       " None,\n",
       " None,\n",
       " None,\n",
       " None,\n",
       " None,\n",
       " None,\n",
       " None,\n",
       " None,\n",
       " None,\n",
       " None,\n",
       " None,\n",
       " None,\n",
       " None,\n",
       " None,\n",
       " None,\n",
       " None,\n",
       " None,\n",
       " None,\n",
       " None,\n",
       " None,\n",
       " None,\n",
       " None,\n",
       " None,\n",
       " None,\n",
       " None,\n",
       " None,\n",
       " None,\n",
       " None,\n",
       " None,\n",
       " None,\n",
       " None,\n",
       " None,\n",
       " None,\n",
       " None,\n",
       " None,\n",
       " None,\n",
       " None,\n",
       " None,\n",
       " None,\n",
       " None,\n",
       " None,\n",
       " None,\n",
       " None,\n",
       " None,\n",
       " None,\n",
       " None,\n",
       " None,\n",
       " None,\n",
       " None,\n",
       " None,\n",
       " None,\n",
       " None,\n",
       " None,\n",
       " None,\n",
       " None,\n",
       " None,\n",
       " None,\n",
       " None,\n",
       " None,\n",
       " None,\n",
       " None,\n",
       " None,\n",
       " None,\n",
       " None,\n",
       " None,\n",
       " None,\n",
       " None,\n",
       " None,\n",
       " None,\n",
       " None,\n",
       " None,\n",
       " None,\n",
       " None,\n",
       " None,\n",
       " None,\n",
       " None,\n",
       " None,\n",
       " None,\n",
       " None,\n",
       " None,\n",
       " None,\n",
       " None,\n",
       " None,\n",
       " None,\n",
       " None,\n",
       " None,\n",
       " None,\n",
       " None,\n",
       " None,\n",
       " None,\n",
       " None,\n",
       " None,\n",
       " None,\n",
       " None,\n",
       " None,\n",
       " None,\n",
       " None,\n",
       " None,\n",
       " None,\n",
       " None,\n",
       " None,\n",
       " None,\n",
       " None,\n",
       " None,\n",
       " None,\n",
       " None,\n",
       " None,\n",
       " None,\n",
       " None,\n",
       " None,\n",
       " None,\n",
       " None,\n",
       " None,\n",
       " None,\n",
       " None,\n",
       " None,\n",
       " None,\n",
       " None,\n",
       " None,\n",
       " None,\n",
       " None,\n",
       " None,\n",
       " None,\n",
       " None,\n",
       " None,\n",
       " None,\n",
       " None,\n",
       " None,\n",
       " None,\n",
       " None,\n",
       " None,\n",
       " None,\n",
       " None,\n",
       " None,\n",
       " None,\n",
       " None,\n",
       " None,\n",
       " None,\n",
       " None,\n",
       " None,\n",
       " None,\n",
       " None,\n",
       " None,\n",
       " None,\n",
       " None,\n",
       " None,\n",
       " None,\n",
       " None,\n",
       " None,\n",
       " None,\n",
       " None,\n",
       " None,\n",
       " None,\n",
       " None,\n",
       " None,\n",
       " None,\n",
       " None,\n",
       " None,\n",
       " None,\n",
       " None,\n",
       " None,\n",
       " None,\n",
       " None,\n",
       " None,\n",
       " None,\n",
       " None,\n",
       " None,\n",
       " None,\n",
       " None,\n",
       " None,\n",
       " None,\n",
       " None,\n",
       " None,\n",
       " None,\n",
       " None,\n",
       " None,\n",
       " None,\n",
       " None,\n",
       " None,\n",
       " None,\n",
       " None,\n",
       " None,\n",
       " None,\n",
       " None,\n",
       " None,\n",
       " None,\n",
       " None,\n",
       " None,\n",
       " None,\n",
       " None,\n",
       " None,\n",
       " None,\n",
       " None,\n",
       " None,\n",
       " None,\n",
       " None,\n",
       " None,\n",
       " None,\n",
       " None,\n",
       " ...]"
      ]
     },
     "execution_count": 30,
     "metadata": {},
     "output_type": "execute_result"
    }
   ],
   "source": [
    "r.get_reference_positions(full_length = True)"
   ]
  },
  {
   "cell_type": "code",
   "execution_count": 22,
   "id": "305bb8df",
   "metadata": {},
   "outputs": [
    {
     "data": {
      "text/plain": [
       "[(0, 24),\n",
       " (1, 6),\n",
       " (0, 2),\n",
       " (1, 4),\n",
       " (0, 1),\n",
       " (1, 1),\n",
       " (0, 22),\n",
       " (1, 1),\n",
       " (0, 3),\n",
       " (1, 1),\n",
       " (0, 11),\n",
       " (1, 1),\n",
       " (0, 45),\n",
       " (1, 1),\n",
       " (0, 8),\n",
       " (1, 1),\n",
       " (0, 8),\n",
       " (1, 4),\n",
       " (0, 1),\n",
       " (1, 6),\n",
       " (0, 15),\n",
       " (1, 1),\n",
       " (0, 3),\n",
       " (1, 71),\n",
       " (0, 2),\n",
       " (1, 4),\n",
       " (0, 1),\n",
       " (1, 3),\n",
       " (0, 1),\n",
       " (1, 3),\n",
       " (0, 15),\n",
       " (1, 1),\n",
       " (0, 15),\n",
       " (1, 1),\n",
       " (0, 2),\n",
       " (1, 1),\n",
       " (0, 7),\n",
       " (1, 25),\n",
       " (0, 1),\n",
       " (1, 4),\n",
       " (0, 1),\n",
       " (1, 1),\n",
       " (0, 44),\n",
       " (1, 1),\n",
       " (0, 1),\n",
       " (1, 3),\n",
       " (0, 1),\n",
       " (1, 2),\n",
       " (0, 6),\n",
       " (1, 1),\n",
       " (0, 3),\n",
       " (1, 32),\n",
       " (0, 6),\n",
       " (1, 4),\n",
       " (0, 1),\n",
       " (1, 1),\n",
       " (0, 6),\n",
       " (1, 4),\n",
       " (0, 1),\n",
       " (1, 1),\n",
       " (0, 4),\n",
       " (1, 1),\n",
       " (0, 22),\n",
       " (1, 3),\n",
       " (0, 1),\n",
       " (1, 2),\n",
       " (0, 14),\n",
       " (2, 11),\n",
       " (0, 11),\n",
       " (2, 1),\n",
       " (0, 11),\n",
       " (2, 1),\n",
       " (0, 14),\n",
       " (1, 4),\n",
       " (0, 1),\n",
       " (1, 1),\n",
       " (0, 4),\n",
       " (1, 1),\n",
       " (0, 1),\n",
       " (1, 1),\n",
       " (0, 5),\n",
       " (1, 4),\n",
       " (0, 1),\n",
       " (1, 1),\n",
       " (0, 5),\n",
       " (1, 4),\n",
       " (0, 1),\n",
       " (1, 1),\n",
       " (0, 2),\n",
       " (1, 3),\n",
       " (0, 1),\n",
       " (1, 2),\n",
       " (0, 24),\n",
       " (1, 3),\n",
       " (0, 1),\n",
       " (1, 2),\n",
       " (0, 5),\n",
       " (1, 4),\n",
       " (0, 2),\n",
       " (1, 1),\n",
       " (0, 5),\n",
       " (1, 28),\n",
       " (0, 1),\n",
       " (1, 2),\n",
       " (0, 17),\n",
       " (1, 2),\n",
       " (0, 1),\n",
       " (1, 2),\n",
       " (0, 2),\n",
       " (1, 4),\n",
       " (0, 1),\n",
       " (1, 1),\n",
       " (0, 10),\n",
       " (1, 57),\n",
       " (0, 5),\n",
       " (1, 5),\n",
       " (0, 1),\n",
       " (1, 2),\n",
       " (0, 2),\n",
       " (1, 5),\n",
       " (0, 1),\n",
       " (1, 1),\n",
       " (0, 4),\n",
       " (4, 949)]"
      ]
     },
     "execution_count": 22,
     "metadata": {},
     "output_type": "execute_result"
    }
   ],
   "source": [
    "r.cigar"
   ]
  },
  {
   "cell_type": "code",
   "execution_count": 34,
   "id": "7dbf4e32",
   "metadata": {},
   "outputs": [
    {
     "data": {
      "text/plain": [
       "True"
      ]
     },
     "execution_count": 34,
     "metadata": {},
     "output_type": "execute_result"
    }
   ],
   "source": [
    "r.is_reverse"
   ]
  },
  {
   "cell_type": "code",
   "execution_count": 46,
   "id": "cda4b3a9",
   "metadata": {},
   "outputs": [],
   "source": [
    "import torch\n",
    "a = [10]\n",
    "b = torch.rand(3)"
   ]
  },
  {
   "cell_type": "code",
   "execution_count": 54,
   "id": "905406b1",
   "metadata": {},
   "outputs": [],
   "source": [
    "a.append(b)"
   ]
  },
  {
   "cell_type": "code",
   "execution_count": 55,
   "id": "0947d1b4",
   "metadata": {},
   "outputs": [
    {
     "data": {
      "text/plain": [
       "[10,\n",
       " 1,\n",
       " tensor([0.2850, 0.9982, 0.5640]),\n",
       " tensor(0.2850),\n",
       " tensor(0.9982),\n",
       " tensor(0.5640)]"
      ]
     },
     "execution_count": 55,
     "metadata": {},
     "output_type": "execute_result"
    }
   ],
   "source": [
    "a"
   ]
  },
  {
   "cell_type": "code",
   "execution_count": 51,
   "id": "b2643926",
   "metadata": {},
   "outputs": [],
   "source": [
    "torch.save(a, \"test.pt\")"
   ]
  },
  {
   "cell_type": "code",
   "execution_count": 52,
   "id": "e21db127",
   "metadata": {},
   "outputs": [],
   "source": [
    "aa = torch.load(\"test.pt\")"
   ]
  },
  {
   "cell_type": "code",
   "execution_count": 53,
   "id": "ee89bb1b",
   "metadata": {},
   "outputs": [
    {
     "data": {
      "text/plain": [
       "[10, 1, tensor([0.2850, 0.9982, 0.5640])]"
      ]
     },
     "execution_count": 53,
     "metadata": {},
     "output_type": "execute_result"
    }
   ],
   "source": [
    "aa"
   ]
  },
  {
   "cell_type": "code",
   "execution_count": 6,
   "id": "15163728",
   "metadata": {},
   "outputs": [],
   "source": [
    "import torch\n",
    "import os\n",
    "os.environ[\"CUDA_VISIBLE_DEVICES\"] = \"2\"\n",
    "model = torch.load(\"test_model.pt\")"
   ]
  },
  {
   "cell_type": "code",
   "execution_count": 7,
   "id": "9a46a31b",
   "metadata": {
    "scrolled": true
   },
   "outputs": [
    {
     "name": "stderr",
     "output_type": "stream",
     "text": [
      "Some weights of the model checkpoint at albert-base-v2 were not used when initializing AlbertModel: ['predictions.LayerNorm.bias', 'predictions.dense.weight', 'predictions.decoder.weight', 'predictions.dense.bias', 'predictions.bias', 'predictions.LayerNorm.weight', 'predictions.decoder.bias']\n",
      "- This IS expected if you are initializing AlbertModel from the checkpoint of a model trained on another task or with another architecture (e.g. initializing a BertForSequenceClassification model from a BertForPreTraining model).\n",
      "- This IS NOT expected if you are initializing AlbertModel from the checkpoint of a model that you expect to be exactly identical (initializing a BertForSequenceClassification model from a BertForSequenceClassification model).\n"
     ]
    }
   ],
   "source": [
    "from transformers import AlbertTokenizer, AlbertModel\n",
    "tokenizer = AlbertTokenizer.from_pretrained('albert-base-v2')\n",
    "model = AlbertModel.from_pretrained(\"albert-base-v2\")\n",
    "text = \"Replace me by any text you'd like.\"\n",
    "encoded_input = tokenizer(text, return_tensors='pt')\n",
    "output = model(**encoded_input)\n"
   ]
  },
  {
   "cell_type": "code",
   "execution_count": 10,
   "id": "d470c956",
   "metadata": {},
   "outputs": [
    {
     "data": {
      "text/plain": [
       "{'input_ids': tensor([[   2, 3934,   55,   34,  186, 1854,   42,   22,   43,  101,    9,    3]]), 'token_type_ids': tensor([[0, 0, 0, 0, 0, 0, 0, 0, 0, 0, 0, 0]]), 'attention_mask': tensor([[1, 1, 1, 1, 1, 1, 1, 1, 1, 1, 1, 1]])}"
      ]
     },
     "execution_count": 10,
     "metadata": {},
     "output_type": "execute_result"
    }
   ],
   "source": [
    "encoded_input"
   ]
  },
  {
   "cell_type": "code",
   "execution_count": 11,
   "id": "53db0a02",
   "metadata": {},
   "outputs": [
    {
     "ename": "TypeError",
     "evalue": "unhashable type: 'BaseModelOutputWithPooling'",
     "output_type": "error",
     "traceback": [
      "\u001b[0;31m---------------------------------------------------------------------------\u001b[0m",
      "\u001b[0;31mTypeError\u001b[0m                                 Traceback (most recent call last)",
      "\u001b[0;32m<ipython-input-11-c0cafe536dba>\u001b[0m in \u001b[0;36m<module>\u001b[0;34m\u001b[0m\n\u001b[1;32m      4\u001b[0m \u001b[0my\u001b[0m \u001b[0;34m=\u001b[0m \u001b[0moutput\u001b[0m\u001b[0;34m\u001b[0m\u001b[0;34m\u001b[0m\u001b[0m\n\u001b[1;32m      5\u001b[0m \u001b[0;34m\u001b[0m\u001b[0m\n\u001b[0;32m----> 6\u001b[0;31m \u001b[0mMyConvNetVis\u001b[0m \u001b[0;34m=\u001b[0m \u001b[0mmake_dot\u001b[0m\u001b[0;34m(\u001b[0m\u001b[0my\u001b[0m\u001b[0;34m,\u001b[0m \u001b[0mparams\u001b[0m\u001b[0;34m=\u001b[0m\u001b[0mdict\u001b[0m\u001b[0;34m(\u001b[0m\u001b[0mlist\u001b[0m\u001b[0;34m(\u001b[0m\u001b[0mmodel\u001b[0m\u001b[0;34m.\u001b[0m\u001b[0mnamed_parameters\u001b[0m\u001b[0;34m(\u001b[0m\u001b[0;34m)\u001b[0m\u001b[0;34m)\u001b[0m \u001b[0;34m+\u001b[0m \u001b[0;34m[\u001b[0m\u001b[0;34m(\u001b[0m\u001b[0;34m'x'\u001b[0m\u001b[0;34m,\u001b[0m \u001b[0mx\u001b[0m\u001b[0;34m)\u001b[0m\u001b[0;34m]\u001b[0m\u001b[0;34m)\u001b[0m\u001b[0;34m)\u001b[0m\u001b[0;34m\u001b[0m\u001b[0;34m\u001b[0m\u001b[0m\n\u001b[0m\u001b[1;32m      7\u001b[0m \u001b[0mMyConvNetVis\u001b[0m\u001b[0;34m.\u001b[0m\u001b[0mformat\u001b[0m \u001b[0;34m=\u001b[0m \u001b[0;34m\"png\"\u001b[0m\u001b[0;34m\u001b[0m\u001b[0;34m\u001b[0m\u001b[0m\n\u001b[1;32m      8\u001b[0m \u001b[0;31m# 生成文件\u001b[0m\u001b[0;34m\u001b[0m\u001b[0;34m\u001b[0m\u001b[0;34m\u001b[0m\u001b[0m\n",
      "\u001b[0;32m~/anaconda3/envs/SV/lib/python3.6/site-packages/torchviz/dot.py\u001b[0m in \u001b[0;36mmake_dot\u001b[0;34m(var, params, show_attrs, show_saved, max_attr_chars)\u001b[0m\n\u001b[1;32m    161\u001b[0m             \u001b[0madd_base_tensor\u001b[0m\u001b[0;34m(\u001b[0m\u001b[0mv\u001b[0m\u001b[0;34m)\u001b[0m\u001b[0;34m\u001b[0m\u001b[0;34m\u001b[0m\u001b[0m\n\u001b[1;32m    162\u001b[0m     \u001b[0;32melse\u001b[0m\u001b[0;34m:\u001b[0m\u001b[0;34m\u001b[0m\u001b[0;34m\u001b[0m\u001b[0m\n\u001b[0;32m--> 163\u001b[0;31m         \u001b[0madd_base_tensor\u001b[0m\u001b[0;34m(\u001b[0m\u001b[0mvar\u001b[0m\u001b[0;34m)\u001b[0m\u001b[0;34m\u001b[0m\u001b[0;34m\u001b[0m\u001b[0m\n\u001b[0m\u001b[1;32m    164\u001b[0m \u001b[0;34m\u001b[0m\u001b[0m\n\u001b[1;32m    165\u001b[0m     \u001b[0mresize_graph\u001b[0m\u001b[0;34m(\u001b[0m\u001b[0mdot\u001b[0m\u001b[0;34m)\u001b[0m\u001b[0;34m\u001b[0m\u001b[0;34m\u001b[0m\u001b[0m\n",
      "\u001b[0;32m~/anaconda3/envs/SV/lib/python3.6/site-packages/torchviz/dot.py\u001b[0m in \u001b[0;36madd_base_tensor\u001b[0;34m(var, color)\u001b[0m\n\u001b[1;32m    144\u001b[0m \u001b[0;34m\u001b[0m\u001b[0m\n\u001b[1;32m    145\u001b[0m     \u001b[0;32mdef\u001b[0m \u001b[0madd_base_tensor\u001b[0m\u001b[0;34m(\u001b[0m\u001b[0mvar\u001b[0m\u001b[0;34m,\u001b[0m \u001b[0mcolor\u001b[0m\u001b[0;34m=\u001b[0m\u001b[0;34m'darkolivegreen1'\u001b[0m\u001b[0;34m)\u001b[0m\u001b[0;34m:\u001b[0m\u001b[0;34m\u001b[0m\u001b[0;34m\u001b[0m\u001b[0m\n\u001b[0;32m--> 146\u001b[0;31m         \u001b[0;32mif\u001b[0m \u001b[0mvar\u001b[0m \u001b[0;32min\u001b[0m \u001b[0mseen\u001b[0m\u001b[0;34m:\u001b[0m\u001b[0;34m\u001b[0m\u001b[0;34m\u001b[0m\u001b[0m\n\u001b[0m\u001b[1;32m    147\u001b[0m             \u001b[0;32mreturn\u001b[0m\u001b[0;34m\u001b[0m\u001b[0;34m\u001b[0m\u001b[0m\n\u001b[1;32m    148\u001b[0m         \u001b[0mseen\u001b[0m\u001b[0;34m.\u001b[0m\u001b[0madd\u001b[0m\u001b[0;34m(\u001b[0m\u001b[0mvar\u001b[0m\u001b[0;34m)\u001b[0m\u001b[0;34m\u001b[0m\u001b[0;34m\u001b[0m\u001b[0m\n",
      "\u001b[0;31mTypeError\u001b[0m: unhashable type: 'BaseModelOutputWithPooling'"
     ]
    }
   ],
   "source": [
    "from torchviz import make_dot\n",
    "\n",
    "x = torch.rand(3, 12)\n",
    "y = output\n",
    " \n",
    "MyConvNetVis = make_dot(y, params=dict(list(model.named_parameters()) + [('x', x)]))\n",
    "MyConvNetVis.format = \"png\"\n",
    "# 生成文件\n",
    "MyConvNetVis.view()"
   ]
  },
  {
   "cell_type": "code",
   "execution_count": 26,
   "id": "106ca0e9",
   "metadata": {},
   "outputs": [
    {
     "data": {
      "text/plain": [
       "AlbertModel(\n",
       "  (embeddings): AlbertEmbeddings(\n",
       "    (word_embeddings): Embedding(30000, 128, padding_idx=0)\n",
       "    (position_embeddings): Embedding(512, 128)\n",
       "    (token_type_embeddings): Embedding(2, 128)\n",
       "    (LayerNorm): LayerNorm((128,), eps=1e-12, elementwise_affine=True)\n",
       "    (dropout): Dropout(p=0, inplace=False)\n",
       "  )\n",
       "  (encoder): AlbertTransformer(\n",
       "    (embedding_hidden_mapping_in): Linear(in_features=128, out_features=768, bias=True)\n",
       "    (albert_layer_groups): ModuleList(\n",
       "      (0): AlbertLayerGroup(\n",
       "        (albert_layers): ModuleList(\n",
       "          (0): AlbertLayer(\n",
       "            (full_layer_layer_norm): LayerNorm((768,), eps=1e-12, elementwise_affine=True)\n",
       "            (attention): AlbertAttention(\n",
       "              (query): Linear(in_features=768, out_features=768, bias=True)\n",
       "              (key): Linear(in_features=768, out_features=768, bias=True)\n",
       "              (value): Linear(in_features=768, out_features=768, bias=True)\n",
       "              (attention_dropout): Dropout(p=0, inplace=False)\n",
       "              (output_dropout): Dropout(p=0, inplace=False)\n",
       "              (dense): Linear(in_features=768, out_features=768, bias=True)\n",
       "              (LayerNorm): LayerNorm((768,), eps=1e-12, elementwise_affine=True)\n",
       "            )\n",
       "            (ffn): Linear(in_features=768, out_features=3072, bias=True)\n",
       "            (ffn_output): Linear(in_features=3072, out_features=768, bias=True)\n",
       "            (activation): NewGELUActivation()\n",
       "            (dropout): Dropout(p=0, inplace=False)\n",
       "          )\n",
       "        )\n",
       "      )\n",
       "    )\n",
       "  )\n",
       "  (pooler): Linear(in_features=768, out_features=768, bias=True)\n",
       "  (pooler_activation): Tanh()\n",
       ")"
      ]
     },
     "execution_count": 26,
     "metadata": {},
     "output_type": "execute_result"
    }
   ],
   "source": [
    "model"
   ]
  },
  {
   "cell_type": "code",
   "execution_count": 28,
   "id": "a692683a",
   "metadata": {},
   "outputs": [
    {
     "data": {
      "text/plain": [
       "torch.Size([1, 12])"
      ]
     },
     "execution_count": 28,
     "metadata": {},
     "output_type": "execute_result"
    }
   ],
   "source": [
    "torch.tensor([[   2, 3934,   55,   34,  186, 1854,   42,   22,   43,  101,    9,    3]]).size()"
   ]
  },
  {
   "cell_type": "code",
   "execution_count": 22,
   "id": "82b5831b",
   "metadata": {},
   "outputs": [
    {
     "data": {
      "text/plain": [
       "(tensor([[[ 1.6157, -0.3816,  0.4844,  ...,  0.3624,  0.3126,  0.3808],\n",
       "          [-0.3078, -0.8006, -1.6202,  ...,  0.0996,  1.9938, -0.2361],\n",
       "          [ 0.3322,  0.9008, -0.4227,  ...,  0.6750,  0.6817,  0.2574],\n",
       "          ...,\n",
       "          [ 0.5340, -1.3187, -0.6333,  ...,  1.1114,  1.6227,  0.3870],\n",
       "          [ 0.4302, -0.0221, -0.0236,  ...,  0.3676, -0.2476, -0.5786],\n",
       "          [ 0.0730,  0.1209, -0.0529,  ..., -0.1034,  0.1330,  0.1983]]],\n",
       "        grad_fn=<NativeLayerNormBackward0>),\n",
       " tensor([[-0.3842,  0.4439, -0.5700, -0.9525,  0.6171, -0.8886, -0.2824,  0.2258,\n",
       "          -0.3684, -0.8147,  0.9956, -0.5207, -0.8686, -0.9773, -0.9407,  0.6058,\n",
       "          -0.4314, -0.5131,  0.9958,  0.3776, -0.9468, -0.9967,  0.9988,  0.9143,\n",
       "           0.9817,  0.5453, -0.4115, -0.8544, -0.8045,  0.4555, -0.9993, -0.3023,\n",
       "          -0.3600, -0.4776, -0.2257,  0.6231, -0.2081,  0.9996,  0.3656, -0.2977,\n",
       "          -0.2871, -0.8693, -0.8648, -0.4371, -0.4480, -0.5425,  0.7240, -0.9796,\n",
       "           0.5517,  0.4591,  0.5537,  0.4548,  0.2181, -0.8194,  0.7155, -0.1348,\n",
       "           0.3860,  0.4983,  0.9995, -0.7885, -0.1951,  0.1673, -0.3182,  0.9434,\n",
       "           0.1667, -0.2529, -0.4890,  0.4808,  0.5037,  0.9973, -0.4527, -0.1596,\n",
       "          -0.4465,  0.3647, -0.2832, -0.2842,  0.0764, -0.2910, -0.5604, -0.4981,\n",
       "           0.9330, -0.1411,  0.3236, -0.3692, -0.9769, -0.9866, -0.7931, -0.9991,\n",
       "          -0.3350,  0.9144, -0.4915, -0.2573,  0.3224, -0.9648, -0.3003,  0.2194,\n",
       "          -0.9718, -0.2592, -0.3287,  0.2462,  0.6668,  0.4390, -0.3388,  0.3294,\n",
       "           0.4937,  0.5476, -0.3817,  0.9637, -0.4966,  0.9906, -0.8981,  0.5485,\n",
       "          -0.3933,  0.9894,  0.5048, -0.9829,  0.3639,  0.8950, -0.9894, -0.3276,\n",
       "          -0.3998,  0.4679, -0.2635, -0.8479, -0.2490, -0.9711, -0.4065, -0.9679,\n",
       "           0.9760, -0.9853,  0.7414, -0.5261, -0.9501,  0.7919, -0.4055,  0.9985,\n",
       "           0.3588,  0.5450, -0.5570, -0.1839,  0.7736,  0.3242, -0.5625,  0.0623,\n",
       "           0.4616, -0.5095,  0.4317,  0.3467, -0.5292,  0.9385,  0.1450,  0.9486,\n",
       "           0.7038, -0.5603, -0.9990, -0.3129,  0.9725, -0.9432,  0.8211,  0.4620,\n",
       "           0.5296, -0.8955, -0.9999,  0.3167, -0.9886,  0.1808,  0.9999, -0.2680,\n",
       "           0.8640,  0.3965,  0.2829, -0.4415,  0.5415,  0.9857, -0.3739, -0.5260,\n",
       "          -0.0718,  0.7757,  0.2131,  0.5573,  0.9972, -0.9933, -0.5233, -0.2548,\n",
       "           0.9219, -0.4922, -0.2972, -0.9785, -0.2986,  0.5043,  0.5177, -0.9468,\n",
       "          -0.1212,  0.9542,  0.9980,  0.1629,  0.9944, -1.0000,  0.8321, -0.9958,\n",
       "           0.4260,  0.7803,  0.8381, -0.5359, -0.4409,  0.9641, -0.8325,  0.7471,\n",
       "          -0.9781,  0.4987, -0.6110,  0.9450, -0.9945, -0.3224, -0.9807,  0.5289,\n",
       "           0.9979,  0.4150,  0.9861,  0.3700, -0.0910, -0.3651, -0.9998,  0.8259,\n",
       "          -0.3326, -0.3189,  0.8708,  0.4347,  0.9935, -0.9709, -0.2794, -0.9884,\n",
       "          -0.2977, -0.9951,  0.9756,  0.4073, -0.4112, -0.2652, -0.2932, -0.8131,\n",
       "           0.9998, -0.2879,  0.4688,  0.4325, -0.2058,  0.9878,  0.4132, -0.9439,\n",
       "           0.1857,  0.9888,  0.9930, -0.2436, -0.2609,  0.2684,  0.6475,  0.3876,\n",
       "          -0.8866, -0.9994, -0.9815, -0.4528, -0.9137,  0.9002,  0.5685, -0.5989,\n",
       "           0.4066,  0.9712,  0.9450,  0.7327, -0.5851,  0.2399, -0.2885,  0.2696,\n",
       "           0.8841, -0.9564,  0.9035,  0.9523, -0.7217, -0.2461, -0.3758, -0.4719,\n",
       "           0.3232,  0.7593, -0.2485,  0.2893,  0.1522, -0.7468,  0.9983, -0.7988,\n",
       "          -0.9983, -0.4218,  0.2752,  0.3014,  0.9875,  0.4164, -0.9940, -0.9997,\n",
       "           0.7166,  0.9801,  0.9866, -0.9960, -0.3142,  0.4485,  0.1779,  0.9930,\n",
       "          -0.5074,  0.4189,  0.4664, -0.4980, -0.5356,  0.9510, -0.9371,  0.4064,\n",
       "          -0.7225, -0.8915,  0.4136, -0.7656,  0.4999, -0.9988,  0.1184,  0.8582,\n",
       "           0.3556,  0.1592,  0.9792, -0.4919, -0.1369, -0.9987,  0.3516, -0.4957,\n",
       "          -0.9860, -0.7729, -0.7285,  0.4383,  0.3390, -0.9570, -0.4646, -0.9999,\n",
       "          -0.5439,  0.3100,  0.2776,  0.6230, -0.9945,  0.4180, -0.9837, -0.2474,\n",
       "          -0.1928, -0.4796, -0.8721, -0.9548, -0.2275, -0.9925, -0.3719, -0.1445,\n",
       "           0.5116,  0.6027,  0.4241, -0.4176, -0.9878, -0.8331,  0.4432,  0.9995,\n",
       "           0.9735, -0.6133,  0.3014, -0.4134, -0.9983,  0.9800, -0.9175,  0.9963,\n",
       "          -0.9426,  0.2959, -0.9992,  0.9998,  0.9978,  0.9504,  0.3601, -0.9977,\n",
       "          -0.9999, -0.4527,  0.4283,  0.5617,  0.4263,  0.9790, -0.5995,  0.9527,\n",
       "          -0.9676,  0.9800, -0.3739,  0.7305, -0.9251,  0.9998, -0.9811,  0.3776,\n",
       "           0.2777,  0.9976,  0.3697, -0.4457, -0.6445, -0.9819,  0.1734, -0.5354,\n",
       "           0.9987,  0.4561, -0.9081,  0.9889,  0.9577, -0.9810, -0.2994, -0.3610,\n",
       "           0.9930, -0.4379, -0.2363,  0.9063, -0.7676, -0.4309,  0.9799,  0.2536,\n",
       "           0.9573, -0.9995, -0.9979,  0.9377,  0.3604,  0.9967, -0.9956, -0.5257,\n",
       "           0.3203, -0.3780,  0.4028,  0.5014, -0.4010,  0.9534, -0.3102,  0.9991,\n",
       "          -0.5455, -0.9996, -0.9786,  0.4075, -0.1244, -0.1568,  0.3046,  0.4034,\n",
       "           0.2424, -0.9448,  0.2013,  0.2505, -0.4314, -0.9856,  0.9996, -0.9951,\n",
       "          -0.6363,  0.3008,  0.8474,  0.9255,  0.9943,  0.2274, -0.9996,  0.2027,\n",
       "          -0.9966, -0.2852,  0.4270, -0.9603,  0.4949,  0.9981,  0.3155,  0.9990,\n",
       "          -0.0844,  0.3151, -0.6196,  1.0000, -0.8770, -0.9908, -0.5339, -0.4257,\n",
       "          -0.5636, -0.3681, -0.4651, -0.5895,  0.1018,  0.4317,  0.9991, -0.9978,\n",
       "           0.8665, -0.9997,  0.9661,  0.2825, -0.9747,  0.9967,  0.9987,  0.9936,\n",
       "          -0.8987, -0.9996, -0.9142, -0.1399, -0.9946, -0.3234, -0.6479,  0.9682,\n",
       "           0.3921,  0.5775,  0.9688,  0.9453,  0.5334,  0.4716, -0.9806, -0.9776,\n",
       "           0.4183, -0.6407, -0.3722, -0.9997, -0.9195, -0.9977, -0.9984,  0.8550,\n",
       "          -0.9781, -0.3445, -0.9844, -0.2084,  0.2870,  0.9479,  0.3529, -0.3282,\n",
       "          -0.3709,  0.3822, -0.4640,  0.9996,  0.2897,  0.9869,  0.9992,  0.9918,\n",
       "          -0.4470, -0.9691,  0.5857,  0.9965, -0.8973, -0.9996,  0.9099, -0.9933,\n",
       "           0.9970, -0.7041,  0.2700, -0.9823, -0.8025, -0.9988,  0.3836, -0.9946,\n",
       "          -0.9898, -0.9961, -0.3341,  0.9821, -0.9998,  0.9961, -0.3030, -0.9061,\n",
       "           0.9983, -0.4200, -0.9422, -0.4678,  0.4019,  0.9995,  0.4767,  0.9993,\n",
       "           0.1826, -0.9999,  0.9895,  0.1322,  0.3504,  0.3617, -0.9946, -0.8018,\n",
       "           0.9639,  0.4762, -0.4112,  0.9923,  0.2614, -0.2907,  0.3129, -0.4225,\n",
       "          -0.2993, -0.5398, -0.9766,  0.8298, -0.9286, -0.9704,  0.9833, -0.2900,\n",
       "          -0.2083, -0.4026, -0.2235,  0.4999,  0.9973, -0.8984,  0.4757, -0.3263,\n",
       "          -0.9794,  0.8683,  0.4579,  0.1599, -0.3950,  0.9988,  0.3885,  0.9962,\n",
       "          -0.8552, -0.4427, -0.2238, -0.4256, -0.4622,  0.9906, -0.4233, -0.9904,\n",
       "           0.5010,  0.6033,  0.3644,  0.9637,  0.9988, -0.9982, -0.8639,  0.3777,\n",
       "          -0.9721,  0.9980,  0.7064,  0.9560,  0.9802, -0.2602,  0.4877, -0.5195,\n",
       "           0.1710,  0.9982,  0.2857,  0.9007, -0.4377,  0.2826,  0.9167,  0.9995,\n",
       "          -0.9865,  0.2720, -0.3628,  0.9919,  0.9412,  0.3213,  0.9891, -0.9962,\n",
       "           0.3919,  0.9477,  0.4471, -0.4734,  0.9353, -0.9933,  0.3549,  0.3815,\n",
       "           0.9944,  0.9083, -0.3466, -0.3030,  0.5239,  0.1980,  1.0000, -0.4722,\n",
       "           0.3741,  0.9986,  0.2873,  0.2620, -0.4115, -0.3287,  0.9923,  0.9740,\n",
       "          -0.9058,  0.3442, -0.5503,  0.2809,  0.9967, -0.9816,  0.2423, -0.4606,\n",
       "           0.6434, -0.3990,  0.9899, -0.3166,  0.1668, -0.8677, -0.2866,  0.7903,\n",
       "          -0.4695,  0.8734, -0.4352, -0.9903,  0.8934,  0.9986,  0.5617,  0.9792,\n",
       "           0.3028, -0.5075, -0.6634, -0.3260,  0.1082, -0.9133,  0.2323, -0.3713,\n",
       "           0.9988, -0.1934, -0.5643,  0.9719,  0.2968, -0.4388, -0.4836, -0.5131,\n",
       "           0.4648,  0.4168,  0.4431, -0.9987,  0.9399, -0.4466,  0.0995, -0.3238,\n",
       "           0.3614, -0.8387, -0.3936,  0.4256, -0.2242,  0.9004, -0.8580,  0.3485,\n",
       "          -0.9216,  0.3576, -0.4430,  0.4981, -0.4621, -0.7121, -1.0000, -0.5652,\n",
       "          -0.2265, -0.5645, -0.3986, -0.1934, -0.4395,  0.9989,  0.9996, -0.9762,\n",
       "          -0.3555, -0.9721,  0.3494,  0.3032, -0.9840, -0.5330,  0.9998,  0.9974,\n",
       "          -0.4627, -0.9121, -0.0762,  0.9859, -0.8737,  0.3530, -0.4626,  0.5524,\n",
       "          -0.9835,  0.6668, -0.3718, -0.2212, -0.1695, -0.9925,  0.3260, -0.5607,\n",
       "          -0.9833, -0.6019,  0.9987,  0.3976, -0.4531,  0.9643, -0.9920, -0.4128]],\n",
       "        grad_fn=<TanhBackward0>),\n",
       " (tensor([[[-0.3660,  0.6482,  1.5644,  ...,  0.0716, -0.1150, -0.2899],\n",
       "           [ 0.1135, -0.0805, -2.0159,  ..., -1.0212,  0.9361,  1.1272],\n",
       "           [-0.7896, -0.4533, -0.6987,  ...,  0.1986,  0.9610,  1.6644],\n",
       "           ...,\n",
       "           [ 0.1748,  0.2611, -0.8082,  ...,  0.0698,  0.8149, -0.0307],\n",
       "           [ 0.3556,  0.6438, -0.4184,  ...,  0.7706,  0.4367, -0.7352],\n",
       "           [ 0.0369, -0.7271, -0.7023,  ...,  1.0684,  0.6971, -1.2937]]],\n",
       "         grad_fn=<AddBackward0>),\n",
       "  tensor([[[ 1.4105,  0.3841,  0.9889,  ...,  0.2208, -0.1194, -0.6843],\n",
       "           [ 0.1367, -0.2386, -1.1616,  ..., -0.6802,  0.8439,  0.7789],\n",
       "           [-0.4096, -0.0342, -0.6170,  ...,  0.2230,  1.1439,  0.5495],\n",
       "           ...,\n",
       "           [-0.8890, -0.1668, -1.2750,  ..., -0.2996, -1.0430,  0.8776],\n",
       "           [ 0.9344,  0.1910, -0.2736,  ...,  0.1776,  0.5888,  0.6567],\n",
       "           [ 0.1058,  0.1204, -0.1499,  ...,  0.0629, -0.1288,  0.0656]]],\n",
       "         grad_fn=<NativeLayerNormBackward0>),\n",
       "  tensor([[[ 0.9618,  0.4707,  1.0736,  ...,  0.5721, -0.4684, -0.4824],\n",
       "           [ 0.2899, -0.2533, -0.6214,  ..., -1.5075,  0.5849,  0.3229],\n",
       "           [-0.7111,  0.6024,  0.1397,  ..., -0.1652,  0.0908, -0.1156],\n",
       "           ...,\n",
       "           [-0.5177, -0.7335, -1.2126,  ..., -0.0421, -0.4983,  1.3085],\n",
       "           [ 0.6158, -0.6809, -0.2683,  ...,  1.0549, -0.1367,  0.7133],\n",
       "           [ 0.0618,  0.0428, -0.1409,  ...,  0.0657, -0.1052,  0.0933]]],\n",
       "         grad_fn=<NativeLayerNormBackward0>),\n",
       "  tensor([[[ 0.5592,  0.3060,  1.4478,  ...,  0.6909, -0.2395,  0.0651],\n",
       "           [ 0.5029, -0.2847, -0.5313,  ..., -1.4385,  0.4167,  0.0489],\n",
       "           [-0.6598,  0.8057, -0.0383,  ..., -0.4177,  0.3356, -0.6327],\n",
       "           ...,\n",
       "           [-0.8164,  0.1000, -0.6425,  ...,  0.1239,  0.0128,  0.0763],\n",
       "           [ 0.3250, -0.2814,  0.0515,  ...,  0.8889, -0.2510,  0.4212],\n",
       "           [ 0.0282,  0.0594, -0.1844,  ...,  0.0918, -0.0648,  0.0804]]],\n",
       "         grad_fn=<NativeLayerNormBackward0>),\n",
       "  tensor([[[ 0.3317,  0.0435,  2.1154,  ...,  0.6210, -0.1901,  0.1178],\n",
       "           [ 0.7664, -0.3658, -0.7690,  ..., -1.5539,  0.5926,  0.4114],\n",
       "           [-0.5914,  0.8642, -0.6043,  ..., -0.2676,  0.7767, -0.0116],\n",
       "           ...,\n",
       "           [-1.1232, -0.1335, -0.7615,  ..., -0.4793, -0.3664,  0.1296],\n",
       "           [ 0.2903, -0.3599, -0.1210,  ...,  0.2950, -0.6305, -0.0160],\n",
       "           [ 0.0297,  0.0291, -0.1389,  ...,  0.0735, -0.0527,  0.0980]]],\n",
       "         grad_fn=<NativeLayerNormBackward0>),\n",
       "  tensor([[[ 4.0474e-01, -3.1462e-01,  2.6346e+00,  ...,  7.4279e-01,\n",
       "            -1.9337e-01,  7.7484e-02],\n",
       "           [ 6.9753e-01, -3.2899e-01, -9.8583e-01,  ..., -1.3357e+00,\n",
       "             4.3255e-01,  1.5901e-01],\n",
       "           [-6.6394e-01,  3.6664e-01, -9.7014e-01,  ...,  2.3918e-02,\n",
       "             6.6291e-01,  4.0205e-01],\n",
       "           ...,\n",
       "           [-1.0616e+00, -1.5501e-01, -1.0035e+00,  ..., -5.8975e-02,\n",
       "            -5.1236e-01,  7.8573e-01],\n",
       "           [-2.8678e-02, -1.2527e-01, -4.1065e-01,  ...,  3.0177e-01,\n",
       "            -5.6222e-01,  1.8626e-01],\n",
       "           [ 1.2606e-05,  2.1655e-03, -1.1208e-01,  ...,  7.9005e-02,\n",
       "            -3.4148e-02,  7.5008e-02]]], grad_fn=<NativeLayerNormBackward0>),\n",
       "  tensor([[[ 4.5650e-01, -6.9305e-01,  3.0707e+00,  ...,  5.3444e-01,\n",
       "            -3.7809e-04, -3.0817e-01],\n",
       "           [ 3.0536e-01, -2.7548e-01, -9.2867e-01,  ..., -1.5241e+00,\n",
       "             1.0835e-01, -1.7180e-02],\n",
       "           [-1.0185e+00,  7.0006e-01, -8.7275e-01,  ..., -4.4251e-01,\n",
       "             4.1596e-01, -1.4703e-01],\n",
       "           ...,\n",
       "           [-6.8927e-01,  6.3679e-02, -1.7684e+00,  ...,  3.2225e-01,\n",
       "            -6.0946e-01,  4.7706e-01],\n",
       "           [-2.2901e-01, -6.3046e-02, -5.4807e-01,  ...,  2.1212e-01,\n",
       "            -7.4624e-01,  2.2415e-01],\n",
       "           [-2.6231e-02, -1.8554e-02, -7.6974e-02,  ...,  7.1441e-02,\n",
       "            -2.8623e-02,  2.5579e-02]]], grad_fn=<NativeLayerNormBackward0>),\n",
       "  tensor([[[ 0.4827, -0.9171,  3.1707,  ..., -0.1268,  0.1085, -0.6857],\n",
       "           [ 0.2901, -0.1974, -0.5064,  ..., -1.6450, -0.0288,  0.3861],\n",
       "           [-1.1156,  0.9372, -0.0731,  ..., -0.5949,  0.3957,  0.3523],\n",
       "           ...,\n",
       "           [-0.3337, -0.1901, -1.9938,  ...,  0.0959, -0.7798, -0.1492],\n",
       "           [-0.3200,  0.2304, -0.4598,  ..., -0.1262, -0.6341,  0.2545],\n",
       "           [-0.0638, -0.0452, -0.0298,  ...,  0.0478, -0.0297, -0.0380]]],\n",
       "         grad_fn=<NativeLayerNormBackward0>),\n",
       "  tensor([[[ 0.5430, -1.0784,  2.9348,  ..., -0.6151,  0.0380, -0.9065],\n",
       "           [ 0.5149, -0.1536, -0.3498,  ..., -1.2060,  0.1397,  0.5144],\n",
       "           [-0.8011,  0.8148,  0.4140,  ..., -0.0927,  0.4342,  0.6333],\n",
       "           ...,\n",
       "           [-0.2809, -0.1339, -1.7512,  ...,  0.0585, -0.6980,  0.5224],\n",
       "           [-0.3830,  0.3011, -0.3966,  ..., -0.3785, -0.6959,  0.2499],\n",
       "           [-0.0911, -0.0100, -0.0191,  ...,  0.0158, -0.0373, -0.0826]]],\n",
       "         grad_fn=<NativeLayerNormBackward0>),\n",
       "  tensor([[[ 0.6137, -1.0050,  2.2759,  ..., -0.5019,  0.1372, -0.5764],\n",
       "           [ 0.3010,  0.0312, -0.2135,  ..., -0.8276,  0.1582,  0.1753],\n",
       "           [-0.7952,  0.7608, -0.0249,  ...,  0.1800,  0.4759, -0.1411],\n",
       "           ...,\n",
       "           [-0.2239, -0.4407, -1.2903,  ...,  0.6736, -0.5236,  1.0156],\n",
       "           [-0.5038,  0.2070, -0.2156,  ..., -0.5071, -0.5299,  0.4065],\n",
       "           [-0.0537,  0.1823, -0.0963,  ...,  0.0459, -0.0346,  0.0322]]],\n",
       "         grad_fn=<NativeLayerNormBackward0>),\n",
       "  tensor([[[ 0.3226, -0.5573,  1.7288,  ...,  0.1146,  0.3532, -0.3321],\n",
       "           [ 0.2785, -0.1034,  0.4996,  ..., -1.0895,  0.6016,  0.1889],\n",
       "           [-0.0370,  0.9089,  0.0752,  ..., -0.2601,  1.1409, -0.5889],\n",
       "           ...,\n",
       "           [ 0.1864,  0.0542, -0.8937,  ...,  0.2599,  0.2322,  0.3978],\n",
       "           [-0.2791,  0.1733, -0.1972,  ..., -0.7288,  0.0888,  0.3476],\n",
       "           [ 0.0367,  0.1760,  0.0192,  ..., -0.0164,  0.2705,  0.1331]]],\n",
       "         grad_fn=<NativeLayerNormBackward0>),\n",
       "  tensor([[[ 0.0407, -0.1002,  0.8758,  ...,  0.6760, -0.0577, -0.1749],\n",
       "           [ 0.0480, -0.9363, -0.1121,  ..., -1.3434,  0.4515,  0.7471],\n",
       "           [ 0.4631,  2.0661, -0.8235,  ..., -0.7788,  1.3214, -0.4238],\n",
       "           ...,\n",
       "           [ 0.7944, -0.3123, -1.0080,  ..., -0.0063,  0.7212,  0.8255],\n",
       "           [ 0.4663, -0.5475, -0.5221,  ..., -0.2876,  0.1202, -0.2957],\n",
       "           [ 0.0284, -0.0442, -0.2332,  ..., -0.0560,  0.2881,  0.2694]]],\n",
       "         grad_fn=<NativeLayerNormBackward0>),\n",
       "  tensor([[[ 1.6157, -0.3816,  0.4844,  ...,  0.3624,  0.3126,  0.3808],\n",
       "           [-0.3078, -0.8006, -1.6202,  ...,  0.0996,  1.9938, -0.2361],\n",
       "           [ 0.3322,  0.9008, -0.4227,  ...,  0.6750,  0.6817,  0.2574],\n",
       "           ...,\n",
       "           [ 0.5340, -1.3187, -0.6333,  ...,  1.1114,  1.6227,  0.3870],\n",
       "           [ 0.4302, -0.0221, -0.0236,  ...,  0.3676, -0.2476, -0.5786],\n",
       "           [ 0.0730,  0.1209, -0.0529,  ..., -0.1034,  0.1330,  0.1983]]],\n",
       "         grad_fn=<NativeLayerNormBackward0>)))"
      ]
     },
     "execution_count": 22,
     "metadata": {},
     "output_type": "execute_result"
    }
   ],
   "source": [
    "model(input_ids=torch.tensor([[   2, 3934,   55,   34,  186, 1854,   42,   22,   43,  101,    9,    3]]),\n",
    "       attention_mask=torch.tensor([[0, 0, 0, 0, 0, 0, 0, 0, 0, 0, 0, 0]]),\n",
    "       token_type_ids=torch.tensor([[1, 1, 1, 1, 1, 1, 1, 1, 1, 1, 1, 1]]),\n",
    "       # encoder_attention_mask=mask,\n",
    "       output_hidden_states=True,\n",
    "       return_dict=False)"
   ]
  },
  {
   "cell_type": "code",
   "execution_count": 31,
   "id": "15916e70",
   "metadata": {},
   "outputs": [
    {
     "ename": "ValueError",
     "evalue": "too many values to unpack (expected 2)",
     "output_type": "error",
     "traceback": [
      "\u001b[0;31m---------------------------------------------------------------------------\u001b[0m",
      "\u001b[0;31mValueError\u001b[0m                                Traceback (most recent call last)",
      "\u001b[0;32m<ipython-input-31-30d1f84f15a3>\u001b[0m in \u001b[0;36m<module>\u001b[0;34m\u001b[0m\n\u001b[1;32m      1\u001b[0m \u001b[0;32mfrom\u001b[0m \u001b[0mtorchsummary\u001b[0m \u001b[0;32mimport\u001b[0m \u001b[0msummary\u001b[0m\u001b[0;34m\u001b[0m\u001b[0;34m\u001b[0m\u001b[0m\n\u001b[1;32m      2\u001b[0m \u001b[0;34m\u001b[0m\u001b[0m\n\u001b[0;32m----> 3\u001b[0;31m \u001b[0msummary\u001b[0m\u001b[0;34m(\u001b[0m\u001b[0mmodel\u001b[0m\u001b[0;34m,\u001b[0m \u001b[0;34m(\u001b[0m\u001b[0;36m1\u001b[0m\u001b[0;34m,\u001b[0m \u001b[0;36m12\u001b[0m\u001b[0;34m)\u001b[0m\u001b[0;34m)\u001b[0m  \u001b[0;31m# 输出网络结构\u001b[0m\u001b[0;34m\u001b[0m\u001b[0;34m\u001b[0m\u001b[0m\n\u001b[0m",
      "\u001b[0;32m~/anaconda3/envs/SV/lib/python3.6/site-packages/torchsummary/torchsummary.py\u001b[0m in \u001b[0;36msummary\u001b[0;34m(model, input_size, batch_size, device)\u001b[0m\n\u001b[1;32m     70\u001b[0m     \u001b[0;31m# make a forward pass\u001b[0m\u001b[0;34m\u001b[0m\u001b[0;34m\u001b[0m\u001b[0;34m\u001b[0m\u001b[0m\n\u001b[1;32m     71\u001b[0m     \u001b[0;31m# print(x.shape)\u001b[0m\u001b[0;34m\u001b[0m\u001b[0;34m\u001b[0m\u001b[0;34m\u001b[0m\u001b[0m\n\u001b[0;32m---> 72\u001b[0;31m     \u001b[0mmodel\u001b[0m\u001b[0;34m(\u001b[0m\u001b[0;34m*\u001b[0m\u001b[0mx\u001b[0m\u001b[0;34m)\u001b[0m\u001b[0;34m\u001b[0m\u001b[0;34m\u001b[0m\u001b[0m\n\u001b[0m\u001b[1;32m     73\u001b[0m \u001b[0;34m\u001b[0m\u001b[0m\n\u001b[1;32m     74\u001b[0m     \u001b[0;31m# remove these hooks\u001b[0m\u001b[0;34m\u001b[0m\u001b[0;34m\u001b[0m\u001b[0;34m\u001b[0m\u001b[0m\n",
      "\u001b[0;32m~/anaconda3/envs/SV/lib/python3.6/site-packages/torch/nn/modules/module.py\u001b[0m in \u001b[0;36m_call_impl\u001b[0;34m(self, *input, **kwargs)\u001b[0m\n\u001b[1;32m   1100\u001b[0m         if not (self._backward_hooks or self._forward_hooks or self._forward_pre_hooks or _global_backward_hooks\n\u001b[1;32m   1101\u001b[0m                 or _global_forward_hooks or _global_forward_pre_hooks):\n\u001b[0;32m-> 1102\u001b[0;31m             \u001b[0;32mreturn\u001b[0m \u001b[0mforward_call\u001b[0m\u001b[0;34m(\u001b[0m\u001b[0;34m*\u001b[0m\u001b[0minput\u001b[0m\u001b[0;34m,\u001b[0m \u001b[0;34m**\u001b[0m\u001b[0mkwargs\u001b[0m\u001b[0;34m)\u001b[0m\u001b[0;34m\u001b[0m\u001b[0;34m\u001b[0m\u001b[0m\n\u001b[0m\u001b[1;32m   1103\u001b[0m         \u001b[0;31m# Do not call functions when jit is used\u001b[0m\u001b[0;34m\u001b[0m\u001b[0;34m\u001b[0m\u001b[0;34m\u001b[0m\u001b[0m\n\u001b[1;32m   1104\u001b[0m         \u001b[0mfull_backward_hooks\u001b[0m\u001b[0;34m,\u001b[0m \u001b[0mnon_full_backward_hooks\u001b[0m \u001b[0;34m=\u001b[0m \u001b[0;34m[\u001b[0m\u001b[0;34m]\u001b[0m\u001b[0;34m,\u001b[0m \u001b[0;34m[\u001b[0m\u001b[0;34m]\u001b[0m\u001b[0;34m\u001b[0m\u001b[0;34m\u001b[0m\u001b[0m\n",
      "\u001b[0;32m~/anaconda3/envs/SV/lib/python3.6/site-packages/transformers/models/albert/modeling_albert.py\u001b[0m in \u001b[0;36mforward\u001b[0;34m(self, input_ids, attention_mask, token_type_ids, position_ids, head_mask, inputs_embeds, output_attentions, output_hidden_states, return_dict)\u001b[0m\n\u001b[1;32m    697\u001b[0m             \u001b[0;32mraise\u001b[0m \u001b[0mValueError\u001b[0m\u001b[0;34m(\u001b[0m\u001b[0;34m\"You have to specify either input_ids or inputs_embeds\"\u001b[0m\u001b[0;34m)\u001b[0m\u001b[0;34m\u001b[0m\u001b[0;34m\u001b[0m\u001b[0m\n\u001b[1;32m    698\u001b[0m \u001b[0;34m\u001b[0m\u001b[0m\n\u001b[0;32m--> 699\u001b[0;31m         \u001b[0mbatch_size\u001b[0m\u001b[0;34m,\u001b[0m \u001b[0mseq_length\u001b[0m \u001b[0;34m=\u001b[0m \u001b[0minput_shape\u001b[0m\u001b[0;34m\u001b[0m\u001b[0;34m\u001b[0m\u001b[0m\n\u001b[0m\u001b[1;32m    700\u001b[0m         \u001b[0mdevice\u001b[0m \u001b[0;34m=\u001b[0m \u001b[0minput_ids\u001b[0m\u001b[0;34m.\u001b[0m\u001b[0mdevice\u001b[0m \u001b[0;32mif\u001b[0m \u001b[0minput_ids\u001b[0m \u001b[0;32mis\u001b[0m \u001b[0;32mnot\u001b[0m \u001b[0;32mNone\u001b[0m \u001b[0;32melse\u001b[0m \u001b[0minputs_embeds\u001b[0m\u001b[0;34m.\u001b[0m\u001b[0mdevice\u001b[0m\u001b[0;34m\u001b[0m\u001b[0;34m\u001b[0m\u001b[0m\n\u001b[1;32m    701\u001b[0m \u001b[0;34m\u001b[0m\u001b[0m\n",
      "\u001b[0;31mValueError\u001b[0m: too many values to unpack (expected 2)"
     ]
    }
   ],
   "source": [
    "from torchsummary import summary\n",
    "\n",
    "summary(model, (1, 12))  # 输出网络结构"
   ]
  },
  {
   "cell_type": "code",
   "execution_count": 42,
   "id": "137e11fc",
   "metadata": {
    "scrolled": true
   },
   "outputs": [
    {
     "name": "stderr",
     "output_type": "stream",
     "text": [
      "Some weights of the model checkpoint at albert-base-v2 were not used when initializing AlbertModel: ['predictions.LayerNorm.bias', 'predictions.dense.weight', 'predictions.decoder.weight', 'predictions.dense.bias', 'predictions.bias', 'predictions.LayerNorm.weight', 'predictions.decoder.bias']\n",
      "- This IS expected if you are initializing AlbertModel from the checkpoint of a model trained on another task or with another architecture (e.g. initializing a BertForSequenceClassification model from a BertForPreTraining model).\n",
      "- This IS NOT expected if you are initializing AlbertModel from the checkpoint of a model that you expect to be exactly identical (initializing a BertForSequenceClassification model from a BertForSequenceClassification model).\n"
     ]
    }
   ],
   "source": []
  },
  {
   "cell_type": "code",
   "execution_count": 35,
   "id": "3419ebdb",
   "metadata": {},
   "outputs": [],
   "source": [
    "input_ids = []\n",
    "a = torch.rand(10, 13)\n",
    "b = torch.rand(20, 13)\n",
    "c = torch.rand(15, 13)"
   ]
  },
  {
   "cell_type": "code",
   "execution_count": 36,
   "id": "fe216bef",
   "metadata": {},
   "outputs": [],
   "source": [
    "input_ids = [a, b, c]"
   ]
  },
  {
   "cell_type": "code",
   "execution_count": 10,
   "id": "159561ac",
   "metadata": {},
   "outputs": [
    {
     "name": "stderr",
     "output_type": "stream",
     "text": [
      "Some weights of the model checkpoint at albert-base-v2 were not used when initializing AlbertModel: ['predictions.LayerNorm.weight', 'predictions.dense.weight', 'predictions.bias', 'predictions.decoder.weight', 'predictions.decoder.bias', 'predictions.LayerNorm.bias', 'predictions.dense.bias']\n",
      "- This IS expected if you are initializing AlbertModel from the checkpoint of a model trained on another task or with another architecture (e.g. initializing a BertForSequenceClassification model from a BertForPreTraining model).\n",
      "- This IS NOT expected if you are initializing AlbertModel from the checkpoint of a model that you expect to be exactly identical (initializing a BertForSequenceClassification model from a BertForSequenceClassification model).\n"
     ]
    }
   ],
   "source": [
    "from transformers import AlbertModel\n",
    "import torch\n",
    "model = AlbertModel.from_pretrained(\"albert-base-v2\")\n",
    "\n",
    "a = torch.rand(10, 128)\n",
    "b = torch.rand(20, 128)\n",
    "c = torch.rand(15, 128)\n",
    "\n",
    "x2 = [a, b, c]\n",
    "\n",
    "x_id = torch.zeros([len(x2), 512, 128])\n",
    "x_mask = torch.zeros([len(x2), 512], dtype=torch.int)\n",
    "x_position = torch.empty([len(x2), 512], dtype=torch.int)\n",
    "for i, xx in enumerate(x2):\n",
    "    xx = xx.t()\n",
    "    while xx.shape[-1] > 512:\n",
    "        xx = self.pool(xx)\n",
    "    # n * 13\n",
    "    x_id[i, :xx.shape[-1]] = xx.t()\n",
    "    x_mask[i, :xx.shape[-1]] = 1\n",
    "    x_position[i] = torch.arange(512)\n"
   ]
  },
  {
   "cell_type": "code",
   "execution_count": 13,
   "id": "97f4de5a",
   "metadata": {},
   "outputs": [],
   "source": [
    "output = model(input_ids=None,\n",
    "    attention_mask=None,\n",
    "    token_type_ids=x_mask,\n",
    "    position_ids=None,\n",
    "    head_mask=None,\n",
    "    inputs_embeds=x_id,\n",
    "    output_attentions=None,\n",
    "    output_hidden_states=None,\n",
    "    return_dict=None,)"
   ]
  },
  {
   "cell_type": "code",
   "execution_count": 18,
   "id": "961d7302",
   "metadata": {},
   "outputs": [
    {
     "data": {
      "text/plain": [
       "torch.Size([3, 512, 768])"
      ]
     },
     "execution_count": 18,
     "metadata": {},
     "output_type": "execute_result"
    }
   ],
   "source": [
    "output[0].shape"
   ]
  },
  {
   "cell_type": "code",
   "execution_count": 19,
   "id": "9cfbd17d",
   "metadata": {},
   "outputs": [
    {
     "data": {
      "text/plain": [
       "torch.Size([3, 768])"
      ]
     },
     "execution_count": 19,
     "metadata": {},
     "output_type": "execute_result"
    }
   ],
   "source": [
    "output[1].shape"
   ]
  },
  {
   "cell_type": "code",
   "execution_count": 11,
   "id": "b5d7d36f",
   "metadata": {},
   "outputs": [
    {
     "name": "stdout",
     "output_type": "stream",
     "text": [
      "torch.Size([64])\n"
     ]
    }
   ],
   "source": [
    "import torch\n",
    "\n",
    "input = torch.randn(64)\n",
    "# 新版\n",
    "output_new = torch.fft.fft2(input, dim=(-1))\n",
    "print(output_new.size())\n",
    "# output_new = torch.stack((output_new.real, output_new.imag), -1)"
   ]
  },
  {
   "cell_type": "code",
   "execution_count": 15,
   "id": "e92646e0",
   "metadata": {},
   "outputs": [
    {
     "data": {
      "text/plain": [
       "tensor(22)"
      ]
     },
     "execution_count": 15,
     "metadata": {},
     "output_type": "execute_result"
    }
   ],
   "source": [
    "torch.max(output_new.real)"
   ]
  },
  {
   "cell_type": "code",
   "execution_count": 25,
   "id": "06c81fd1",
   "metadata": {},
   "outputs": [],
   "source": [
    "import torchvision\n",
    "resize = torchvision.transforms.Resize(1, 30)"
   ]
  },
  {
   "cell_type": "code",
   "execution_count": 26,
   "id": "4ba20eb1",
   "metadata": {},
   "outputs": [
    {
     "data": {
      "text/plain": [
       "torch.Size([1, 1, 7])"
      ]
     },
     "execution_count": 26,
     "metadata": {},
     "output_type": "execute_result"
    }
   ],
   "source": [
    "a = torch.tensor([2, 0, 2, 0, 2, 0, 2]).unsqueeze(0).unsqueeze(0)\n",
    "a.shape"
   ]
  },
  {
   "cell_type": "code",
   "execution_count": 27,
   "id": "1dcf8db7",
   "metadata": {},
   "outputs": [
    {
     "data": {
      "text/plain": [
       "tensor([2, 2, 2, 2, 2, 2, 2, 2, 2, 2, 2, 2, 2, 2, 2, 2, 2, 2, 2, 2, 2, 2, 2, 1,\n",
       "        1, 1, 1, 1, 1, 1, 1, 1, 1, 1, 1, 1, 1, 0, 0, 0, 0, 0, 0, 0, 0, 0, 0, 0,\n",
       "        0, 0, 0, 0, 1, 1, 1, 1, 1, 1, 1, 1, 1, 1, 1, 1, 1, 1, 1, 2, 2, 2, 2, 2,\n",
       "        2, 2, 2, 2, 2, 2, 2, 2, 2, 2, 1, 1, 1, 1, 1, 1, 1, 1, 1, 1, 1, 1, 1, 1,\n",
       "        1, 0, 0, 0, 0, 0, 0, 0, 0, 0, 0, 0, 0, 0, 0, 0, 1, 1, 1, 1, 1, 1, 1, 1,\n",
       "        1, 1, 1, 1, 1, 1, 1, 2, 2, 2, 2, 2, 2, 2, 2, 2, 2, 2, 2, 2, 2, 2, 1, 1,\n",
       "        1, 1, 1, 1, 1, 1, 1, 1, 1, 1, 1, 1, 1, 0, 0, 0, 0, 0, 0, 0, 0, 0, 0, 0,\n",
       "        0, 0, 0, 0, 1, 1, 1, 1, 1, 1, 1, 1, 1, 1, 1, 1, 1, 1, 1, 2, 2, 2, 2, 2,\n",
       "        2, 2, 2, 2, 2, 2, 2, 2, 2, 2, 2, 2, 2, 2, 2, 2, 2, 2])"
      ]
     },
     "execution_count": 27,
     "metadata": {},
     "output_type": "execute_result"
    }
   ],
   "source": [
    "resize(a)[0][0]"
   ]
  },
  {
   "cell_type": "code",
   "execution_count": 28,
   "id": "199cb404",
   "metadata": {},
   "outputs": [],
   "source": [
    "import numpy as np"
   ]
  },
  {
   "cell_type": "code",
   "execution_count": 29,
   "id": "12dccb1a",
   "metadata": {},
   "outputs": [],
   "source": [
    "a = np.load(\"error.npy\")"
   ]
  },
  {
   "cell_type": "code",
   "execution_count": 34,
   "id": "de0465da",
   "metadata": {},
   "outputs": [
    {
     "name": "stderr",
     "output_type": "stream",
     "text": [
      "/home/xwm/anaconda3/envs/SV/lib/python3.6/site-packages/ipykernel_launcher.py:3: RuntimeWarning: overflow encountered in long_scalars\n",
      "  This is separate from the ipykernel package so we can avoid doing imports until\n"
     ]
    }
   ],
   "source": [
    "s = 1\n",
    "for i in a:\n",
    "    s = s * i"
   ]
  },
  {
   "cell_type": "code",
   "execution_count": 33,
   "id": "6571da58",
   "metadata": {},
   "outputs": [
    {
     "data": {
      "text/plain": [
       "-1148980854932897792"
      ]
     },
     "execution_count": 33,
     "metadata": {},
     "output_type": "execute_result"
    }
   ],
   "source": [
    "(np.prod(a))"
   ]
  },
  {
   "cell_type": "code",
   "execution_count": 241,
   "id": "c128393d",
   "metadata": {},
   "outputs": [],
   "source": [
    "import torch\n",
    "import matplotlib.pyplot as plt\n",
    "data_dir = \"/home/xwm/DeepSVFilter/datasets/NA12878_PacBio_MtSinai/chromosome_sign/\"\n",
    "\n",
    "imgg = torch.load(data_dir+\"chr1_mids_sign.pt\")"
   ]
  },
  {
   "cell_type": "code",
   "execution_count": 214,
   "id": "91e8855a",
   "metadata": {},
   "outputs": [],
   "source": [
    "x1, x2 = ins[11]\n",
    "img_dim = imgg[2][x1:x2]"
   ]
  },
  {
   "cell_type": "code",
   "execution_count": 263,
   "id": "7b9e7024",
   "metadata": {},
   "outputs": [],
   "source": [
    "x1, x2 = (645809, 646033)\n",
    "img_dim = imgg[3][x1:x2]"
   ]
  },
  {
   "cell_type": "code",
   "execution_count": 264,
   "id": "f1306324",
   "metadata": {},
   "outputs": [],
   "source": [
    "import torchvision\n",
    "resize = torchvision.transforms.Resize([int((x2 - x1) / 2), x2 - x1])"
   ]
  },
  {
   "cell_type": "code",
   "execution_count": 265,
   "id": "177a3b70",
   "metadata": {},
   "outputs": [
    {
     "data": {
      "image/png": "[encoded data removed]",
      "text/plain": [
       "<Figure size 432x288 with 1 Axes>"
      ]
     },
     "metadata": {
      "needs_background": "light"
     },
     "output_type": "display_data"
    }
   ],
   "source": [
    "img_min = torch.min(img_dim)\n",
    "img_hight = torch.max(img_dim) - img_min + 2\n",
    "# print(\"img_hight========\" + str(img_hight))\n",
    "im = torch.zeros(len(img_dim), img_hight)\n",
    "\n",
    "for x in range(len(img_dim)):\n",
    "    im[x, :img_dim[x] - img_min + 1] = img_hight\n",
    "\n",
    "\n",
    "img = im.transpose(0, 1)\n",
    "img = resize(img.unsqueeze(0))[0]\n",
    "img = img.numpy()\n",
    "plt.axis('off')\n",
    "plt.imshow(img, cmap='Greys', origin='lower')\n",
    "plt.savefig(\"s_ins1.pdf\", dpi=1000, bbox_inches = 'tight')"
   ]
  },
  {
   "cell_type": "code",
   "execution_count": 118,
   "id": "506261f6",
   "metadata": {},
   "outputs": [
    {
     "data": {
      "text/plain": [
       "<matplotlib.image.AxesImage at 0x7fc4aedcdc18>"
      ]
     },
     "execution_count": 118,
     "metadata": {},
     "output_type": "execute_result"
    },
    {
     "data": {
      "image/png": "[encoded data removed]",
      "text/plain": [
       "<Figure size 432x288 with 1 Axes>"
      ]
     },
     "metadata": {
      "needs_background": "light"
     },
     "output_type": "display_data"
    }
   ],
   "source": [
    "from pylab import xticks,yticks,np\n",
    "xticks_labels = [1, 2, 3, 4, 5]\n",
    "# 修改横坐标的刻度\n",
    "xticks(np.linspace(0,2276, 5,endpoint=True),xticks_labels)\n",
    "plt.imshow(img, cmap='Greys', origin='lower')"
   ]
  },
  {
   "cell_type": "code",
   "execution_count": 2,
   "id": "d61d7e64",
   "metadata": {},
   "outputs": [
    {
     "name": "stderr",
     "output_type": "stream",
     "text": [
      "Clipping input data to the valid range for imshow with RGB data ([0..1] for floats or [0..255] for integers).\n"
     ]
    },
    {
     "data": {
      "text/plain": [
       "<matplotlib.image.AxesImage at 0x7fc099d2d898>"
      ]
     },
     "execution_count": 2,
     "metadata": {},
     "output_type": "execute_result"
    },
    {
     "data": {
      "image/png": "[encoded data removed]",
      "text/plain": [
       "<Figure size 432x288 with 1 Axes>"
      ]
     },
     "metadata": {
      "needs_background": "light"
     },
     "output_type": "display_data"
    }
   ],
   "source": [
    "import torch\n",
    "import matplotlib.pyplot as plt\n",
    "\n",
    "data_dir = \"/home/xwm/DeepSVFilter/datasets/NA12878_PacBio_MtSinai/\"\n",
    "aa = torch.load(data_dir + 'image/' + \"chr1\" + '/ins_cigar_new_img' + '.pt')\n",
    "\n",
    "img = aa[0].transpose(0, 2)\n",
    "img = img.numpy()\n",
    "plt.imshow(img)\n"
   ]
  },
  {
   "cell_type": "code",
   "execution_count": 182,
   "id": "e9ab81cf",
   "metadata": {},
   "outputs": [],
   "source": [
    "data_dir = \"/home/xwm/DeepSVFilter/datasets/NA12878_PacBio_MtSinai/position/chr1/insert.pt\"\n",
    "\n",
    "ins = torch.load(data_dir)\n",
    "data_dir = \"/home/xwm/DeepSVFilter/datasets/NA12878_PacBio_MtSinai/position/chr1/delete.pt\"\n",
    "\n",
    "dele = torch.load(data_dir)"
   ]
  },
  {
   "cell_type": "code",
   "execution_count": 151,
   "id": "a4267c67",
   "metadata": {},
   "outputs": [
    {
     "data": {
      "text/plain": [
       "[1598432, 1598674]"
      ]
     },
     "execution_count": 151,
     "metadata": {},
     "output_type": "execute_result"
    }
   ],
   "source": [
    "dele[69]"
   ]
  },
  {
   "cell_type": "code",
   "execution_count": 136,
   "id": "51e0c70c",
   "metadata": {},
   "outputs": [
    {
     "ename": "TypeError",
     "evalue": "list indices must be integers or slices, not Series",
     "output_type": "error",
     "traceback": [
      "\u001b[0;31m---------------------------------------------------------------------------\u001b[0m",
      "\u001b[0;31mTypeError\u001b[0m                                 Traceback (most recent call last)",
      "\u001b[0;32m<ipython-input-136-38db6258acda>\u001b[0m in \u001b[0;36m<module>\u001b[0;34m\u001b[0m\n\u001b[0;32m----> 1\u001b[0;31m \u001b[0mdele\u001b[0m\u001b[0;34m[\u001b[0m\u001b[0mdelete_chromosome\u001b[0m\u001b[0;34m[\u001b[0m\u001b[0;34m'FILTER'\u001b[0m\u001b[0;34m]\u001b[0m \u001b[0;34m==\u001b[0m \u001b[0;34m\"PASS\"\u001b[0m\u001b[0;34m]\u001b[0m\u001b[0;34m\u001b[0m\u001b[0;34m\u001b[0m\u001b[0m\n\u001b[0m",
      "\u001b[0;31mTypeError\u001b[0m: list indices must be integers or slices, not Series"
     ]
    }
   ],
   "source": [
    "dele[delete_chromosome['FILTER'] == \"PASS\"]"
   ]
  },
  {
   "cell_type": "code",
   "execution_count": 3,
   "id": "e0913087",
   "metadata": {},
   "outputs": [],
   "source": [
    "import pandas as pd\n",
    "data_dir = \"/home/xwm/DeepSVFilter/datasets/NA12878_PacBio_MtSinai/\"\n",
    "\n",
    "\n",
    "bam_path = data_dir + \"sorted_final_merged.bam\"\n",
    "\n",
    "ins_vcf_filename = data_dir + \"insert_result_data.csv.vcf\"\n",
    "del_vcf_filename = data_dir + \"delete_result_data.csv.vcf\"\n",
    "delete_result_data = pd.read_csv(del_vcf_filename, sep = \"\\t\", index_col=0)\n",
    "delete_chromosome = delete_result_data[delete_result_data[\"CHROM\"] == \"chr1\"]"
   ]
  },
  {
   "cell_type": "code",
   "execution_count": 4,
   "id": "a74fad02",
   "metadata": {},
   "outputs": [
    {
     "data": {
      "text/html": [
       "<div>\n",
       "<style scoped>\n",
       "    .dataframe tbody tr th:only-of-type {\n",
       "        vertical-align: middle;\n",
       "    }\n",
       "\n",
       "    .dataframe tbody tr th {\n",
       "        vertical-align: top;\n",
       "    }\n",
       "\n",
       "    .dataframe thead th {\n",
       "        text-align: right;\n",
       "    }\n",
       "</style>\n",
       "<table border=\"1\" class=\"dataframe\">\n",
       "  <thead>\n",
       "    <tr style=\"text-align: right;\">\n",
       "      <th></th>\n",
       "      <th>CHROM</th>\n",
       "      <th>POS</th>\n",
       "      <th>SPOS</th>\n",
       "      <th>EPOS</th>\n",
       "      <th>END</th>\n",
       "      <th>SEND</th>\n",
       "      <th>EEND</th>\n",
       "      <th>ID</th>\n",
       "      <th>REF</th>\n",
       "      <th>ALT</th>\n",
       "      <th>QUAL</th>\n",
       "      <th>FILTER</th>\n",
       "      <th>INFO</th>\n",
       "      <th>FORMAT</th>\n",
       "      <th>NA12878</th>\n",
       "    </tr>\n",
       "  </thead>\n",
       "  <tbody>\n",
       "    <tr>\n",
       "      <th>0</th>\n",
       "      <td>chr1</td>\n",
       "      <td>67811</td>\n",
       "      <td>-10</td>\n",
       "      <td>10</td>\n",
       "      <td>68252</td>\n",
       "      <td>-10</td>\n",
       "      <td>10</td>\n",
       "      <td>.</td>\n",
       "      <td>T</td>\n",
       "      <td>&lt;DEL&gt;</td>\n",
       "      <td>.</td>\n",
       "      <td>PASS</td>\n",
       "      <td>IMPRECISE;SVTYPE=DEL;END=68252;SVLEN=-441;CIPO...</td>\n",
       "      <td>GT</td>\n",
       "      <td>0/1</td>\n",
       "    </tr>\n",
       "    <tr>\n",
       "      <th>1</th>\n",
       "      <td>chr1</td>\n",
       "      <td>149392</td>\n",
       "      <td>-50</td>\n",
       "      <td>50</td>\n",
       "      <td>149706</td>\n",
       "      <td>-50</td>\n",
       "      <td>50</td>\n",
       "      <td>.</td>\n",
       "      <td>T</td>\n",
       "      <td>&lt;DEL&gt;</td>\n",
       "      <td>.</td>\n",
       "      <td>lt3</td>\n",
       "      <td>IMPRECISE;SVTYPE=DEL;END=149706;SVLEN=False;CI...</td>\n",
       "      <td>GT</td>\n",
       "      <td>0/1</td>\n",
       "    </tr>\n",
       "    <tr>\n",
       "      <th>2</th>\n",
       "      <td>chr1</td>\n",
       "      <td>436822</td>\n",
       "      <td>-10</td>\n",
       "      <td>10</td>\n",
       "      <td>437028</td>\n",
       "      <td>-10</td>\n",
       "      <td>10</td>\n",
       "      <td>.</td>\n",
       "      <td>C</td>\n",
       "      <td>&lt;DEL&gt;</td>\n",
       "      <td>.</td>\n",
       "      <td>lt3</td>\n",
       "      <td>IMPRECISE;SVTYPE=DEL;END=437028;SVLEN=-206;CIP...</td>\n",
       "      <td>GT</td>\n",
       "      <td>0/1</td>\n",
       "    </tr>\n",
       "    <tr>\n",
       "      <th>3</th>\n",
       "      <td>chr1</td>\n",
       "      <td>437634</td>\n",
       "      <td>-10</td>\n",
       "      <td>10</td>\n",
       "      <td>437702</td>\n",
       "      <td>-10</td>\n",
       "      <td>10</td>\n",
       "      <td>.</td>\n",
       "      <td>T</td>\n",
       "      <td>&lt;DEL&gt;</td>\n",
       "      <td>.</td>\n",
       "      <td>lt3</td>\n",
       "      <td>IMPRECISE;SVTYPE=DEL;END=437702;SVLEN=-68;CIPO...</td>\n",
       "      <td>GT</td>\n",
       "      <td>0/1</td>\n",
       "    </tr>\n",
       "    <tr>\n",
       "      <th>4</th>\n",
       "      <td>chr1</td>\n",
       "      <td>440874</td>\n",
       "      <td>-10</td>\n",
       "      <td>10</td>\n",
       "      <td>440906</td>\n",
       "      <td>-10</td>\n",
       "      <td>10</td>\n",
       "      <td>.</td>\n",
       "      <td>T</td>\n",
       "      <td>&lt;DEL&gt;</td>\n",
       "      <td>.</td>\n",
       "      <td>lt3</td>\n",
       "      <td>IMPRECISE;SVTYPE=DEL;END=440906;SVLEN=-32;CIPO...</td>\n",
       "      <td>GT</td>\n",
       "      <td>0/1</td>\n",
       "    </tr>\n",
       "    <tr>\n",
       "      <th>...</th>\n",
       "      <td>...</td>\n",
       "      <td>...</td>\n",
       "      <td>...</td>\n",
       "      <td>...</td>\n",
       "      <td>...</td>\n",
       "      <td>...</td>\n",
       "      <td>...</td>\n",
       "      <td>...</td>\n",
       "      <td>...</td>\n",
       "      <td>...</td>\n",
       "      <td>...</td>\n",
       "      <td>...</td>\n",
       "      <td>...</td>\n",
       "      <td>...</td>\n",
       "      <td>...</td>\n",
       "    </tr>\n",
       "    <tr>\n",
       "      <th>20952</th>\n",
       "      <td>chrX</td>\n",
       "      <td>154867975</td>\n",
       "      <td>-10</td>\n",
       "      <td>10</td>\n",
       "      <td>154868021</td>\n",
       "      <td>-10</td>\n",
       "      <td>10</td>\n",
       "      <td>.</td>\n",
       "      <td>A</td>\n",
       "      <td>&lt;DEL&gt;</td>\n",
       "      <td>.</td>\n",
       "      <td>lt3</td>\n",
       "      <td>IMPRECISE;SVTYPE=DEL;END=154868021;SVLEN=-46;C...</td>\n",
       "      <td>GT</td>\n",
       "      <td>0/1</td>\n",
       "    </tr>\n",
       "    <tr>\n",
       "      <th>20953</th>\n",
       "      <td>chrX</td>\n",
       "      <td>155032922</td>\n",
       "      <td>-50</td>\n",
       "      <td>50</td>\n",
       "      <td>155213445</td>\n",
       "      <td>-50</td>\n",
       "      <td>50</td>\n",
       "      <td>.</td>\n",
       "      <td>C</td>\n",
       "      <td>&lt;DEL&gt;</td>\n",
       "      <td>.</td>\n",
       "      <td>lt3</td>\n",
       "      <td>IMPRECISE;SVTYPE=DEL;END=155213445;SVLEN=False...</td>\n",
       "      <td>GT</td>\n",
       "      <td>0/1</td>\n",
       "    </tr>\n",
       "    <tr>\n",
       "      <th>20954</th>\n",
       "      <td>chrX</td>\n",
       "      <td>155142523</td>\n",
       "      <td>-50</td>\n",
       "      <td>50</td>\n",
       "      <td>155142757</td>\n",
       "      <td>-50</td>\n",
       "      <td>50</td>\n",
       "      <td>.</td>\n",
       "      <td>C</td>\n",
       "      <td>&lt;DEL&gt;</td>\n",
       "      <td>.</td>\n",
       "      <td>lt3</td>\n",
       "      <td>IMPRECISE;SVTYPE=DEL;END=155142757;SVLEN=False...</td>\n",
       "      <td>GT</td>\n",
       "      <td>0/1</td>\n",
       "    </tr>\n",
       "    <tr>\n",
       "      <th>20955</th>\n",
       "      <td>chrX</td>\n",
       "      <td>155214728</td>\n",
       "      <td>-50</td>\n",
       "      <td>50</td>\n",
       "      <td>155214905</td>\n",
       "      <td>-50</td>\n",
       "      <td>50</td>\n",
       "      <td>.</td>\n",
       "      <td>C</td>\n",
       "      <td>&lt;DEL&gt;</td>\n",
       "      <td>.</td>\n",
       "      <td>lt3</td>\n",
       "      <td>IMPRECISE;SVTYPE=DEL;END=155214905;SVLEN=False...</td>\n",
       "      <td>GT</td>\n",
       "      <td>0/1</td>\n",
       "    </tr>\n",
       "    <tr>\n",
       "      <th>20956</th>\n",
       "      <td>chrX</td>\n",
       "      <td>155251246</td>\n",
       "      <td>-50</td>\n",
       "      <td>50</td>\n",
       "      <td>155252497</td>\n",
       "      <td>-50</td>\n",
       "      <td>50</td>\n",
       "      <td>.</td>\n",
       "      <td>G</td>\n",
       "      <td>&lt;DEL&gt;</td>\n",
       "      <td>.</td>\n",
       "      <td>PASS</td>\n",
       "      <td>IMPRECISE;SVTYPE=DEL;END=155252497;SVLEN=False...</td>\n",
       "      <td>GT</td>\n",
       "      <td>0/1</td>\n",
       "    </tr>\n",
       "  </tbody>\n",
       "</table>\n",
       "<p>20957 rows × 15 columns</p>\n",
       "</div>"
      ],
      "text/plain": [
       "      CHROM        POS  SPOS  EPOS        END  SEND  EEND ID REF    ALT QUAL  \\\n",
       "0      chr1      67811   -10    10      68252   -10    10  .   T  <DEL>    .   \n",
       "1      chr1     149392   -50    50     149706   -50    50  .   T  <DEL>    .   \n",
       "2      chr1     436822   -10    10     437028   -10    10  .   C  <DEL>    .   \n",
       "3      chr1     437634   -10    10     437702   -10    10  .   T  <DEL>    .   \n",
       "4      chr1     440874   -10    10     440906   -10    10  .   T  <DEL>    .   \n",
       "...     ...        ...   ...   ...        ...   ...   ... ..  ..    ...  ...   \n",
       "20952  chrX  154867975   -10    10  154868021   -10    10  .   A  <DEL>    .   \n",
       "20953  chrX  155032922   -50    50  155213445   -50    50  .   C  <DEL>    .   \n",
       "20954  chrX  155142523   -50    50  155142757   -50    50  .   C  <DEL>    .   \n",
       "20955  chrX  155214728   -50    50  155214905   -50    50  .   C  <DEL>    .   \n",
       "20956  chrX  155251246   -50    50  155252497   -50    50  .   G  <DEL>    .   \n",
       "\n",
       "      FILTER                                               INFO FORMAT NA12878  \n",
       "0       PASS  IMPRECISE;SVTYPE=DEL;END=68252;SVLEN=-441;CIPO...     GT     0/1  \n",
       "1        lt3  IMPRECISE;SVTYPE=DEL;END=149706;SVLEN=False;CI...     GT     0/1  \n",
       "2        lt3  IMPRECISE;SVTYPE=DEL;END=437028;SVLEN=-206;CIP...     GT     0/1  \n",
       "3        lt3  IMPRECISE;SVTYPE=DEL;END=437702;SVLEN=-68;CIPO...     GT     0/1  \n",
       "4        lt3  IMPRECISE;SVTYPE=DEL;END=440906;SVLEN=-32;CIPO...     GT     0/1  \n",
       "...      ...                                                ...    ...     ...  \n",
       "20952    lt3  IMPRECISE;SVTYPE=DEL;END=154868021;SVLEN=-46;C...     GT     0/1  \n",
       "20953    lt3  IMPRECISE;SVTYPE=DEL;END=155213445;SVLEN=False...     GT     0/1  \n",
       "20954    lt3  IMPRECISE;SVTYPE=DEL;END=155142757;SVLEN=False...     GT     0/1  \n",
       "20955    lt3  IMPRECISE;SVTYPE=DEL;END=155214905;SVLEN=False...     GT     0/1  \n",
       "20956   PASS  IMPRECISE;SVTYPE=DEL;END=155252497;SVLEN=False...     GT     0/1  \n",
       "\n",
       "[20957 rows x 15 columns]"
      ]
     },
     "execution_count": 4,
     "metadata": {},
     "output_type": "execute_result"
    }
   ],
   "source": [
    "delete_result_data"
   ]
  },
  {
   "cell_type": "code",
   "execution_count": 190,
   "id": "d88b4d56",
   "metadata": {
    "scrolled": true
   },
   "outputs": [],
   "source": [
    "a = delete_chromosome.loc[delete_chromosome['FILTER'] == \"PASS\"]"
   ]
  },
  {
   "cell_type": "code",
   "execution_count": 191,
   "id": "a94ab00b",
   "metadata": {},
   "outputs": [
    {
     "data": {
      "text/html": [
       "<div>\n",
       "<style scoped>\n",
       "    .dataframe tbody tr th:only-of-type {\n",
       "        vertical-align: middle;\n",
       "    }\n",
       "\n",
       "    .dataframe tbody tr th {\n",
       "        vertical-align: top;\n",
       "    }\n",
       "\n",
       "    .dataframe thead th {\n",
       "        text-align: right;\n",
       "    }\n",
       "</style>\n",
       "<table border=\"1\" class=\"dataframe\">\n",
       "  <thead>\n",
       "    <tr style=\"text-align: right;\">\n",
       "      <th></th>\n",
       "      <th>CHROM</th>\n",
       "      <th>POS</th>\n",
       "      <th>SPOS</th>\n",
       "      <th>EPOS</th>\n",
       "      <th>SVLEN</th>\n",
       "      <th>ID</th>\n",
       "      <th>REF</th>\n",
       "      <th>ALT</th>\n",
       "      <th>QUAL</th>\n",
       "      <th>FILTER</th>\n",
       "      <th>INFO</th>\n",
       "      <th>FORMAT</th>\n",
       "      <th>NA12878</th>\n",
       "    </tr>\n",
       "  </thead>\n",
       "  <tbody>\n",
       "    <tr>\n",
       "      <th>11</th>\n",
       "      <td>chr1</td>\n",
       "      <td>645922</td>\n",
       "      <td>-50</td>\n",
       "      <td>50</td>\n",
       "      <td>100</td>\n",
       "      <td>.</td>\n",
       "      <td>T</td>\n",
       "      <td>&lt;INS&gt;</td>\n",
       "      <td>.</td>\n",
       "      <td>PASS</td>\n",
       "      <td>IMPRECISE;SVTYPE=INS;END=646022;CIPOS=-50,50;N...</td>\n",
       "      <td>GT</td>\n",
       "      <td>0/1</td>\n",
       "    </tr>\n",
       "    <tr>\n",
       "      <th>14</th>\n",
       "      <td>chr1</td>\n",
       "      <td>756260</td>\n",
       "      <td>-10</td>\n",
       "      <td>10</td>\n",
       "      <td>245</td>\n",
       "      <td>.</td>\n",
       "      <td>T</td>\n",
       "      <td>&lt;INS&gt;</td>\n",
       "      <td>.</td>\n",
       "      <td>PASS</td>\n",
       "      <td>IMPRECISE;SVTYPE=INS;END=756261;SVLEN=+245;CIP...</td>\n",
       "      <td>GT</td>\n",
       "      <td>0/1</td>\n",
       "    </tr>\n",
       "    <tr>\n",
       "      <th>20</th>\n",
       "      <td>chr1</td>\n",
       "      <td>811560</td>\n",
       "      <td>-50</td>\n",
       "      <td>50</td>\n",
       "      <td>121</td>\n",
       "      <td>.</td>\n",
       "      <td>G</td>\n",
       "      <td>&lt;INS&gt;</td>\n",
       "      <td>.</td>\n",
       "      <td>PASS</td>\n",
       "      <td>IMPRECISE;SVTYPE=INS;END=811681;CIPOS=-50,50;N...</td>\n",
       "      <td>GT</td>\n",
       "      <td>0/1</td>\n",
       "    </tr>\n",
       "    <tr>\n",
       "      <th>21</th>\n",
       "      <td>chr1</td>\n",
       "      <td>813761</td>\n",
       "      <td>-50</td>\n",
       "      <td>50</td>\n",
       "      <td>101</td>\n",
       "      <td>.</td>\n",
       "      <td>G</td>\n",
       "      <td>&lt;INS&gt;</td>\n",
       "      <td>.</td>\n",
       "      <td>PASS</td>\n",
       "      <td>IMPRECISE;SVTYPE=INS;END=813862;CIPOS=-50,50;N...</td>\n",
       "      <td>GT</td>\n",
       "      <td>0|1</td>\n",
       "    </tr>\n",
       "    <tr>\n",
       "      <th>40</th>\n",
       "      <td>chr1</td>\n",
       "      <td>1219490</td>\n",
       "      <td>-10</td>\n",
       "      <td>10</td>\n",
       "      <td>200</td>\n",
       "      <td>.</td>\n",
       "      <td>G</td>\n",
       "      <td>&lt;INS&gt;</td>\n",
       "      <td>.</td>\n",
       "      <td>PASS</td>\n",
       "      <td>IMPRECISE;SVTYPE=INS;END=1219491;SVLEN=+200;CI...</td>\n",
       "      <td>GT</td>\n",
       "      <td>0/1</td>\n",
       "    </tr>\n",
       "    <tr>\n",
       "      <th>...</th>\n",
       "      <td>...</td>\n",
       "      <td>...</td>\n",
       "      <td>...</td>\n",
       "      <td>...</td>\n",
       "      <td>...</td>\n",
       "      <td>...</td>\n",
       "      <td>...</td>\n",
       "      <td>...</td>\n",
       "      <td>...</td>\n",
       "      <td>...</td>\n",
       "      <td>...</td>\n",
       "      <td>...</td>\n",
       "      <td>...</td>\n",
       "    </tr>\n",
       "    <tr>\n",
       "      <th>1581</th>\n",
       "      <td>chr1</td>\n",
       "      <td>247386193</td>\n",
       "      <td>-10</td>\n",
       "      <td>10</td>\n",
       "      <td>391</td>\n",
       "      <td>.</td>\n",
       "      <td>T</td>\n",
       "      <td>&lt;INS&gt;</td>\n",
       "      <td>.</td>\n",
       "      <td>PASS</td>\n",
       "      <td>IMPRECISE;SVTYPE=INS;END=247386194;SVLEN=+391;...</td>\n",
       "      <td>GT</td>\n",
       "      <td>1/1</td>\n",
       "    </tr>\n",
       "    <tr>\n",
       "      <th>1583</th>\n",
       "      <td>chr1</td>\n",
       "      <td>247574178</td>\n",
       "      <td>-10</td>\n",
       "      <td>10</td>\n",
       "      <td>2804</td>\n",
       "      <td>.</td>\n",
       "      <td>A</td>\n",
       "      <td>&lt;INS&gt;</td>\n",
       "      <td>.</td>\n",
       "      <td>PASS</td>\n",
       "      <td>IMPRECISE;SVTYPE=INS;END=247574179;SVLEN=+2804...</td>\n",
       "      <td>GT</td>\n",
       "      <td>0/1</td>\n",
       "    </tr>\n",
       "    <tr>\n",
       "      <th>1598</th>\n",
       "      <td>chr1</td>\n",
       "      <td>248100955</td>\n",
       "      <td>-10</td>\n",
       "      <td>10</td>\n",
       "      <td>91</td>\n",
       "      <td>.</td>\n",
       "      <td>C</td>\n",
       "      <td>&lt;INS&gt;</td>\n",
       "      <td>.</td>\n",
       "      <td>PASS</td>\n",
       "      <td>IMPRECISE;SVTYPE=INS;END=248100956;SVLEN=+91;C...</td>\n",
       "      <td>GT</td>\n",
       "      <td>0/1</td>\n",
       "    </tr>\n",
       "    <tr>\n",
       "      <th>1607</th>\n",
       "      <td>chr1</td>\n",
       "      <td>248567547</td>\n",
       "      <td>-10</td>\n",
       "      <td>10</td>\n",
       "      <td>4829</td>\n",
       "      <td>.</td>\n",
       "      <td>A</td>\n",
       "      <td>&lt;INS&gt;</td>\n",
       "      <td>.</td>\n",
       "      <td>PASS</td>\n",
       "      <td>IMPRECISE;SVTYPE=INS;END=248567548;SVLEN=+4829...</td>\n",
       "      <td>GT</td>\n",
       "      <td>0/1</td>\n",
       "    </tr>\n",
       "    <tr>\n",
       "      <th>1616</th>\n",
       "      <td>chr1</td>\n",
       "      <td>249205955</td>\n",
       "      <td>-10</td>\n",
       "      <td>10</td>\n",
       "      <td>127</td>\n",
       "      <td>.</td>\n",
       "      <td>C</td>\n",
       "      <td>&lt;INS&gt;</td>\n",
       "      <td>.</td>\n",
       "      <td>PASS</td>\n",
       "      <td>IMPRECISE;SVTYPE=INS;END=249205956;SVLEN=+127;...</td>\n",
       "      <td>GT</td>\n",
       "      <td>0/1</td>\n",
       "    </tr>\n",
       "  </tbody>\n",
       "</table>\n",
       "<p>525 rows × 13 columns</p>\n",
       "</div>"
      ],
      "text/plain": [
       "     CHROM        POS  SPOS  EPOS  SVLEN ID REF    ALT QUAL FILTER  \\\n",
       "11    chr1     645922   -50    50    100  .   T  <INS>    .   PASS   \n",
       "14    chr1     756260   -10    10    245  .   T  <INS>    .   PASS   \n",
       "20    chr1     811560   -50    50    121  .   G  <INS>    .   PASS   \n",
       "21    chr1     813761   -50    50    101  .   G  <INS>    .   PASS   \n",
       "40    chr1    1219490   -10    10    200  .   G  <INS>    .   PASS   \n",
       "...    ...        ...   ...   ...    ... ..  ..    ...  ...    ...   \n",
       "1581  chr1  247386193   -10    10    391  .   T  <INS>    .   PASS   \n",
       "1583  chr1  247574178   -10    10   2804  .   A  <INS>    .   PASS   \n",
       "1598  chr1  248100955   -10    10     91  .   C  <INS>    .   PASS   \n",
       "1607  chr1  248567547   -10    10   4829  .   A  <INS>    .   PASS   \n",
       "1616  chr1  249205955   -10    10    127  .   C  <INS>    .   PASS   \n",
       "\n",
       "                                                   INFO FORMAT NA12878  \n",
       "11    IMPRECISE;SVTYPE=INS;END=646022;CIPOS=-50,50;N...     GT     0/1  \n",
       "14    IMPRECISE;SVTYPE=INS;END=756261;SVLEN=+245;CIP...     GT     0/1  \n",
       "20    IMPRECISE;SVTYPE=INS;END=811681;CIPOS=-50,50;N...     GT     0/1  \n",
       "21    IMPRECISE;SVTYPE=INS;END=813862;CIPOS=-50,50;N...     GT     0|1  \n",
       "40    IMPRECISE;SVTYPE=INS;END=1219491;SVLEN=+200;CI...     GT     0/1  \n",
       "...                                                 ...    ...     ...  \n",
       "1581  IMPRECISE;SVTYPE=INS;END=247386194;SVLEN=+391;...     GT     1/1  \n",
       "1583  IMPRECISE;SVTYPE=INS;END=247574179;SVLEN=+2804...     GT     0/1  \n",
       "1598  IMPRECISE;SVTYPE=INS;END=248100956;SVLEN=+91;C...     GT     0/1  \n",
       "1607  IMPRECISE;SVTYPE=INS;END=248567548;SVLEN=+4829...     GT     0/1  \n",
       "1616  IMPRECISE;SVTYPE=INS;END=249205956;SVLEN=+127;...     GT     0/1  \n",
       "\n",
       "[525 rows x 13 columns]"
      ]
     },
     "execution_count": 191,
     "metadata": {},
     "output_type": "execute_result"
    }
   ],
   "source": [
    "a"
   ]
  },
  {
   "cell_type": "code",
   "execution_count": 155,
   "id": "ec4499b6",
   "metadata": {
    "scrolled": false
   },
   "outputs": [
    {
     "data": {
      "text/html": [
       "<div>\n",
       "<style scoped>\n",
       "    .dataframe tbody tr th:only-of-type {\n",
       "        vertical-align: middle;\n",
       "    }\n",
       "\n",
       "    .dataframe tbody tr th {\n",
       "        vertical-align: top;\n",
       "    }\n",
       "\n",
       "    .dataframe thead th {\n",
       "        text-align: right;\n",
       "    }\n",
       "</style>\n",
       "<table border=\"1\" class=\"dataframe\">\n",
       "  <thead>\n",
       "    <tr style=\"text-align: right;\">\n",
       "      <th></th>\n",
       "      <th>CHROM</th>\n",
       "      <th>POS</th>\n",
       "      <th>SPOS</th>\n",
       "      <th>EPOS</th>\n",
       "      <th>END</th>\n",
       "      <th>SEND</th>\n",
       "      <th>EEND</th>\n",
       "      <th>ID</th>\n",
       "      <th>REF</th>\n",
       "      <th>ALT</th>\n",
       "      <th>QUAL</th>\n",
       "      <th>FILTER</th>\n",
       "      <th>INFO</th>\n",
       "      <th>FORMAT</th>\n",
       "      <th>NA12878</th>\n",
       "    </tr>\n",
       "  </thead>\n",
       "  <tbody>\n",
       "    <tr>\n",
       "      <th>74</th>\n",
       "      <td>chr1</td>\n",
       "      <td>1910484</td>\n",
       "      <td>-10</td>\n",
       "      <td>10</td>\n",
       "      <td>1910658</td>\n",
       "      <td>-10</td>\n",
       "      <td>10</td>\n",
       "      <td>.</td>\n",
       "      <td>T</td>\n",
       "      <td>&lt;DEL&gt;</td>\n",
       "      <td>.</td>\n",
       "      <td>PASS</td>\n",
       "      <td>IMPRECISE;SVTYPE=DEL;END=1910658;SVLEN=-174;CI...</td>\n",
       "      <td>GT</td>\n",
       "      <td>0|1</td>\n",
       "    </tr>\n",
       "    <tr>\n",
       "      <th>83</th>\n",
       "      <td>chr1</td>\n",
       "      <td>2041615</td>\n",
       "      <td>-10</td>\n",
       "      <td>10</td>\n",
       "      <td>2041710</td>\n",
       "      <td>-10</td>\n",
       "      <td>10</td>\n",
       "      <td>.</td>\n",
       "      <td>C</td>\n",
       "      <td>&lt;DEL&gt;</td>\n",
       "      <td>.</td>\n",
       "      <td>PASS</td>\n",
       "      <td>IMPRECISE;SVTYPE=DEL;END=2041710;SVLEN=-95;CIP...</td>\n",
       "      <td>GT</td>\n",
       "      <td>0/1</td>\n",
       "    </tr>\n",
       "    <tr>\n",
       "      <th>87</th>\n",
       "      <td>chr1</td>\n",
       "      <td>2073776</td>\n",
       "      <td>-10</td>\n",
       "      <td>10</td>\n",
       "      <td>2073861</td>\n",
       "      <td>-10</td>\n",
       "      <td>10</td>\n",
       "      <td>.</td>\n",
       "      <td>C</td>\n",
       "      <td>&lt;DEL&gt;</td>\n",
       "      <td>.</td>\n",
       "      <td>PASS</td>\n",
       "      <td>IMPRECISE;SVTYPE=DEL;END=2073861;SVLEN=-85;CIP...</td>\n",
       "      <td>GT</td>\n",
       "      <td>0/1</td>\n",
       "    </tr>\n",
       "    <tr>\n",
       "      <th>95</th>\n",
       "      <td>chr1</td>\n",
       "      <td>2566183</td>\n",
       "      <td>-10</td>\n",
       "      <td>10</td>\n",
       "      <td>2566585</td>\n",
       "      <td>-10</td>\n",
       "      <td>10</td>\n",
       "      <td>.</td>\n",
       "      <td>C</td>\n",
       "      <td>&lt;DEL&gt;</td>\n",
       "      <td>.</td>\n",
       "      <td>PASS</td>\n",
       "      <td>IMPRECISE;SVTYPE=DEL;END=2566585;SVLEN=-402;CI...</td>\n",
       "      <td>GT</td>\n",
       "      <td>0|1</td>\n",
       "    </tr>\n",
       "    <tr>\n",
       "      <th>158</th>\n",
       "      <td>chr1</td>\n",
       "      <td>2620550</td>\n",
       "      <td>-10</td>\n",
       "      <td>10</td>\n",
       "      <td>2625766</td>\n",
       "      <td>-10</td>\n",
       "      <td>10</td>\n",
       "      <td>.</td>\n",
       "      <td>A</td>\n",
       "      <td>&lt;DEL&gt;</td>\n",
       "      <td>.</td>\n",
       "      <td>PASS</td>\n",
       "      <td>IMPRECISE;SVTYPE=DEL;END=2625766;SVLEN=-5216;C...</td>\n",
       "      <td>GT</td>\n",
       "      <td>0/1</td>\n",
       "    </tr>\n",
       "    <tr>\n",
       "      <th>...</th>\n",
       "      <td>...</td>\n",
       "      <td>...</td>\n",
       "      <td>...</td>\n",
       "      <td>...</td>\n",
       "      <td>...</td>\n",
       "      <td>...</td>\n",
       "      <td>...</td>\n",
       "      <td>...</td>\n",
       "      <td>...</td>\n",
       "      <td>...</td>\n",
       "      <td>...</td>\n",
       "      <td>...</td>\n",
       "      <td>...</td>\n",
       "      <td>...</td>\n",
       "      <td>...</td>\n",
       "    </tr>\n",
       "    <tr>\n",
       "      <th>1366</th>\n",
       "      <td>chr1</td>\n",
       "      <td>247491081</td>\n",
       "      <td>-10</td>\n",
       "      <td>10</td>\n",
       "      <td>247491160</td>\n",
       "      <td>-10</td>\n",
       "      <td>10</td>\n",
       "      <td>.</td>\n",
       "      <td>T</td>\n",
       "      <td>&lt;DEL&gt;</td>\n",
       "      <td>.</td>\n",
       "      <td>PASS</td>\n",
       "      <td>IMPRECISE;SVTYPE=DEL;END=247491160;SVLEN=-79;C...</td>\n",
       "      <td>GT</td>\n",
       "      <td>0/1</td>\n",
       "    </tr>\n",
       "    <tr>\n",
       "      <th>1368</th>\n",
       "      <td>chr1</td>\n",
       "      <td>247536777</td>\n",
       "      <td>-10</td>\n",
       "      <td>10</td>\n",
       "      <td>247536972</td>\n",
       "      <td>-10</td>\n",
       "      <td>10</td>\n",
       "      <td>.</td>\n",
       "      <td>A</td>\n",
       "      <td>&lt;DEL&gt;</td>\n",
       "      <td>.</td>\n",
       "      <td>PASS</td>\n",
       "      <td>IMPRECISE;SVTYPE=DEL;END=247536972;SVLEN=-195;...</td>\n",
       "      <td>GT</td>\n",
       "      <td>1/1</td>\n",
       "    </tr>\n",
       "    <tr>\n",
       "      <th>1374</th>\n",
       "      <td>chr1</td>\n",
       "      <td>247850454</td>\n",
       "      <td>-10</td>\n",
       "      <td>10</td>\n",
       "      <td>247856507</td>\n",
       "      <td>-10</td>\n",
       "      <td>10</td>\n",
       "      <td>.</td>\n",
       "      <td>T</td>\n",
       "      <td>&lt;DEL&gt;</td>\n",
       "      <td>.</td>\n",
       "      <td>PASS</td>\n",
       "      <td>IMPRECISE;SVTYPE=DEL;END=247856507;SVLEN=-6053...</td>\n",
       "      <td>GT</td>\n",
       "      <td>0/1</td>\n",
       "    </tr>\n",
       "    <tr>\n",
       "      <th>1376</th>\n",
       "      <td>chr1</td>\n",
       "      <td>248051493</td>\n",
       "      <td>-10</td>\n",
       "      <td>10</td>\n",
       "      <td>248057653</td>\n",
       "      <td>-10</td>\n",
       "      <td>10</td>\n",
       "      <td>.</td>\n",
       "      <td>A</td>\n",
       "      <td>&lt;DEL&gt;</td>\n",
       "      <td>.</td>\n",
       "      <td>PASS</td>\n",
       "      <td>IMPRECISE;SVTYPE=DEL;END=248057653;SVLEN=-6160...</td>\n",
       "      <td>GT</td>\n",
       "      <td>0/1</td>\n",
       "    </tr>\n",
       "    <tr>\n",
       "      <th>1392</th>\n",
       "      <td>chr1</td>\n",
       "      <td>248849856</td>\n",
       "      <td>-10</td>\n",
       "      <td>10</td>\n",
       "      <td>248850133</td>\n",
       "      <td>-10</td>\n",
       "      <td>10</td>\n",
       "      <td>.</td>\n",
       "      <td>C</td>\n",
       "      <td>&lt;DEL&gt;</td>\n",
       "      <td>.</td>\n",
       "      <td>PASS</td>\n",
       "      <td>IMPRECISE;SVTYPE=DEL;END=248850133;SVLEN=-277;...</td>\n",
       "      <td>GT</td>\n",
       "      <td>0|1</td>\n",
       "    </tr>\n",
       "  </tbody>\n",
       "</table>\n",
       "<p>332 rows × 15 columns</p>\n",
       "</div>"
      ],
      "text/plain": [
       "     CHROM        POS  SPOS  EPOS        END  SEND  EEND ID REF    ALT QUAL  \\\n",
       "74    chr1    1910484   -10    10    1910658   -10    10  .   T  <DEL>    .   \n",
       "83    chr1    2041615   -10    10    2041710   -10    10  .   C  <DEL>    .   \n",
       "87    chr1    2073776   -10    10    2073861   -10    10  .   C  <DEL>    .   \n",
       "95    chr1    2566183   -10    10    2566585   -10    10  .   C  <DEL>    .   \n",
       "158   chr1    2620550   -10    10    2625766   -10    10  .   A  <DEL>    .   \n",
       "...    ...        ...   ...   ...        ...   ...   ... ..  ..    ...  ...   \n",
       "1366  chr1  247491081   -10    10  247491160   -10    10  .   T  <DEL>    .   \n",
       "1368  chr1  247536777   -10    10  247536972   -10    10  .   A  <DEL>    .   \n",
       "1374  chr1  247850454   -10    10  247856507   -10    10  .   T  <DEL>    .   \n",
       "1376  chr1  248051493   -10    10  248057653   -10    10  .   A  <DEL>    .   \n",
       "1392  chr1  248849856   -10    10  248850133   -10    10  .   C  <DEL>    .   \n",
       "\n",
       "     FILTER                                               INFO FORMAT NA12878  \n",
       "74     PASS  IMPRECISE;SVTYPE=DEL;END=1910658;SVLEN=-174;CI...     GT     0|1  \n",
       "83     PASS  IMPRECISE;SVTYPE=DEL;END=2041710;SVLEN=-95;CIP...     GT     0/1  \n",
       "87     PASS  IMPRECISE;SVTYPE=DEL;END=2073861;SVLEN=-85;CIP...     GT     0/1  \n",
       "95     PASS  IMPRECISE;SVTYPE=DEL;END=2566585;SVLEN=-402;CI...     GT     0|1  \n",
       "158    PASS  IMPRECISE;SVTYPE=DEL;END=2625766;SVLEN=-5216;C...     GT     0/1  \n",
       "...     ...                                                ...    ...     ...  \n",
       "1366   PASS  IMPRECISE;SVTYPE=DEL;END=247491160;SVLEN=-79;C...     GT     0/1  \n",
       "1368   PASS  IMPRECISE;SVTYPE=DEL;END=247536972;SVLEN=-195;...     GT     1/1  \n",
       "1374   PASS  IMPRECISE;SVTYPE=DEL;END=247856507;SVLEN=-6053...     GT     0/1  \n",
       "1376   PASS  IMPRECISE;SVTYPE=DEL;END=248057653;SVLEN=-6160...     GT     0/1  \n",
       "1392   PASS  IMPRECISE;SVTYPE=DEL;END=248850133;SVLEN=-277;...     GT     0|1  \n",
       "\n",
       "[332 rows x 15 columns]"
      ]
     },
     "execution_count": 155,
     "metadata": {},
     "output_type": "execute_result"
    }
   ],
   "source": [
    "a.loc[70:]"
   ]
  },
  {
   "cell_type": "code",
   "execution_count": 1,
   "id": "6cf04688",
   "metadata": {},
   "outputs": [],
   "source": [
    "import torch\n",
    "from sklearn.metrics import classification_report\n"
   ]
  },
  {
   "cell_type": "code",
   "execution_count": 3,
   "id": "926f97d4",
   "metadata": {},
   "outputs": [],
   "source": [
    "data_dir = \"/home/xwm/DeepSVFilter/datasets/NA12878_PacBio_MtSinai/\"\n",
    "aa = torch.load(data_dir + 'image/' + \"chr1\" + '/ins_cigar_new_img' + '.pt')"
   ]
  },
  {
   "cell_type": "code",
   "execution_count": 5,
   "id": "889f8f0a",
   "metadata": {},
   "outputs": [
    {
     "data": {
      "text/plain": [
       "torch.Size([1621, 4, 224, 224])"
      ]
     },
     "execution_count": 5,
     "metadata": {},
     "output_type": "execute_result"
    }
   ],
   "source": [
    "aa.shape"
   ]
  },
  {
   "cell_type": "code",
   "execution_count": 1,
   "id": "94649121",
   "metadata": {},
   "outputs": [],
   "source": [
    "import utilities as ut\n",
    "from pudb import set_trace\n",
    "import pandas as pd\n",
    "import random\n",
    "import numpy as np\n",
    "import torch\n",
    "import torch.nn as nn\n",
    "from pytorch_lightning.loggers import TensorBoardLogger\n",
    "import os\n",
    "from net import IDENet\n",
    "import pytorch_lightning as pl\n",
    "from pytorch_lightning import seed_everything\n",
    "from pytorch_lightning.callbacks import ModelCheckpoint\n",
    "from multiprocessing import Pool, cpu_count\n",
    "import pysam\n",
    "import time\n",
    "import ray\n",
    "from ray import tune\n",
    "from ray.tune import CLIReporter\n",
    "from ray.tune.suggest import Repeater\n",
    "from ray.tune.schedulers import ASHAScheduler, PopulationBasedTraining\n",
    "from ray.tune.suggest.hyperopt import HyperOptSearch\n",
    "from ray.tune.integration.pytorch_lightning import TuneReportCallback, \\\n",
    "    TuneReportCheckpointCallback\n",
    "import list2img\n",
    "from hyperopt import hp"
   ]
  },
  {
   "cell_type": "code",
   "execution_count": 2,
   "id": "fc350ebb",
   "metadata": {},
   "outputs": [],
   "source": [
    "config = {\n",
    "    \"batch_size\": 14,\n",
    "    \"beta1\": 0.9,\n",
    "    \"beta2\": 0.999,\n",
    "    \"lr\": 7.187267009530772e-06,\n",
    "    \"weight_decay\": 0.0011614665567890423\n",
    "    # \"classfication_dim_stride\": 20, # no use\n",
    "}\n",
    "data_dir = \"/home/xwm/DeepSVFilter/datasets/NA12878_PacBio_MtSinai/\"\n",
    "\n",
    "# model = IDENet(data_dir, config)"
   ]
  },
  {
   "cell_type": "code",
   "execution_count": 3,
   "id": "3b57ced3",
   "metadata": {},
   "outputs": [
    {
     "name": "stderr",
     "output_type": "stream",
     "text": [
      "Some weights of the model checkpoint at albert-base-v2 were not used when initializing AlbertModel: ['predictions.LayerNorm.bias', 'predictions.dense.bias', 'predictions.decoder.weight', 'predictions.decoder.bias', 'predictions.LayerNorm.weight', 'predictions.dense.weight', 'predictions.bias']\n",
      "- This IS expected if you are initializing AlbertModel from the checkpoint of a model trained on another task or with another architecture (e.g. initializing a BertForSequenceClassification model from a BertForPreTraining model).\n",
      "- This IS NOT expected if you are initializing AlbertModel from the checkpoint of a model that you expect to be exactly identical (initializing a BertForSequenceClassification model from a BertForSequenceClassification model).\n"
     ]
    }
   ],
   "source": [
    "model = IDENet.load_from_checkpoint(\"/home/xwm/DeepSVFilter/code/channel_predict/7+11channel_predict/version_335/checkpoints/epoch=28-step=108314.ckpt\", path = data_dir, config = config)"
   ]
  },
  {
   "cell_type": "code",
   "execution_count": 4,
   "id": "00a0391c",
   "metadata": {},
   "outputs": [
    {
     "name": "stderr",
     "output_type": "stream",
     "text": [
      "GPU available: True, used: True\n",
      "TPU available: False, using: 0 TPU cores\n",
      "IPU available: False, using: 0 IPUs\n",
      "LOCAL_RANK: 0 - CUDA_VISIBLE_DEVICES: [2]\n"
     ]
    },
    {
     "data": {
      "application/vnd.jupyter.widget-view+json": {
       "model_id": "b0e361f7a1f44b65bebe02439fcc3a8c",
       "version_major": 2,
       "version_minor": 0
      },
      "text/plain": [
       "Testing: 0it [00:00, ?it/s]"
      ]
     },
     "metadata": {},
     "output_type": "display_data"
    },
    {
     "name": "stdout",
     "output_type": "stream",
     "text": [
      "--------------------------------------------------------------------------------\n",
      "DATALOADER:0 TEST RESULTS\n",
      "{'validation_0_f1': 0.7313174605369568,\n",
      " 'validation_1_f1': 0.7318186163902283,\n",
      " 'validation_2_f1': 0.8535695672035217,\n",
      " 'validation_loss': 0.35851770639419556,\n",
      " 'validation_loss_epoch': 0.35851770639419556,\n",
      " 'validation_macro_f1': 0.7722352147102356,\n",
      " 'validation_mean': 0.7674240469932556,\n",
      " 'validation_weighted_f1': 0.7724449038505554}\n",
      "--------------------------------------------------------------------------------\n"
     ]
    }
   ],
   "source": [
    "os.environ[\"CUDA_VISIBLE_DEVICES\"] = \"2\"\n",
    "trainer = pl.Trainer(gpus=1)\n",
    "model.eval()\n",
    "result = trainer.test(model)"
   ]
  },
  {
   "cell_type": "code",
   "execution_count": 5,
   "id": "fc92116c",
   "metadata": {},
   "outputs": [
    {
     "data": {
      "text/plain": [
       "{'validation_loss': 0.35851770639419556,\n",
       " 'validation_loss_epoch': 0.35851770639419556,\n",
       " 'validation_mean': 0.7674240469932556,\n",
       " 'validation_macro_f1': 0.7722352147102356,\n",
       " 'validation_weighted_f1': 0.7724449038505554,\n",
       " 'validation_0_f1': 0.7313174605369568,\n",
       " 'validation_1_f1': 0.7318186163902283,\n",
       " 'validation_2_f1': 0.8535695672035217}"
      ]
     },
     "execution_count": 5,
     "metadata": {},
     "output_type": "execute_result"
    }
   ],
   "source": [
    "result[0]"
   ]
  },
  {
   "cell_type": "code",
   "execution_count": null,
   "id": "80e22b22",
   "metadata": {},
   "outputs": [],
   "source": [
    "import xlwt\n",
    "workbook = xlwt.Workbook()\n",
    "\n",
    "worksheet = workbook.add_sheet(\"My new Sheet\")\n",
    "\n",
    "# 往表格写入内容\n",
    "worksheet.write(0, 0,\"validation_mean\")\n",
    "worksheet.write(0, 1,\"validation_macro_pre\")\n",
    "worksheet.write(0, 2,\"validation_macro_re\")\n",
    "worksheet.write(0, 3,\"validation_0_pre\")\n",
    "worksheet.write(0, 4,\"validation_0_re\")\n",
    "worksheet.write(0, 5,\"validation_1_pre\")\n",
    "worksheet.write(0, 6,\"validation_1_re\")\n",
    "worksheet.write(0, 7,\"validation_2_pre\")\n",
    "worksheet.write(0, 8,\"validation_2_re\")\n",
    "\n",
    "\n",
    "worksheet.write(1, 0,result[0][\"validation_mean\"])\n",
    "worksheet.write(1, 1,result[0][\"validation_macro_pre\"])\n",
    "worksheet.write(1, 2,result[0][\"validation_macro_re\"])\n",
    "worksheet.write(1, 3,result[0][\"validation_0_pre\"])\n",
    "worksheet.write(1, 4,result[0][\"validation_0_re\"])\n",
    "worksheet.write(1, 5,result[0][\"validation_1_pre\"])\n",
    "worksheet.write(1, 6,result[0][\"validation_1_re\"])\n",
    "worksheet.write(1, 7,result[0][\"validation_2_pre\"])\n",
    "worksheet.write(1, 8,result[0][\"validation_2_re\"])\n",
    "\n",
    "# 保存\n",
    "workbook.save(\"aaaaaaaaaaaaaaaa.xls\")"
   ]
  },
  {
   "cell_type": "code",
   "execution_count": 4,
   "id": "5c5fe943",
   "metadata": {},
   "outputs": [],
   "source": [
    "mm = torch.load(\"/home/xwm/DeepSVFilter/code/channel_predict/7+11channel_predict/version_335/checkpoints/epoch=28-step=108314.ckpt\")"
   ]
  },
  {
   "cell_type": "code",
   "execution_count": 9,
   "id": "d6523f3c",
   "metadata": {},
   "outputs": [],
   "source": [
    "mm['state_dict']['classfication.layers.0.0.Q_K.0.weight']=mm['state_dict']['classfication.layers.0.0.Q.0.weight']"
   ]
  },
  {
   "cell_type": "code",
   "execution_count": 11,
   "id": "df3d44d6",
   "metadata": {},
   "outputs": [],
   "source": [
    "myold = [\"classfication.layers.0.0.Q_K.0.weight\", \"classfication.layers.0.0.Q_K.0.bias\", \"classfication.layers.0.0.V.0.weight\", \"classfication.layers.0.0.V.0.bias\", \"classfication.layers.1.0.Q_K.0.weight\", \"classfication.layers.1.0.Q_K.0.bias\", \"classfication.layers.1.0.V.0.weight\", \"classfication.layers.1.0.V.0.bias\", \"classfication.layers.2.0.Q_K.0.weight\", \"classfication.layers.2.0.Q_K.0.bias\", \"classfication.layers.2.0.V.0.weight\", \"classfication.layers.2.0.V.0.bias\", \"classfication.layers.3.0.Q_K.0.weight\", \"classfication.layers.3.0.Q_K.0.bias\", \"classfication.layers.3.0.V.0.weight\", \"classfication.layers.3.0.V.0.bias\", \"classfication.layers.4.0.Q_K.0.weight\", \"classfication.layers.4.0.Q_K.0.bias\", \"classfication.layers.4.0.V.0.weight\", \"classfication.layers.4.0.V.0.bias\", \"classfication.layers.5.0.Q_K.0.weight\", \"classfication.layers.5.0.Q_K.0.bias\", \"classfication.layers.5.0.V.0.weight\", \"classfication.layers.5.0.V.0.bias\", \"classfication.layers.6.0.Q_K.0.weight\", \"classfication.layers.6.0.Q_K.0.bias\", \"classfication.layers.6.0.V.0.weight\", \"classfication.layers.6.0.V.0.bias\", \"classfication.layers.7.0.Q_K.0.weight\", \"classfication.layers.7.0.Q_K.0.bias\", \"classfication.layers.7.0.V.0.weight\", \"classfication.layers.7.0.V.0.bias\", \"classfication.layers.8.0.Q_K.0.weight\", \"classfication.layers.8.0.Q_K.0.bias\", \"classfication.layers.8.0.V.0.weight\", \"classfication.layers.8.0.V.0.bias\"]\n",
    "mynew = [\"classfication.layers.0.0.Q.0.weight\", \"classfication.layers.0.0.Q.0.bias\", \"classfication.layers.0.0.K.0.weight\", \"classfication.layers.0.0.K.0.bias\", \"classfication.layers.1.0.Q.0.weight\", \"classfication.layers.1.0.Q.0.bias\", \"classfication.layers.1.0.K.0.weight\", \"classfication.layers.1.0.K.0.bias\", \"classfication.layers.2.0.Q.0.weight\", \"classfication.layers.2.0.Q.0.bias\", \"classfication.layers.2.0.K.0.weight\", \"classfication.layers.2.0.K.0.bias\", \"classfication.layers.3.0.Q.0.weight\", \"classfication.layers.3.0.Q.0.bias\", \"classfication.layers.3.0.K.0.weight\", \"classfication.layers.3.0.K.0.bias\", \"classfication.layers.4.0.Q.0.weight\", \"classfication.layers.4.0.Q.0.bias\", \"classfication.layers.4.0.K.0.weight\", \"classfication.layers.4.0.K.0.bias\", \"classfication.layers.5.0.Q.0.weight\", \"classfication.layers.5.0.Q.0.bias\", \"classfication.layers.5.0.K.0.weight\", \"classfication.layers.5.0.K.0.bias\", \"classfication.layers.6.0.Q.0.weight\", \"classfication.layers.6.0.Q.0.bias\", \"classfication.layers.6.0.K.0.weight\", \"classfication.layers.6.0.K.0.bias\", \"classfication.layers.7.0.Q.0.weight\", \"classfication.layers.7.0.Q.0.bias\", \"classfication.layers.7.0.K.0.weight\", \"classfication.layers.7.0.K.0.bias\", \"classfication.layers.8.0.Q.0.weight\", \"classfication.layers.8.0.Q.0.bias\", \"classfication.layers.8.0.K.0.weight\", \"classfication.layers.8.0.K.0.bias\"]"
   ]
  },
  {
   "cell_type": "code",
   "execution_count": 13,
   "id": "109f9e90",
   "metadata": {},
   "outputs": [
    {
     "data": {
      "text/plain": [
       "36"
      ]
     },
     "execution_count": 13,
     "metadata": {},
     "output_type": "execute_result"
    }
   ],
   "source": [
    "len(mynew)"
   ]
  },
  {
   "cell_type": "code",
   "execution_count": 17,
   "id": "6e477d1c",
   "metadata": {},
   "outputs": [],
   "source": [
    "for i in range(36):\n",
    "    mm['state_dict'].pop(mynew[i])"
   ]
  },
  {
   "cell_type": "code",
   "execution_count": 18,
   "id": "3d8311c7",
   "metadata": {},
   "outputs": [],
   "source": [
    "torch.save(mm, \"/home/xwm/DeepSVFilter/code/channel_predict/7+11channel_predict/version_335/checkpoints/epoch=28-step=108314-v2.ckpt\")"
   ]
  },
  {
   "cell_type": "code",
   "execution_count": null,
   "id": "8e4b8e8a",
   "metadata": {},
   "outputs": [],
   "source": []
  }
 ],
 "metadata": {
  "kernelspec": {
   "display_name": "Python 3",
   "language": "python",
   "name": "python3"
  },
  "language_info": {
   "codemirror_mode": {
    "name": "ipython",
    "version": 3
   },
   "file_extension": ".py",
   "mimetype": "text/x-python",
   "name": "python",
   "nbconvert_exporter": "python",
   "pygments_lexer": "ipython3",
   "version": "3.6.13"
  }
 },
 "nbformat": 4,
 "nbformat_minor": 5
}
