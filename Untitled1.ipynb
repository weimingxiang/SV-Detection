{
 "cells": [
  {
   "cell_type": "code",
   "execution_count": 3,
   "id": "c2067108",
   "metadata": {},
   "outputs": [],
   "source": [
    "from utilities import preprocess\n",
    "from pudb import set_trace\n",
    "import pandas as pd\n",
    "import random\n",
    "import numpy as np\n",
    "import torchvision\n",
    "import math\n",
    "import torch\n",
    "import matplotlib.pyplot as plt\n",
    "from pytorch_lightning.loggers import TensorBoardLogger\n",
    "import os\n",
    "from net import IDENet\n",
    "\n"
   ]
  },
  {
   "cell_type": "code",
   "execution_count": null,
   "id": "10f12717",
   "metadata": {},
   "outputs": [
    {
     "name": "stdout",
     "output_type": "stream",
     "text": [
      "[*] Start generating images ===[*] Start generating images ===[*] Start generating images ===[*] Start generating images ===[*] Start generating images ===[*] Start generating images ===[*] Start generating images ===[*] Start generating images ===[*] Start generating images ===[*] Start generating images ===[*] Start generating images ===\n",
      "\n",
      "[*] Start generating images ===[*] Start generating images ===\n",
      "\n",
      "\n",
      "\n",
      "\n",
      "\n",
      "\n",
      "\n",
      "\n",
      "\n",
      "\n",
      "[*] Start generating images ===[*] Start generating images ===\n",
      "\n",
      "[*] Start generating images ===\n",
      "[*] End generating images ===\n",
      "[*] Start generating images ===\n",
      "[*] End generating images ===\n",
      "[*] Start generating images ===\n",
      "[*] End generating images ===\n",
      "[*] Start generating images ===\n",
      "[*] End generating images ===\n",
      "[*] Start generating images ===\n",
      "[*] End generating images ===\n",
      "[*] Start generating images ===\n",
      "[*] End generating images ===\n",
      "[*] Start generating images ===\n",
      "[*] End generating images ===\n",
      "[*] Start generating images ===\n",
      "[*] End generating images ===\n",
      "[*] Start generating images ===\n",
      "[*] End generating images ===\n",
      "[*] Start generating images ===\n",
      "[*] End generating images ===\n",
      "[*] Start generating images ===\n",
      "[*] End generating images ===\n",
      "[*] End generating images ===\n",
      "[*] Start generating images ===\n",
      "[*] Start generating images ===\n",
      "[*] End generating images ===\n",
      "[*] End generating images ===\n",
      "[*] Start generating images ===\n",
      "[*] Start generating images ===\n",
      "[*] End generating images ===\n",
      "[*] Start generating images ===\n",
      "[*] End generating images ===\n",
      "[*] Start generating images ===\n",
      "[*] End generating images ===\n",
      "[*] Start generating images ===\n",
      "[*] End generating images ===\n",
      "[*] Start generating images ===\n",
      "[*] End generating images ===\n",
      "[*] End generating images ===\n",
      "[*] Start generating images ===\n",
      "[*] Start generating images ===\n",
      "[*] End generating images ===\n",
      "[*] End generating images ===\n",
      "[*] Start generating images ===\n",
      "[*] Start generating images ===\n",
      "[*] End generating images ===\n",
      "[*] Start generating images ===\n",
      "[*] End generating images ===\n",
      "[*] Start generating images ===\n",
      "[*] End generating images ===\n",
      "[*] Start generating images ===\n",
      "[*] End generating images ===\n",
      "[*] Start generating images ===\n",
      "[*] End generating images ===\n",
      "[*] Start generating images ===\n",
      "[*] End generating images ===[*] End generating images ===\n",
      "\n",
      "[*] Start generating images ===\n",
      "[*] Start generating images ===\n",
      "[*] End generating images ===\n",
      "[*] Start generating images ===\n",
      "[*] End generating images ===\n",
      "[*] End generating images ===\n",
      "[*] End generating images ===\n",
      "[*] End generating images ===\n",
      "[*] End generating images ===\n",
      "[*] End generating images ===\n"
     ]
    }
   ],
   "source": [
    "from multiprocessing import Pool\n",
    "from utilities import preprocess\n",
    "\n",
    "def mymkdir(mydir):\n",
    "    if not os.path.exists(mydir):  #判断是否存在文件夹如果不存在则创建为文件夹\n",
    "        os.makedirs(mydir)\n",
    "\n",
    "data_dir = \"../datasets/NA12878_PacBio_MtSinai/\"\n",
    "\n",
    "bam_path = data_dir + \"sorted_final_merged.bam\"\n",
    "\n",
    "a = ['chrM', 'chr1', 'chr2', 'chr3', 'chr4', 'chr5', 'chr6', 'chr7', 'chr8', 'chr9', 'chr10', 'chr11', 'chr12', 'chr13', 'chr14', 'chr15', 'chr16', 'chr17', 'chr18', 'chr19', 'chr20', 'chr21', 'chr22', 'chrX', 'chrY', 'chr1_gl000191_random', 'chr1_gl000192_random', 'chr4_ctg9_hap1', 'chr4_gl000193_random', 'chr4_gl000194_random', 'chr6_apd_hap1', 'chr6_cox_hap2', 'chr6_dbb_hap3', 'chr6_mann_hap4', 'chr6_mcf_hap5', 'chr6_qbl_hap6', 'chr6_ssto_hap7', 'chr7_gl000195_random', 'chr8_gl000196_random', 'chr8_gl000197_random', 'chr9_gl000198_random', 'chr9_gl000199_random', 'chr9_gl000200_random', 'chr9_gl000201_random', 'chr11_gl000202_random', 'chr17_ctg5_hap1', 'chr17_gl000203_random', 'chr17_gl000204_random', 'chr17_gl000205_random', 'chr17_gl000206_random', 'chr18_gl000207_random', 'chr19_gl000208_random', 'chr19_gl000209_random', 'chr21_gl000210_random', 'chrUn_gl000211', 'chrUn_gl000212', 'chrUn_gl000213', 'chrUn_gl000214', 'chrUn_gl000215', 'chrUn_gl000216', 'chrUn_gl000217', 'chrUn_gl000218', 'chrUn_gl000219', 'chrUn_gl000220', 'chrUn_gl000221', 'chrUn_gl000222', 'chrUn_gl000223', 'chrUn_gl000224', 'chrUn_gl000225', 'chrUn_gl000226', 'chrUn_gl000227', 'chrUn_gl000228', 'chrUn_gl000229', 'chrUn_gl000230', 'chrUn_gl000231', 'chrUn_gl000232', 'chrUn_gl000233', 'chrUn_gl000234', 'chrUn_gl000235', 'chrUn_gl000236', 'chrUn_gl000237', 'chrUn_gl000238', 'chrUn_gl000239', 'chrUn_gl000240', 'chrUn_gl000241', 'chrUn_gl000242', 'chrUn_gl000243', 'chrUn_gl000244', 'chrUn_gl000245', 'chrUn_gl000246', 'chrUn_gl000247', 'chrUn_gl000248', 'chrUn_gl000249']\n",
    "\n",
    "def p(chromosome):\n",
    "    mymkdir(data_dir + \"chromosome_sign/\")\n",
    "    chromosome_sign = preprocess(bam_path, chromosome, data_dir)\n",
    "    torch.save(data_dir + \"chromosome_sign/\" + chromosome + \".pt\", chromosome_sign)\n",
    "    \n",
    "pool = Pool()                # 创建进程池对象，进程数与multiprocessing.cpu_count()相同\n",
    "pool.map(p, a) "
   ]
  },
  {
   "cell_type": "code",
   "execution_count": 33,
   "id": "81fd89d0",
   "metadata": {},
   "outputs": [
    {
     "name": "stdout",
     "output_type": "stream",
     "text": [
      "当前目录路径: ../datasets/NA12878_PacBio_MtSinai/depth\n",
      "当前目录下所有子目录: []\n",
      "当前路径下所有非目录子文件: ['chrM', 'chr1', 'chr2', 'chr3', 'chr4', 'chr5', 'chr6', 'chr7', 'chr8', 'chr9', 'chr10', 'chr11', 'chr12', 'chr13', 'chr14', 'chr15', 'chr16', 'chr17', 'chr18', 'chr19', 'chr20', 'chr21', 'chr22', 'chrX', 'chrY', 'chr1_gl000191_random', 'chr1_gl000192_random', 'chr4_ctg9_hap1', 'chr4_gl000193_random', 'chr4_gl000194_random', 'chr6_apd_hap1', 'chr6_cox_hap2', 'chr6_dbb_hap3', 'chr6_mann_hap4', 'chr6_mcf_hap5', 'chr6_qbl_hap6', 'chr6_ssto_hap7', 'chr7_gl000195_random', 'chr8_gl000196_random', 'chr8_gl000197_random', 'chr9_gl000198_random', 'chr9_gl000199_random', 'chr9_gl000200_random', 'chr9_gl000201_random', 'chr11_gl000202_random', 'chr17_ctg5_hap1', 'chr17_gl000203_random', 'chr17_gl000204_random', 'chr17_gl000205_random', 'chr17_gl000206_random', 'chr18_gl000207_random', 'chr19_gl000208_random', 'chr19_gl000209_random', 'chr21_gl000210_random', 'chrUn_gl000211', 'chrUn_gl000212', 'chrUn_gl000213', 'chrUn_gl000214', 'chrUn_gl000215', 'chrUn_gl000216', 'chrUn_gl000217', 'chrUn_gl000218', 'chrUn_gl000219', 'chrUn_gl000220', 'chrUn_gl000221', 'chrUn_gl000222', 'chrUn_gl000223', 'chrUn_gl000224', 'chrUn_gl000225', 'chrUn_gl000226', 'chrUn_gl000227', 'chrUn_gl000228', 'chrUn_gl000229', 'chrUn_gl000230', 'chrUn_gl000231', 'chrUn_gl000232', 'chrUn_gl000233', 'chrUn_gl000234', 'chrUn_gl000235', 'chrUn_gl000236', 'chrUn_gl000237', 'chrUn_gl000238', 'chrUn_gl000239', 'chrUn_gl000240', 'chrUn_gl000241', 'chrUn_gl000242', 'chrUn_gl000243', 'chrUn_gl000244', 'chrUn_gl000245', 'chrUn_gl000246', 'chrUn_gl000247', 'chrUn_gl000248', 'chrUn_gl000249']\n"
     ]
    }
   ],
   "source": [
    "import os\n",
    "\n",
    "file_dir = \"../datasets/NA12878_PacBio_MtSinai/depth\"\n",
    "for root, dirs, files in os.walk(file_dir, topdown=False):\n",
    "    print(\"当前目录路径:\", root)\n",
    "    print(\"当前目录下所有子目录:\", dirs)\n",
    "    print(\"当前路径下所有非目录子文件:\", files)"
   ]
  },
  {
   "cell_type": "code",
   "execution_count": 17,
   "id": "c36deee7",
   "metadata": {},
   "outputs": [
    {
     "data": {
      "text/plain": [
       "[('hello', 'w'), ('world', 'h')]"
      ]
     },
     "execution_count": 17,
     "metadata": {},
     "output_type": "execute_result"
    }
   ],
   "source": [
    "arg"
   ]
  },
  {
   "cell_type": "code",
   "execution_count": null,
   "id": "09a1e58c",
   "metadata": {},
   "outputs": [],
   "source": [
    "chromosome = \"chr1\"\n",
    "\n",
    "bam_path = \"../datasets/NA12878_PacBio_MtSinai/sorted_final_merged.bam\"\n",
    "rd_depth = preprocess(bam_path, chromosome)\n",
    "\n",
    "rd_depth_mean = np.mean(rd_depth)\n",
    "\n",
    "filename = \"../datasets/NA12878_PacBio_MtSinai/insert_result_data.csv.vcf\"\n",
    "insert_result_data = pd.read_csv(filename, sep = \"\\t\", index_col=0)\n",
    "\n",
    "insert_chromosome = insert_result_data[insert_result_data[\"CHROM\"] == chromosome]\n",
    "\n",
    "positive_img = []\n",
    "negative_img = []\n",
    "\n",
    "for index, row in insert_chromosome.iterrows():\n",
    "    gap = int((row[\"END\"] - row[\"POS\"]) / 4)\n",
    "    if gap == 0:\n",
    "        gap = 1\n",
    "    # positive\n",
    "    begin = row[\"POS\"] - 1 - gap\n",
    "    end = row[\"END\"] - 1 + gap\n",
    "    if begin < 0:\n",
    "        begin = 0\n",
    "    if end >= len(rd_depth):\n",
    "        end = len(rd_depth) - 1\n",
    "    positive_img.append(rd_depth[begin:end])\n",
    "    #negative\n",
    "    random_begin = random.randint(1,len(rd_depth))\n",
    "    while random_begin == row[\"POS\"]:\n",
    "        random_begin = random.randint(1,len(rd_depth))\n",
    "    begin = random_begin - 1 - gap\n",
    "    end = begin + row[\"END\"] - row[\"POS\"] + 2 * gap\n",
    "    if begin < 0:\n",
    "        begin = 0\n",
    "    if end >= len(rd_depth):\n",
    "        end = len(rd_depth) - 1\n",
    "    negative_img.append(rd_depth[begin:end])"
   ]
  },
  {
   "cell_type": "code",
   "execution_count": 8,
   "id": "ac13e0a4",
   "metadata": {},
   "outputs": [
    {
     "ename": "NameError",
     "evalue": "name 'torchvision' is not defined",
     "output_type": "error",
     "traceback": [
      "\u001b[0;31m---------------------------------------------------------------------------\u001b[0m",
      "\u001b[0;31mNameError\u001b[0m                                 Traceback (most recent call last)",
      "\u001b[0;32m<ipython-input-8-a94d7c41e029>\u001b[0m in \u001b[0;36m<module>\u001b[0;34m\u001b[0m\n\u001b[1;32m      1\u001b[0m \u001b[0mlogger\u001b[0m \u001b[0;34m=\u001b[0m \u001b[0mTensorBoardLogger\u001b[0m\u001b[0;34m(\u001b[0m\u001b[0mos\u001b[0m\u001b[0;34m.\u001b[0m\u001b[0mpath\u001b[0m\u001b[0;34m.\u001b[0m\u001b[0mjoin\u001b[0m\u001b[0;34m(\u001b[0m\u001b[0;34m\"/home/xwm/DeepSVFilter/code\"\u001b[0m\u001b[0;34m,\u001b[0m \u001b[0;34m\"tblogs_predict_\"\u001b[0m\u001b[0;34m)\u001b[0m\u001b[0;34m,\u001b[0m \u001b[0mname\u001b[0m\u001b[0;34m=\u001b[0m\u001b[0;34m'my_model'\u001b[0m\u001b[0;34m)\u001b[0m\u001b[0;34m\u001b[0m\u001b[0;34m\u001b[0m\u001b[0m\n\u001b[1;32m      2\u001b[0m \u001b[0;34m\u001b[0m\u001b[0m\n\u001b[0;32m----> 3\u001b[0;31m \u001b[0mmodel\u001b[0m \u001b[0;34m=\u001b[0m \u001b[0mnet\u001b[0m\u001b[0;34m.\u001b[0m\u001b[0mIDENet\u001b[0m\u001b[0;34m(\u001b[0m\u001b[0mpositive_img\u001b[0m\u001b[0;34m,\u001b[0m \u001b[0mnegative_img\u001b[0m\u001b[0;34m)\u001b[0m\u001b[0;34m\u001b[0m\u001b[0;34m\u001b[0m\u001b[0m\n\u001b[0m\u001b[1;32m      4\u001b[0m \u001b[0;34m\u001b[0m\u001b[0m\n\u001b[1;32m      5\u001b[0m trainer = pl.Trainer(\n",
      "\u001b[0;32m~/DeepSVFilter/code/net.py\u001b[0m in \u001b[0;36m__init__\u001b[0;34m(self, positive_img, negative_img)\u001b[0m\n\u001b[1;32m     24\u001b[0m         \u001b[0mself\u001b[0m\u001b[0;34m.\u001b[0m\u001b[0mpositive_img\u001b[0m \u001b[0;34m=\u001b[0m \u001b[0mpositive_img\u001b[0m\u001b[0;34m\u001b[0m\u001b[0;34m\u001b[0m\u001b[0m\n\u001b[1;32m     25\u001b[0m         \u001b[0mself\u001b[0m\u001b[0;34m.\u001b[0m\u001b[0mnegative_img\u001b[0m \u001b[0;34m=\u001b[0m \u001b[0mnegative_img\u001b[0m\u001b[0;34m\u001b[0m\u001b[0;34m\u001b[0m\u001b[0m\n\u001b[0;32m---> 26\u001b[0;31m \u001b[0;34m\u001b[0m\u001b[0m\n\u001b[0m\u001b[1;32m     27\u001b[0m \u001b[0;34m\u001b[0m\u001b[0m\n\u001b[1;32m     28\u001b[0m         \u001b[0mself\u001b[0m\u001b[0;34m.\u001b[0m\u001b[0mresnet_model\u001b[0m \u001b[0;34m=\u001b[0m \u001b[0mtorchvision\u001b[0m\u001b[0;34m.\u001b[0m\u001b[0mmodels\u001b[0m\u001b[0;34m.\u001b[0m\u001b[0mresnet50\u001b[0m\u001b[0;34m(\u001b[0m\u001b[0mpretrained\u001b[0m\u001b[0;34m=\u001b[0m\u001b[0;32mTrue\u001b[0m\u001b[0;34m)\u001b[0m \u001b[0;31m# [224, 224] -> 1000\u001b[0m\u001b[0;34m\u001b[0m\u001b[0;34m\u001b[0m\u001b[0m\n",
      "\u001b[0;32m~/DeepSVFilter/code/utilities.py\u001b[0m in \u001b[0;36m__init__\u001b[0;34m(self, positive_img, negative_img)\u001b[0m\n\u001b[1;32m     46\u001b[0m \u001b[0;34m\u001b[0m\u001b[0m\n\u001b[1;32m     47\u001b[0m \u001b[0;32mclass\u001b[0m \u001b[0mIdentifyDataset\u001b[0m\u001b[0;34m(\u001b[0m\u001b[0mtorch\u001b[0m\u001b[0;34m.\u001b[0m\u001b[0mutils\u001b[0m\u001b[0;34m.\u001b[0m\u001b[0mdata\u001b[0m\u001b[0;34m.\u001b[0m\u001b[0mDataset\u001b[0m\u001b[0;34m)\u001b[0m\u001b[0;34m:\u001b[0m\u001b[0;34m\u001b[0m\u001b[0;34m\u001b[0m\u001b[0m\n\u001b[0;32m---> 48\u001b[0;31m     \u001b[0;32mdef\u001b[0m \u001b[0m__init__\u001b[0m\u001b[0;34m(\u001b[0m\u001b[0mself\u001b[0m\u001b[0;34m,\u001b[0m \u001b[0mpositive_img\u001b[0m\u001b[0;34m,\u001b[0m \u001b[0mnegative_img\u001b[0m\u001b[0;34m)\u001b[0m\u001b[0;34m:\u001b[0m\u001b[0;34m\u001b[0m\u001b[0;34m\u001b[0m\u001b[0m\n\u001b[0m\u001b[1;32m     49\u001b[0m         \u001b[0mself\u001b[0m\u001b[0;34m.\u001b[0m\u001b[0m_positive_img\u001b[0m \u001b[0;34m=\u001b[0m \u001b[0mto_input_image\u001b[0m\u001b[0;34m(\u001b[0m\u001b[0mpositive_img\u001b[0m\u001b[0;34m)\u001b[0m\u001b[0;34m\u001b[0m\u001b[0;34m\u001b[0m\u001b[0m\n\u001b[1;32m     50\u001b[0m         \u001b[0mself\u001b[0m\u001b[0;34m.\u001b[0m\u001b[0m_negative_img\u001b[0m \u001b[0;34m=\u001b[0m \u001b[0mto_input_image\u001b[0m\u001b[0;34m(\u001b[0m\u001b[0mnegative_img\u001b[0m\u001b[0;34m)\u001b[0m\u001b[0;34m\u001b[0m\u001b[0;34m\u001b[0m\u001b[0m\n",
      "\u001b[0;32m~/DeepSVFilter/code/utilities.py\u001b[0m in \u001b[0;36mto_input_image\u001b[0;34m(imgs, hight)\u001b[0m\n\u001b[1;32m     24\u001b[0m     \u001b[0;32mreturn\u001b[0m \u001b[0mtrans2img\u001b[0m\u001b[0;34m(\u001b[0m\u001b[0mbam_path\u001b[0m\u001b[0;34m,\u001b[0m \u001b[0mchromosome\u001b[0m\u001b[0;34m)\u001b[0m\u001b[0;34m\u001b[0m\u001b[0;34m\u001b[0m\u001b[0m\n\u001b[1;32m     25\u001b[0m \u001b[0;34m\u001b[0m\u001b[0m\n\u001b[0;32m---> 26\u001b[0;31m \u001b[0;32mdef\u001b[0m \u001b[0mto_input_image\u001b[0m\u001b[0;34m(\u001b[0m\u001b[0mimgs\u001b[0m\u001b[0;34m,\u001b[0m \u001b[0mhight\u001b[0m \u001b[0;34m=\u001b[0m \u001b[0;36m224\u001b[0m\u001b[0;34m)\u001b[0m\u001b[0;34m:\u001b[0m\u001b[0;34m\u001b[0m\u001b[0;34m\u001b[0m\u001b[0m\n\u001b[0m\u001b[1;32m     27\u001b[0m     \u001b[0mresize\u001b[0m \u001b[0;34m=\u001b[0m \u001b[0mtorchvision\u001b[0m\u001b[0;34m.\u001b[0m\u001b[0mtransforms\u001b[0m\u001b[0;34m.\u001b[0m\u001b[0mResize\u001b[0m\u001b[0;34m(\u001b[0m\u001b[0;34m[\u001b[0m\u001b[0mhight\u001b[0m\u001b[0;34m,\u001b[0m \u001b[0mhight\u001b[0m\u001b[0;34m]\u001b[0m\u001b[0;34m)\u001b[0m\u001b[0;34m\u001b[0m\u001b[0;34m\u001b[0m\u001b[0m\n\u001b[1;32m     28\u001b[0m     \u001b[0mims\u001b[0m \u001b[0;34m=\u001b[0m \u001b[0mtorch\u001b[0m\u001b[0;34m.\u001b[0m\u001b[0mempty\u001b[0m\u001b[0;34m(\u001b[0m\u001b[0;36m0\u001b[0m\u001b[0;34m,\u001b[0m \u001b[0;36m3\u001b[0m\u001b[0;34m,\u001b[0m \u001b[0mhight\u001b[0m\u001b[0;34m,\u001b[0m \u001b[0mhight\u001b[0m\u001b[0;34m)\u001b[0m\u001b[0;34m\u001b[0m\u001b[0;34m\u001b[0m\u001b[0m\n",
      "\u001b[0;31mNameError\u001b[0m: name 'torchvision' is not defined"
     ]
    }
   ],
   "source": [
    "logger = TensorBoardLogger(os.path.join(\"/home/xwm/DeepSVFilter/code\", \"tblogs_predict_\"), name='my_model')\n",
    "\n",
    "model = net.IDENet(positive_img, negative_img)\n",
    "\n",
    "trainer = pl.Trainer(\n",
    "    max_epochs=200,\n",
    "    gpus=1,\n",
    "    # replace_sampler_ddp=False,\n",
    "    progress_bar_refresh_rate=0,\n",
    "    logger=logger,\n",
    "    # val_percent_check=0,\n",
    "    # callbacks=[checkpoint_callback],\n",
    "    # resume_from_checkpoint=resume\n",
    ")\n",
    "\n",
    "trainer.fit(model)\n"
   ]
  },
  {
   "cell_type": "code",
   "execution_count": 2,
   "id": "8c7b2e63",
   "metadata": {},
   "outputs": [
    {
     "data": {
      "text/plain": [
       "array([1.00000000e-05, 5.55644444e-02, 1.11118889e-01, 1.66673333e-01,\n",
       "       2.22227778e-01, 2.77782222e-01, 3.33336667e-01, 3.88891111e-01,\n",
       "       4.44445556e-01, 5.00000000e-01])"
      ]
     },
     "execution_count": 2,
     "metadata": {},
     "output_type": "execute_result"
    }
   ],
   "source": [
    "import numpy as np\n",
    "np.linspace(1e-5, 0.5, 10)"
   ]
  },
  {
   "cell_type": "code",
   "execution_count": 22,
   "id": "740ff41c",
   "metadata": {},
   "outputs": [],
   "source": [
    "import torch\n",
    "a = torch.tensor(0)"
   ]
  },
  {
   "cell_type": "code",
   "execution_count": 23,
   "id": "c95a18c9",
   "metadata": {},
   "outputs": [
    {
     "name": "stdout",
     "output_type": "stream",
     "text": [
      "tensor(0)\n"
     ]
    }
   ],
   "source": [
    "if a == 0:\n",
    "    print(a)"
   ]
  },
  {
   "cell_type": "code",
   "execution_count": 24,
   "id": "c9d1450d",
   "metadata": {},
   "outputs": [
    {
     "name": "stdout",
     "output_type": "stream",
     "text": [
      "3\n"
     ]
    }
   ],
   "source": [
    "t0 = torch.randint(low=0, high=100, size=(3, 4))  # 右开区间，取不到high的那个点\n",
    "print(len(t0))"
   ]
  },
  {
   "cell_type": "code",
   "execution_count": 32,
   "id": "0e1823dd",
   "metadata": {},
   "outputs": [
    {
     "name": "stdout",
     "output_type": "stream",
     "text": [
      "tensor([ 0, 27, 75])\n",
      "tensor([10,  8, 61])\n",
      "tensor([82, 79,  8])\n"
     ]
    }
   ],
   "source": [
    "for i in t0:\n",
    "    print(i)"
   ]
  },
  {
   "cell_type": "code",
   "execution_count": 35,
   "id": "d6d2b983",
   "metadata": {},
   "outputs": [
    {
     "data": {
      "text/plain": [
       "16"
      ]
     },
     "execution_count": 35,
     "metadata": {},
     "output_type": "execute_result"
    }
   ],
   "source": [
    "from multiprocessing import Pool, cpu_count\n",
    "\n",
    "cpu_count()"
   ]
  },
  {
   "cell_type": "code",
   "execution_count": 17,
   "id": "a3886ddd",
   "metadata": {
    "scrolled": true
   },
   "outputs": [],
   "source": [
    "import torch.nn as nn\n",
    "\n",
    "layers=nn.ModuleList(\n",
    "            nn.Sequential(\n",
    "                    nn.Linear(1000, 100),\n",
    "                    nn.ReLU()\n",
    "            ) for k in [1, 2, 3]\n",
    "            )"
   ]
  },
  {
   "cell_type": "code",
   "execution_count": 19,
   "id": "891d7c6b",
   "metadata": {},
   "outputs": [
    {
     "data": {
      "text/plain": [
       "ModuleList(\n",
       "  (0): Sequential(\n",
       "    (0): Linear(in_features=1000, out_features=100, bias=True)\n",
       "    (1): ReLU()\n",
       "  )\n",
       "  (1): Sequential(\n",
       "    (0): Linear(in_features=1000, out_features=100, bias=True)\n",
       "    (1): ReLU()\n",
       "  )\n",
       "  (2): Sequential(\n",
       "    (0): Linear(in_features=1000, out_features=100, bias=True)\n",
       "    (1): ReLU()\n",
       "  )\n",
       ")"
      ]
     },
     "execution_count": 19,
     "metadata": {},
     "output_type": "execute_result"
    }
   ],
   "source": [
    "layers"
   ]
  },
  {
   "cell_type": "code",
   "execution_count": 33,
   "id": "4a9458b4",
   "metadata": {},
   "outputs": [],
   "source": [
    "encoder_layer = nn.TransformerEncoderLayer(d_model=224, nhead=8)\n",
    "transformer_encoder = nn.TransformerEncoder(encoder_layer, num_layers=6)\n",
    "src = torch.rand(10, 32, 224)\n",
    "out = transformer_encoder(src)"
   ]
  },
  {
   "cell_type": "code",
   "execution_count": 34,
   "id": "a493d3fd",
   "metadata": {},
   "outputs": [
    {
     "data": {
      "text/plain": [
       "torch.Size([10, 32, 224])"
      ]
     },
     "execution_count": 34,
     "metadata": {},
     "output_type": "execute_result"
    }
   ],
   "source": [
    "out.size()"
   ]
  },
  {
   "cell_type": "code",
   "execution_count": 38,
   "id": "e142ff6d",
   "metadata": {},
   "outputs": [],
   "source": [
    "import pysam\n",
    "\n",
    "sam_file_path = \"../datasets/NA12878_PacBio_MtSinai/\" + \"sorted_final_merged.bam\"\n",
    "\n",
    "sam_file = pysam.AlignmentFile(sam_file_path, \"rb\")\n"
   ]
  },
  {
   "cell_type": "code",
   "execution_count": null,
   "id": "4af81b3a",
   "metadata": {},
   "outputs": [],
   "source": [
    "for read in sam_file.fetch(\"chr1\"):\n",
    "    print(read)"
   ]
  },
  {
   "cell_type": "code",
   "execution_count": 45,
   "id": "8c3465a6",
   "metadata": {},
   "outputs": [],
   "source": [
    "a = 1\n",
    "b = 1\n",
    "\n",
    "if a and not b:\n",
    "    print(\"aaa\")"
   ]
  },
  {
   "cell_type": "code",
   "execution_count": 48,
   "id": "c0c2f8c0",
   "metadata": {},
   "outputs": [],
   "source": [
    "read_lr = (10, 20)"
   ]
  },
  {
   "cell_type": "code",
   "execution_count": 49,
   "id": "4e90882b",
   "metadata": {},
   "outputs": [],
   "source": [
    "split_read_left = torch.zeros(100)"
   ]
  },
  {
   "cell_type": "code",
   "execution_count": 55,
   "id": "54d3096e",
   "metadata": {},
   "outputs": [],
   "source": [
    "split_read_left[read_lr[0]:read_lr[1]] += 1"
   ]
  },
  {
   "cell_type": "code",
   "execution_count": 56,
   "id": "8db2c0ff",
   "metadata": {},
   "outputs": [
    {
     "data": {
      "text/plain": [
       "tensor([0., 0., 0., 0., 0., 0., 0., 0., 0., 0., 2., 2., 2., 2., 2., 2., 2., 2.,\n",
       "        2., 2., 0., 0., 0., 0., 0., 0., 0., 0., 0., 0., 0., 0., 0., 0., 0., 0.,\n",
       "        0., 0., 0., 0., 0., 0., 0., 0., 0., 0., 0., 0., 0., 0., 0., 0., 0., 0.,\n",
       "        0., 0., 0., 0., 0., 0., 0., 0., 0., 0., 0., 0., 0., 0., 0., 0., 0., 0.,\n",
       "        0., 0., 0., 0., 0., 0., 0., 0., 0., 0., 0., 0., 0., 0., 0., 0., 0., 0.,\n",
       "        0., 0., 0., 0., 0., 0., 0., 0., 0., 0.])"
      ]
     },
     "execution_count": 56,
     "metadata": {},
     "output_type": "execute_result"
    }
   ],
   "source": [
    "split_read_left"
   ]
  },
  {
   "cell_type": "code",
   "execution_count": 65,
   "id": "5bf8e710",
   "metadata": {},
   "outputs": [],
   "source": [
    "a = torch.zeros(100, 2)\n",
    "b = torch.zeros(100, 2)"
   ]
  },
  {
   "cell_type": "code",
   "execution_count": 66,
   "id": "f434bf6a",
   "metadata": {},
   "outputs": [
    {
     "data": {
      "text/plain": [
       "<zip at 0x7f5e01ddc288>"
      ]
     },
     "execution_count": 66,
     "metadata": {},
     "output_type": "execute_result"
    }
   ],
   "source": [
    "zip(a, b)"
   ]
  },
  {
   "cell_type": "code",
   "execution_count": 67,
   "id": "5405bfae",
   "metadata": {},
   "outputs": [],
   "source": [
    "C=torch.cat((a,b),0) "
   ]
  },
  {
   "cell_type": "code",
   "execution_count": 68,
   "id": "1c2dca4b",
   "metadata": {},
   "outputs": [
    {
     "data": {
      "text/plain": [
       "torch.Size([200, 2])"
      ]
     },
     "execution_count": 68,
     "metadata": {},
     "output_type": "execute_result"
    }
   ],
   "source": [
    "C.size()"
   ]
  },
  {
   "cell_type": "code",
   "execution_count": 70,
   "id": "76924f23",
   "metadata": {},
   "outputs": [
    {
     "data": {
      "text/plain": [
       "torch.Size([2])"
      ]
     },
     "execution_count": 70,
     "metadata": {},
     "output_type": "execute_result"
    }
   ],
   "source": [
    "C[1].size()"
   ]
  },
  {
   "cell_type": "code",
   "execution_count": 1,
   "id": "179b7abe",
   "metadata": {},
   "outputs": [
    {
     "name": "stderr",
     "output_type": "stream",
     "text": [
      "Global seed set to 2022\n"
     ]
    }
   ],
   "source": [
    "from utilities import preprocess, mymkdir, to_input_image\n",
    "from pudb import set_trace\n",
    "import pandas as pd\n",
    "import random\n",
    "import numpy as np\n",
    "import torchvision\n",
    "import math\n",
    "import torch\n",
    "import matplotlib.pyplot as plt\n",
    "from pytorch_lightning.loggers import TensorBoardLogger\n",
    "import os\n",
    "from net import IDENet\n",
    "import pytorch_lightning as pl\n",
    "from pytorch_lightning import seed_everything\n",
    "from pytorch_lightning.callbacks import ModelCheckpoint\n",
    "from multiprocessing import Pool, cpu_count\n",
    "\n",
    "\n",
    "os.environ[\"CUDA_VISIBLE_DEVICES\"] = \"1\"\n",
    "\n",
    "seed_everything(2022)\n",
    "\n",
    "chromosome = \"chr1\"\n",
    "\n",
    "data_dir = \"../datasets/NA12878_PacBio_MtSinai/\"\n",
    "\n",
    "bam_path = data_dir + \"sorted_final_merged.bam\"\n",
    "\n",
    "enforcement_refresh = 0\n",
    "\n",
    "# get chr list\n",
    "filename = data_dir + \"NA12878.sorted.vcf_chr\"\n",
    "file = open(filename,'r')\n",
    "chr_list = [x.strip() for x in file]\n",
    "file.close()\n",
    "hight = 224\n",
    "all_positive_img = torch.empty(0, 3, hight, hight)\n",
    "all_negative_img = torch.empty(0, 3, hight, hight)"
   ]
  },
  {
   "cell_type": "code",
   "execution_count": 2,
   "id": "5d22321b",
   "metadata": {},
   "outputs": [
    {
     "name": "stdout",
     "output_type": "stream",
     "text": [
      "loadingchr7\n",
      "load end\n",
      "loadingchr9_gl000198_random\n",
      "load end\n",
      "loadingchrUn_gl000239\n",
      "load end\n",
      "loadingchr17\n",
      "load end\n",
      "loadingchr6_mcf_hap5\n",
      "load end\n",
      "loadingchrUn_gl000241\n",
      "load end\n",
      "loadingchrUn_gl000217\n",
      "load end\n",
      "loadingchr9\n",
      "load end\n",
      "loadingchr7_gl000195_random\n",
      "load end\n",
      "loadingchr11\n",
      "load end\n",
      "loadingchr21\n",
      "load end\n",
      "loadingchrY\n",
      "load end\n",
      "loadingchr16\n",
      "load end\n",
      "loadingchr14\n",
      "load end\n",
      "loadingchrM\n",
      "load end\n",
      "loadingchr6_apd_hap1\n",
      "load end\n",
      "loadingchr21_gl000210_random\n",
      "load end\n",
      "loadingchrUn_gl000228\n",
      "load end\n",
      "loadingchrUn_gl000220\n",
      "load end\n",
      "loadingchr6_mann_hap4\n",
      "load end\n",
      "loadingchr15\n",
      "load end\n",
      "loadingchrUn_gl000232\n",
      "load end\n",
      "loadingchrUn_gl000248\n",
      "load end\n",
      "loadingchr4_gl000194_random\n",
      "load end\n",
      "loadingchrUn_gl000238\n",
      "load end\n",
      "loadingchr10\n",
      "load end\n",
      "loadingchr9_gl000199_random\n",
      "load end\n",
      "loadingchrUn_gl000214\n",
      "load end\n",
      "loadingchrUn_gl000242\n",
      "load end\n",
      "loadingchr6_ssto_hap7\n",
      "load end\n",
      "loadingchrUn_gl000223\n",
      "load end\n",
      "loadingchrUn_gl000244\n",
      "load end\n",
      "loadingchrUn_gl000233\n",
      "load end\n",
      "loadingchr17_gl000204_random\n",
      "load end\n",
      "loadingchrUn_gl000236\n",
      "load end\n",
      "loadingchr22\n",
      "load end\n",
      "loadingchrUn_gl000211\n",
      "load end\n",
      "loadingchrUn_gl000224\n",
      "load end\n",
      "loadingchr9_gl000201_random\n",
      "load end\n",
      "loadingchr6_dbb_hap3\n",
      "load end\n",
      "loadingchrUn_gl000231\n",
      "load end\n",
      "loadingchr6_cox_hap2\n",
      "load end\n",
      "loadingchrUn_gl000229\n",
      "load end\n",
      "loadingchrUn_gl000218\n",
      "load end\n",
      "loadingchr11_gl000202_random\n",
      "load end\n",
      "loadingchr13\n",
      "load end\n",
      "loadingchr18_gl000207_random\n",
      "load end\n",
      "loadingchr9_gl000200_random\n",
      "load end\n",
      "loadingchr8_gl000197_random\n",
      "load end\n",
      "loadingchr4_ctg9_hap1\n",
      "load end\n",
      "loadingchrUn_gl000235\n",
      "load end\n",
      "loadingchr17_ctg5_hap1\n",
      "load end\n",
      "loadingchr1\n",
      "load end\n",
      "loadingchr1_gl000192_random\n",
      "load end\n",
      "loadingchrUn_gl000225\n",
      "load end\n",
      "loadingchr4\n",
      "load end\n",
      "loadingchr1_gl000191_random\n",
      "load end\n",
      "loadingchrUn_gl000237\n",
      "load end\n",
      "loadingchr17_gl000203_random\n",
      "load end\n",
      "loadingchrUn_gl000213\n",
      "load end\n",
      "loadingchr5\n",
      "load end\n",
      "loadingchrUn_gl000245\n",
      "load end\n",
      "loadingchrUn_gl000212\n",
      "load end\n",
      "loadingchrUn_gl000243\n",
      "load end\n",
      "loadingchr19_gl000209_random\n",
      "load end\n",
      "loadingchr2\n",
      "load end\n",
      "loadingchr19\n",
      "load end\n",
      "loadingchrUn_gl000222\n",
      "load end\n",
      "loadingchr19_gl000208_random\n",
      "load end\n",
      "loadingchr4_gl000193_random\n",
      "load end\n",
      "loadingchrUn_gl000226\n",
      "load end\n",
      "loadingchrUn_gl000246\n",
      "load end\n",
      "loadingchrUn_gl000221\n",
      "load end\n",
      "loadingchr18\n",
      "load end\n",
      "loadingchrUn_gl000247\n",
      "load end\n",
      "loadingchrUn_gl000240\n",
      "load end\n",
      "loadingchr6\n",
      "load end\n",
      "loadingchr12\n",
      "load end\n",
      "loadingchrUn_gl000234\n",
      "load end\n",
      "loadingchrX\n",
      "load end\n",
      "loadingchrUn_gl000215\n",
      "load end\n",
      "loadingchr6_qbl_hap6\n",
      "load end\n",
      "loadingchr20\n",
      "load end\n",
      "loadingchrUn_gl000216\n",
      "load end\n",
      "loadingchr17_gl000206_random\n",
      "load end\n",
      "loadingchr8\n",
      "load end\n",
      "loadingchr3\n",
      "load end\n",
      "loadingchr8_gl000196_random\n",
      "load end\n",
      "loadingchr17_gl000205_random\n",
      "load end\n",
      "loadingchrUn_gl000219\n",
      "load end\n",
      "loadingchrUn_gl000230\n",
      "load end\n",
      "loadingchrUn_gl000249\n",
      "load end\n",
      "loadingchrUn_gl000227\n",
      "load end\n"
     ]
    }
   ],
   "source": [
    "pool = Pool(2)\n",
    "for chromosome in chr_list:\n",
    "    if os.path.exists(data_dir + 'image/' + chromosome + '/positive_img' + '.pt') and not enforcement_refresh:\n",
    "        print(\"loading \" + chromosome)\n",
    "        _positive_img, _negative_img = pool.map(torch.load, [data_dir + 'image/' + chromosome + '/positive_img' + '.pt', data_dir + 'image/' + chromosome + '/negative_img' + '.pt'])\n",
    "        print(\"load end\")\n",
    "    all_positive_img = torch.cat((all_positive_img, _positive_img), 0)\n",
    "    all_negative_img = torch.cat((all_negative_img, _negative_img), 0)"
   ]
  },
  {
   "cell_type": "code",
   "execution_count": 3,
   "id": "16440150",
   "metadata": {},
   "outputs": [],
   "source": [
    "positive_img = all_positive_img\n",
    "negative_img = all_negative_img"
   ]
  },
  {
   "cell_type": "code",
   "execution_count": 4,
   "id": "ed7aa2e9",
   "metadata": {},
   "outputs": [],
   "source": [
    "train_proportion = 0.8\n",
    "x = torch.cat((positive_img, negative_img), 0)\n",
    "dataset_size = len(positive_img)\n",
    "y = torch.zeros(dataset_size * 2)\n",
    "y[: dataset_size] = 1\n",
    "indices = list(range(len(y)))\n",
    "split = int(np.floor(train_proportion * len(y)))\n",
    "random.seed(10)\n",
    "random.shuffle(indices)\n",
    "train_indices, test_indices = indices[:split], indices[split:]\n",
    "trainx, trainy= x[train_indices], y[train_indices]\n",
    "testx, testy= x[test_indices], y[test_indices]"
   ]
  },
  {
   "cell_type": "code",
   "execution_count": 7,
   "id": "8d5d53a2",
   "metadata": {},
   "outputs": [],
   "source": [
    "from sklearn import svm\n",
    "clf = svm.SVC(kernel='rbf',gamma=0.001,C=100)"
   ]
  },
  {
   "cell_type": "code",
   "execution_count": 11,
   "id": "6b6af00f",
   "metadata": {},
   "outputs": [
    {
     "data": {
      "text/plain": [
       "torch.Size([44398, 3, 224, 224])"
      ]
     },
     "execution_count": 11,
     "metadata": {},
     "output_type": "execute_result"
    }
   ],
   "source": [
    "x.size()"
   ]
  },
  {
   "cell_type": "code",
   "execution_count": 8,
   "id": "ed3e1b3e",
   "metadata": {},
   "outputs": [
    {
     "ename": "ValueError",
     "evalue": "Found array with dim 4. Estimator expected <= 2.",
     "output_type": "error",
     "traceback": [
      "\u001b[0;31m---------------------------------------------------------------------------\u001b[0m",
      "\u001b[0;31mValueError\u001b[0m                                Traceback (most recent call last)",
      "\u001b[0;32m<ipython-input-8-3cadfd2833a9>\u001b[0m in \u001b[0;36m<module>\u001b[0;34m\u001b[0m\n\u001b[0;32m----> 1\u001b[0;31m \u001b[0mclf\u001b[0m\u001b[0;34m.\u001b[0m\u001b[0mfit\u001b[0m\u001b[0;34m(\u001b[0m\u001b[0mtrainx\u001b[0m\u001b[0;34m,\u001b[0m \u001b[0mtrainy\u001b[0m\u001b[0;34m)\u001b[0m\u001b[0;34m\u001b[0m\u001b[0;34m\u001b[0m\u001b[0m\n\u001b[0m",
      "\u001b[0;32m~/anaconda3/envs/SV/lib/python3.6/site-packages/sklearn/svm/base.py\u001b[0m in \u001b[0;36mfit\u001b[0;34m(self, X, y, sample_weight)\u001b[0m\n\u001b[1;32m    147\u001b[0m         \u001b[0mself\u001b[0m\u001b[0;34m.\u001b[0m\u001b[0m_sparse\u001b[0m \u001b[0;34m=\u001b[0m \u001b[0msparse\u001b[0m \u001b[0;32mand\u001b[0m \u001b[0;32mnot\u001b[0m \u001b[0mcallable\u001b[0m\u001b[0;34m(\u001b[0m\u001b[0mself\u001b[0m\u001b[0;34m.\u001b[0m\u001b[0mkernel\u001b[0m\u001b[0;34m)\u001b[0m\u001b[0;34m\u001b[0m\u001b[0;34m\u001b[0m\u001b[0m\n\u001b[1;32m    148\u001b[0m \u001b[0;34m\u001b[0m\u001b[0m\n\u001b[0;32m--> 149\u001b[0;31m         \u001b[0mX\u001b[0m\u001b[0;34m,\u001b[0m \u001b[0my\u001b[0m \u001b[0;34m=\u001b[0m \u001b[0mcheck_X_y\u001b[0m\u001b[0;34m(\u001b[0m\u001b[0mX\u001b[0m\u001b[0;34m,\u001b[0m \u001b[0my\u001b[0m\u001b[0;34m,\u001b[0m \u001b[0mdtype\u001b[0m\u001b[0;34m=\u001b[0m\u001b[0mnp\u001b[0m\u001b[0;34m.\u001b[0m\u001b[0mfloat64\u001b[0m\u001b[0;34m,\u001b[0m \u001b[0morder\u001b[0m\u001b[0;34m=\u001b[0m\u001b[0;34m'C'\u001b[0m\u001b[0;34m,\u001b[0m \u001b[0maccept_sparse\u001b[0m\u001b[0;34m=\u001b[0m\u001b[0;34m'csr'\u001b[0m\u001b[0;34m)\u001b[0m\u001b[0;34m\u001b[0m\u001b[0;34m\u001b[0m\u001b[0m\n\u001b[0m\u001b[1;32m    150\u001b[0m         \u001b[0my\u001b[0m \u001b[0;34m=\u001b[0m \u001b[0mself\u001b[0m\u001b[0;34m.\u001b[0m\u001b[0m_validate_targets\u001b[0m\u001b[0;34m(\u001b[0m\u001b[0my\u001b[0m\u001b[0;34m)\u001b[0m\u001b[0;34m\u001b[0m\u001b[0;34m\u001b[0m\u001b[0m\n\u001b[1;32m    151\u001b[0m \u001b[0;34m\u001b[0m\u001b[0m\n",
      "\u001b[0;32m~/anaconda3/envs/SV/lib/python3.6/site-packages/sklearn/utils/validation.py\u001b[0m in \u001b[0;36mcheck_X_y\u001b[0;34m(X, y, accept_sparse, dtype, order, copy, force_all_finite, ensure_2d, allow_nd, multi_output, ensure_min_samples, ensure_min_features, y_numeric, warn_on_dtype, estimator)\u001b[0m\n\u001b[1;32m    571\u001b[0m     X = check_array(X, accept_sparse, dtype, order, copy, force_all_finite,\n\u001b[1;32m    572\u001b[0m                     \u001b[0mensure_2d\u001b[0m\u001b[0;34m,\u001b[0m \u001b[0mallow_nd\u001b[0m\u001b[0;34m,\u001b[0m \u001b[0mensure_min_samples\u001b[0m\u001b[0;34m,\u001b[0m\u001b[0;34m\u001b[0m\u001b[0;34m\u001b[0m\u001b[0m\n\u001b[0;32m--> 573\u001b[0;31m                     ensure_min_features, warn_on_dtype, estimator)\n\u001b[0m\u001b[1;32m    574\u001b[0m     \u001b[0;32mif\u001b[0m \u001b[0mmulti_output\u001b[0m\u001b[0;34m:\u001b[0m\u001b[0;34m\u001b[0m\u001b[0;34m\u001b[0m\u001b[0m\n\u001b[1;32m    575\u001b[0m         y = check_array(y, 'csr', force_all_finite=True, ensure_2d=False,\n",
      "\u001b[0;32m~/anaconda3/envs/SV/lib/python3.6/site-packages/sklearn/utils/validation.py\u001b[0m in \u001b[0;36mcheck_array\u001b[0;34m(array, accept_sparse, dtype, order, copy, force_all_finite, ensure_2d, allow_nd, ensure_min_samples, ensure_min_features, warn_on_dtype, estimator)\u001b[0m\n\u001b[1;32m    449\u001b[0m         \u001b[0;32mif\u001b[0m \u001b[0;32mnot\u001b[0m \u001b[0mallow_nd\u001b[0m \u001b[0;32mand\u001b[0m \u001b[0marray\u001b[0m\u001b[0;34m.\u001b[0m\u001b[0mndim\u001b[0m \u001b[0;34m>=\u001b[0m \u001b[0;36m3\u001b[0m\u001b[0;34m:\u001b[0m\u001b[0;34m\u001b[0m\u001b[0;34m\u001b[0m\u001b[0m\n\u001b[1;32m    450\u001b[0m             raise ValueError(\"Found array with dim %d. %s expected <= 2.\"\n\u001b[0;32m--> 451\u001b[0;31m                              % (array.ndim, estimator_name))\n\u001b[0m\u001b[1;32m    452\u001b[0m         \u001b[0;32mif\u001b[0m \u001b[0mforce_all_finite\u001b[0m\u001b[0;34m:\u001b[0m\u001b[0;34m\u001b[0m\u001b[0;34m\u001b[0m\u001b[0m\n\u001b[1;32m    453\u001b[0m             \u001b[0m_assert_all_finite\u001b[0m\u001b[0;34m(\u001b[0m\u001b[0marray\u001b[0m\u001b[0;34m)\u001b[0m\u001b[0;34m\u001b[0m\u001b[0;34m\u001b[0m\u001b[0m\n",
      "\u001b[0;31mValueError\u001b[0m: Found array with dim 4. Estimator expected <= 2."
     ]
    }
   ],
   "source": [
    "clf.fit(trainx., trainy)"
   ]
  },
  {
   "cell_type": "code",
   "execution_count": null,
   "id": "97fabd32",
   "metadata": {},
   "outputs": [],
   "source": [
    "predictions = clf.predict(testx)"
   ]
  },
  {
   "cell_type": "code",
   "execution_count": 20,
   "id": "7900aa03",
   "metadata": {},
   "outputs": [],
   "source": [
    "import pysam\n",
    "\n",
    "data_dir = \"../datasets/NA12878_PacBio_MtSinai/\"\n",
    "\n",
    "sam_file_path = data_dir + \"sorted_final_merged.bam\"\n",
    "\n",
    "sam_file = pysam.AlignmentFile(sam_file_path, \"rb\")"
   ]
  },
  {
   "cell_type": "code",
   "execution_count": null,
   "id": "3709efdf",
   "metadata": {},
   "outputs": [],
   "source": [
    "for read in sam_file.fetch(\"chr1\", 0, 10000):\n",
    "    print(read)"
   ]
  },
  {
   "cell_type": "code",
   "execution_count": 8,
   "id": "402494af",
   "metadata": {},
   "outputs": [],
   "source": [
    "import torch\n",
    "y = []\n",
    "a = torch.tensor([1, 2, 0, 0 , 0])"
   ]
  },
  {
   "cell_type": "code",
   "execution_count": 10,
   "id": "b4d4f017",
   "metadata": {},
   "outputs": [],
   "source": [
    "y.extend(a)"
   ]
  },
  {
   "cell_type": "code",
   "execution_count": 11,
   "id": "194a7ab4",
   "metadata": {},
   "outputs": [
    {
     "data": {
      "text/plain": [
       "tensor([1, 2, 0, 0, 0, 1, 2, 0, 0, 0])"
      ]
     },
     "execution_count": 11,
     "metadata": {},
     "output_type": "execute_result"
    }
   ],
   "source": [
    "torch.tensor(y)"
   ]
  },
  {
   "cell_type": "code",
   "execution_count": 13,
   "id": "09c16b01",
   "metadata": {},
   "outputs": [
    {
     "data": {
      "text/plain": [
       "['__annotations__',\n",
       " '__call__',\n",
       " '__class__',\n",
       " '__closure__',\n",
       " '__code__',\n",
       " '__defaults__',\n",
       " '__delattr__',\n",
       " '__dict__',\n",
       " '__dir__',\n",
       " '__doc__',\n",
       " '__eq__',\n",
       " '__format__',\n",
       " '__ge__',\n",
       " '__get__',\n",
       " '__getattribute__',\n",
       " '__globals__',\n",
       " '__gt__',\n",
       " '__hash__',\n",
       " '__init__',\n",
       " '__init_subclass__',\n",
       " '__kwdefaults__',\n",
       " '__le__',\n",
       " '__lt__',\n",
       " '__module__',\n",
       " '__name__',\n",
       " '__ne__',\n",
       " '__new__',\n",
       " '__qualname__',\n",
       " '__reduce__',\n",
       " '__reduce_ex__',\n",
       " '__repr__',\n",
       " '__setattr__',\n",
       " '__sizeof__',\n",
       " '__str__',\n",
       " '__subclasshook__']"
      ]
     },
     "execution_count": 13,
     "metadata": {},
     "output_type": "execute_result"
    }
   ],
   "source": [
    "import subprocess\n",
    "\n",
    "dir(subprocess.call)"
   ]
  },
  {
   "cell_type": "code",
   "execution_count": null,
   "id": "635bc709",
   "metadata": {},
   "outputs": [],
   "source": []
  }
 ],
 "metadata": {
  "kernelspec": {
   "display_name": "Python 3",
   "language": "python",
   "name": "python3"
  },
  "language_info": {
   "codemirror_mode": {
    "name": "ipython",
    "version": 3
   },
   "file_extension": ".py",
   "mimetype": "text/x-python",
   "name": "python",
   "nbconvert_exporter": "python",
   "pygments_lexer": "ipython3",
   "version": "3.6.13"
  }
 },
 "nbformat": 4,
 "nbformat_minor": 5
}
