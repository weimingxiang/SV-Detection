{
 "cells": [
  {
   "cell_type": "code",
   "execution_count": 1,
   "id": "d8fae54c",
   "metadata": {},
   "outputs": [],
   "source": [
    "import pysam\n",
    "import numpy as np\n",
    "import torch\n",
    "import utilities as ut\n",
    "data_dir = \"../datasets/NA12878_PacBio_MtSinai/\"\n",
    "bam_path = data_dir + \"sorted_final_merged.bam\"\n",
    "sam_file = pysam.AlignmentFile(bam_path, \"rb\")\n",
    "chromosome = \"chrM\"\n",
    "\n",
    "begin = 1\n",
    "end = 100"
   ]
  },
  {
   "cell_type": "code",
   "execution_count": 2,
   "id": "f5f69a4e",
   "metadata": {},
   "outputs": [],
   "source": [
    "import utilities as ut\n",
    "cigars_img = ut.cigar_img(sam_file, chromosome, begin, end)"
   ]
  },
  {
   "cell_type": "code",
   "execution_count": 45,
   "id": "34c60ad5",
   "metadata": {},
   "outputs": [],
   "source": [
    "read_cigars = []\n",
    "read_length = []\n",
    "for read in sam_file.fetch(chromosome, begin, end):\n",
    "    gap = read.reference_start - begin\n",
    "    read_list = []\n",
    "    for operation, length in read.cigar: # (operation{10 class}, length)\n",
    "        read_list.extend([0, 0, 0] * gap)\n",
    "        if operation < 3:\n",
    "            read_list.extend([(operation + 1) * 85, 0, 0] * length)\n",
    "        elif operation < 6:\n",
    "            read_list.extend([0, (operation - 2) * 85, 0] * length)\n",
    "        else:\n",
    "            read_list.extend([0, 0, (operation - 5) * 63.75] * length)\n",
    "    read_length.append(len(read_list))\n",
    "    read_cigars.append(read_list)\n"
   ]
  },
  {
   "cell_type": "code",
   "execution_count": 47,
   "id": "5e390ba8",
   "metadata": {},
   "outputs": [],
   "source": [
    "mean = np.mean(read_length)\n",
    "std = np.std(read_length)\n",
    "maximum = mean + 3 * std"
   ]
  },
  {
   "cell_type": "code",
   "execution_count": 48,
   "id": "b2e0d68b",
   "metadata": {},
   "outputs": [],
   "source": [
    "cigars_img = torch.zeros([3, len(read_cigars), int(maximum / 3)])"
   ]
  },
  {
   "cell_type": "code",
   "execution_count": 49,
   "id": "8ddbbf73",
   "metadata": {},
   "outputs": [],
   "source": [
    "for i, r_c in enumerate(read_cigars):\n",
    "    if len(r_c) > maximum:\n",
    "        cigars_img[:, i, :] = torch.transpose(torch.Tensor(r_c).reshape(-1, 3), 1, 0)[:, :int(maximum / 3)]\n",
    "    else:\n",
    "        cigars_img[:, i, :int(len(r_c)/3)] = torch.transpose(torch.Tensor(r_c).reshape(-1, 3), 1, 0)"
   ]
  },
  {
   "cell_type": "code",
   "execution_count": 3,
   "id": "14e13550",
   "metadata": {
    "scrolled": true
   },
   "outputs": [
    {
     "data": {
      "text/plain": [
       "torch.Size([3, 1441, 25159])"
      ]
     },
     "execution_count": 3,
     "metadata": {},
     "output_type": "execute_result"
    }
   ],
   "source": [
    "cigars_img.size()"
   ]
  },
  {
   "cell_type": "code",
   "execution_count": 9,
   "id": "15dd8be6",
   "metadata": {},
   "outputs": [
    {
     "data": {
      "text/plain": [
       "tensor([0., 0., 0.])"
      ]
     },
     "execution_count": 9,
     "metadata": {},
     "output_type": "execute_result"
    }
   ],
   "source": [
    "cigars_img[:, 250, 0]"
   ]
  },
  {
   "cell_type": "code",
   "execution_count": 50,
   "id": "2f03197e",
   "metadata": {},
   "outputs": [
    {
     "data": {
      "text/plain": [
       "torch.Size([3, 1441, 110238])"
      ]
     },
     "execution_count": 50,
     "metadata": {},
     "output_type": "execute_result"
    }
   ],
   "source": [
    "cigars_img.size()"
   ]
  },
  {
   "cell_type": "code",
   "execution_count": 3,
   "id": "f42002ae",
   "metadata": {},
   "outputs": [
    {
     "name": "stderr",
     "output_type": "stream",
     "text": [
      "Clipping input data to the valid range for imshow with RGB data ([0..1] for floats or [0..255] for integers).\n"
     ]
    },
    {
     "data": {
      "text/plain": [
       "<matplotlib.image.AxesImage at 0x7f02688d36d8>"
      ]
     },
     "execution_count": 3,
     "metadata": {},
     "output_type": "execute_result"
    },
    {
     "data": {
      "image/png": "[encoded data removed]",
      "text/plain": [
       "<Figure size 432x288 with 1 Axes>"
      ]
     },
     "metadata": {
      "needs_background": "light"
     },
     "output_type": "display_data"
    }
   ],
   "source": [
    "import torchvision\n",
    "import matplotlib.pyplot as plt\n",
    "import torch\n",
    "hight = 224\n",
    "cigars_img = torch.zeros(3, 224, 224)\n",
    "cigars_img[1, :, 0:10] = 255\n",
    "cigars_img[1, 20:100, 0:100] = 255\n",
    "\n",
    "\n",
    "\n",
    "resize = torchvision.transforms.Resize([hight, hight])\n",
    "re_cigars_img = resize(cigars_img)\n",
    "\n",
    "img = re_cigars_img.transpose(0, 2).transpose(0, 1)\n",
    "img = img.numpy()\n",
    "plt.imshow(img)"
   ]
  },
  {
   "cell_type": "code",
   "execution_count": 6,
   "id": "1d6734ef",
   "metadata": {},
   "outputs": [
    {
     "name": "stderr",
     "output_type": "stream",
     "text": [
      "Clipping input data to the valid range for imshow with RGB data ([0..1] for floats or [0..255] for integers).\n"
     ]
    },
    {
     "data": {
      "text/plain": [
       "<matplotlib.image.AxesImage at 0x7f026881f470>"
      ]
     },
     "execution_count": 6,
     "metadata": {},
     "output_type": "execute_result"
    },
    {
     "data": {
      "image/png": "[encoded data removed]",
      "text/plain": [
       "<Figure size 432x288 with 1 Axes>"
      ]
     },
     "metadata": {
      "needs_background": "light"
     },
     "output_type": "display_data"
    }
   ],
   "source": [
    "import torchvision\n",
    "import matplotlib.pyplot as plt\n",
    "import torch\n",
    "hight = 224\n",
    "cigars_img = torch.zeros(3, 2240, 224)\n",
    "cigars_img[1, :, 0:10] = 255\n",
    "cigars_img[1, 20:100, 0:100] = 255\n",
    "\n",
    "resize = torchvision.transforms.Resize([hight, hight])\n",
    "re_cigars_img = resize(cigars_img)\n",
    "\n",
    "img = re_cigars_img.transpose(0, 2).transpose(0, 1)\n",
    "img = img.numpy()\n",
    "plt.imshow(img)"
   ]
  },
  {
   "cell_type": "code",
   "execution_count": 4,
   "id": "b10eb8f8",
   "metadata": {},
   "outputs": [
    {
     "name": "stderr",
     "output_type": "stream",
     "text": [
      "In /home/xwm/anaconda3/envs/SV/lib/python3.6/site-packages/matplotlib/mpl-data/stylelib/_classic_test.mplstyle: \n",
      "The text.latex.preview rcparam was deprecated in Matplotlib 3.3 and will be removed two minor releases later.\n",
      "In /home/xwm/anaconda3/envs/SV/lib/python3.6/site-packages/matplotlib/mpl-data/stylelib/_classic_test.mplstyle: \n",
      "The mathtext.fallback_to_cm rcparam was deprecated in Matplotlib 3.3 and will be removed two minor releases later.\n",
      "In /home/xwm/anaconda3/envs/SV/lib/python3.6/site-packages/matplotlib/mpl-data/stylelib/_classic_test.mplstyle: Support for setting the 'mathtext.fallback_to_cm' rcParam is deprecated since 3.3 and will be removed two minor releases later; use 'mathtext.fallback : 'cm' instead.\n",
      "In /home/xwm/anaconda3/envs/SV/lib/python3.6/site-packages/matplotlib/mpl-data/stylelib/_classic_test.mplstyle: \n",
      "The validate_bool_maybe_none function was deprecated in Matplotlib 3.3 and will be removed two minor releases later.\n",
      "In /home/xwm/anaconda3/envs/SV/lib/python3.6/site-packages/matplotlib/mpl-data/stylelib/_classic_test.mplstyle: \n",
      "The savefig.jpeg_quality rcparam was deprecated in Matplotlib 3.3 and will be removed two minor releases later.\n",
      "In /home/xwm/anaconda3/envs/SV/lib/python3.6/site-packages/matplotlib/mpl-data/stylelib/_classic_test.mplstyle: \n",
      "The keymap.all_axes rcparam was deprecated in Matplotlib 3.3 and will be removed two minor releases later.\n",
      "In /home/xwm/anaconda3/envs/SV/lib/python3.6/site-packages/matplotlib/mpl-data/stylelib/_classic_test.mplstyle: \n",
      "The animation.avconv_path rcparam was deprecated in Matplotlib 3.3 and will be removed two minor releases later.\n",
      "In /home/xwm/anaconda3/envs/SV/lib/python3.6/site-packages/matplotlib/mpl-data/stylelib/_classic_test.mplstyle: \n",
      "The animation.avconv_args rcparam was deprecated in Matplotlib 3.3 and will be removed two minor releases later.\n",
      "Clipping input data to the valid range for imshow with RGB data ([0..1] for floats or [0..255] for integers).\n"
     ]
    },
    {
     "data": {
      "text/plain": [
       "<matplotlib.image.AxesImage at 0x7fabcb1fadd8>"
      ]
     },
     "execution_count": 4,
     "metadata": {},
     "output_type": "execute_result"
    },
    {
     "data": {
      "image/png": "[encoded data removed]",
      "text/plain": [
       "<Figure size 432x288 with 1 Axes>"
      ]
     },
     "metadata": {
      "needs_background": "light"
     },
     "output_type": "display_data"
    }
   ],
   "source": [
    "import matplotlib.pyplot as plt\n",
    "img = re_cigars_img.transpose(0, 2).transpose(0, 1)\n",
    "img = img.numpy()\n",
    "plt.imshow(img)"
   ]
  },
  {
   "cell_type": "code",
   "execution_count": 11,
   "id": "106867a9",
   "metadata": {},
   "outputs": [
    {
     "name": "stderr",
     "output_type": "stream",
     "text": [
      "Clipping input data to the valid range for imshow with RGB data ([0..1] for floats or [0..255] for integers).\n"
     ]
    },
    {
     "data": {
      "text/plain": [
       "<matplotlib.image.AxesImage at 0x7f8bf36640f0>"
      ]
     },
     "execution_count": 11,
     "metadata": {},
     "output_type": "execute_result"
    },
    {
     "data": {
      "image/png": "[encoded data removed]",
      "text/plain": [
       "<Figure size 432x288 with 1 Axes>"
      ]
     },
     "metadata": {
      "needs_background": "light"
     },
     "output_type": "display_data"
    }
   ],
   "source": [
    "import matplotlib.pyplot as plt\n",
    "img = re_cigars_img.transpose(0, 2).transpose(0, 1)\n",
    "img = img.numpy()\n",
    "plt.imshow(img)"
   ]
  },
  {
   "cell_type": "code",
   "execution_count": 52,
   "id": "caaca0e0",
   "metadata": {
    "scrolled": true
   },
   "outputs": [
    {
     "name": "stderr",
     "output_type": "stream",
     "text": [
      "Clipping input data to the valid range for imshow with RGB data ([0..1] for floats or [0..255] for integers).\n"
     ]
    },
    {
     "data": {
      "text/plain": [
       "<matplotlib.image.AxesImage at 0x7fe7adf2b6a0>"
      ]
     },
     "execution_count": 52,
     "metadata": {},
     "output_type": "execute_result"
    },
    {
     "data": {
      "image/png": "[encoded data removed]",
      "text/plain": [
       "<Figure size 432x288 with 1 Axes>"
      ]
     },
     "metadata": {
      "needs_background": "light"
     },
     "output_type": "display_data"
    }
   ],
   "source": [
    "import matplotlib.pyplot as plt\n",
    "img = re_cigars_img.transpose(0, 2).transpose(0, 1)\n",
    "img = img.numpy()\n",
    "plt.imshow(img)"
   ]
  },
  {
   "cell_type": "code",
   "execution_count": 55,
   "id": "fc1a57c2",
   "metadata": {},
   "outputs": [],
   "source": [
    "a = []"
   ]
  },
  {
   "cell_type": "code",
   "execution_count": 58,
   "id": "af62746e",
   "metadata": {},
   "outputs": [],
   "source": [
    "a.append(re_cigars_img)"
   ]
  },
  {
   "cell_type": "code",
   "execution_count": 60,
   "id": "544f32fb",
   "metadata": {},
   "outputs": [
    {
     "data": {
      "text/plain": [
       "torch.Size([3, 224, 224])"
      ]
     },
     "execution_count": 60,
     "metadata": {},
     "output_type": "execute_result"
    }
   ],
   "source": [
    "a[0].size()"
   ]
  },
  {
   "cell_type": "code",
   "execution_count": 72,
   "id": "d26404bf",
   "metadata": {},
   "outputs": [],
   "source": [
    "r = []\n",
    "for read in sam_file.fetch(chromosome, 2, 314):\n",
    "    r = read\n",
    "    break"
   ]
  },
  {
   "cell_type": "code",
   "execution_count": 73,
   "id": "db2fb9e1",
   "metadata": {},
   "outputs": [
    {
     "data": {
      "text/plain": [
       "(0, 315)"
      ]
     },
     "execution_count": 73,
     "metadata": {},
     "output_type": "execute_result"
    }
   ],
   "source": [
    "(r.reference_start, r.reference_end)"
   ]
  },
  {
   "cell_type": "code",
   "execution_count": 80,
   "id": "3be20801",
   "metadata": {},
   "outputs": [],
   "source": [
    "gap = \"nan\""
   ]
  },
  {
   "cell_type": "code",
   "execution_count": 81,
   "id": "3f8f2799",
   "metadata": {},
   "outputs": [
    {
     "name": "stdout",
     "output_type": "stream",
     "text": [
      "nan\n"
     ]
    }
   ],
   "source": [
    "if gap == \"nan\":\n",
    "    print(gap)"
   ]
  },
  {
   "cell_type": "code",
   "execution_count": 78,
   "id": "59c5cdff",
   "metadata": {},
   "outputs": [],
   "source": [
    "gap = 0"
   ]
  },
  {
   "cell_type": "code",
   "execution_count": 79,
   "id": "3631c2a1",
   "metadata": {},
   "outputs": [
    {
     "data": {
      "text/plain": [
       "0"
      ]
     },
     "execution_count": 79,
     "metadata": {},
     "output_type": "execute_result"
    }
   ],
   "source": [
    "gap"
   ]
  },
  {
   "cell_type": "code",
   "execution_count": 84,
   "id": "f52c10b9",
   "metadata": {},
   "outputs": [
    {
     "data": {
      "text/plain": [
       "[0, 0, 0]"
      ]
     },
     "execution_count": 84,
     "metadata": {},
     "output_type": "execute_result"
    }
   ],
   "source": [
    "[0, 0, 0] * --1"
   ]
  },
  {
   "cell_type": "code",
   "execution_count": 11,
   "id": "885f636d",
   "metadata": {},
   "outputs": [],
   "source": [
    "import torchvision\n",
    "resize = torchvision.transforms.Resize([10, 10])"
   ]
  },
  {
   "cell_type": "code",
   "execution_count": 12,
   "id": "eb8a4886",
   "metadata": {},
   "outputs": [],
   "source": [
    "a = torch.rand(1, 100, 100)"
   ]
  },
  {
   "cell_type": "code",
   "execution_count": 14,
   "id": "41117e38",
   "metadata": {},
   "outputs": [
    {
     "data": {
      "text/plain": [
       "torch.Size([1, 10, 10])"
      ]
     },
     "execution_count": 14,
     "metadata": {},
     "output_type": "execute_result"
    }
   ],
   "source": [
    "resize(a).size()"
   ]
  },
  {
   "cell_type": "code",
   "execution_count": 53,
   "id": "1610a73c",
   "metadata": {},
   "outputs": [],
   "source": [
    "a = [0] * 10"
   ]
  },
  {
   "cell_type": "code",
   "execution_count": 58,
   "id": "af8f5162",
   "metadata": {},
   "outputs": [
    {
     "data": {
      "text/plain": [
       "[]"
      ]
     },
     "execution_count": 58,
     "metadata": {},
     "output_type": "execute_result"
    }
   ],
   "source": [
    "a[0:0]"
   ]
  },
  {
   "cell_type": "code",
   "execution_count": 21,
   "id": "f2ad9742",
   "metadata": {},
   "outputs": [],
   "source": [
    "a[2] = 0"
   ]
  },
  {
   "cell_type": "code",
   "execution_count": 22,
   "id": "e81d9141",
   "metadata": {},
   "outputs": [
    {
     "data": {
      "text/plain": [
       "[[], [], 0, [], [], [], [], [], [], []]"
      ]
     },
     "execution_count": 22,
     "metadata": {},
     "output_type": "execute_result"
    }
   ],
   "source": [
    "a"
   ]
  },
  {
   "cell_type": "code",
   "execution_count": 37,
   "id": "4bf21c09",
   "metadata": {},
   "outputs": [],
   "source": [
    "read_list = torch.empty(6, 0)"
   ]
  },
  {
   "cell_type": "code",
   "execution_count": 43,
   "id": "55d61681",
   "metadata": {},
   "outputs": [],
   "source": [
    "a = torch.tensor([[255], [0], [0], [0], [0], [0]]).expand(6, 10)"
   ]
  },
  {
   "cell_type": "code",
   "execution_count": 44,
   "id": "239f9d58",
   "metadata": {},
   "outputs": [
    {
     "data": {
      "text/plain": [
       "10"
      ]
     },
     "execution_count": 44,
     "metadata": {},
     "output_type": "execute_result"
    }
   ],
   "source": [
    "a.size()[1]"
   ]
  },
  {
   "cell_type": "code",
   "execution_count": 41,
   "id": "ed82ab8f",
   "metadata": {},
   "outputs": [
    {
     "data": {
      "text/plain": [
       "tensor([[255.],\n",
       "        [  0.],\n",
       "        [  0.],\n",
       "        [  0.],\n",
       "        [  0.],\n",
       "        [  0.]])"
      ]
     },
     "execution_count": 41,
     "metadata": {},
     "output_type": "execute_result"
    }
   ],
   "source": [
    "torch.cat((read_list, a), 1)"
   ]
  },
  {
   "cell_type": "code",
   "execution_count": 60,
   "id": "0c7d4acb",
   "metadata": {},
   "outputs": [],
   "source": [
    "b = torch.load(\"/home/xwm/DeepSVFilter/datasets/NA12878_PacBio_MtSinai/chromosome_cigar/chrM.pt\")"
   ]
  },
  {
   "cell_type": "code",
   "execution_count": 47,
   "id": "38e627d5",
   "metadata": {},
   "outputs": [
    {
     "data": {
      "text/plain": [
       "list"
      ]
     },
     "execution_count": 47,
     "metadata": {},
     "output_type": "execute_result"
    }
   ],
   "source": [
    "type(a)"
   ]
  },
  {
   "cell_type": "code",
   "execution_count": 64,
   "id": "f6585454",
   "metadata": {},
   "outputs": [
    {
     "data": {
      "text/plain": [
       "18978"
      ]
     },
     "execution_count": 64,
     "metadata": {},
     "output_type": "execute_result"
    }
   ],
   "source": [
    "len(b[1])"
   ]
  },
  {
   "cell_type": "code",
   "execution_count": 76,
   "id": "02132ffa",
   "metadata": {},
   "outputs": [],
   "source": [
    "l = [0] * 10610"
   ]
  },
  {
   "cell_type": "code",
   "execution_count": 52,
   "id": "f127d2c5",
   "metadata": {},
   "outputs": [
    {
     "name": "stdout",
     "output_type": "stream",
     "text": [
      "0\n",
      "1\n",
      "2\n",
      "3\n",
      "4\n",
      "5\n",
      "6\n",
      "7\n",
      "8\n",
      "9\n"
     ]
    }
   ],
   "source": [
    "for i, j in enumerate(l):\n",
    "    print(i)"
   ]
  },
  {
   "cell_type": "code",
   "execution_count": 68,
   "id": "bb2c2cbc",
   "metadata": {},
   "outputs": [],
   "source": [
    "p_position = torch.load(data_dir + 'position/' + \"chr1\" + '/positive' + '.pt')"
   ]
  },
  {
   "cell_type": "code",
   "execution_count": 72,
   "id": "1d0ac44c",
   "metadata": {},
   "outputs": [
    {
     "name": "stdout",
     "output_type": "stream",
     "text": [
      "tensor(10604.)\n"
     ]
    }
   ],
   "source": [
    "for i in p_position:\n",
    "    print(i[0])\n",
    "    break"
   ]
  },
  {
   "cell_type": "code",
   "execution_count": 73,
   "id": "81e58325",
   "metadata": {},
   "outputs": [],
   "source": [
    "p = torch.empty(0, 2)"
   ]
  },
  {
   "cell_type": "code",
   "execution_count": 79,
   "id": "6b49f0bb",
   "metadata": {},
   "outputs": [
    {
     "data": {
      "text/plain": [
       "0"
      ]
     },
     "execution_count": 79,
     "metadata": {},
     "output_type": "execute_result"
    }
   ],
   "source": [
    "l[int(i[0])]"
   ]
  },
  {
   "cell_type": "code",
   "execution_count": 80,
   "id": "a7f2be09",
   "metadata": {},
   "outputs": [
    {
     "data": {
      "text/plain": [
       "<pysam.libcalignmentfile.AlignmentFile at 0x7f4aad609318>"
      ]
     },
     "execution_count": 80,
     "metadata": {},
     "output_type": "execute_result"
    }
   ],
   "source": [
    "sam_file"
   ]
  },
  {
   "cell_type": "code",
   "execution_count": 81,
   "id": "39208074",
   "metadata": {},
   "outputs": [],
   "source": [
    "chr_list = sam_file.references\n",
    "chr_length = sam_file.lengths"
   ]
  },
  {
   "cell_type": "code",
   "execution_count": 84,
   "id": "0b23d521",
   "metadata": {},
   "outputs": [
    {
     "name": "stdout",
     "output_type": "stream",
     "text": [
      "chrM\n",
      "16571\n",
      "chr1\n",
      "249250621\n",
      "chr2\n",
      "243199373\n",
      "chr3\n",
      "198022430\n",
      "chr4\n",
      "191154276\n",
      "chr5\n",
      "180915260\n",
      "chr6\n",
      "171115067\n",
      "chr7\n",
      "159138663\n",
      "chr8\n",
      "146364022\n",
      "chr9\n",
      "141213431\n",
      "chr10\n",
      "135534747\n",
      "chr11\n",
      "135006516\n",
      "chr12\n",
      "133851895\n",
      "chr13\n",
      "115169878\n",
      "chr14\n",
      "107349540\n",
      "chr15\n",
      "102531392\n",
      "chr16\n",
      "90354753\n",
      "chr17\n",
      "81195210\n",
      "chr18\n",
      "78077248\n",
      "chr19\n",
      "59128983\n",
      "chr20\n",
      "63025520\n",
      "chr21\n",
      "48129895\n",
      "chr22\n",
      "51304566\n",
      "chrX\n",
      "155270560\n",
      "chrY\n",
      "59373566\n",
      "chr1_gl000191_random\n",
      "106433\n",
      "chr1_gl000192_random\n",
      "547496\n",
      "chr4_ctg9_hap1\n",
      "590426\n",
      "chr4_gl000193_random\n",
      "189789\n",
      "chr4_gl000194_random\n",
      "191469\n",
      "chr6_apd_hap1\n",
      "4622290\n",
      "chr6_cox_hap2\n",
      "4795371\n",
      "chr6_dbb_hap3\n",
      "4610396\n",
      "chr6_mann_hap4\n",
      "4683263\n",
      "chr6_mcf_hap5\n",
      "4833398\n",
      "chr6_qbl_hap6\n",
      "4611984\n",
      "chr6_ssto_hap7\n",
      "4928567\n",
      "chr7_gl000195_random\n",
      "182896\n",
      "chr8_gl000196_random\n",
      "38914\n",
      "chr8_gl000197_random\n",
      "37175\n",
      "chr9_gl000198_random\n",
      "90085\n",
      "chr9_gl000199_random\n",
      "169874\n",
      "chr9_gl000200_random\n",
      "187035\n",
      "chr9_gl000201_random\n",
      "36148\n",
      "chr11_gl000202_random\n",
      "40103\n",
      "chr17_ctg5_hap1\n",
      "1680828\n",
      "chr17_gl000203_random\n",
      "37498\n",
      "chr17_gl000204_random\n",
      "81310\n",
      "chr17_gl000205_random\n",
      "174588\n",
      "chr17_gl000206_random\n",
      "41001\n",
      "chr18_gl000207_random\n",
      "4262\n",
      "chr19_gl000208_random\n",
      "92689\n",
      "chr19_gl000209_random\n",
      "159169\n",
      "chr21_gl000210_random\n",
      "27682\n",
      "chrUn_gl000211\n",
      "166566\n",
      "chrUn_gl000212\n",
      "186858\n",
      "chrUn_gl000213\n",
      "164239\n",
      "chrUn_gl000214\n",
      "137718\n",
      "chrUn_gl000215\n",
      "172545\n",
      "chrUn_gl000216\n",
      "172294\n",
      "chrUn_gl000217\n",
      "172149\n",
      "chrUn_gl000218\n",
      "161147\n",
      "chrUn_gl000219\n",
      "179198\n",
      "chrUn_gl000220\n",
      "161802\n",
      "chrUn_gl000221\n",
      "155397\n",
      "chrUn_gl000222\n",
      "186861\n",
      "chrUn_gl000223\n",
      "180455\n",
      "chrUn_gl000224\n",
      "179693\n",
      "chrUn_gl000225\n",
      "211173\n",
      "chrUn_gl000226\n",
      "15008\n",
      "chrUn_gl000227\n",
      "128374\n",
      "chrUn_gl000228\n",
      "129120\n",
      "chrUn_gl000229\n",
      "19913\n",
      "chrUn_gl000230\n",
      "43691\n",
      "chrUn_gl000231\n",
      "27386\n",
      "chrUn_gl000232\n",
      "40652\n",
      "chrUn_gl000233\n",
      "45941\n",
      "chrUn_gl000234\n",
      "40531\n",
      "chrUn_gl000235\n",
      "34474\n",
      "chrUn_gl000236\n",
      "41934\n",
      "chrUn_gl000237\n",
      "45867\n",
      "chrUn_gl000238\n",
      "39939\n",
      "chrUn_gl000239\n",
      "33824\n",
      "chrUn_gl000240\n",
      "41933\n",
      "chrUn_gl000241\n",
      "42152\n",
      "chrUn_gl000242\n",
      "43523\n",
      "chrUn_gl000243\n",
      "43341\n",
      "chrUn_gl000244\n",
      "39929\n",
      "chrUn_gl000245\n",
      "36651\n",
      "chrUn_gl000246\n",
      "38154\n",
      "chrUn_gl000247\n",
      "36422\n",
      "chrUn_gl000248\n",
      "39786\n",
      "chrUn_gl000249\n",
      "38502\n"
     ]
    }
   ],
   "source": [
    "for chromosome, chr_len in zip(chr_list, chr_length):\n",
    "    print(chromosome)\n",
    "    print(chr_len)"
   ]
  },
  {
   "cell_type": "code",
   "execution_count": 96,
   "id": "49ef0e20",
   "metadata": {},
   "outputs": [],
   "source": [
    "import torch.nn as nn\n",
    "c2d = nn.Conv2d(in_channels=9, out_channels=3, kernel_size=3, stride=1, padding=1)"
   ]
  },
  {
   "cell_type": "code",
   "execution_count": 97,
   "id": "ecb3f4b4",
   "metadata": {},
   "outputs": [],
   "source": [
    "a = torch.rand([10, 9, 244, 244])"
   ]
  },
  {
   "cell_type": "code",
   "execution_count": 98,
   "id": "fa0b0dad",
   "metadata": {},
   "outputs": [
    {
     "data": {
      "text/plain": [
       "torch.Size([10, 3, 244, 244])"
      ]
     },
     "execution_count": 98,
     "metadata": {},
     "output_type": "execute_result"
    }
   ],
   "source": [
    "c2d(a).size()"
   ]
  },
  {
   "cell_type": "code",
   "execution_count": 99,
   "id": "75b4edd4",
   "metadata": {},
   "outputs": [],
   "source": [
    "chr_list = sam_file.references\n",
    "chr_length = sam_file.lengths"
   ]
  },
  {
   "cell_type": "code",
   "execution_count": 103,
   "id": "11ba7e6e",
   "metadata": {},
   "outputs": [],
   "source": [
    "data_list = []\n",
    "for chromosome, chr_len in zip(chr_list, chr_length):\n",
    "    data_list.append((chromosome, chr_len))"
   ]
  },
  {
   "cell_type": "code",
   "execution_count": 108,
   "id": "94f4380e",
   "metadata": {},
   "outputs": [
    {
     "data": {
      "text/plain": [
       "[('chrM', 16571),\n",
       " ('chr1', 249250621),\n",
       " ('chr2', 243199373),\n",
       " ('chr3', 198022430),\n",
       " ('chr4', 191154276),\n",
       " ('chr5', 180915260),\n",
       " ('chr6', 171115067),\n",
       " ('chr7', 159138663),\n",
       " ('chr8', 146364022),\n",
       " ('chr9', 141213431),\n",
       " ('chr10', 135534747),\n",
       " ('chr11', 135006516),\n",
       " ('chr12', 133851895),\n",
       " ('chr13', 115169878),\n",
       " ('chr14', 107349540),\n",
       " ('chr15', 102531392),\n",
       " ('chr16', 90354753),\n",
       " ('chr17', 81195210),\n",
       " ('chr18', 78077248),\n",
       " ('chr19', 59128983),\n",
       " ('chr20', 63025520),\n",
       " ('chr21', 48129895),\n",
       " ('chr22', 51304566),\n",
       " ('chrX', 155270560),\n",
       " ('chrY', 59373566),\n",
       " ('chr1_gl000191_random', 106433),\n",
       " ('chr1_gl000192_random', 547496),\n",
       " ('chr4_ctg9_hap1', 590426),\n",
       " ('chr4_gl000193_random', 189789),\n",
       " ('chr4_gl000194_random', 191469),\n",
       " ('chr6_apd_hap1', 4622290),\n",
       " ('chr6_cox_hap2', 4795371),\n",
       " ('chr6_dbb_hap3', 4610396),\n",
       " ('chr6_mann_hap4', 4683263),\n",
       " ('chr6_mcf_hap5', 4833398),\n",
       " ('chr6_qbl_hap6', 4611984),\n",
       " ('chr6_ssto_hap7', 4928567),\n",
       " ('chr7_gl000195_random', 182896),\n",
       " ('chr8_gl000196_random', 38914),\n",
       " ('chr8_gl000197_random', 37175),\n",
       " ('chr9_gl000198_random', 90085),\n",
       " ('chr9_gl000199_random', 169874),\n",
       " ('chr9_gl000200_random', 187035),\n",
       " ('chr9_gl000201_random', 36148),\n",
       " ('chr11_gl000202_random', 40103),\n",
       " ('chr17_ctg5_hap1', 1680828),\n",
       " ('chr17_gl000203_random', 37498),\n",
       " ('chr17_gl000204_random', 81310),\n",
       " ('chr17_gl000205_random', 174588),\n",
       " ('chr17_gl000206_random', 41001),\n",
       " ('chr18_gl000207_random', 4262),\n",
       " ('chr19_gl000208_random', 92689),\n",
       " ('chr19_gl000209_random', 159169),\n",
       " ('chr21_gl000210_random', 27682),\n",
       " ('chrUn_gl000211', 166566),\n",
       " ('chrUn_gl000212', 186858),\n",
       " ('chrUn_gl000213', 164239),\n",
       " ('chrUn_gl000214', 137718),\n",
       " ('chrUn_gl000215', 172545),\n",
       " ('chrUn_gl000216', 172294),\n",
       " ('chrUn_gl000217', 172149),\n",
       " ('chrUn_gl000218', 161147),\n",
       " ('chrUn_gl000219', 179198),\n",
       " ('chrUn_gl000220', 161802),\n",
       " ('chrUn_gl000221', 155397),\n",
       " ('chrUn_gl000222', 186861),\n",
       " ('chrUn_gl000223', 180455),\n",
       " ('chrUn_gl000224', 179693),\n",
       " ('chrUn_gl000225', 211173),\n",
       " ('chrUn_gl000226', 15008),\n",
       " ('chrUn_gl000227', 128374),\n",
       " ('chrUn_gl000228', 129120),\n",
       " ('chrUn_gl000229', 19913),\n",
       " ('chrUn_gl000230', 43691),\n",
       " ('chrUn_gl000231', 27386),\n",
       " ('chrUn_gl000232', 40652),\n",
       " ('chrUn_gl000233', 45941),\n",
       " ('chrUn_gl000234', 40531),\n",
       " ('chrUn_gl000235', 34474),\n",
       " ('chrUn_gl000236', 41934),\n",
       " ('chrUn_gl000237', 45867),\n",
       " ('chrUn_gl000238', 39939),\n",
       " ('chrUn_gl000239', 33824),\n",
       " ('chrUn_gl000240', 41933),\n",
       " ('chrUn_gl000241', 42152),\n",
       " ('chrUn_gl000242', 43523),\n",
       " ('chrUn_gl000243', 43341),\n",
       " ('chrUn_gl000244', 39929),\n",
       " ('chrUn_gl000245', 36651),\n",
       " ('chrUn_gl000246', 38154),\n",
       " ('chrUn_gl000247', 36422),\n",
       " ('chrUn_gl000248', 39786),\n",
       " ('chrUn_gl000249', 38502)]"
      ]
     },
     "execution_count": 108,
     "metadata": {},
     "output_type": "execute_result"
    }
   ],
   "source": [
    "data_list"
   ]
  },
  {
   "cell_type": "code",
   "execution_count": 106,
   "id": "3e24f15d",
   "metadata": {},
   "outputs": [
    {
     "data": {
      "text/plain": [
       "'chrM'"
      ]
     },
     "execution_count": 106,
     "metadata": {},
     "output_type": "execute_result"
    }
   ],
   "source": [
    "chromosome"
   ]
  },
  {
   "cell_type": "code",
   "execution_count": 107,
   "id": "5c68b9a9",
   "metadata": {},
   "outputs": [
    {
     "data": {
      "text/plain": [
       "16571"
      ]
     },
     "execution_count": 107,
     "metadata": {},
     "output_type": "execute_result"
    }
   ],
   "source": [
    "chr_len"
   ]
  },
  {
   "cell_type": "code",
   "execution_count": 143,
   "id": "922b1bfe",
   "metadata": {},
   "outputs": [],
   "source": [
    "p_position = torch.load(data_dir + 'position/' + \"chr1\" + '/positive' + '.pt')"
   ]
  },
  {
   "cell_type": "code",
   "execution_count": 144,
   "id": "58ee6b99",
   "metadata": {},
   "outputs": [
    {
     "name": "stdout",
     "output_type": "stream",
     "text": [
      "[143542808, 143542821]\n"
     ]
    }
   ],
   "source": [
    "diff = []\n",
    "for i, item in enumerate(p_position):\n",
    "    if i == 952:\n",
    "        print(item)\n",
    "        diff.append(i)"
   ]
  },
  {
   "cell_type": "code",
   "execution_count": 127,
   "id": "c72ac71c",
   "metadata": {},
   "outputs": [
    {
     "data": {
      "text/plain": [
       "[952, 1292, 1327, 1460, 1461, 1468, 1591]"
      ]
     },
     "execution_count": 127,
     "metadata": {},
     "output_type": "execute_result"
    }
   ],
   "source": [
    "diff"
   ]
  },
  {
   "cell_type": "code",
   "execution_count": 121,
   "id": "a08471f4",
   "metadata": {},
   "outputs": [
    {
     "data": {
      "text/plain": [
       "tensor(10)"
      ]
     },
     "execution_count": 121,
     "metadata": {},
     "output_type": "execute_result"
    }
   ],
   "source": [
    "torch.tensor(10)"
   ]
  },
  {
   "cell_type": "code",
   "execution_count": 4,
   "id": "8e60a532",
   "metadata": {},
   "outputs": [],
   "source": [
    "import pandas as pd\n",
    "vcf_filename = data_dir + \"insert_result_data.csv.vcf\"\n",
    "insert_result_data = pd.read_csv(vcf_filename, sep = \"\\t\", index_col=0)"
   ]
  },
  {
   "cell_type": "code",
   "execution_count": 5,
   "id": "999b29a9",
   "metadata": {},
   "outputs": [],
   "source": [
    "insert_chromosome = insert_result_data[insert_result_data[\"CHROM\"] == \"chr1\"]"
   ]
  },
  {
   "cell_type": "code",
   "execution_count": 6,
   "id": "6c2ad79b",
   "metadata": {},
   "outputs": [],
   "source": [
    "a = insert_chromosome[\"END\"] - insert_chromosome[\"POS\"]"
   ]
  },
  {
   "cell_type": "code",
   "execution_count": 11,
   "id": "ec1cf73c",
   "metadata": {},
   "outputs": [
    {
     "data": {
      "text/plain": [
       "1"
      ]
     },
     "execution_count": 11,
     "metadata": {},
     "output_type": "execute_result"
    }
   ],
   "source": [
    "a.min()"
   ]
  },
  {
   "cell_type": "code",
   "execution_count": 3,
   "id": "cbf16e5c",
   "metadata": {},
   "outputs": [],
   "source": [
    "import torchvision\n",
    "hight = 224\n",
    "resize = torchvision.transforms.Resize([hight, hight])\n"
   ]
  },
  {
   "cell_type": "code",
   "execution_count": 152,
   "id": "30b85342",
   "metadata": {},
   "outputs": [
    {
     "ename": "KeyboardInterrupt",
     "evalue": "",
     "output_type": "error",
     "traceback": [
      "\u001b[0;31m---------------------------------------------------------------------------\u001b[0m",
      "\u001b[0;31mKeyboardInterrupt\u001b[0m                         Traceback (most recent call last)",
      "\u001b[0;32m<ipython-input-152-bcd6e6304d61>\u001b[0m in \u001b[0;36m<module>\u001b[0;34m\u001b[0m\n\u001b[0;32m----> 1\u001b[0;31m \u001b[0ma\u001b[0m \u001b[0;34m=\u001b[0m \u001b[0mtorch\u001b[0m\u001b[0;34m.\u001b[0m\u001b[0mrand\u001b[0m\u001b[0;34m(\u001b[0m\u001b[0;36m6\u001b[0m\u001b[0;34m,\u001b[0m \u001b[0;36m22400\u001b[0m\u001b[0;34m,\u001b[0m \u001b[0;36m22400\u001b[0m\u001b[0;34m)\u001b[0m\u001b[0;34m\u001b[0m\u001b[0;34m\u001b[0m\u001b[0m\n\u001b[0m",
      "\u001b[0;31mKeyboardInterrupt\u001b[0m: "
     ]
    }
   ],
   "source": [
    "a = torch.rand(6, 22400, 22400)"
   ]
  },
  {
   "cell_type": "code",
   "execution_count": 1,
   "id": "efcb5546",
   "metadata": {},
   "outputs": [
    {
     "data": {
      "text/plain": [
       "4.2438507080078125e-05"
      ]
     },
     "execution_count": 1,
     "metadata": {},
     "output_type": "execute_result"
    }
   ],
   "source": [
    "import utilities as ut\n",
    "import time\n",
    "start = time.time()\n",
    "\n",
    "end = time.time()\n",
    "end - start"
   ]
  },
  {
   "cell_type": "code",
   "execution_count": 2,
   "id": "d5faf56f",
   "metadata": {},
   "outputs": [
    {
     "name": "stdout",
     "output_type": "stream",
     "text": [
      "1650638206.0409815\n",
      "1650638206.0563855\n",
      "1650638206.681764\n",
      "1650638208.1623173\n",
      "1650638215.1510613\n",
      "1650638215.952025\n",
      "1650638218.4967198\n",
      "1650638218.9612582\n",
      "1650638220.8105166\n",
      "1650638221.378189\n",
      "1650638224.0624752\n",
      "1650638225.8999906\n",
      "1650638226.6910508\n",
      "1650638227.569168\n",
      "1650638229.5418806\n",
      "1650638230.1906009\n",
      "1650638231.22932\n",
      "1650638231.5570526\n",
      "1650638233.1864862\n",
      "1650638234.3125198\n",
      "1650638238.2520182\n",
      "1650638239.187153\n",
      "1650638241.82571\n",
      "1650638243.738624\n",
      "1650638246.3695035\n",
      "1650638247.311505\n",
      "1650638247.4126184\n",
      "1650638251.1474867\n",
      "1650638251.5855124\n",
      "1650638252.2887862\n",
      "1650638254.2049649\n",
      "1650638254.2831056\n",
      "1650638261.1559134\n",
      "1650638261.956697\n",
      "1650638263.3149652\n",
      "1650638264.0687287\n",
      "1650638265.0250182\n",
      "1650638265.2187772\n",
      "1650638265.3062987\n",
      "1650638267.4837987\n",
      "1650638269.186282\n",
      "1650638271.702757\n",
      "1650638271.7629843\n",
      "1650638271.8475108\n",
      "1650638275.7586052\n",
      "1650638275.8199127\n",
      "1650638276.1590123\n",
      "1650638276.455366\n",
      "1650638279.6189053\n",
      "1650638279.7289548\n",
      "1650638282.0106266\n",
      "1650638282.041467\n",
      "1650638282.2175827\n",
      "1650638282.6437862\n",
      "1650638285.3208554\n",
      "1650638285.3921819\n",
      "1650638286.8270943\n",
      "1650638288.5490615\n",
      "1650638289.4195929\n",
      "1650638289.5630834\n",
      "1650638292.6958582\n",
      "1650638293.8505435\n",
      "1650638295.8435097\n",
      "1650638295.904399\n",
      "1650638296.6229913\n",
      "1650638297.0356574\n",
      "1650638297.9180923\n",
      "1650638303.0214672\n",
      "1650638306.632082\n",
      "1650638308.3602698\n",
      "1650638312.6658998\n",
      "1650638312.836076\n",
      "1650638315.2648137\n",
      "1650638315.3215802\n",
      "1650638315.5269039\n",
      "1650638316.8044\n",
      "1650638316.9033554\n",
      "1650638316.9445252\n",
      "1650638317.252376\n",
      "1650638317.5793695\n",
      "1650638317.6771197\n",
      "1650638318.6315928\n",
      "1650638321.2776694\n",
      "1650638321.4563508\n",
      "1650638322.788612\n",
      "1650638322.898902\n",
      "1650638323.5213144\n",
      "1650638323.5506885\n",
      "1650638323.6330652\n",
      "1650638323.6860878\n",
      "1650638324.8661096\n",
      "1650638324.942947\n",
      "1650638325.5938575\n",
      "1650638325.6272495\n",
      "1650638325.7714386\n",
      "1650638325.8120723\n",
      "1650638325.8284488\n",
      "1650638329.543829\n",
      "1650638332.0688384\n",
      "1650638334.4093568\n",
      "1650638334.5099537\n",
      "1650638334.6188867\n",
      "1650638334.6992912\n",
      "1650638335.8015645\n",
      "1650638339.052208\n",
      "1650638339.1259787\n",
      "1650638339.1893144\n",
      "1650638339.296229\n",
      "1650638339.3524694\n",
      "1650638341.4932132\n",
      "1650638345.3267112\n",
      "1650638346.4829657\n",
      "1650638346.586449\n",
      "1650638346.6468444\n",
      "1650638347.038672\n",
      "1650638348.594933\n",
      "1650638350.229264\n",
      "1650638350.287142\n",
      "1650638350.3738947\n",
      "1650638351.572567\n",
      "1650638351.8037393\n",
      "1650638352.1330407\n",
      "1650638353.105309\n",
      "1650638353.1881537\n",
      "1650638353.5078998\n",
      "1650638353.5373564\n",
      "1650638353.5783145\n",
      "1650638353.6525025\n",
      "1650638353.7135396\n",
      "1650638354.3349638\n",
      "1650638354.4416738\n",
      "1650638354.4938831\n",
      "1650638355.2935774\n",
      "1650638355.326711\n",
      "1650638355.3558729\n",
      "1650638357.9044192\n",
      "1650638360.619746\n",
      "1650638360.691402\n",
      "1650638360.7108107\n",
      "1650638361.1003711\n",
      "1650638361.6152196\n",
      "1650638363.523833\n",
      "1650638363.542737\n",
      "1650638363.9051676\n",
      "1650638363.9312449\n",
      "1650638364.0841641\n",
      "1650638367.624636\n",
      "1650638368.9006171\n",
      "1650638368.9688685\n",
      "1650638369.0099473\n",
      "1650638373.3051336\n",
      "1650638373.3325155\n",
      "1650638373.4196115\n",
      "1650638373.4217014\n",
      "1650638373.4815724\n",
      "1650638373.5488808\n",
      "1650638375.1572168\n",
      "1650638375.163272\n",
      "1650638376.0380564\n",
      "1650638376.3517892\n",
      "1650638380.9204955\n",
      "1650638381.0016506\n",
      "1650638382.662497\n",
      "1650638385.0704584\n",
      "1650638385.098307\n",
      "1650638385.344234\n",
      "1650638389.8115554\n",
      "1650638391.8369815\n",
      "1650638391.8692803\n",
      "1650638391.8984869\n",
      "1650638393.1068833\n",
      "1650638394.0337977\n",
      "1650638394.7482672\n",
      "1650638394.7949982\n",
      "1650638395.3471994\n",
      "1650638395.3797584\n",
      "1650638395.5375044\n",
      "1650638396.6044831\n",
      "1650638396.6135752\n",
      "1650638398.0444362\n",
      "1650638398.1296687\n",
      "1650638398.1777549\n",
      "1650638402.2085152\n",
      "1650638402.4408014\n",
      "1650638402.517175\n",
      "1650638402.775493\n",
      "1650638402.866829\n",
      "1650638404.168358\n",
      "1650638404.209666\n",
      "1650638404.4053175\n",
      "1650638405.7482123\n",
      "1650638405.8795679\n",
      "1650638409.850172\n",
      "1650638409.8778663\n",
      "1650638410.921407\n",
      "1650638410.9384484\n",
      "1650638413.3420982\n",
      "1650638414.9720376\n",
      "1650638414.9739041\n",
      "1650638415.0836315\n",
      "1650638415.098281\n",
      "1650638415.1032069\n",
      "1650638415.1162167\n",
      "1650638415.1229599\n",
      "1650638415.1369398\n",
      "1650638415.163816\n",
      "1650638415.167057\n",
      "1650638415.1870177\n",
      "1650638415.2503278\n",
      "1650638415.2521546\n",
      "1650638416.3185623\n",
      "1650638416.3529165\n",
      "1650638416.3799338\n",
      "1650638416.3827226\n",
      "1650638416.6340766\n",
      "1650638416.9874897\n",
      "1650638416.989438\n",
      "1650638417.0321374\n",
      "1650638417.0433452\n",
      "1650638417.0548046\n",
      "1650638417.071054\n",
      "1650638417.0730734\n",
      "1650638417.1069548\n",
      "1650638418.2603908\n",
      "1650638418.2641337\n",
      "1650638418.8023336\n",
      "1650638425.4410906\n",
      "1650638428.193241\n",
      "1650638428.2237525\n",
      "1650638428.2448564\n",
      "1650638430.0417619\n",
      "1650638435.39039\n",
      "1650638437.3173568\n",
      "1650638437.4615028\n",
      "1650638437.4997172\n",
      "1650638438.0831316\n",
      "1650638441.3447738\n",
      "1650638441.6607985\n",
      "1650638442.2871547\n"
     ]
    },
    {
     "data": {
      "text/plain": [
       "tensor([[[  0.,   0.,   0.,  ...,   0.,   0.,   0.],\n",
       "         [  0.,   0.,   0.,  ...,   0.,   0.,   0.],\n",
       "         [  0.,   0.,   0.,  ...,   0.,   0.,   0.],\n",
       "         ...,\n",
       "         [  0.,   0.,   0.,  ...,   0.,   0.,   0.],\n",
       "         [  0.,   0.,   0.,  ...,   0.,   0.,   0.],\n",
       "         [  0.,   0.,   0.,  ...,   0.,   0.,   0.]],\n",
       "\n",
       "        [[  0.,   0.,   0.,  ...,   0.,   0.,   0.],\n",
       "         [  0.,   0.,   0.,  ...,   0.,   0.,   0.],\n",
       "         [  0.,   0.,   0.,  ...,   0.,   0.,   0.],\n",
       "         ...,\n",
       "         [  0.,   0.,   0.,  ...,   0.,   0.,   0.],\n",
       "         [  0.,   0.,   0.,  ...,   0.,   0.,   0.],\n",
       "         [  0.,   0.,   0.,  ...,   0.,   0.,   0.]],\n",
       "\n",
       "        [[  0.,   0.,   0.,  ...,   0.,   0.,   0.],\n",
       "         [  0.,   0.,   0.,  ...,   0.,   0.,   0.],\n",
       "         [  0.,   0.,   0.,  ...,   0.,   0.,   0.],\n",
       "         ...,\n",
       "         [  0.,   0.,   0.,  ...,   0.,   0.,   0.],\n",
       "         [  0.,   0.,   0.,  ...,   0.,   0.,   0.],\n",
       "         [  0.,   0.,   0.,  ...,   0.,   0.,   0.]],\n",
       "\n",
       "        [[255., 255., 255.,  ...,   0.,   0.,   0.],\n",
       "         [255., 255., 255.,  ...,   0.,   0.,   0.],\n",
       "         [255., 255., 255.,  ...,   0.,   0.,   0.],\n",
       "         ...,\n",
       "         [  0.,   0.,   0.,  ...,   0.,   0.,   0.],\n",
       "         [  0.,   0.,   0.,  ...,   0.,   0.,   0.],\n",
       "         [  0.,   0.,   0.,  ...,   0.,   0.,   0.]],\n",
       "\n",
       "        [[  0.,   0.,   0.,  ...,   0.,   0.,   0.],\n",
       "         [  0.,   0.,   0.,  ...,   0.,   0.,   0.],\n",
       "         [  0.,   0.,   0.,  ...,   0.,   0.,   0.],\n",
       "         ...,\n",
       "         [  0.,   0.,   0.,  ...,   0.,   0.,   0.],\n",
       "         [  0.,   0.,   0.,  ...,   0.,   0.,   0.],\n",
       "         [  0.,   0.,   0.,  ...,   0.,   0.,   0.]],\n",
       "\n",
       "        [[  0.,   0.,   0.,  ...,   0.,   0.,   0.],\n",
       "         [  0.,   0.,   0.,  ...,   0.,   0.,   0.],\n",
       "         [  0.,   0.,   0.,  ...,   0.,   0.,   0.],\n",
       "         ...,\n",
       "         [  0.,   0.,   0.,  ...,   0.,   0.,   0.],\n",
       "         [  0.,   0.,   0.,  ...,   0.,   0.,   0.],\n",
       "         [  0.,   0.,   0.,  ...,   0.,   0.,   0.]]])"
      ]
     },
     "execution_count": 2,
     "metadata": {},
     "output_type": "execute_result"
    }
   ],
   "source": [
    "data_dir = \"../datasets/NA12878_PacBio_MtSinai/\"\n",
    "bam_path = data_dir + \"sorted_final_merged.bam\"\n",
    "\n",
    "ut.cigar_img_single(bam_path, \"chr1\", 10632, 10743)"
   ]
  },
  {
   "cell_type": "code",
   "execution_count": 3,
   "id": "469172b4",
   "metadata": {},
   "outputs": [
    {
     "data": {
      "text/plain": [
       "236.24617314338684"
      ]
     },
     "execution_count": 3,
     "metadata": {},
     "output_type": "execute_result"
    }
   ],
   "source": [
    "1650638442.2871547 - 1650638206.0409815"
   ]
  },
  {
   "cell_type": "code",
   "execution_count": 7,
   "id": "a077fd85",
   "metadata": {},
   "outputs": [],
   "source": [
    "d = [0 ,  0 ,  0 ,  0 ,  0 ,  0] * 10"
   ]
  },
  {
   "cell_type": "code",
   "execution_count": 9,
   "id": "e153c5e4",
   "metadata": {},
   "outputs": [
    {
     "name": "stdout",
     "output_type": "stream",
     "text": [
      "1650639354.9725401\n",
      "1650639354.975012\n",
      "1650639356.5311387\n",
      "1650639358.4680214\n",
      "1650639362.8705823\n",
      "1650639363.4270627\n",
      "1650639365.7455864\n",
      "1650639366.8697503\n",
      "1650639369.285387\n",
      "1650639369.9901602\n",
      "1650639372.660388\n",
      "1650639374.975229\n",
      "1650639375.6317935\n",
      "1650639376.7527688\n",
      "1650639378.9031756\n",
      "1650639379.7927423\n",
      "1650639381.033845\n",
      "1650639381.3235655\n",
      "1650639383.2085814\n",
      "1650639384.347083\n",
      "1650639391.1551456\n",
      "1650639393.2852561\n",
      "1650639396.5729034\n",
      "1650639400.8857155\n",
      "1650639403.4854178\n",
      "1650639404.730704\n",
      "1650639404.8498206\n",
      "1650639409.8258412\n",
      "1650639410.7147918\n",
      "1650639411.8856683\n",
      "1650639414.157227\n",
      "1650639414.294832\n",
      "1650639418.511421\n",
      "1650639419.148581\n",
      "1650639420.0902839\n",
      "1650639420.82858\n",
      "1650639421.9352508\n",
      "1650639422.0847652\n",
      "1650639422.1343286\n",
      "1650639424.2701967\n",
      "1650639425.989803\n",
      "1650639427.8863838\n",
      "1650639427.9789126\n",
      "1650639428.0972602\n",
      "1650639430.759463\n",
      "1650639430.809811\n",
      "1650639431.120981\n",
      "1650639431.5899575\n",
      "1650639436.0907183\n",
      "1650639436.1928144\n",
      "1650639438.977349\n",
      "1650639438.9955175\n",
      "1650639439.1160865\n",
      "1650639439.753155\n",
      "1650639442.8546567\n",
      "1650639442.9459453\n",
      "1650639445.6610045\n",
      "1650639448.8665864\n",
      "1650639449.7758906\n",
      "1650639449.8870242\n",
      "1650639452.821739\n",
      "1650639454.450296\n",
      "1650639457.3708572\n",
      "1650639457.4550915\n",
      "1650639459.0274844\n",
      "1650639459.6839085\n",
      "1650639460.9762409\n",
      "1650639463.8459852\n",
      "1650639466.8576887\n",
      "1650639468.399154\n",
      "1650639472.06844\n",
      "1650639472.2030902\n",
      "1650639476.6862597\n",
      "1650639476.737889\n",
      "1650639477.1134446\n",
      "1650639479.1823554\n",
      "1650639479.2428565\n",
      "1650639479.2929304\n",
      "1650639479.8387082\n",
      "1650639480.0896993\n",
      "1650639480.139078\n",
      "1650639481.0383165\n",
      "1650639483.3180523\n",
      "1650639483.4951365\n",
      "1650639487.3012156\n",
      "1650639487.4139678\n",
      "1650639488.9350393\n",
      "1650639488.9662166\n",
      "1650639489.0393157\n",
      "1650639489.0958464\n",
      "1650639491.2367878\n",
      "1650639491.3484976\n",
      "1650639492.3757029\n",
      "1650639492.43218\n",
      "1650639492.57165\n",
      "1650639492.6258721\n",
      "1650639492.6702423\n",
      "1650639497.1668684\n",
      "1650639500.0477378\n",
      "1650639502.1998036\n",
      "1650639502.3170507\n",
      "1650639502.3989868\n",
      "1650639502.4668229\n",
      "1650639503.3417764\n",
      "1650639506.033628\n",
      "1650639506.1107054\n",
      "1650639506.2004802\n",
      "1650639506.2666726\n",
      "1650639506.3152323\n",
      "1650639508.965614\n",
      "1650639511.1698916\n",
      "1650639511.9389527\n",
      "1650639512.0829923\n",
      "1650639512.1683474\n",
      "1650639512.5184298\n",
      "1650639514.992741\n",
      "1650639516.4985657\n",
      "1650639516.531134\n",
      "1650639516.6399744\n",
      "1650639517.5651462\n",
      "1650639517.8020678\n",
      "1650639518.208133\n",
      "1650639520.1207979\n",
      "1650639520.2109387\n",
      "1650639520.991668\n",
      "1650639521.0370846\n",
      "1650639521.0950413\n",
      "1650639521.1784477\n",
      "1650639521.2422566\n",
      "1650639521.7065322\n",
      "1650639521.7931852\n",
      "1650639521.8288329\n",
      "1650639522.4057894\n",
      "1650639522.4192748\n",
      "1650639522.438924\n",
      "1650639523.9712865\n",
      "1650639525.7478297\n",
      "1650639525.8576963\n",
      "1650639525.8645322\n",
      "1650639526.174398\n",
      "1650639526.6826885\n",
      "1650639528.6196637\n",
      "1650639528.652208\n",
      "1650639529.3557487\n",
      "1650639529.37956\n",
      "1650639529.4347122\n",
      "1650639533.4119885\n",
      "1650639534.4393277\n",
      "1650639534.5440667\n",
      "1650639534.5872426\n",
      "1650639539.6000104\n",
      "1650639539.6371803\n",
      "1650639539.7210414\n",
      "1650639539.7233033\n",
      "1650639539.7799995\n",
      "1650639539.8420463\n",
      "1650639541.3820212\n",
      "1650639541.407041\n",
      "1650639542.6925874\n",
      "1650639543.0143797\n",
      "1650639545.5775356\n",
      "1650639545.6561463\n",
      "1650639546.706144\n",
      "1650639548.500437\n",
      "1650639548.5352864\n",
      "1650639548.8823943\n",
      "1650639551.3201082\n",
      "1650639553.0868037\n",
      "1650639553.1543987\n",
      "1650639553.2060585\n",
      "1650639553.8761818\n",
      "1650639554.6261895\n",
      "1650639555.0972564\n",
      "1650639555.1051788\n",
      "1650639555.4389458\n",
      "1650639555.4891272\n",
      "1650639555.5924966\n",
      "1650639556.0208037\n",
      "1650639556.0528586\n",
      "1650639557.0078924\n",
      "1650639557.095145\n",
      "1650639557.1298428\n",
      "1650639560.2774656\n",
      "1650639560.4702256\n",
      "1650639560.542774\n",
      "1650639560.7636414\n",
      "1650639560.8444068\n",
      "1650639562.2212555\n",
      "1650639562.2555263\n",
      "1650639562.4523427\n",
      "1650639564.0543966\n",
      "1650639564.18054\n",
      "1650639568.6165388\n",
      "1650639568.6472993\n",
      "1650639569.776017\n",
      "1650639569.7856352\n",
      "1650639572.5410979\n",
      "1650639574.494592\n",
      "1650639574.4972284\n",
      "1650639574.619987\n",
      "1650639574.6320632\n",
      "1650639574.6372209\n",
      "1650639574.6509995\n",
      "1650639574.6584864\n",
      "1650639574.668469\n",
      "1650639574.7095764\n",
      "1650639574.716797\n",
      "1650639574.7508507\n",
      "1650639574.7750638\n",
      "1650639574.7773626\n",
      "1650639575.5961542\n",
      "1650639575.7201006\n",
      "1650639575.7742963\n",
      "1650639575.7879596\n",
      "1650639576.266993\n",
      "1650639576.7922893\n",
      "1650639576.7954843\n",
      "1650639576.9509666\n",
      "1650639576.9751735\n",
      "1650639577.0020928\n",
      "1650639577.0317369\n",
      "1650639577.0485635\n",
      "1650639577.141925\n",
      "1650639578.874827\n",
      "1650639578.8837414\n",
      "1650639579.9053533\n",
      "1650639585.2824442\n",
      "1650639587.6886322\n",
      "1650639587.7097614\n",
      "1650639587.723274\n",
      "1650639589.4700353\n",
      "1650639592.1059527\n",
      "1650639593.9943092\n",
      "1650639594.1376245\n",
      "1650639594.182598\n",
      "1650639594.4765532\n",
      "1650639597.816463\n",
      "1650639598.1838467\n",
      "1650639598.9114137\n"
     ]
    },
    {
     "data": {
      "text/plain": [
       "tensor([[[  0.,   0.,   0.,  ...,   0.,   0.,   0.],\n",
       "         [  0.,   0.,   0.,  ...,   0.,   0.,   0.],\n",
       "         [  0.,   0.,   0.,  ...,   0.,   0.,   0.],\n",
       "         ...,\n",
       "         [  0.,   0.,   0.,  ...,   0.,   0.,   0.],\n",
       "         [  0.,   0.,   0.,  ...,   0.,   0.,   0.],\n",
       "         [  0.,   0.,   0.,  ...,   0.,   0.,   0.]],\n",
       "\n",
       "        [[  0.,   0.,   0.,  ...,   0.,   0.,   0.],\n",
       "         [  0.,   0.,   0.,  ...,   0.,   0.,   0.],\n",
       "         [  0.,   0.,   0.,  ...,   0.,   0.,   0.],\n",
       "         ...,\n",
       "         [  0.,   0.,   0.,  ...,   0.,   0.,   0.],\n",
       "         [  0.,   0.,   0.,  ...,   0.,   0.,   0.],\n",
       "         [  0.,   0.,   0.,  ...,   0.,   0.,   0.]],\n",
       "\n",
       "        [[  0.,   0.,   0.,  ...,   0.,   0.,   0.],\n",
       "         [  0.,   0.,   0.,  ...,   0.,   0.,   0.],\n",
       "         [  0.,   0.,   0.,  ...,   0.,   0.,   0.],\n",
       "         ...,\n",
       "         [  0.,   0.,   0.,  ...,   0.,   0.,   0.],\n",
       "         [  0.,   0.,   0.,  ...,   0.,   0.,   0.],\n",
       "         [  0.,   0.,   0.,  ...,   0.,   0.,   0.]],\n",
       "\n",
       "        [[255., 255., 255.,  ...,   0.,   0.,   0.],\n",
       "         [255., 255., 255.,  ...,   0.,   0.,   0.],\n",
       "         [255., 255., 255.,  ...,   0.,   0.,   0.],\n",
       "         ...,\n",
       "         [  0.,   0.,   0.,  ...,   0.,   0.,   0.],\n",
       "         [  0.,   0.,   0.,  ...,   0.,   0.,   0.],\n",
       "         [  0.,   0.,   0.,  ...,   0.,   0.,   0.]],\n",
       "\n",
       "        [[  0.,   0.,   0.,  ...,   0.,   0.,   0.],\n",
       "         [  0.,   0.,   0.,  ...,   0.,   0.,   0.],\n",
       "         [  0.,   0.,   0.,  ...,   0.,   0.,   0.],\n",
       "         ...,\n",
       "         [  0.,   0.,   0.,  ...,   0.,   0.,   0.],\n",
       "         [  0.,   0.,   0.,  ...,   0.,   0.,   0.],\n",
       "         [  0.,   0.,   0.,  ...,   0.,   0.,   0.]],\n",
       "\n",
       "        [[  0.,   0.,   0.,  ...,   0.,   0.,   0.],\n",
       "         [  0.,   0.,   0.,  ...,   0.,   0.,   0.],\n",
       "         [  0.,   0.,   0.,  ...,   0.,   0.,   0.],\n",
       "         ...,\n",
       "         [  0.,   0.,   0.,  ...,   0.,   0.,   0.],\n",
       "         [  0.,   0.,   0.,  ...,   0.,   0.,   0.],\n",
       "         [  0.,   0.,   0.,  ...,   0.,   0.,   0.]]])"
      ]
     },
     "execution_count": 9,
     "metadata": {},
     "output_type": "execute_result"
    }
   ],
   "source": [
    "data_dir = \"../datasets/NA12878_PacBio_MtSinai/\"\n",
    "bam_path = data_dir + \"sorted_final_merged.bam\"\n",
    "\n",
    "ut.cigar_img_single(bam_path, \"chr1\", 10632, 10743)"
   ]
  },
  {
   "cell_type": "code",
   "execution_count": 11,
   "id": "7cbf985f",
   "metadata": {},
   "outputs": [
    {
     "data": {
      "text/plain": [
       "tensor([[-3.5866e-15,  4.5773e-41, -3.5866e-15,  4.5773e-41, -1.6166e-13,\n",
       "          4.5772e-41,  0.0000e+00,  0.0000e+00,  0.0000e+00,  0.0000e+00],\n",
       "        [ 0.0000e+00,  0.0000e+00,  0.0000e+00,  0.0000e+00,  0.0000e+00,\n",
       "          0.0000e+00,  0.0000e+00,  0.0000e+00,  0.0000e+00,  0.0000e+00],\n",
       "        [ 0.0000e+00,  0.0000e+00,  0.0000e+00,  0.0000e+00,  0.0000e+00,\n",
       "          0.0000e+00,  0.0000e+00,  0.0000e+00,  2.3694e-38,  0.0000e+00],\n",
       "        [ 0.0000e+00,  0.0000e+00,  0.0000e+00,  0.0000e+00,  0.0000e+00,\n",
       "          0.0000e+00,  0.0000e+00,  0.0000e+00,  0.0000e+00,  0.0000e+00],\n",
       "        [ 1.4013e-45,  0.0000e+00, -1.6166e-13,  4.5772e-41,  5.7591e-05,\n",
       "          4.5914e-41,  1.4013e-45,  0.0000e+00,  0.0000e+00,  0.0000e+00],\n",
       "        [ 4.5918e-41,  0.0000e+00,  0.0000e+00,  0.0000e+00,  0.0000e+00,\n",
       "          0.0000e+00, -1.6131e+00,  3.0852e-41,  1.1351e-43,  0.0000e+00]])"
      ]
     },
     "execution_count": 11,
     "metadata": {},
     "output_type": "execute_result"
    }
   ],
   "source": [
    "import torch\n",
    "torch.empty(6, 10)"
   ]
  },
  {
   "cell_type": "code",
   "execution_count": 2,
   "id": "d6ee0228",
   "metadata": {},
   "outputs": [
    {
     "name": "stdout",
     "output_type": "stream",
     "text": [
      "1650731022.0327325\n",
      "1650731022.0383043\n",
      "1650731022.042559\n",
      "1650731022.0432174\n",
      "1650731022.048161\n",
      "1650731022.0487905\n",
      "1650731022.0518787\n",
      "1650731022.0525243\n",
      "1650731022.055755\n",
      "1650731022.0563526\n",
      "1650731022.0595958\n",
      "1650731022.0598936\n",
      "1650731022.06148\n",
      "1650731022.063802\n",
      "1650731022.0647278\n",
      "1650731022.0653377\n",
      "1650731022.0659516\n",
      "1650731022.0705142\n",
      "1650731022.0710077\n",
      "1650731022.072525\n",
      "1650731022.0757139\n",
      "1650731022.0764427\n",
      "1650731022.0796247\n",
      "1650731022.080196\n",
      "1650731022.0829034\n",
      "1650731022.0834382\n",
      "1650731022.0839865\n",
      "1650731022.0900846\n",
      "1650731022.0906773\n",
      "1650731022.0931895\n",
      "1650731022.0943816\n",
      "1650731022.0949337\n",
      "1650731022.0983455\n",
      "1650731022.0989625\n",
      "1650731022.101666\n",
      "1650731022.1024709\n",
      "1650731022.1031651\n",
      "1650731022.106031\n",
      "1650731022.1066785\n",
      "1650731022.1071937\n",
      "1650731022.1085062\n",
      "1650731022.1114743\n",
      "1650731022.1120315\n",
      "1650731022.1127489\n",
      "1650731022.1163094\n",
      "1650731022.1169465\n",
      "1650731022.117492\n",
      "1650731022.1200943\n",
      "1650731022.120746\n",
      "1650731022.1213078\n",
      "1650731022.1265\n",
      "1650731022.1269069\n",
      "1650731022.1290274\n",
      "1650731022.1298702\n",
      "1650731022.1343856\n",
      "1650731022.135169\n",
      "1650731022.1359735\n",
      "1650731022.1395876\n",
      "1650731022.140212\n",
      "1650731022.1429002\n",
      "1650731022.1439688\n",
      "1650731022.144561\n",
      "1650731022.1453607\n",
      "1650731022.150214\n",
      "1650731022.1509647\n",
      "1650731022.1519682\n",
      "1650731022.1525605\n",
      "1650731022.1562636\n",
      "1650731022.157172\n",
      "1650731022.1601605\n",
      "1650731022.1611128\n",
      "1650731022.1642807\n",
      "1650731022.1658342\n",
      "1650731022.1709237\n",
      "1650731022.171611\n",
      "1650731022.1750572\n",
      "1650731022.175688\n",
      "1650731022.178012\n",
      "1650731022.1789153\n",
      "1650731022.179884\n",
      "1650731022.180513\n",
      "1650731022.1810277\n",
      "1650731022.1831615\n",
      "1650731022.185139\n",
      "1650731022.1873317\n",
      "1650731022.189116\n",
      "1650731022.1897674\n",
      "1650731022.194049\n",
      "1650731022.1946433\n",
      "1650731022.1969001\n",
      "1650731022.1976368\n",
      "1650731022.200708\n",
      "1650731022.2008924\n",
      "1650731022.2018235\n",
      "1650731022.2027016\n",
      "1650731022.2028258\n",
      "1650731022.2053714\n",
      "1650731022.206603\n",
      "1650731022.211823\n",
      "1650731022.2126248\n",
      "1650731022.2158735\n",
      "1650731022.2160394\n",
      "1650731022.2170603\n",
      "1650731022.2177546\n",
      "1650731022.2212336\n",
      "1650731022.2219834\n",
      "1650731022.2225459\n",
      "1650731022.224798\n",
      "1650731022.2255678\n",
      "1650731022.2285478\n",
      "1650731022.2302036\n",
      "1650731022.2355974\n",
      "1650731022.23652\n",
      "1650731022.239354\n",
      "1650731022.2401273\n",
      "1650731022.2433872\n",
      "1650731022.2441716\n",
      "1650731022.244289\n",
      "1650731022.244903\n",
      "1650731022.2501\n",
      "1650731022.2519774\n",
      "1650731022.254955\n",
      "1650731022.255647\n",
      "1650731022.2584114\n",
      "1650731022.2585616\n",
      "1650731022.2596319\n",
      "1650731022.260207\n",
      "1650731022.2603555\n",
      "1650731022.2645097\n",
      "1650731022.2652388\n",
      "1650731022.265408\n",
      "1650731022.2685738\n",
      "1650731022.2688422\n",
      "1650731022.2701983\n",
      "1650731022.2717714\n",
      "1650731022.2725403\n",
      "1650731022.2759974\n",
      "1650731022.2761629\n",
      "1650731022.2768865\n",
      "1650731022.2773125\n",
      "1650731022.278502\n",
      "1650731022.2787576\n",
      "1650731022.2817464\n",
      "1650731022.282322\n",
      "1650731022.2832315\n",
      "1650731022.2840817\n",
      "1650731022.2874718\n",
      "1650731022.2887194\n",
      "1650731022.2888718\n",
      "1650731022.2900276\n",
      "1650731022.296905\n",
      "1650731022.2970495\n",
      "1650731022.2971108\n",
      "1650731022.2978961\n",
      "1650731022.2984595\n",
      "1650731022.2990372\n",
      "1650731022.299299\n",
      "1650731022.3021443\n",
      "1650731022.3028204\n",
      "1650731022.3036003\n",
      "1650731022.3065252\n",
      "1650731022.3071938\n",
      "1650731022.307919\n",
      "1650731022.3082452\n",
      "1650731022.3116684\n",
      "1650731022.3122582\n",
      "1650731022.3138044\n",
      "1650731022.3141313\n",
      "1650731022.3178046\n",
      "1650731022.3186414\n",
      "1650731022.3193774\n",
      "1650731022.3226717\n",
      "1650731022.3229156\n",
      "1650731022.3239264\n",
      "1650731022.3241606\n",
      "1650731022.3254797\n",
      "1650731022.3260264\n",
      "1650731022.326126\n",
      "1650731022.3284822\n",
      "1650731022.3296819\n",
      "1650731022.3298364\n",
      "1650731022.3303874\n",
      "1650731022.3351078\n",
      "1650731022.3358715\n",
      "1650731022.336631\n",
      "1650731022.3391516\n",
      "1650731022.33998\n",
      "1650731022.340288\n",
      "1650731022.3414109\n",
      "1650731022.3424785\n",
      "1650731022.3453438\n",
      "1650731022.346293\n",
      "1650731022.347139\n",
      "1650731022.35007\n",
      "1650731022.3503582\n",
      "1650731022.3514419\n",
      "1650731022.3521183\n",
      "1650731022.3523989\n",
      "1650731022.3555548\n",
      "1650731022.3557682\n",
      "1650731022.3558033\n",
      "1650731022.3567257\n",
      "1650731022.3567703\n",
      "1650731022.3571398\n",
      "1650731022.3574457\n",
      "1650731022.3577886\n",
      "1650731022.358631\n",
      "1650731022.3587363\n",
      "1650731022.358773\n",
      "1650731022.3608003\n",
      "1650731022.3620818\n",
      "1650731022.3622732\n",
      "1650731022.3630435\n",
      "1650731022.3639276\n",
      "1650731022.366264\n",
      "1650731022.3664043\n",
      "1650731022.3669872\n",
      "1650731022.3671892\n",
      "1650731022.3676949\n",
      "1650731022.3677778\n",
      "1650731022.3678503\n",
      "1650731022.370719\n",
      "1650731022.3713987\n",
      "1650731022.3717031\n",
      "1650731022.3717513\n",
      "1650731022.3735409\n",
      "1650731022.378215\n",
      "1650731022.378556\n",
      "1650731022.3790402\n",
      "1650731022.3818388\n",
      "1650731022.3833497\n",
      "1650731022.3842268\n",
      "1650731022.3882422\n",
      "1650731022.388475\n",
      "1650731022.389392\n",
      "1650731022.3902187\n",
      "1650731022.3906407\n",
      "1650731022.3937073\n",
      "1650731031.6603463\n"
     ]
    },
    {
     "data": {
      "text/plain": [
       "tensor([[[  0.,   0.,   0.,  ...,   0.,   0.,   0.],\n",
       "         [  0.,   0.,   0.,  ...,   0.,   0.,   0.],\n",
       "         [  0.,   0.,   0.,  ...,   0.,   0.,   0.],\n",
       "         ...,\n",
       "         [  0.,   0.,   0.,  ...,   0.,   0.,   0.],\n",
       "         [  0.,   0.,   0.,  ...,   0.,   0.,   0.],\n",
       "         [  0.,   0.,   0.,  ...,   0.,   0.,   0.]],\n",
       "\n",
       "        [[  0.,   0.,   0.,  ...,   0.,   0.,   0.],\n",
       "         [  0.,   0.,   0.,  ...,   0.,   0.,   0.],\n",
       "         [  0.,   0.,   0.,  ...,   0.,   0.,   0.],\n",
       "         ...,\n",
       "         [  0.,   0.,   0.,  ...,   0.,   0.,   0.],\n",
       "         [  0.,   0.,   0.,  ...,   0.,   0.,   0.],\n",
       "         [  0.,   0.,   0.,  ...,   0.,   0.,   0.]],\n",
       "\n",
       "        [[  0.,   0.,   0.,  ...,   0.,   0.,   0.],\n",
       "         [  0.,   0.,   0.,  ...,   0.,   0.,   0.],\n",
       "         [  0.,   0.,   0.,  ...,   0.,   0.,   0.],\n",
       "         ...,\n",
       "         [  0.,   0.,   0.,  ...,   0.,   0.,   0.],\n",
       "         [  0.,   0.,   0.,  ...,   0.,   0.,   0.],\n",
       "         [  0.,   0.,   0.,  ...,   0.,   0.,   0.]],\n",
       "\n",
       "        [[255., 255., 255.,  ...,   0.,   0.,   0.],\n",
       "         [255., 255., 255.,  ...,   0.,   0.,   0.],\n",
       "         [255., 255., 255.,  ...,   0.,   0.,   0.],\n",
       "         ...,\n",
       "         [  0.,   0.,   0.,  ...,   0.,   0.,   0.],\n",
       "         [  0.,   0.,   0.,  ...,   0.,   0.,   0.],\n",
       "         [  0.,   0.,   0.,  ...,   0.,   0.,   0.]],\n",
       "\n",
       "        [[  0.,   0.,   0.,  ...,   0.,   0.,   0.],\n",
       "         [  0.,   0.,   0.,  ...,   0.,   0.,   0.],\n",
       "         [  0.,   0.,   0.,  ...,   0.,   0.,   0.],\n",
       "         ...,\n",
       "         [  0.,   0.,   0.,  ...,   0.,   0.,   0.],\n",
       "         [  0.,   0.,   0.,  ...,   0.,   0.,   0.],\n",
       "         [  0.,   0.,   0.,  ...,   0.,   0.,   0.]],\n",
       "\n",
       "        [[  0.,   0.,   0.,  ...,   0.,   0.,   0.],\n",
       "         [  0.,   0.,   0.,  ...,   0.,   0.,   0.],\n",
       "         [  0.,   0.,   0.,  ...,   0.,   0.,   0.],\n",
       "         ...,\n",
       "         [  0.,   0.,   0.,  ...,   0.,   0.,   0.],\n",
       "         [  0.,   0.,   0.,  ...,   0.,   0.,   0.],\n",
       "         [  0.,   0.,   0.,  ...,   0.,   0.,   0.]]])"
      ]
     },
     "execution_count": 2,
     "metadata": {},
     "output_type": "execute_result"
    }
   ],
   "source": [
    "data_dir = \"../datasets/NA12878_PacBio_MtSinai/\"\n",
    "bam_path = data_dir + \"sorted_final_merged.bam\"\n",
    "ut.cigar_img_single_optimal(bam_path, \"chr1\", 10632, 10743)"
   ]
  },
  {
   "cell_type": "code",
   "execution_count": 7,
   "id": "9bbeaec8",
   "metadata": {},
   "outputs": [],
   "source": [
    "import torch\n",
    "p_position = torch.load(data_dir + 'position/' + \"chr1\" + '/positive' + '.pt')\n",
    "n_position = torch.load(data_dir + 'position/' + \"chr2\" + '/negative' + '.pt')"
   ]
  },
  {
   "cell_type": "code",
   "execution_count": 8,
   "id": "ee2b5b6a",
   "metadata": {},
   "outputs": [
    {
     "data": {
      "text/plain": [
       "[[10604, 10769],\n",
       " [10828, 10963],\n",
       " [66125, 66516],\n",
       " [66477, 66569],\n",
       " [386644, 386790],\n",
       " [436749, 436805],\n",
       " [437875, 437977],\n",
       " [438122, 438326],\n",
       " [445208, 445504],\n",
       " [446972, 447088],\n",
       " [544995, 545100],\n",
       " [645896, 646046],\n",
       " [662580, 662725],\n",
       " [724268, 727821],\n",
       " [756198, 756565],\n",
       " [789045, 789118],\n",
       " [801924, 802081],\n",
       " [802162, 802326],\n",
       " [802313, 802532],\n",
       " [811283, 811472],\n",
       " [811529, 811710],\n",
       " [813735, 813886],\n",
       " [844238, 844306],\n",
       " [884040, 884101],\n",
       " [924152, 924220],\n",
       " [931531, 931634],\n",
       " [931597, 931750],\n",
       " [931960, 932185],\n",
       " [934090, 934152],\n",
       " [964117, 964204],\n",
       " [1000552, 1000615],\n",
       " [1016031, 1016178],\n",
       " [1016298, 1016346],\n",
       " [1076756, 1076843],\n",
       " [1082708, 1082762],\n",
       " [1137323, 1137540],\n",
       " [1137634, 1137683],\n",
       " [1137910, 1137964],\n",
       " [1175976, 1176039],\n",
       " [1180453, 1180605],\n",
       " [1219439, 1219739],\n",
       " [1224967, 1225023],\n",
       " [1259551, 1259647],\n",
       " [1275276, 1275333],\n",
       " [1317667, 1317777],\n",
       " [1317829, 1318456],\n",
       " [1362758, 1362922],\n",
       " [1363283, 1363441],\n",
       " [1378286, 1378334],\n",
       " [1413178, 1413330],\n",
       " [1413310, 1413509],\n",
       " [1501044, 1501182],\n",
       " [1530774, 1531489],\n",
       " [1541375, 1541795],\n",
       " [1583562, 1589439],\n",
       " [1647624, 1647774],\n",
       " [1648206, 1648338],\n",
       " [1681055, 1681129],\n",
       " [1855647, 1855799],\n",
       " [1860565, 1862155],\n",
       " [1880349, 1880508],\n",
       " [1910723, 1910809],\n",
       " [1913270, 1914015],\n",
       " [1913597, 1913969],\n",
       " [1925150, 1925372],\n",
       " [1950618, 1950960],\n",
       " [2026209, 2026282],\n",
       " [2037963, 2038127],\n",
       " [2038188, 2038628],\n",
       " [2053054, 2053200],\n",
       " [2053261, 2053429],\n",
       " [2053364, 2054231],\n",
       " [2053875, 2053961],\n",
       " [2212312, 2212633],\n",
       " [2212794, 2212956],\n",
       " [2213341, 2213403],\n",
       " [2213686, 2213748],\n",
       " [2263398, 2263448],\n",
       " [2332626, 2333084],\n",
       " [2371698, 2373225],\n",
       " [2390914, 2391034],\n",
       " [2454183, 2454328],\n",
       " [2454228, 2454769],\n",
       " [2581268, 2581379],\n",
       " [2583454, 2583694],\n",
       " [2584210, 2584631],\n",
       " [2585453, 2587133],\n",
       " [2586009, 2586911],\n",
       " [2586432, 2588718],\n",
       " [2587283, 2588485],\n",
       " [2588296, 2588356],\n",
       " [2588571, 2588631],\n",
       " [2588717, 2589258],\n",
       " [2589107, 2589228],\n",
       " [2589534, 2589774],\n",
       " [2589877, 2591254],\n",
       " [2590715, 2590901],\n",
       " [2591225, 2592726],\n",
       " [2591998, 2593379],\n",
       " [2592729, 2596536],\n",
       " [2593950, 2594131],\n",
       " [2594521, 2594582],\n",
       " [2596193, 2596373],\n",
       " [2596715, 2597255],\n",
       " [2597100, 2597529],\n",
       " [2597231, 2601199],\n",
       " [2597820, 2601852],\n",
       " [2598846, 2598903],\n",
       " [2599199, 2600015],\n",
       " [2599926, 2600745],\n",
       " [2600794, 2601154],\n",
       " [2600817, 2605144],\n",
       " [2602143, 2603883],\n",
       " [2603378, 2603438],\n",
       " [2603646, 2603887],\n",
       " [2604165, 2604225],\n",
       " [2604205, 2605888],\n",
       " [2605495, 2606817],\n",
       " [2605948, 2606848],\n",
       " [2606946, 2607786],\n",
       " [2607716, 2608497],\n",
       " [2608625, 2608782],\n",
       " [2608648, 2609717],\n",
       " [2608932, 2610015],\n",
       " [2609522, 2609764],\n",
       " [2610334, 2610394],\n",
       " [2610602, 2611654],\n",
       " [2611976, 2612756],\n",
       " [2612392, 2612573],\n",
       " [2612922, 2616955],\n",
       " [2615074, 2617091],\n",
       " [2615880, 2615942],\n",
       " [2616284, 2617004],\n",
       " [2616406, 2618544],\n",
       " [2617393, 2617634],\n",
       " [2617485, 2619640],\n",
       " [2618638, 2618759],\n",
       " [2618997, 2619060],\n",
       " [2619773, 2619905],\n",
       " [2621490, 2622506],\n",
       " [2623403, 2623553],\n",
       " [2624714, 2624775],\n",
       " [2627038, 2630296],\n",
       " [2627797, 2627857],\n",
       " [2629035, 2629096],\n",
       " [2630739, 2630909],\n",
       " [2631783, 2631921],\n",
       " [2631961, 2632081],\n",
       " [2632363, 2632508],\n",
       " [2632464, 2633006],\n",
       " [2632941, 2633254],\n",
       " [2633899, 2634049],\n",
       " [2691133, 2692501],\n",
       " [2691198, 2702731],\n",
       " [2693741, 2694350],\n",
       " [2765725, 2766103],\n",
       " [2766170, 2766320],\n",
       " [2769261, 2769417],\n",
       " [2775950, 2776580],\n",
       " [2779754, 2779826],\n",
       " [2838360, 2838422],\n",
       " [2866223, 2866296],\n",
       " [2933080, 2933940],\n",
       " [2942474, 2943095],\n",
       " [2954318, 2954423],\n",
       " [2959173, 2959258],\n",
       " [3027968, 3028013],\n",
       " [3092640, 3092658],\n",
       " [3092630, 3092780],\n",
       " [3092730, 3093081],\n",
       " [3097865, 3097985],\n",
       " [3097969, 3098401],\n",
       " [3177041, 3178321],\n",
       " [3203529, 3203586],\n",
       " [3203865, 3203938],\n",
       " [3268006, 3268156],\n",
       " [3296530, 3296592],\n",
       " [3344837, 3344981],\n",
       " [3367110, 3367267],\n",
       " [3392231, 3392591],\n",
       " [3393875, 3393894],\n",
       " [3418528, 3418717],\n",
       " [3427126, 3427180],\n",
       " [3495313, 3495448],\n",
       " [3499984, 3500602],\n",
       " [3504440, 3504719],\n",
       " [3504770, 3504917],\n",
       " [3560221, 3560384],\n",
       " [3610279, 3610330],\n",
       " [3611068, 3611854],\n",
       " [3785151, 3785615],\n",
       " [4059702, 4059859],\n",
       " [4059861, 4059933],\n",
       " [4076925, 4077130],\n",
       " [4125096, 4125378],\n",
       " [4137585, 4138104],\n",
       " [4137881, 4138663],\n",
       " [4160082, 4160167],\n",
       " [4196723, 4197233],\n",
       " [4204298, 4204472],\n",
       " [4204440, 4205958],\n",
       " [4222709, 4223144],\n",
       " [4396431, 4397375],\n",
       " [4568967, 4569018],\n",
       " [4603746, 4603751],\n",
       " [4603725, 4603943],\n",
       " [4693069, 4693405],\n",
       " [4800388, 4800637],\n",
       " [4999083, 5001864],\n",
       " [5135753, 5135861],\n",
       " [5172366, 5172372],\n",
       " [5172428, 5172800],\n",
       " [5220285, 5220735],\n",
       " [5394729, 5394910],\n",
       " [5447272, 5447434],\n",
       " [5464993, 5465072],\n",
       " [5728932, 5729082],\n",
       " [5773627, 5773720],\n",
       " [5862773, 5863439],\n",
       " [5877202, 5877451],\n",
       " [5877450, 5877594],\n",
       " [5889770, 5890292],\n",
       " [5892139, 5892855],\n",
       " [5934174, 5934597],\n",
       " [6037902, 6038052],\n",
       " [6064947, 6065068],\n",
       " [6065452, 6065602],\n",
       " [6065958, 6066123],\n",
       " [6167543, 6167683],\n",
       " [6167767, 6167833],\n",
       " [6220302, 6220431],\n",
       " [6618900, 6618997],\n",
       " [6775533, 6775593],\n",
       " [6802067, 6805068],\n",
       " [6997516, 6997812],\n",
       " [7000718, 7001816],\n",
       " [7044028, 7044334],\n",
       " [7175373, 7175735],\n",
       " [7199267, 7199322],\n",
       " [7560415, 7560532],\n",
       " [7575044, 7575104],\n",
       " [7916654, 7916738],\n",
       " [7925472, 7925984],\n",
       " [8276993, 8277312],\n",
       " [8336876, 8337045],\n",
       " [8336890, 8337685],\n",
       " [8382199, 8383119],\n",
       " [8391332, 8391543],\n",
       " [8404869, 8405363],\n",
       " [8561671, 8561738],\n",
       " [8562104, 8562650],\n",
       " [9113397, 9113681],\n",
       " [9121273, 9122305],\n",
       " [9176182, 9176533],\n",
       " [9183586, 9183652],\n",
       " [9189328, 9189462],\n",
       " [9230334, 9230365],\n",
       " [9230378, 9230854],\n",
       " [9342509, 9342896],\n",
       " [9471057, 9472803],\n",
       " [9682490, 9692223],\n",
       " [9870164, 9870371],\n",
       " [10028601, 10028811],\n",
       " [10804344, 10804542],\n",
       " [10804665, 10804769],\n",
       " [10877919, 10878094],\n",
       " [11030628, 11033475],\n",
       " [11052939, 11062847],\n",
       " [11101670, 11102074],\n",
       " [11433581, 11435449],\n",
       " [11491723, 11491795],\n",
       " [11582642, 11583723],\n",
       " [11830191, 11830223],\n",
       " [11829908, 11831860],\n",
       " [12783179, 12783330],\n",
       " [12849425, 12849554],\n",
       " [13144786, 13145116],\n",
       " [13442120, 13442290],\n",
       " [13522354, 13522504],\n",
       " [13625284, 13625437],\n",
       " [13796489, 13796515],\n",
       " [13796536, 13796557],\n",
       " [13796425, 13797417],\n",
       " [13848634, 13848826],\n",
       " [13984811, 13985000],\n",
       " [14172359, 14172407],\n",
       " [14818907, 14820431],\n",
       " [14840732, 14840997],\n",
       " [14978859, 14979255],\n",
       " [15021946, 15022000],\n",
       " [15194361, 15194453],\n",
       " [15297202, 15297365],\n",
       " [15362731, 15362799],\n",
       " [15365554, 15365635],\n",
       " [15490057, 15490207],\n",
       " [15551604, 15551990],\n",
       " [15641019, 15641463],\n",
       " [15714753, 15714984],\n",
       " [15754635, 15754817],\n",
       " [15780860, 15780998],\n",
       " [16216799, 16216949],\n",
       " [16297821, 16297875],\n",
       " [16416011, 16416101],\n",
       " [16637488, 16637710],\n",
       " [16750608, 16750809],\n",
       " [16866137, 16866534],\n",
       " [16922064, 16922155],\n",
       " [16924261, 16924718],\n",
       " [17002152, 17005514],\n",
       " [17007888, 17009869],\n",
       " [17027892, 17027948],\n",
       " [17057157, 17057170],\n",
       " [17194656, 17194808],\n",
       " [17223420, 17223876],\n",
       " [17223972, 17224020],\n",
       " [17225332, 17225380],\n",
       " [17226055, 17227472],\n",
       " [17227711, 17228193],\n",
       " [17228016, 17228492],\n",
       " [17227657, 17231745],\n",
       " [17228611, 17228685],\n",
       " [17229199, 17230527],\n",
       " [17231812, 17231869],\n",
       " [17233948, 17234425],\n",
       " [17235701, 17235971],\n",
       " [17492462, 17493616],\n",
       " [17518334, 17518396],\n",
       " [17534975, 17535030],\n",
       " [17567902, 17567956],\n",
       " [17615061, 17619090],\n",
       " [17619304, 17619466],\n",
       " [17757767, 17757816],\n",
       " [17764068, 17764177],\n",
       " [18015893, 18016045],\n",
       " [18186112, 18186408],\n",
       " [18195109, 18195207],\n",
       " [18375126, 18381182],\n",
       " [18792588, 18792675],\n",
       " [19070941, 19071056],\n",
       " [19252238, 19252421],\n",
       " [19252494, 19252574],\n",
       " [19387749, 19387974],\n",
       " [19706231, 19706382],\n",
       " [19871194, 19871215],\n",
       " [20095988, 20098030],\n",
       " [20257002, 20257484],\n",
       " [20259284, 20259764],\n",
       " [20708803, 20709458],\n",
       " [20789734, 20791090],\n",
       " [20949883, 20951792],\n",
       " [21315499, 21315595],\n",
       " [21506448, 21506822],\n",
       " [21713444, 21713493],\n",
       " [21714842, 21714989],\n",
       " [21737670, 21737720],\n",
       " [21745010, 21745085],\n",
       " [21789350, 21789382],\n",
       " [21829138, 21829201],\n",
       " [21986764, 21986854],\n",
       " [22720717, 22720768],\n",
       " [22896915, 22897054],\n",
       " [22904101, 22906022],\n",
       " [23081122, 23082119],\n",
       " [23276808, 23277192],\n",
       " [23430376, 23430424],\n",
       " [23601850, 23613064],\n",
       " [23718681, 23720031],\n",
       " [23821678, 23821774],\n",
       " [23830842, 23830897],\n",
       " [23980994, 23981489],\n",
       " [24037382, 24037526],\n",
       " [24163636, 24163720],\n",
       " [24164022, 24164106],\n",
       " [24210249, 24213474],\n",
       " [24226192, 24226517],\n",
       " [24318812, 24318962],\n",
       " [24337357, 24337555],\n",
       " [24357846, 24357996],\n",
       " [24358447, 24358597],\n",
       " [24538379, 24538685],\n",
       " [24538779, 24538887],\n",
       " [24671562, 24671833],\n",
       " [24941160, 24941635],\n",
       " [24966954, 24967009],\n",
       " [25056693, 25057096],\n",
       " [25126005, 25126078],\n",
       " [25328492, 25328692],\n",
       " [25371358, 25371493],\n",
       " [25380625, 25381108],\n",
       " [25435280, 25435382],\n",
       " [25438284, 25438338],\n",
       " [25493243, 25493309],\n",
       " [25614220, 25614371],\n",
       " [25732022, 25732172],\n",
       " [25789220, 25789286],\n",
       " [25855718, 25855733],\n",
       " [25855747, 25855777],\n",
       " [25855667, 25857091],\n",
       " [26077758, 26077844],\n",
       " [26094687, 26094828],\n",
       " [26532898, 26532946],\n",
       " [26726129, 26726831],\n",
       " [26965737, 26965887],\n",
       " [26967189, 26971996],\n",
       " [27145088, 27145239],\n",
       " [27356820, 27357901],\n",
       " [27412689, 27414467],\n",
       " [27433419, 27435171],\n",
       " [28204627, 28206697],\n",
       " [28399630, 28399684],\n",
       " [28573637, 28573838],\n",
       " [28678600, 28687199],\n",
       " [28717418, 28718601],\n",
       " [28722182, 28722653],\n",
       " [28736568, 28736755],\n",
       " [28745472, 28745952],\n",
       " [28898290, 28898308],\n",
       " [28898240, 28898696],\n",
       " [29321380, 29321867],\n",
       " [29382096, 29382597],\n",
       " [29426686, 29427173],\n",
       " [29447638, 29447806],\n",
       " [29780302, 29780351],\n",
       " [29845241, 29845319],\n",
       " [30160503, 30160554],\n",
       " [30196461, 30196596],\n",
       " [30196543, 30196921],\n",
       " [30200213, 30200293],\n",
       " [30200272, 30200478],\n",
       " [30200461, 30200707],\n",
       " [30243864, 30243950],\n",
       " [30244094, 30244244],\n",
       " [30244161, 30244954],\n",
       " [30244550, 30244599],\n",
       " [30345954, 30346514],\n",
       " [30378473, 30378540],\n",
       " [30509499, 30509548],\n",
       " [30569319, 30569566],\n",
       " [30774189, 30774297],\n",
       " [30878086, 30880414],\n",
       " [30877863, 30883313],\n",
       " [30961575, 30961881],\n",
       " [30988367, 30988583],\n",
       " [30992515, 30992569],\n",
       " [31127966, 31128698],\n",
       " [31205160, 31205235],\n",
       " [31818345, 31818429],\n",
       " [31904591, 31904766],\n",
       " [31967626, 31967842],\n",
       " [31969690, 31980544],\n",
       " [32005543, 32005718],\n",
       " [32044595, 32044682],\n",
       " [32272900, 32273284],\n",
       " [32322818, 32322995],\n",
       " [32618244, 32618394],\n",
       " [32954474, 32954624],\n",
       " [33005247, 33005580],\n",
       " [33046690, 33046715],\n",
       " [33046601, 33047725],\n",
       " [33108149, 33109651],\n",
       " [33452164, 33452189],\n",
       " [33452360, 33452379],\n",
       " [33452015, 33454394],\n",
       " [33518084, 33518229],\n",
       " [33651988, 33654517],\n",
       " [33859313, 33859385],\n",
       " [34330482, 34330812],\n",
       " [34568190, 34568343],\n",
       " [35006838, 35008212],\n",
       " [35243194, 35243345],\n",
       " [35243291, 35243568],\n",
       " [35371610, 35371658],\n",
       " [35622368, 35622388],\n",
       " [35622560, 35622564],\n",
       " [35622364, 35624088],\n",
       " [35726006, 35726477],\n",
       " [36124468, 36124516],\n",
       " [36676303, 36676449],\n",
       " [36709549, 36709621],\n",
       " [37154117, 37154522],\n",
       " [37215675, 37216192],\n",
       " [37259246, 37260399],\n",
       " [37422980, 37423431],\n",
       " [37568510, 37568663],\n",
       " [37579838, 37579982],\n",
       " [37593811, 37594087],\n",
       " [37697861, 37698050],\n",
       " [37895197, 37895361],\n",
       " [37911612, 37912627],\n",
       " [38432702, 38433178],\n",
       " [38950665, 38950821],\n",
       " [39347980, 39348034],\n",
       " [39411441, 39411591],\n",
       " [39428734, 39429001],\n",
       " [39510202, 39510516],\n",
       " [39700107, 39700126],\n",
       " [39700201, 39700910],\n",
       " [39942813, 39942886],\n",
       " [39970373, 39971060],\n",
       " [40130052, 40130541],\n",
       " [40403673, 40403823],\n",
       " [40516049, 40516218],\n",
       " [40598268, 40598402],\n",
       " [41518723, 41518772],\n",
       " [41835469, 41835549],\n",
       " [41847786, 41848086],\n",
       " [41890741, 41891451],\n",
       " [41891954, 41892020],\n",
       " [41981764, 41981812],\n",
       " [41992788, 41992866],\n",
       " [42010536, 42010797],\n",
       " [42483545, 42485797],\n",
       " [42575766, 42575844],\n",
       " [42789695, 42789833],\n",
       " [42832745, 42832799],\n",
       " [43001305, 43001518],\n",
       " [43774093, 43774155],\n",
       " [43967824, 43967928],\n",
       " [44059122, 44059844],\n",
       " [44208797, 44209260],\n",
       " [44370490, 44370947],\n",
       " [44371790, 44371844],\n",
       " [44604672, 44604739],\n",
       " [44692374, 44692520],\n",
       " [45078812, 45078926],\n",
       " [45203647, 45203713],\n",
       " [45342113, 45342955],\n",
       " [45408054, 45408176],\n",
       " [45510410, 45510548],\n",
       " [45688734, 45688983],\n",
       " [45795571, 45796057],\n",
       " [45963264, 45963908],\n",
       " [46004712, 46004763],\n",
       " [46103194, 46103284],\n",
       " [46157537, 46157591],\n",
       " [46169000, 46169015],\n",
       " [46168319, 46172502],\n",
       " [46176612, 46176621],\n",
       " [46175935, 46180137],\n",
       " [46226169, 46226231],\n",
       " [46808529, 46809084],\n",
       " [47242068, 47242292],\n",
       " [47644757, 47644902],\n",
       " [47649872, 47650022],\n",
       " [47650008, 47650657],\n",
       " [48040571, 48041365],\n",
       " [48058200, 48058350],\n",
       " [48152347, 48152500],\n",
       " [48152475, 48152610],\n",
       " [48208820, 48209314],\n",
       " [48949346, 48949617],\n",
       " [49243958, 49244110],\n",
       " [49427378, 49435640],\n",
       " [50413671, 50413727],\n",
       " [50834854, 50835667],\n",
       " [50847265, 50847381],\n",
       " [50847470, 50847602],\n",
       " [50847651, 50847897],\n",
       " [52022491, 52022541],\n",
       " [52177094, 52177629],\n",
       " [52270221, 52270355],\n",
       " [52318091, 52318976],\n",
       " [53241834, 53241882],\n",
       " [53249468, 53249530],\n",
       " [53335624, 53335681],\n",
       " [53562974, 53563124],\n",
       " [53564858, 53564949],\n",
       " [53749081, 53749263],\n",
       " [53749778, 53750062],\n",
       " [53990969, 53991630],\n",
       " [54178749, 54178899],\n",
       " [54178984, 54179452],\n",
       " [54669398, 54669548],\n",
       " [54924466, 54924719],\n",
       " [54976203, 54976354],\n",
       " [54976241, 54976830],\n",
       " [55027360, 55027626],\n",
       " [55274576, 55274741],\n",
       " [55468489, 55469499],\n",
       " [55705456, 55707864],\n",
       " [55843678, 55843834],\n",
       " [55851275, 55851458],\n",
       " [56128182, 56128333],\n",
       " [56131737, 56132891],\n",
       " [56132566, 56132652],\n",
       " [56133084, 56133140],\n",
       " [56878901, 56879401],\n",
       " [56996004, 56996127],\n",
       " [56996119, 56996123],\n",
       " [56996246, 56996271],\n",
       " [56996217, 56996688],\n",
       " [57022581, 57022648],\n",
       " [57223305, 57223353],\n",
       " [58071754, 58072069],\n",
       " [58104960, 58105076],\n",
       " [58416921, 58416978],\n",
       " [58847524, 58847674],\n",
       " [59163715, 59163775],\n",
       " [59195073, 59195895],\n",
       " [59205164, 59205628],\n",
       " [59591351, 59591845],\n",
       " [59871711, 59872193],\n",
       " [59956610, 59956661],\n",
       " [60468331, 60468481],\n",
       " [60530624, 60530690],\n",
       " [60551296, 60551483],\n",
       " [61201097, 61201163],\n",
       " [61288100, 61288119],\n",
       " [61288242, 61288245],\n",
       " [61288191, 61288551],\n",
       " [61343994, 61344072],\n",
       " [61368612, 61368768],\n",
       " [61401177, 61401334],\n",
       " [62337038, 62337148],\n",
       " [62603161, 62603644],\n",
       " [63511608, 63511658],\n",
       " [63939607, 63939784],\n",
       " [64480337, 64480487],\n",
       " [64667077, 64667150],\n",
       " [64704814, 64704876],\n",
       " [64849589, 64852801],\n",
       " [64957899, 64958434],\n",
       " [64985310, 64985355],\n",
       " [66028359, 66028509],\n",
       " [66055791, 66056273],\n",
       " [66866130, 66866220],\n",
       " [67096502, 67096604],\n",
       " [67125558, 67125714],\n",
       " [67202022, 67202379],\n",
       " [67624544, 67624670],\n",
       " [67624824, 67624950],\n",
       " [69703116, 69703164],\n",
       " [69930862, 69930917],\n",
       " [70061541, 70062018],\n",
       " [70247360, 70247464],\n",
       " [70381600, 70382629],\n",
       " [70911847, 70912557],\n",
       " [70912287, 70912781],\n",
       " [71112718, 71112972],\n",
       " [71112974, 71113024],\n",
       " [71113564, 71113662],\n",
       " [71972073, 71972223],\n",
       " [71973660, 71973810],\n",
       " [72154058, 72154211],\n",
       " [72258793, 72259106],\n",
       " [72393687, 72394293],\n",
       " [72514043, 72514520],\n",
       " [72638939, 72639090],\n",
       " [72981418, 72981646],\n",
       " [73050764, 73050830],\n",
       " [73592929, 73605254],\n",
       " [73648725, 73648845],\n",
       " [74405550, 74405664],\n",
       " [74437639, 74437717],\n",
       " [75191991, 75197535],\n",
       " [75224345, 75224459],\n",
       " [75301537, 75302019],\n",
       " [75455183, 75455244],\n",
       " [75745968, 75746762],\n",
       " [76351272, 76351898],\n",
       " [76372084, 76372594],\n",
       " [76428264, 76428348],\n",
       " [76649530, 76649580],\n",
       " [77305443, 77305491],\n",
       " [77468875, 77469410],\n",
       " [77481887, 77482104],\n",
       " [77764878, 77765358],\n",
       " [77833520, 77833618],\n",
       " [77892634, 77892755],\n",
       " [77938284, 77939143],\n",
       " [77941093, 77941156],\n",
       " [78607015, 78607477],\n",
       " [78747806, 78747867],\n",
       " [78942151, 78942301],\n",
       " [79108787, 79109036],\n",
       " [79264157, 79264223],\n",
       " [79331118, 79331661],\n",
       " [79582001, 79582460],\n",
       " [79650097, 79650248],\n",
       " [79650216, 79650410],\n",
       " [80037683, 80037836],\n",
       " [80038152, 80038200],\n",
       " [80188558, 80188609],\n",
       " [80271119, 80271329],\n",
       " [80299044, 80299485],\n",
       " [80349414, 80349471],\n",
       " [80545206, 80545509],\n",
       " [80794966, 80795482],\n",
       " [80796742, 80796894],\n",
       " [80796898, 80796990],\n",
       " [80853175, 80853664],\n",
       " [81411816, 81411847],\n",
       " [81524050, 81524524],\n",
       " [81660302, 81660599],\n",
       " [82305619, 82305688],\n",
       " [82464647, 82464745],\n",
       " [82720957, 82725638],\n",
       " [83484668, 83484730],\n",
       " [83588737, 83588907],\n",
       " [83609725, 83609761],\n",
       " [84156535, 84156680],\n",
       " [84226402, 84226552],\n",
       " [84358192, 84358264],\n",
       " [84358464, 84358536],\n",
       " [84493216, 84493273],\n",
       " [84833951, 84834181],\n",
       " [84913189, 84913681],\n",
       " [85126435, 85126708],\n",
       " [85222406, 85222689],\n",
       " [85620000, 85620043],\n",
       " [85619995, 85620766],\n",
       " [85983409, 85983561],\n",
       " [85983713, 85983863],\n",
       " [86002596, 86002735],\n",
       " [86087813, 86087966],\n",
       " [86681869, 86682034],\n",
       " [86682291, 86682484],\n",
       " [87262945, 87263581],\n",
       " [87502913, 87503021],\n",
       " [87511934, 87515099],\n",
       " [87890389, 87890474],\n",
       " [87890927, 87890977],\n",
       " [88780091, 88780147],\n",
       " [88813545, 88814039],\n",
       " [88860691, 88860847],\n",
       " [88923316, 88923586],\n",
       " [88971862, 88977647],\n",
       " [89069928, 89070074],\n",
       " [89219310, 89219762],\n",
       " [90271865, 90271921],\n",
       " [90541466, 90541526],\n",
       " [90649447, 90649492],\n",
       " [90844004, 90844154],\n",
       " [90844539, 90845472],\n",
       " [91291696, 91291798],\n",
       " [91332851, 91332911],\n",
       " [91357327, 91357400],\n",
       " [91415833, 91415959],\n",
       " [91634154, 91634238],\n",
       " [91634776, 91634902],\n",
       " [91681945, 91682425],\n",
       " [91924962, 91925312],\n",
       " [91926107, 91926186],\n",
       " [91934313, 91934363],\n",
       " [92097224, 92097302],\n",
       " [92134171, 92134219],\n",
       " [92678973, 92679123],\n",
       " [93167437, 93167929],\n",
       " [93286790, 93286870],\n",
       " [93312428, 93312554],\n",
       " [93414196, 93414274],\n",
       " [93498142, 93498653],\n",
       " [93518768, 93518836],\n",
       " [93810395, 93810582],\n",
       " [94341070, 94344804],\n",
       " [94761326, 94761400],\n",
       " [95065961, 95066015],\n",
       " [95511492, 95511584],\n",
       " [96618699, 96618797],\n",
       " [96731200, 96731539],\n",
       " [97268735, 97268899],\n",
       " [97782057, 97782185],\n",
       " [97788844, 97788928],\n",
       " [98087316, 98087466],\n",
       " [98969077, 98969367],\n",
       " [98978058, 98978133],\n",
       " [98978135, 98978269],\n",
       " [98978553, 98978643],\n",
       " [99577550, 99577826],\n",
       " [99610458, 99610902],\n",
       " [100994202, 100994223],\n",
       " [100994159, 100994621],\n",
       " [101284641, 101285411],\n",
       " [101648475, 101648529],\n",
       " [101718956, 101720025],\n",
       " [101816316, 101816412],\n",
       " [102018475, 102019220],\n",
       " [102019383, 102019541],\n",
       " [102019517, 102019567],\n",
       " [102510981, 102511043],\n",
       " [102511021, 102511177],\n",
       " [102512559, 102512640],\n",
       " [102559118, 102559282],\n",
       " [103304073, 103304098],\n",
       " [103441819, 103441873],\n",
       " [103623444, 103623494],\n",
       " [103633707, 103633758],\n",
       " [103638650, 103638800],\n",
       " [103647842, 103647892],\n",
       " [103648409, 103648511],\n",
       " [103669259, 103669331],\n",
       " [103737706, 103737862],\n",
       " [103776142, 103830486],\n",
       " [104314385, 104314645],\n",
       " [104479545, 104487462],\n",
       " [105050625, 105050674],\n",
       " [105104874, 105104997],\n",
       " [105162371, 105162433],\n",
       " [105231096, 105231278],\n",
       " [105508878, 105509144],\n",
       " [105519094, 105519144],\n",
       " [105617904, 105618018],\n",
       " [106079703, 106079751],\n",
       " [106113389, 106116779],\n",
       " [106330878, 106331181],\n",
       " [106485451, 106492316],\n",
       " [106486077, 106492944],\n",
       " [106503919, 106504612],\n",
       " [106505822, 106505860],\n",
       " [106505739, 106506929],\n",
       " [106973851, 106974123],\n",
       " [107654744, 107654807],\n",
       " [107724164, 107724214],\n",
       " [108265698, 108268502],\n",
       " [108565955, 108566053],\n",
       " [108808273, 108808293],\n",
       " [108808298, 108808311],\n",
       " [108971248, 108971398],\n",
       " [109209189, 109209258],\n",
       " [109218653, 109218890],\n",
       " [109232213, 109232311],\n",
       " [109314059, 109314223],\n",
       " [109314683, 109314926],\n",
       " [109476143, 109476224],\n",
       " [109650479, 109651187],\n",
       " [109655962, 109656053],\n",
       " [109719763, 109719957],\n",
       " [109719987, 109720107],\n",
       " [109720080, 109720202],\n",
       " [109720198, 109720252],\n",
       " [109726245, 109726299],\n",
       " [110212709, 110212777],\n",
       " [110267689, 110267829],\n",
       " [110663080, 110663231],\n",
       " [110852707, 110852827],\n",
       " [110930403, 110930458],\n",
       " [111311806, 111311862],\n",
       " [111802303, 111803761],\n",
       " [111895689, 111898594],\n",
       " [112087307, 112087453],\n",
       " [112087462, 112087595],\n",
       " [112087617, 112087821],\n",
       " [112181387, 112185235],\n",
       " [112297692, 112297770],\n",
       " [112647301, 112647349],\n",
       " [112991880, 112992351],\n",
       " [113316729, 113316984],\n",
       " [113316967, 113317117],\n",
       " [113612822, 113612894],\n",
       " [113958616, 113958691],\n",
       " [113958958, 113959254],\n",
       " [114527072, 114527253],\n",
       " [114691782, 114691838],\n",
       " [115201256, 115201689],\n",
       " [115690121, 115690213],\n",
       " [116303974, 116304283],\n",
       " [116695236, 116695359],\n",
       " [116848484, 116848592],\n",
       " [116979053, 116982709],\n",
       " [117802109, 117802189],\n",
       " [117972069, 117972144],\n",
       " [117972589, 117972746],\n",
       " [117972676, 117972947],\n",
       " [118861322, 118862169],\n",
       " [118929959, 118930061],\n",
       " [118931014, 118935011],\n",
       " [119080572, 119081064],\n",
       " [119542367, 119542843],\n",
       " [119807290, 119807398],\n",
       " [119931765, 119931893],\n",
       " [120112560, 120112614],\n",
       " [120586129, 120586159],\n",
       " [120610082, 120610108],\n",
       " [121138210, 121138416],\n",
       " [121138639, 121138786],\n",
       " [121143234, 121143386],\n",
       " [121215003, 121215087],\n",
       " [121353532, 121355065],\n",
       " [121353981, 121354485],\n",
       " [121356734, 121357679],\n",
       " [121356940, 121359169],\n",
       " [121357631, 121359875],\n",
       " [121358674, 121359160],\n",
       " [121359470, 121361686],\n",
       " [121362846, 121365194],\n",
       " [121363636, 121366428],\n",
       " [121363938, 121374620],\n",
       " [121366977, 121367379],\n",
       " [121367323, 121367725],\n",
       " [121368090, 121370520],\n",
       " [121369301, 121370102],\n",
       " [121369264, 121372446],\n",
       " [121370944, 121371343],\n",
       " [121370948, 121372725],\n",
       " [121378646, 121381886],\n",
       " [121379902, 121382693],\n",
       " [121382210, 121384924],\n",
       " [121384727, 121385125],\n",
       " [121392258, 121392278],\n",
       " [121395713, 121395734],\n",
       " [121395960, 121402122],\n",
       " [121396996, 121399792],\n",
       " [121413014, 121413185],\n",
       " [121418203, 121418342],\n",
       " [121421739, 121421889],\n",
       " [121483962, 121486472],\n",
       " [121483471, 121490487],\n",
       " [142536004, 142540661],\n",
       " [142536787, 142546545],\n",
       " [142538616, 142539572],\n",
       " [142539396, 142540909],\n",
       " [142540076, 142540379],\n",
       " [142540060, 142542215],\n",
       " [142540948, 142541227],\n",
       " [142541596, 142542997],\n",
       " [142542315, 142542894],\n",
       " [142541875, 142546514],\n",
       " [142542958, 142543063],\n",
       " [142544211, 142546713],\n",
       " [142544622, 142546016],\n",
       " [142553236, 142553429],\n",
       " [142589560, 142589748],\n",
       " [142621500, 142621626],\n",
       " [142623868, 142624182],\n",
       " [142625833, 142626355],\n",
       " [142638314, 142638399],\n",
       " [142645828, 142646105],\n",
       " [142653363, 142653435],\n",
       " [142661882, 142662838],\n",
       " [142672800, 142672938],\n",
       " [142673709, 142679358],\n",
       " [142687095, 142687144],\n",
       " [142694794, 142694838],\n",
       " [142807527, 142807578],\n",
       " [142811200, 142811256],\n",
       " [142839360, 142839625],\n",
       " [142903206, 142903237],\n",
       " [142909904, 142910123],\n",
       " [142956717, 142956946],\n",
       " [142966916, 142967523],\n",
       " [143136999, 143137140],\n",
       " [143152687, 143153047],\n",
       " [143153024, 143153096],\n",
       " [143158357, 143159311],\n",
       " [143170779, 143170929],\n",
       " [143407616, 143407702],\n",
       " [143417019, 143417169],\n",
       " [143418554, 143418711],\n",
       " [143429368, 143429395],\n",
       " [143435912, 143436093],\n",
       " [143437586, 143437743],\n",
       " [143438095, 143438245],\n",
       " [143542808, 143542821],\n",
       " [143649103, 143649253],\n",
       " [143666457, 143666610],\n",
       " [143668122, 143668272],\n",
       " [143759859, 143759902],\n",
       " [144380774, 144381218],\n",
       " [144385207, 144385357],\n",
       " [144483561, 144483606],\n",
       " [144577285, 144577435],\n",
       " [144580963, 144581113],\n",
       " [144610103, 144610127],\n",
       " [144675562, 144676049],\n",
       " [144860650, 144860812],\n",
       " [144950178, 144950265],\n",
       " [145098171, 145098659],\n",
       " [145152653, 145153142],\n",
       " [145211196, 145211660],\n",
       " [145235295, 145235320],\n",
       " [145287983, 145288026],\n",
       " [145352146, 145352166],\n",
       " [145832124, 145832281],\n",
       " [145952586, 145952737],\n",
       " [146143182, 146143232],\n",
       " [146380106, 146380238],\n",
       " [146444776, 146444915],\n",
       " [146444954, 146445095],\n",
       " [146445708, 146445858],\n",
       " [146658126, 146658603],\n",
       " [146663193, 146663453],\n",
       " [146770643, 146770699],\n",
       " [146826132, 146826177],\n",
       " [146960358, 146960514],\n",
       " [147392621, 147392675],\n",
       " [147494325, 147494475],\n",
       " [147737692, 147737712],\n",
       " [147737737, 147738032],\n",
       " [147843812, 147843957],\n",
       " [147854007, 147854157],\n",
       " [147855637, 147855787],\n",
       " [147992612, 147993586],\n",
       " [148013793, 148020887],\n",
       " [148014900, 148017205],\n",
       " [148191651, 148191690],\n",
       " [148223042, 148223200],\n",
       " [148572480, 148572513],\n",
       " [148651904, 148651937],\n",
       " [148785449, 148785481],\n",
       " [148813918, 148813949],\n",
       " ...]"
      ]
     },
     "execution_count": 8,
     "metadata": {},
     "output_type": "execute_result"
    }
   ],
   "source": [
    "p_position"
   ]
  },
  {
   "cell_type": "code",
   "execution_count": 9,
   "id": "79b8bc44",
   "metadata": {
    "scrolled": true
   },
   "outputs": [
    {
     "name": "stderr",
     "output_type": "stream",
     "text": [
      "Global seed set to 2022\n"
     ]
    }
   ],
   "source": [
    "import utilities as ut\n",
    "from pudb import set_trace\n",
    "import pandas as pd\n",
    "import random\n",
    "import numpy as np\n",
    "import torchvision\n",
    "import math\n",
    "import torch\n",
    "import matplotlib.pyplot as plt\n",
    "from pytorch_lightning.loggers import TensorBoardLogger\n",
    "import os\n",
    "from net import IDENet\n",
    "import pytorch_lightning as pl\n",
    "from pytorch_lightning import seed_everything\n",
    "from pytorch_lightning.callbacks import ModelCheckpoint\n",
    "from multiprocessing import Pool, cpu_count\n",
    "import pysam\n",
    "\n",
    "# os.environ[\"CUDA_VISIBLE_DEVICES\"] = \"-1\"\n",
    "seed_everything(2022)\n",
    "\n",
    "\n",
    "data_dir = \"../datasets/NA12878_PacBio_MtSinai/\"\n",
    "\n",
    "bam_path = data_dir + \"sorted_final_merged.bam\"\n",
    "\n",
    "vcf_filename = data_dir + \"insert_result_data.csv.vcf\"\n",
    "\n",
    "position_enforcement_refresh = 0\n",
    "img_enforcement_refresh = 0\n",
    "sign_enforcement_refresh = 0 # attention\n",
    "cigar_enforcement_refresh = 0\n",
    "\n",
    "sam_file = pysam.AlignmentFile(bam_path, \"rb\")\n",
    "chr_list = sam_file.references\n",
    "chr_length = sam_file.lengths\n",
    "sam_file.close()\n",
    "\n",
    "hight = 224\n"
   ]
  },
  {
   "cell_type": "code",
   "execution_count": 8,
   "id": "a14ebfc9",
   "metadata": {},
   "outputs": [
    {
     "data": {
      "text/plain": [
       "[('chr7', 159138663),\n",
       " ('chr8', 146364022),\n",
       " ('chr10', 135534747),\n",
       " ('chr16', 90354753),\n",
       " ('chr18', 78077248),\n",
       " ('chr9_gl000199_random', 169874)]"
      ]
     },
     "execution_count": 8,
     "metadata": {},
     "output_type": "execute_result"
    }
   ],
   "source": [
    "data_list"
   ]
  },
  {
   "cell_type": "code",
   "execution_count": 6,
   "id": "f99d482d",
   "metadata": {},
   "outputs": [],
   "source": [
    "data_list = []\n",
    "for chromosome, chr_len in zip(chr_list, chr_length):\n",
    "    if not os.path.exists(data_dir + 'flag/' + chromosome + '.txt'):\n",
    "        data_list.append((chromosome, chr_len))"
   ]
  },
  {
   "cell_type": "code",
   "execution_count": 7,
   "id": "54fef8b5",
   "metadata": {},
   "outputs": [
    {
     "data": {
      "text/plain": [
       "6"
      ]
     },
     "execution_count": 7,
     "metadata": {},
     "output_type": "execute_result"
    }
   ],
   "source": [
    "len(data_list)"
   ]
  },
  {
   "cell_type": "code",
   "execution_count": 3,
   "id": "8fe8298d",
   "metadata": {},
   "outputs": [
    {
     "data": {
      "text/plain": [
       "45"
      ]
     },
     "execution_count": 3,
     "metadata": {},
     "output_type": "execute_result"
    }
   ],
   "source": [
    "len(data_list)"
   ]
  },
  {
   "cell_type": "code",
   "execution_count": 31,
   "id": "c0bcb6f0",
   "metadata": {},
   "outputs": [
    {
     "name": "stdout",
     "output_type": "stream",
     "text": [
      "0\n",
      "1\n",
      "2\n",
      "3\n",
      "4\n",
      "5\n",
      "6\n",
      "7\n",
      "8\n",
      "9\n",
      "10\n",
      "11\n",
      "12\n",
      "13\n",
      "14\n",
      "15\n",
      "16\n",
      "17\n",
      "18\n",
      "19\n",
      "20\n",
      "21\n",
      "22\n",
      "23\n"
     ]
    }
   ],
   "source": [
    "for i, img in enumerate(data_list):\n",
    "    print(i)"
   ]
  },
  {
   "cell_type": "code",
   "execution_count": 37,
   "id": "6bf3af1d",
   "metadata": {},
   "outputs": [],
   "source": [
    "a = torch.rand([4, 10 ,10])"
   ]
  },
  {
   "cell_type": "code",
   "execution_count": 38,
   "id": "cbb333c3",
   "metadata": {},
   "outputs": [],
   "source": [
    "a[:, :, :] = 0"
   ]
  },
  {
   "cell_type": "code",
   "execution_count": 152,
   "id": "b4e5a2f2",
   "metadata": {},
   "outputs": [
    {
     "name": "stderr",
     "output_type": "stream",
     "text": [
      "Global seed set to 2022\n"
     ]
    },
    {
     "name": "stdout",
     "output_type": "stream",
     "text": [
      "python create_process_file.py --chr chr3 --len 198022430\n",
      "python create_process_file.py --chr chr4 --len 191154276\n",
      "python create_process_file.py --chr chr5 --len 180915260\n",
      "python create_process_file.py --chr chr6 --len 171115067\n",
      "python create_process_file.py --chr chr7 --len 159138663\n",
      "python create_process_file.py --chr chr8 --len 146364022\n",
      "python create_process_file.py --chr chr9 --len 141213431\n",
      "python create_process_file.py --chr chr10 --len 135534747\n",
      "python create_process_file.py --chr chr11 --len 135006516\n",
      "python create_process_file.py --chr chr12 --len 133851895\n",
      "python create_process_file.py --chr chr14 --len 107349540\n",
      "python create_process_file.py --chr chr15 --len 102531392\n",
      "python create_process_file.py --chr chrX --len 155270560\n"
     ]
    }
   ],
   "source": [
    "import os\n",
    "from datetime import datetime\n",
    "# 打印时间函数\n",
    "import subprocess\n",
    "import utilities as ut\n",
    "from pudb import set_trace\n",
    "import pandas as pd\n",
    "import random\n",
    "import numpy as np\n",
    "import torchvision\n",
    "import math\n",
    "import torch\n",
    "import matplotlib.pyplot as plt\n",
    "from pytorch_lightning.loggers import TensorBoardLogger\n",
    "import os\n",
    "from net import IDENet\n",
    "import pytorch_lightning as pl\n",
    "from pytorch_lightning import seed_everything\n",
    "from pytorch_lightning.callbacks import ModelCheckpoint\n",
    "from multiprocessing import Pool, cpu_count\n",
    "import pysam\n",
    "\n",
    "# os.environ[\"CUDA_VISIBLE_DEVICES\"] = \"-1\"\n",
    "seed_everything(2022)\n",
    "\n",
    "\n",
    "data_dir = \"../datasets/NA12878_PacBio_MtSinai/\"\n",
    "\n",
    "bam_path = data_dir + \"sorted_final_merged.bam\"\n",
    "\n",
    "vcf_filename = data_dir + \"insert_result_data.csv.vcf\"\n",
    "\n",
    "\n",
    "sam_file = pysam.AlignmentFile(bam_path, \"rb\")\n",
    "chr_list = sam_file.references\n",
    "chr_length = sam_file.lengths\n",
    "sam_file.close()\n",
    "\n",
    "hight = 224\n",
    "\n",
    "data_list = []\n",
    "for chromosome, chr_len in zip(chr_list, chr_length):\n",
    "    if not os.path.exists(data_dir + 'flag/' + chromosome + '.txt'):\n",
    "        data_list.append((chromosome, chr_len))\n",
    "\n",
    "\n",
    "for chr, len1 in data_list:\n",
    "    # subprocess.call(\"python create_process_file.py --chr \" + chr + \" --len \" + str(len) + \" > \" + chr + \".txt 2&>1\", shell=False)\n",
    "    print(\"python create_process_file.py --chr \" + chr + \" --len \" + str(len1))\n",
    "    # fd = open(chr + \".txt\")\n",
    "    # subprocess.Popen(\"python create_process_file.py --chr \" + chr + \" --len \" + str(len), shell=True)\n"
   ]
  },
  {
   "cell_type": "code",
   "execution_count": 45,
   "id": "a57f872b",
   "metadata": {},
   "outputs": [],
   "source": [
    "ims = torch.empty(1, 3, hight, hight)"
   ]
  },
  {
   "cell_type": "code",
   "execution_count": 48,
   "id": "69ae1d70",
   "metadata": {},
   "outputs": [
    {
     "data": {
      "text/plain": [
       "torch.Size([1, 3, 224, 224])"
      ]
     },
     "execution_count": 48,
     "metadata": {},
     "output_type": "execute_result"
    }
   ],
   "source": [
    "ims.size()"
   ]
  },
  {
   "cell_type": "code",
   "execution_count": 58,
   "id": "3ceff758",
   "metadata": {},
   "outputs": [],
   "source": [
    "rd_depth_mean = torch.load(\"qwerty.pt\")"
   ]
  },
  {
   "cell_type": "code",
   "execution_count": 60,
   "id": "5e452f25",
   "metadata": {},
   "outputs": [],
   "source": [
    "hight = 224\n",
    "resize = torchvision.transforms.Resize([hight, hight])"
   ]
  },
  {
   "cell_type": "code",
   "execution_count": 56,
   "id": "9f6f889b",
   "metadata": {},
   "outputs": [
    {
     "name": "stdout",
     "output_type": "stream",
     "text": [
      "0\n",
      "1\n"
     ]
    }
   ],
   "source": [
    "for i, img in enumerate(a):\n",
    "    print(i)"
   ]
  },
  {
   "cell_type": "code",
   "execution_count": 52,
   "id": "83ec47ef",
   "metadata": {},
   "outputs": [],
   "source": [
    "a = [x for x in range(100)]\n",
    "b = [1] * 10"
   ]
  },
  {
   "cell_type": "code",
   "execution_count": 46,
   "id": "b4c2f94f",
   "metadata": {},
   "outputs": [],
   "source": [
    "random_begin = random.randint(1, 101)"
   ]
  },
  {
   "cell_type": "code",
   "execution_count": 47,
   "id": "11d74ff3",
   "metadata": {},
   "outputs": [
    {
     "name": "stdout",
     "output_type": "stream",
     "text": [
      "91\n",
      "53\n",
      "88\n",
      "82\n",
      "41\n",
      "2\n",
      "98\n",
      "56\n",
      "40\n",
      "83\n",
      "81\n",
      "59\n",
      "71\n",
      "67\n",
      "73\n",
      "5\n",
      "96\n",
      "34\n",
      "6\n",
      "100\n"
     ]
    }
   ],
   "source": [
    "while random_begin in a:\n",
    "    random_begin = random.randint(1, 101)\n",
    "    print(random_begin)"
   ]
  },
  {
   "cell_type": "code",
   "execution_count": 53,
   "id": "0819825e",
   "metadata": {},
   "outputs": [],
   "source": [
    "a.append(1)"
   ]
  },
  {
   "cell_type": "code",
   "execution_count": 54,
   "id": "4a4738d3",
   "metadata": {
    "scrolled": true
   },
   "outputs": [
    {
     "data": {
      "text/plain": [
       "[0,\n",
       " 1,\n",
       " 2,\n",
       " 3,\n",
       " 4,\n",
       " 5,\n",
       " 6,\n",
       " 7,\n",
       " 8,\n",
       " 9,\n",
       " 10,\n",
       " 11,\n",
       " 12,\n",
       " 13,\n",
       " 14,\n",
       " 15,\n",
       " 16,\n",
       " 17,\n",
       " 18,\n",
       " 19,\n",
       " 20,\n",
       " 21,\n",
       " 22,\n",
       " 23,\n",
       " 24,\n",
       " 25,\n",
       " 26,\n",
       " 27,\n",
       " 28,\n",
       " 29,\n",
       " 30,\n",
       " 31,\n",
       " 32,\n",
       " 33,\n",
       " 34,\n",
       " 35,\n",
       " 36,\n",
       " 37,\n",
       " 38,\n",
       " 39,\n",
       " 40,\n",
       " 41,\n",
       " 42,\n",
       " 43,\n",
       " 44,\n",
       " 45,\n",
       " 46,\n",
       " 47,\n",
       " 48,\n",
       " 49,\n",
       " 50,\n",
       " 51,\n",
       " 52,\n",
       " 53,\n",
       " 54,\n",
       " 55,\n",
       " 56,\n",
       " 57,\n",
       " 58,\n",
       " 59,\n",
       " 60,\n",
       " 61,\n",
       " 62,\n",
       " 63,\n",
       " 64,\n",
       " 65,\n",
       " 66,\n",
       " 67,\n",
       " 68,\n",
       " 69,\n",
       " 70,\n",
       " 71,\n",
       " 72,\n",
       " 73,\n",
       " 74,\n",
       " 75,\n",
       " 76,\n",
       " 77,\n",
       " 78,\n",
       " 79,\n",
       " 80,\n",
       " 81,\n",
       " 82,\n",
       " 83,\n",
       " 84,\n",
       " 85,\n",
       " 86,\n",
       " 87,\n",
       " 88,\n",
       " 89,\n",
       " 90,\n",
       " 91,\n",
       " 92,\n",
       " 93,\n",
       " 94,\n",
       " 95,\n",
       " 96,\n",
       " 97,\n",
       " 98,\n",
       " 99,\n",
       " 1]"
      ]
     },
     "execution_count": 54,
     "metadata": {},
     "output_type": "execute_result"
    }
   ],
   "source": [
    "a"
   ]
  },
  {
   "cell_type": "code",
   "execution_count": 64,
   "id": "ef326c26",
   "metadata": {},
   "outputs": [],
   "source": [
    "b = set()"
   ]
  },
  {
   "cell_type": "code",
   "execution_count": 69,
   "id": "d46679f4",
   "metadata": {},
   "outputs": [],
   "source": [
    "b.update(range(4, 10))"
   ]
  },
  {
   "cell_type": "code",
   "execution_count": 87,
   "id": "b87db184",
   "metadata": {},
   "outputs": [],
   "source": [
    "b = torch.rand([10, 5])"
   ]
  },
  {
   "cell_type": "code",
   "execution_count": 89,
   "id": "f135a70d",
   "metadata": {},
   "outputs": [],
   "source": [
    "b[11:12] = 0"
   ]
  },
  {
   "cell_type": "code",
   "execution_count": 86,
   "id": "8eb0b2c9",
   "metadata": {},
   "outputs": [
    {
     "data": {
      "text/plain": [
       "tensor([[0.3958, 0.9219, 0.7588, 0.3811, 0.0262],\n",
       "        [0.3594, 0.7933, 0.7811, 0.4643, 0.6329],\n",
       "        [0.6689, 0.2302, 0.8003, 0.7353, 0.7477],\n",
       "        [0.5585, 0.6226, 0.8429, 0.6105, 0.1248],\n",
       "        [0.8265, 0.2117, 0.8574, 0.4282, 0.3964],\n",
       "        [0.1440, 0.0034, 0.9504, 0.2194, 0.2893],\n",
       "        [0.6784, 0.4997, 0.9144, 0.2833, 0.5739],\n",
       "        [0.2444, 0.2476, 0.1210, 0.6869, 0.6617],\n",
       "        [0.5168, 0.9089, 0.8799, 0.6949, 0.4609],\n",
       "        [0.1263, 0.6332, 0.4839, 0.7779, 0.9180]])"
      ]
     },
     "execution_count": 86,
     "metadata": {},
     "output_type": "execute_result"
    }
   ],
   "source": [
    "torch.maximum(b, torch.tensor(0))"
   ]
  },
  {
   "cell_type": "code",
   "execution_count": 92,
   "id": "affce524",
   "metadata": {},
   "outputs": [
    {
     "ename": "ZeroDivisionError",
     "evalue": "division by zero",
     "output_type": "error",
     "traceback": [
      "\u001b[0;31m---------------------------------------------------------------------------\u001b[0m",
      "\u001b[0;31mZeroDivisionError\u001b[0m                         Traceback (most recent call last)",
      "\u001b[0;32m<ipython-input-92-a850c8cba60b>\u001b[0m in \u001b[0;36m<module>\u001b[0;34m\u001b[0m\n\u001b[1;32m      1\u001b[0m \u001b[0;32mtry\u001b[0m\u001b[0;34m:\u001b[0m\u001b[0;34m\u001b[0m\u001b[0;34m\u001b[0m\u001b[0m\n\u001b[0;32m----> 2\u001b[0;31m     \u001b[0ma\u001b[0m \u001b[0;34m=\u001b[0m \u001b[0;36m2\u001b[0m \u001b[0;34m/\u001b[0m \u001b[0;36m0\u001b[0m\u001b[0;34m\u001b[0m\u001b[0;34m\u001b[0m\u001b[0m\n\u001b[0m\u001b[1;32m      3\u001b[0m \u001b[0;32mexcept\u001b[0m \u001b[0mException\u001b[0m \u001b[0;32mas\u001b[0m \u001b[0me\u001b[0m\u001b[0;34m:\u001b[0m\u001b[0;34m\u001b[0m\u001b[0;34m\u001b[0m\u001b[0m\n",
      "\u001b[0;31mZeroDivisionError\u001b[0m: division by zero",
      "\nDuring handling of the above exception, another exception occurred:\n",
      "\u001b[0;31mZeroDivisionError\u001b[0m                         Traceback (most recent call last)",
      "\u001b[0;32m<ipython-input-92-a850c8cba60b>\u001b[0m in \u001b[0;36m<module>\u001b[0;34m\u001b[0m\n\u001b[1;32m      2\u001b[0m     \u001b[0ma\u001b[0m \u001b[0;34m=\u001b[0m \u001b[0;36m2\u001b[0m \u001b[0;34m/\u001b[0m \u001b[0;36m0\u001b[0m\u001b[0;34m\u001b[0m\u001b[0;34m\u001b[0m\u001b[0m\n\u001b[1;32m      3\u001b[0m \u001b[0;32mexcept\u001b[0m \u001b[0mException\u001b[0m \u001b[0;32mas\u001b[0m \u001b[0me\u001b[0m\u001b[0;34m:\u001b[0m\u001b[0;34m\u001b[0m\u001b[0;34m\u001b[0m\u001b[0m\n\u001b[0;32m----> 4\u001b[0;31m     \u001b[0ma\u001b[0m \u001b[0;34m=\u001b[0m \u001b[0;36m2\u001b[0m \u001b[0;34m/\u001b[0m \u001b[0;36m0\u001b[0m\u001b[0;34m\u001b[0m\u001b[0;34m\u001b[0m\u001b[0m\n\u001b[0m\u001b[1;32m      5\u001b[0m \u001b[0mprint\u001b[0m\u001b[0;34m(\u001b[0m\u001b[0;34m\"Exception cigar_img_single_optimal\"\u001b[0m\u001b[0;34m)\u001b[0m\u001b[0;34m\u001b[0m\u001b[0;34m\u001b[0m\u001b[0m\n",
      "\u001b[0;31mZeroDivisionError\u001b[0m: division by zero"
     ]
    }
   ],
   "source": [
    "try:\n",
    "    a = 2 / 0\n",
    "except Exception as e:\n",
    "    a = 2 / 0\n",
    "print(\"Exception cigar_img_single_optimal\")"
   ]
  },
  {
   "cell_type": "code",
   "execution_count": 1,
   "id": "6d11d75b",
   "metadata": {},
   "outputs": [],
   "source": [
    "while 0:\n",
    "    print(1)"
   ]
  },
  {
   "cell_type": "code",
   "execution_count": 39,
   "id": "6f50265e",
   "metadata": {
    "scrolled": true
   },
   "outputs": [
    {
     "name": "stderr",
     "output_type": "stream",
     "text": [
      "Global seed set to 2022\n"
     ]
    }
   ],
   "source": [
    "import utilities as ut\n",
    "from pudb import set_trace\n",
    "import pandas as pd\n",
    "import random\n",
    "import numpy as np\n",
    "import torchvision\n",
    "import math\n",
    "import torch\n",
    "import matplotlib.pyplot as plt\n",
    "from pytorch_lightning.loggers import TensorBoardLogger\n",
    "import os\n",
    "from net import IDENet\n",
    "import pytorch_lightning as pl\n",
    "from pytorch_lightning import seed_everything\n",
    "from pytorch_lightning.callbacks import ModelCheckpoint\n",
    "from multiprocessing import Pool, cpu_count\n",
    "import pysam\n",
    "\n",
    "\n",
    "os.environ[\"CUDA_VISIBLE_DEVICES\"] = \"1\"\n",
    "\n",
    "seed_everything(2022)\n",
    "\n",
    "data_dir = \"../datasets/NA12878_PacBio_MtSinai/\"\n",
    "\n",
    "bam_path = data_dir + \"sorted_final_merged.bam\"\n",
    "\n",
    "vcf_filename = data_dir + \"delete_result_data.csv.vcf\"\n",
    "\n",
    "insert_result_data = pd.read_csv(vcf_filename, sep = \"\\t\", index_col=0)\n",
    "insert_chromosome = insert_result_data[insert_result_data[\"CHROM\"] == \"DEL\"]"
   ]
  },
  {
   "cell_type": "code",
   "execution_count": 35,
   "id": "3625a60d",
   "metadata": {},
   "outputs": [
    {
     "data": {
      "text/plain": [
       "608"
      ]
     },
     "execution_count": 35,
     "metadata": {},
     "output_type": "execute_result"
    }
   ],
   "source": [
    "np.argmin(insert_result_data[\"SVLEN\"])"
   ]
  },
  {
   "cell_type": "code",
   "execution_count": 3,
   "id": "cd90b5f4",
   "metadata": {},
   "outputs": [],
   "source": [
    "import random\n",
    "from pytorch_lightning import seed_everything"
   ]
  },
  {
   "cell_type": "code",
   "execution_count": 4,
   "id": "da2e2667",
   "metadata": {},
   "outputs": [
    {
     "name": "stderr",
     "output_type": "stream",
     "text": [
      "Global seed set to 2022\n"
     ]
    },
    {
     "data": {
      "text/plain": [
       "2022"
      ]
     },
     "execution_count": 4,
     "metadata": {},
     "output_type": "execute_result"
    }
   ],
   "source": [
    "seed_everything(2022)\n"
   ]
  },
  {
   "cell_type": "code",
   "execution_count": 6,
   "id": "25f6911f",
   "metadata": {},
   "outputs": [
    {
     "data": {
      "text/plain": [
       "37"
      ]
     },
     "execution_count": 6,
     "metadata": {},
     "output_type": "execute_result"
    }
   ],
   "source": [
    "random.randint(1, 100)"
   ]
  },
  {
   "cell_type": "code",
   "execution_count": 40,
   "id": "4d227ddb",
   "metadata": {},
   "outputs": [
    {
     "data": {
      "text/html": [
       "<div>\n",
       "<style scoped>\n",
       "    .dataframe tbody tr th:only-of-type {\n",
       "        vertical-align: middle;\n",
       "    }\n",
       "\n",
       "    .dataframe tbody tr th {\n",
       "        vertical-align: top;\n",
       "    }\n",
       "\n",
       "    .dataframe thead th {\n",
       "        text-align: right;\n",
       "    }\n",
       "</style>\n",
       "<table border=\"1\" class=\"dataframe\">\n",
       "  <thead>\n",
       "    <tr style=\"text-align: right;\">\n",
       "      <th></th>\n",
       "      <th>CHROM</th>\n",
       "      <th>POS</th>\n",
       "      <th>SPOS</th>\n",
       "      <th>EPOS</th>\n",
       "      <th>END</th>\n",
       "      <th>SEND</th>\n",
       "      <th>EEND</th>\n",
       "      <th>ID</th>\n",
       "      <th>REF</th>\n",
       "      <th>ALT</th>\n",
       "      <th>QUAL</th>\n",
       "      <th>FILTER</th>\n",
       "      <th>INFO</th>\n",
       "      <th>FORMAT</th>\n",
       "      <th>NA12878</th>\n",
       "    </tr>\n",
       "  </thead>\n",
       "  <tbody>\n",
       "    <tr>\n",
       "      <th>0</th>\n",
       "      <td>chr1</td>\n",
       "      <td>67811</td>\n",
       "      <td>-10</td>\n",
       "      <td>10</td>\n",
       "      <td>68252</td>\n",
       "      <td>-10</td>\n",
       "      <td>10</td>\n",
       "      <td>.</td>\n",
       "      <td>T</td>\n",
       "      <td>&lt;DEL&gt;</td>\n",
       "      <td>.</td>\n",
       "      <td>PASS</td>\n",
       "      <td>IMPRECISE;SVTYPE=DEL;END=68252;SVLEN=-441;CIPO...</td>\n",
       "      <td>GT</td>\n",
       "      <td>0/1</td>\n",
       "    </tr>\n",
       "    <tr>\n",
       "      <th>29</th>\n",
       "      <td>chr1</td>\n",
       "      <td>912146</td>\n",
       "      <td>-50</td>\n",
       "      <td>50</td>\n",
       "      <td>912383</td>\n",
       "      <td>-50</td>\n",
       "      <td>50</td>\n",
       "      <td>.</td>\n",
       "      <td>C</td>\n",
       "      <td>&lt;DEL&gt;</td>\n",
       "      <td>.</td>\n",
       "      <td>PASS</td>\n",
       "      <td>IMPRECISE;SVTYPE=DEL;END=912383;SVLEN=False;CI...</td>\n",
       "      <td>GT</td>\n",
       "      <td>0/1</td>\n",
       "    </tr>\n",
       "    <tr>\n",
       "      <th>58</th>\n",
       "      <td>chr1</td>\n",
       "      <td>1285477</td>\n",
       "      <td>-10</td>\n",
       "      <td>10</td>\n",
       "      <td>1285757</td>\n",
       "      <td>-10</td>\n",
       "      <td>10</td>\n",
       "      <td>.</td>\n",
       "      <td>G</td>\n",
       "      <td>&lt;DEL&gt;</td>\n",
       "      <td>.</td>\n",
       "      <td>PASS</td>\n",
       "      <td>IMPRECISE;SVTYPE=DEL;END=1285757;SVLEN=-280;CI...</td>\n",
       "      <td>GT</td>\n",
       "      <td>0/1</td>\n",
       "    </tr>\n",
       "    <tr>\n",
       "      <th>68</th>\n",
       "      <td>chr1</td>\n",
       "      <td>1574897</td>\n",
       "      <td>-10</td>\n",
       "      <td>10</td>\n",
       "      <td>1638107</td>\n",
       "      <td>-10</td>\n",
       "      <td>10</td>\n",
       "      <td>.</td>\n",
       "      <td>C</td>\n",
       "      <td>&lt;DEL&gt;</td>\n",
       "      <td>.</td>\n",
       "      <td>PASS</td>\n",
       "      <td>IMPRECISE;SVTYPE=DEL;END=1638107;SVLEN=-63210;...</td>\n",
       "      <td>GT</td>\n",
       "      <td>0/1</td>\n",
       "    </tr>\n",
       "    <tr>\n",
       "      <th>69</th>\n",
       "      <td>chr1</td>\n",
       "      <td>1598473</td>\n",
       "      <td>-10</td>\n",
       "      <td>10</td>\n",
       "      <td>1598635</td>\n",
       "      <td>-10</td>\n",
       "      <td>10</td>\n",
       "      <td>.</td>\n",
       "      <td>G</td>\n",
       "      <td>&lt;DEL&gt;</td>\n",
       "      <td>.</td>\n",
       "      <td>PASS</td>\n",
       "      <td>IMPRECISE;SVTYPE=DEL;END=1598635;SVLEN=-162;CI...</td>\n",
       "      <td>GT</td>\n",
       "      <td>1/1</td>\n",
       "    </tr>\n",
       "    <tr>\n",
       "      <th>...</th>\n",
       "      <td>...</td>\n",
       "      <td>...</td>\n",
       "      <td>...</td>\n",
       "      <td>...</td>\n",
       "      <td>...</td>\n",
       "      <td>...</td>\n",
       "      <td>...</td>\n",
       "      <td>...</td>\n",
       "      <td>...</td>\n",
       "      <td>...</td>\n",
       "      <td>...</td>\n",
       "      <td>...</td>\n",
       "      <td>...</td>\n",
       "      <td>...</td>\n",
       "      <td>...</td>\n",
       "    </tr>\n",
       "    <tr>\n",
       "      <th>20946</th>\n",
       "      <td>chrX</td>\n",
       "      <td>154285299</td>\n",
       "      <td>-10</td>\n",
       "      <td>10</td>\n",
       "      <td>154285728</td>\n",
       "      <td>-10</td>\n",
       "      <td>10</td>\n",
       "      <td>.</td>\n",
       "      <td>T</td>\n",
       "      <td>&lt;DEL&gt;</td>\n",
       "      <td>.</td>\n",
       "      <td>PASS</td>\n",
       "      <td>IMPRECISE;SVTYPE=DEL;END=154285728;SVLEN=-429;...</td>\n",
       "      <td>GT</td>\n",
       "      <td>0/1</td>\n",
       "    </tr>\n",
       "    <tr>\n",
       "      <th>20947</th>\n",
       "      <td>chrX</td>\n",
       "      <td>154365494</td>\n",
       "      <td>-10</td>\n",
       "      <td>10</td>\n",
       "      <td>154365569</td>\n",
       "      <td>-10</td>\n",
       "      <td>10</td>\n",
       "      <td>.</td>\n",
       "      <td>T</td>\n",
       "      <td>&lt;DEL&gt;</td>\n",
       "      <td>.</td>\n",
       "      <td>PASS</td>\n",
       "      <td>IMPRECISE;SVTYPE=DEL;END=154365569;SVLEN=-75;C...</td>\n",
       "      <td>GT</td>\n",
       "      <td>0/1</td>\n",
       "    </tr>\n",
       "    <tr>\n",
       "      <th>20949</th>\n",
       "      <td>chrX</td>\n",
       "      <td>154693112</td>\n",
       "      <td>-10</td>\n",
       "      <td>10</td>\n",
       "      <td>154693160</td>\n",
       "      <td>-10</td>\n",
       "      <td>10</td>\n",
       "      <td>.</td>\n",
       "      <td>A</td>\n",
       "      <td>&lt;DEL&gt;</td>\n",
       "      <td>.</td>\n",
       "      <td>PASS</td>\n",
       "      <td>IMPRECISE;SVTYPE=DEL;END=154693160;SVLEN=-48;C...</td>\n",
       "      <td>GT</td>\n",
       "      <td>0/1</td>\n",
       "    </tr>\n",
       "    <tr>\n",
       "      <th>20951</th>\n",
       "      <td>chrX</td>\n",
       "      <td>154790197</td>\n",
       "      <td>-10</td>\n",
       "      <td>10</td>\n",
       "      <td>154803271</td>\n",
       "      <td>-10</td>\n",
       "      <td>10</td>\n",
       "      <td>.</td>\n",
       "      <td>C</td>\n",
       "      <td>&lt;DEL&gt;</td>\n",
       "      <td>.</td>\n",
       "      <td>PASS</td>\n",
       "      <td>IMPRECISE;SVTYPE=DEL;END=154803271;SVLEN=-1307...</td>\n",
       "      <td>GT</td>\n",
       "      <td>0/1</td>\n",
       "    </tr>\n",
       "    <tr>\n",
       "      <th>20956</th>\n",
       "      <td>chrX</td>\n",
       "      <td>155251246</td>\n",
       "      <td>-50</td>\n",
       "      <td>50</td>\n",
       "      <td>155252497</td>\n",
       "      <td>-50</td>\n",
       "      <td>50</td>\n",
       "      <td>.</td>\n",
       "      <td>G</td>\n",
       "      <td>&lt;DEL&gt;</td>\n",
       "      <td>.</td>\n",
       "      <td>PASS</td>\n",
       "      <td>IMPRECISE;SVTYPE=DEL;END=155252497;SVLEN=False...</td>\n",
       "      <td>GT</td>\n",
       "      <td>0/1</td>\n",
       "    </tr>\n",
       "  </tbody>\n",
       "</table>\n",
       "<p>4495 rows × 15 columns</p>\n",
       "</div>"
      ],
      "text/plain": [
       "      CHROM        POS  SPOS  EPOS        END  SEND  EEND ID REF    ALT QUAL  \\\n",
       "0      chr1      67811   -10    10      68252   -10    10  .   T  <DEL>    .   \n",
       "29     chr1     912146   -50    50     912383   -50    50  .   C  <DEL>    .   \n",
       "58     chr1    1285477   -10    10    1285757   -10    10  .   G  <DEL>    .   \n",
       "68     chr1    1574897   -10    10    1638107   -10    10  .   C  <DEL>    .   \n",
       "69     chr1    1598473   -10    10    1598635   -10    10  .   G  <DEL>    .   \n",
       "...     ...        ...   ...   ...        ...   ...   ... ..  ..    ...  ...   \n",
       "20946  chrX  154285299   -10    10  154285728   -10    10  .   T  <DEL>    .   \n",
       "20947  chrX  154365494   -10    10  154365569   -10    10  .   T  <DEL>    .   \n",
       "20949  chrX  154693112   -10    10  154693160   -10    10  .   A  <DEL>    .   \n",
       "20951  chrX  154790197   -10    10  154803271   -10    10  .   C  <DEL>    .   \n",
       "20956  chrX  155251246   -50    50  155252497   -50    50  .   G  <DEL>    .   \n",
       "\n",
       "      FILTER                                               INFO FORMAT NA12878  \n",
       "0       PASS  IMPRECISE;SVTYPE=DEL;END=68252;SVLEN=-441;CIPO...     GT     0/1  \n",
       "29      PASS  IMPRECISE;SVTYPE=DEL;END=912383;SVLEN=False;CI...     GT     0/1  \n",
       "58      PASS  IMPRECISE;SVTYPE=DEL;END=1285757;SVLEN=-280;CI...     GT     0/1  \n",
       "68      PASS  IMPRECISE;SVTYPE=DEL;END=1638107;SVLEN=-63210;...     GT     0/1  \n",
       "69      PASS  IMPRECISE;SVTYPE=DEL;END=1598635;SVLEN=-162;CI...     GT     1/1  \n",
       "...      ...                                                ...    ...     ...  \n",
       "20946   PASS  IMPRECISE;SVTYPE=DEL;END=154285728;SVLEN=-429;...     GT     0/1  \n",
       "20947   PASS  IMPRECISE;SVTYPE=DEL;END=154365569;SVLEN=-75;C...     GT     0/1  \n",
       "20949   PASS  IMPRECISE;SVTYPE=DEL;END=154693160;SVLEN=-48;C...     GT     0/1  \n",
       "20951   PASS  IMPRECISE;SVTYPE=DEL;END=154803271;SVLEN=-1307...     GT     0/1  \n",
       "20956   PASS  IMPRECISE;SVTYPE=DEL;END=155252497;SVLEN=False...     GT     0/1  \n",
       "\n",
       "[4495 rows x 15 columns]"
      ]
     },
     "execution_count": 40,
     "metadata": {},
     "output_type": "execute_result"
    }
   ],
   "source": [
    "insert_chromosome"
   ]
  },
  {
   "cell_type": "code",
   "execution_count": 39,
   "id": "09fbeaf7",
   "metadata": {},
   "outputs": [
    {
     "data": {
      "text/plain": [
       "[9, 8, 7, 6, 5, 4, 3]"
      ]
     },
     "execution_count": 39,
     "metadata": {},
     "output_type": "execute_result"
    }
   ],
   "source": [
    "x = list(range(9, 3, -1))\n",
    "x.append(3)\n",
    "x"
   ]
  },
  {
   "cell_type": "code",
   "execution_count": 49,
   "id": "b1fc2fd7",
   "metadata": {},
   "outputs": [
    {
     "data": {
      "text/plain": [
       "[1000, 3]"
      ]
     },
     "execution_count": 49,
     "metadata": {},
     "output_type": "execute_result"
    }
   ],
   "source": [
    "list(range(1000, 2, -997))"
   ]
  },
  {
   "cell_type": "code",
   "execution_count": 50,
   "id": "a1f1c04a",
   "metadata": {},
   "outputs": [],
   "source": [
    "all_p_img = torch.load(data_dir + '/all_p_img' + '.pt')\n",
    "all_n_img = torch.load(data_dir + '/all_n_img' + '.pt')"
   ]
  },
  {
   "cell_type": "code",
   "execution_count": 53,
   "id": "40e17777",
   "metadata": {},
   "outputs": [
    {
     "data": {
      "text/plain": [
       "torch.Size([22199, 224, 224])"
      ]
     },
     "execution_count": 53,
     "metadata": {},
     "output_type": "execute_result"
    }
   ],
   "source": [
    "all_p_img8.size()"
   ]
  },
  {
   "cell_type": "code",
   "execution_count": 62,
   "id": "2ec06e07",
   "metadata": {},
   "outputs": [],
   "source": [
    "all_p_img3 = all_p_img[:, 3, :, :] + all_p_img[:, 8, :, :]\n",
    "all_n_img3 = all_n_img[:, 3, :, :] + all_n_img[:, 8, :, :]"
   ]
  },
  {
   "cell_type": "code",
   "execution_count": 64,
   "id": "583e5dbd",
   "metadata": {},
   "outputs": [],
   "source": [
    "all_p = torch.cat([all_p_img[:, :3, :, :], all_p_img3.unsqueeze(1), all_p_img[:, 4:6, :, :]], dim = 1)\n",
    "all_n = torch.cat([all_n_img[:, :3, :, :], all_n_img3.unsqueeze(1), all_n_img[:, 4:6, :, :]], dim = 1)"
   ]
  },
  {
   "cell_type": "code",
   "execution_count": 65,
   "id": "9dfb834e",
   "metadata": {},
   "outputs": [
    {
     "data": {
      "text/plain": [
       "torch.Size([22199, 6, 224, 224])"
      ]
     },
     "execution_count": 65,
     "metadata": {},
     "output_type": "execute_result"
    }
   ],
   "source": [
    "all_p.size()"
   ]
  },
  {
   "cell_type": "code",
   "execution_count": 66,
   "id": "07a8d6ff",
   "metadata": {},
   "outputs": [],
   "source": [
    "torch.save(all_p, data_dir + '/all_p_img' + '.pt')\n",
    "torch.save(all_n, data_dir + '/all_n_img' + '.pt')"
   ]
  },
  {
   "cell_type": "code",
   "execution_count": 5,
   "id": "0130b072",
   "metadata": {},
   "outputs": [
    {
     "name": "stderr",
     "output_type": "stream",
     "text": [
      "Global seed set to 2022\n"
     ]
    },
    {
     "name": "stdout",
     "output_type": "stream",
     "text": [
      "deal chrM\n",
      "deal chr1\n",
      "deal chr2\n",
      "deal chr3\n",
      "deal chr4\n",
      "deal chr5\n",
      "deal chr6\n",
      "deal chr7\n",
      "deal chr8\n",
      "deal chr9\n",
      "deal chr10\n",
      "deal chr11\n",
      "deal chr12\n",
      "deal chr13\n",
      "deal chr14\n",
      "deal chr15\n",
      "deal chr16\n",
      "deal chr17\n",
      "deal chr18\n",
      "deal chr19\n",
      "deal chr20\n",
      "deal chr21\n",
      "deal chr22\n",
      "deal chrX\n",
      "deal chrY\n",
      "deal chr1_gl000191_random\n",
      "deal chr1_gl000192_random\n",
      "deal chr4_ctg9_hap1\n",
      "deal chr4_gl000193_random\n",
      "deal chr4_gl000194_random\n",
      "deal chr6_apd_hap1\n",
      "deal chr6_cox_hap2\n",
      "deal chr6_dbb_hap3\n",
      "deal chr6_mann_hap4\n",
      "deal chr6_mcf_hap5\n",
      "deal chr6_qbl_hap6\n",
      "deal chr6_ssto_hap7\n",
      "deal chr7_gl000195_random\n",
      "deal chr8_gl000196_random\n",
      "deal chr8_gl000197_random\n",
      "deal chr9_gl000198_random\n",
      "deal chr9_gl000199_random\n",
      "deal chr9_gl000200_random\n",
      "deal chr9_gl000201_random\n",
      "deal chr11_gl000202_random\n",
      "deal chr17_ctg5_hap1\n",
      "deal chr17_gl000203_random\n",
      "deal chr17_gl000204_random\n",
      "deal chr17_gl000205_random\n",
      "deal chr17_gl000206_random\n",
      "deal chr18_gl000207_random\n",
      "deal chr19_gl000208_random\n",
      "deal chr19_gl000209_random\n",
      "deal chr21_gl000210_random\n",
      "deal chrUn_gl000211\n",
      "deal chrUn_gl000212\n",
      "deal chrUn_gl000213\n",
      "deal chrUn_gl000214\n",
      "deal chrUn_gl000215\n",
      "deal chrUn_gl000216\n",
      "deal chrUn_gl000217\n",
      "deal chrUn_gl000218\n",
      "deal chrUn_gl000219\n",
      "deal chrUn_gl000220\n",
      "deal chrUn_gl000221\n",
      "deal chrUn_gl000222\n",
      "deal chrUn_gl000223\n",
      "deal chrUn_gl000224\n",
      "deal chrUn_gl000225\n",
      "deal chrUn_gl000226\n",
      "deal chrUn_gl000227\n",
      "deal chrUn_gl000228\n",
      "deal chrUn_gl000229\n",
      "deal chrUn_gl000230\n",
      "deal chrUn_gl000231\n",
      "deal chrUn_gl000232\n",
      "deal chrUn_gl000233\n",
      "deal chrUn_gl000234\n",
      "deal chrUn_gl000235\n",
      "deal chrUn_gl000236\n",
      "deal chrUn_gl000237\n",
      "deal chrUn_gl000238\n",
      "deal chrUn_gl000239\n",
      "deal chrUn_gl000240\n",
      "deal chrUn_gl000241\n",
      "deal chrUn_gl000242\n",
      "deal chrUn_gl000243\n",
      "deal chrUn_gl000244\n",
      "deal chrUn_gl000245\n",
      "deal chrUn_gl000246\n",
      "deal chrUn_gl000247\n",
      "deal chrUn_gl000248\n",
      "deal chrUn_gl000249\n"
     ]
    }
   ],
   "source": [
    "seed_everything(2022)\n",
    "bam_path = data_dir + \"sorted_final_merged.bam\"\n",
    "sam_file = pysam.AlignmentFile(bam_path, \"rb\")\n",
    "chr_list = sam_file.references\n",
    "chr_length = sam_file.lengths\n",
    "sam_file.close()\n",
    "data_dir = \"../datasets/NA12878_PacBio_MtSinai/\"\n",
    "\n",
    "for chromosome, chr_len in zip(chr_list, chr_length):\n",
    "    print(\"deal \" + chromosome)\n",
    "    positive_cigar_img = torch.load(data_dir + 'image/' + chromosome + '/positive_cigar_img' + '.pt')\n",
    "    negative_cigar_img = torch.load(data_dir + 'image/' + chromosome + '/negative_cigar_img' + '.pt')\n",
    "    # 由于未刷新数据增加的代码\n",
    "    # print(positive_cigar_img.size())\n",
    "    all_p_img3 = positive_cigar_img[:, 0, :, :] + positive_cigar_img[:, 5, :, :]\n",
    "    all_n_img3 = negative_cigar_img[:, 0, :, :] + negative_cigar_img[:, 5, :, :]\n",
    "    positive_cigar_img = torch.cat([all_p_img3.unsqueeze(1), positive_cigar_img[:, 1:3, :, :]], dim = 1)\n",
    "    negative_cigar_img = torch.cat([all_n_img3.unsqueeze(1), negative_cigar_img[:, 1:3, :, :]], dim = 1)\n",
    "    save_path = data_dir + 'image/' + chromosome\n",
    "    torch.save(positive_cigar_img, save_path + '/positive_cigar_img' + '.pt')\n",
    "    torch.save(negative_cigar_img, save_path + '/negative_cigar_img' + '.pt')"
   ]
  },
  {
   "cell_type": "code",
   "execution_count": 6,
   "id": "c942cbca",
   "metadata": {},
   "outputs": [],
   "source": [
    "a = torch.rand([2, 200, 200])"
   ]
  },
  {
   "cell_type": "code",
   "execution_count": 8,
   "id": "48e79b0b",
   "metadata": {
    "scrolled": true
   },
   "outputs": [
    {
     "name": "stdout",
     "output_type": "stream",
     "text": [
      "torch.Size([200, 200])\n",
      "torch.Size([200, 200])\n"
     ]
    }
   ],
   "source": [
    "for i in a:\n",
    "    print(i.size())"
   ]
  },
  {
   "cell_type": "code",
   "execution_count": 2,
   "id": "d7d2e0ed",
   "metadata": {},
   "outputs": [
    {
     "data": {
      "text/plain": [
       "[('chrM', 16571),\n",
       " ('chr3', 198022430),\n",
       " ('chr4', 191154276),\n",
       " ('chr5', 180915260),\n",
       " ('chr6', 171115067),\n",
       " ('chr7', 159138663),\n",
       " ('chr8', 146364022),\n",
       " ('chr9', 141213431),\n",
       " ('chr10', 135534747),\n",
       " ('chr11', 135006516),\n",
       " ('chr13', 115169878),\n",
       " ('chr14', 107349540),\n",
       " ('chr15', 102531392),\n",
       " ('chr16', 90354753),\n",
       " ('chr17', 81195210),\n",
       " ('chr18', 78077248),\n",
       " ('chr19', 59128983),\n",
       " ('chr20', 63025520),\n",
       " ('chr21', 48129895),\n",
       " ('chr22', 51304566),\n",
       " ('chrX', 155270560),\n",
       " ('chrY', 59373566),\n",
       " ('chr1_gl000191_random', 106433),\n",
       " ('chr1_gl000192_random', 547496),\n",
       " ('chr4_ctg9_hap1', 590426),\n",
       " ('chr4_gl000193_random', 189789),\n",
       " ('chr4_gl000194_random', 191469),\n",
       " ('chr6_apd_hap1', 4622290),\n",
       " ('chr6_cox_hap2', 4795371),\n",
       " ('chr6_dbb_hap3', 4610396),\n",
       " ('chr6_mann_hap4', 4683263),\n",
       " ('chr6_mcf_hap5', 4833398),\n",
       " ('chr6_qbl_hap6', 4611984),\n",
       " ('chr6_ssto_hap7', 4928567),\n",
       " ('chr7_gl000195_random', 182896),\n",
       " ('chr8_gl000196_random', 38914),\n",
       " ('chr8_gl000197_random', 37175),\n",
       " ('chr9_gl000198_random', 90085),\n",
       " ('chr9_gl000199_random', 169874),\n",
       " ('chr9_gl000200_random', 187035),\n",
       " ('chr9_gl000201_random', 36148),\n",
       " ('chr11_gl000202_random', 40103),\n",
       " ('chr17_ctg5_hap1', 1680828),\n",
       " ('chr17_gl000203_random', 37498),\n",
       " ('chr17_gl000204_random', 81310),\n",
       " ('chr17_gl000205_random', 174588),\n",
       " ('chr17_gl000206_random', 41001),\n",
       " ('chr18_gl000207_random', 4262),\n",
       " ('chr19_gl000208_random', 92689),\n",
       " ('chr19_gl000209_random', 159169),\n",
       " ('chr21_gl000210_random', 27682),\n",
       " ('chrUn_gl000211', 166566),\n",
       " ('chrUn_gl000212', 186858),\n",
       " ('chrUn_gl000213', 164239),\n",
       " ('chrUn_gl000214', 137718),\n",
       " ('chrUn_gl000215', 172545),\n",
       " ('chrUn_gl000216', 172294),\n",
       " ('chrUn_gl000217', 172149),\n",
       " ('chrUn_gl000218', 161147),\n",
       " ('chrUn_gl000219', 179198),\n",
       " ('chrUn_gl000220', 161802),\n",
       " ('chrUn_gl000221', 155397),\n",
       " ('chrUn_gl000222', 186861),\n",
       " ('chrUn_gl000223', 180455),\n",
       " ('chrUn_gl000224', 179693),\n",
       " ('chrUn_gl000225', 211173),\n",
       " ('chrUn_gl000226', 15008),\n",
       " ('chrUn_gl000227', 128374),\n",
       " ('chrUn_gl000228', 129120),\n",
       " ('chrUn_gl000229', 19913),\n",
       " ('chrUn_gl000230', 43691),\n",
       " ('chrUn_gl000231', 27386),\n",
       " ('chrUn_gl000232', 40652),\n",
       " ('chrUn_gl000233', 45941),\n",
       " ('chrUn_gl000234', 40531),\n",
       " ('chrUn_gl000235', 34474),\n",
       " ('chrUn_gl000236', 41934),\n",
       " ('chrUn_gl000237', 45867),\n",
       " ('chrUn_gl000238', 39939),\n",
       " ('chrUn_gl000239', 33824),\n",
       " ('chrUn_gl000240', 41933),\n",
       " ('chrUn_gl000241', 42152),\n",
       " ('chrUn_gl000242', 43523),\n",
       " ('chrUn_gl000243', 43341),\n",
       " ('chrUn_gl000244', 39929),\n",
       " ('chrUn_gl000245', 36651),\n",
       " ('chrUn_gl000246', 38154),\n",
       " ('chrUn_gl000247', 36422),\n",
       " ('chrUn_gl000248', 39786),\n",
       " ('chrUn_gl000249', 38502)]"
      ]
     },
     "execution_count": 2,
     "metadata": {},
     "output_type": "execute_result"
    }
   ],
   "source": [
    "import os\n",
    "from datetime import datetime\n",
    "# 打印时间函数\n",
    "import subprocess\n",
    "import utilities as ut\n",
    "import pandas as pd\n",
    "import random\n",
    "import numpy as np\n",
    "import torchvision\n",
    "import math\n",
    "import torch\n",
    "import os\n",
    "import pysam\n",
    "\n",
    "\n",
    "\n",
    "data_dir = \"../datasets/NA12878_PacBio_MtSinai/\"\n",
    "\n",
    "bam_path = data_dir + \"sorted_final_merged.bam\"\n",
    "\n",
    "vcf_filename = data_dir + \"insert_result_data.csv.vcf\"\n",
    "\n",
    "\n",
    "sam_file = pysam.AlignmentFile(bam_path, \"rb\")\n",
    "chr_list = sam_file.references\n",
    "chr_length = sam_file.lengths\n",
    "sam_file.close()\n",
    "\n",
    "hight = 224\n",
    "\n",
    "data_list = []\n",
    "for chromosome, chr_len in zip(chr_list, chr_length):\n",
    "    if not os.path.exists(data_dir + 'flag/' + chromosome + '.txt'):\n",
    "        data_list.append((chromosome, chr_len))\n",
    "\n",
    "data_list"
   ]
  },
  {
   "cell_type": "code",
   "execution_count": 7,
   "id": "8d39e4a6",
   "metadata": {},
   "outputs": [
    {
     "data": {
      "text/plain": [
       "21"
      ]
     },
     "execution_count": 7,
     "metadata": {},
     "output_type": "execute_result"
    }
   ],
   "source": [
    "len(data_list)"
   ]
  },
  {
   "cell_type": "code",
   "execution_count": 18,
   "id": "44ffc17c",
   "metadata": {},
   "outputs": [
    {
     "name": "stdout",
     "output_type": "stream",
     "text": [
      "True\n",
      "True\n",
      "True\n",
      "True\n",
      "True\n",
      "True\n",
      "True\n",
      "True\n",
      "True\n",
      "True\n",
      "True\n",
      "True\n",
      "True\n",
      "True\n",
      "True\n",
      "True\n",
      "True\n",
      "True\n",
      "True\n",
      "True\n",
      "True\n",
      "True\n",
      "True\n",
      "True\n",
      "True\n",
      "True\n",
      "True\n",
      "True\n",
      "True\n",
      "True\n",
      "True\n",
      "True\n",
      "True\n",
      "True\n",
      "True\n",
      "True\n"
     ]
    }
   ],
   "source": [
    "for chr, len in data_list:\n",
    "    positive_img_id = torch.empty(0, 2, hight, hight)\n",
    "    negative_img_id = torch.empty(0, 2, hight, hight)\n",
    "    save_path = data_dir + 'image/' + chromosome\n",
    "    print(os.path.exists(save_path + '/positive_img_id' + '.pt'))\n",
    "    \n",
    "    torch.save(positive_img_id, save_path + '/positive_img_id' + '.pt')\n",
    "    torch.save(negative_img_id, save_path + '/negative_img_id' + '.pt')"
   ]
  },
  {
   "cell_type": "code",
   "execution_count": 16,
   "id": "c4ca99c1",
   "metadata": {},
   "outputs": [],
   "source": [
    "del data_list[1]"
   ]
  },
  {
   "cell_type": "code",
   "execution_count": 53,
   "id": "348315f8",
   "metadata": {},
   "outputs": [
    {
     "ename": "NameError",
     "evalue": "name 'data_list' is not defined",
     "output_type": "error",
     "traceback": [
      "\u001b[0;31m---------------------------------------------------------------------------\u001b[0m",
      "\u001b[0;31mNameError\u001b[0m                                 Traceback (most recent call last)",
      "\u001b[0;32m<ipython-input-53-b5370bd0714f>\u001b[0m in \u001b[0;36m<module>\u001b[0;34m\u001b[0m\n\u001b[0;32m----> 1\u001b[0;31m \u001b[0mdata_list\u001b[0m\u001b[0;34m\u001b[0m\u001b[0;34m\u001b[0m\u001b[0m\n\u001b[0m",
      "\u001b[0;31mNameError\u001b[0m: name 'data_list' is not defined"
     ]
    }
   ],
   "source": [
    "data_list"
   ]
  },
  {
   "cell_type": "code",
   "execution_count": 21,
   "id": "24b6a297",
   "metadata": {},
   "outputs": [],
   "source": [
    "mid_sign = torch.load(data_dir + \"chromosome_sign/\" + \"chr1\" + \"_mid_sign.pt\")"
   ]
  },
  {
   "cell_type": "code",
   "execution_count": 22,
   "id": "5316edd2",
   "metadata": {},
   "outputs": [
    {
     "data": {
      "text/plain": [
       "torch.Size([3, 249250621])"
      ]
     },
     "execution_count": 22,
     "metadata": {},
     "output_type": "execute_result"
    }
   ],
   "source": [
    "mid_sign.size()"
   ]
  },
  {
   "cell_type": "code",
   "execution_count": 26,
   "id": "6658ebae",
   "metadata": {},
   "outputs": [
    {
     "data": {
      "text/plain": [
       "torch.Size([1621, 6, 224, 224])"
      ]
     },
     "execution_count": 26,
     "metadata": {},
     "output_type": "execute_result"
    }
   ],
   "source": [
    "torch.load(data_dir + 'image6/' + \"chr1\" + '/positive_cigar_img' + '.pt').size()"
   ]
  },
  {
   "cell_type": "code",
   "execution_count": 39,
   "id": "f5149bf7",
   "metadata": {},
   "outputs": [],
   "source": [
    "positive_cigar_img6 = torch.load(data_dir + 'image6/' + \"chr1\" + '/positive_cigar_img' + '.pt')"
   ]
  },
  {
   "cell_type": "code",
   "execution_count": 40,
   "id": "d6d61bc2",
   "metadata": {},
   "outputs": [
    {
     "data": {
      "text/plain": [
       "torch.Size([1621, 4, 224, 224])"
      ]
     },
     "execution_count": 40,
     "metadata": {},
     "output_type": "execute_result"
    }
   ],
   "source": [
    "positive_cigar_img6.size()"
   ]
  },
  {
   "cell_type": "code",
   "execution_count": 71,
   "id": "4fba5b04",
   "metadata": {},
   "outputs": [
    {
     "name": "stderr",
     "output_type": "stream",
     "text": [
      "Global seed set to 2022\n"
     ]
    },
    {
     "name": "stdout",
     "output_type": "stream",
     "text": [
      "chrM\n",
      "chr1\n",
      "chr2\n",
      "chr3\n",
      "chr4\n",
      "chr5\n",
      "chr6\n",
      "chr7\n",
      "chr8\n",
      "chr9\n",
      "chr10\n",
      "chr11\n",
      "chr12\n",
      "chr13\n",
      "chr14\n",
      "chr15\n",
      "chr16\n",
      "chr17\n",
      "chr18\n",
      "chr19\n",
      "chr20\n",
      "chr21\n",
      "chr22\n",
      "chrX\n",
      "chrY\n",
      "chr1_gl000191_random\n",
      "chr1_gl000192_random\n",
      "chr4_ctg9_hap1\n",
      "chr4_gl000193_random\n",
      "chr4_gl000194_random\n",
      "chr6_apd_hap1\n",
      "chr6_cox_hap2\n",
      "chr6_dbb_hap3\n",
      "chr6_mann_hap4\n",
      "chr6_mcf_hap5\n",
      "chr6_qbl_hap6\n",
      "chr6_ssto_hap7\n",
      "chr7_gl000195_random\n",
      "chr8_gl000196_random\n",
      "chr8_gl000197_random\n",
      "chr9_gl000198_random\n",
      "chr9_gl000199_random\n",
      "chr9_gl000200_random\n",
      "chr9_gl000201_random\n",
      "chr11_gl000202_random\n",
      "chr17_ctg5_hap1\n",
      "chr17_gl000203_random\n",
      "chr17_gl000204_random\n",
      "chr17_gl000205_random\n",
      "chr17_gl000206_random\n",
      "chr18_gl000207_random\n",
      "chr19_gl000208_random\n",
      "chr19_gl000209_random\n",
      "chr21_gl000210_random\n",
      "chrUn_gl000211\n",
      "chrUn_gl000212\n",
      "chrUn_gl000213\n",
      "chrUn_gl000214\n",
      "chrUn_gl000215\n",
      "chrUn_gl000216\n",
      "chrUn_gl000217\n",
      "chrUn_gl000218\n",
      "chrUn_gl000219\n",
      "chrUn_gl000220\n",
      "chrUn_gl000221\n",
      "chrUn_gl000222\n",
      "chrUn_gl000223\n",
      "chrUn_gl000224\n",
      "chrUn_gl000225\n",
      "chrUn_gl000226\n",
      "chrUn_gl000227\n",
      "chrUn_gl000228\n",
      "chrUn_gl000229\n",
      "chrUn_gl000230\n",
      "chrUn_gl000231\n",
      "chrUn_gl000232\n",
      "chrUn_gl000233\n",
      "chrUn_gl000234\n",
      "chrUn_gl000235\n",
      "chrUn_gl000236\n",
      "chrUn_gl000237\n",
      "chrUn_gl000238\n",
      "chrUn_gl000239\n",
      "chrUn_gl000240\n",
      "chrUn_gl000241\n",
      "chrUn_gl000242\n",
      "chrUn_gl000243\n",
      "chrUn_gl000244\n",
      "chrUn_gl000245\n",
      "chrUn_gl000246\n",
      "chrUn_gl000247\n",
      "chrUn_gl000248\n",
      "chrUn_gl000249\n"
     ]
    }
   ],
   "source": [
    "import utilities as ut\n",
    "from pudb import set_trace\n",
    "import pandas as pd\n",
    "import random\n",
    "import numpy as np\n",
    "import torch\n",
    "from pytorch_lightning.loggers import TensorBoardLogger\n",
    "import os\n",
    "from net import IDENet\n",
    "import pytorch_lightning as pl\n",
    "from pytorch_lightning import seed_everything\n",
    "from pytorch_lightning.callbacks import ModelCheckpoint\n",
    "from multiprocessing import Pool, cpu_count\n",
    "import pysam\n",
    "import ray\n",
    "from ray import tune\n",
    "from ray.tune import CLIReporter\n",
    "from ray.tune.suggest import Repeater\n",
    "from ray.tune.schedulers import ASHAScheduler, PopulationBasedTraining\n",
    "from ray.tune.suggest.hyperopt import HyperOptSearch\n",
    "from ray.tune.integration.pytorch_lightning import TuneReportCallback, \\\n",
    "    TuneReportCheckpointCallback\n",
    "\n",
    "\n",
    "os.environ[\"CUDA_VISIBLE_DEVICES\"] = \"3\"\n",
    "\n",
    "\n",
    "seed_everything(2022)\n",
    "\n",
    "data_dir = \"../datasets/NA12878_PacBio_MtSinai/\"\n",
    "\n",
    "bam_path = data_dir + \"sorted_final_merged.bam\"\n",
    "\n",
    "vcf_filename = data_dir + \"insert_result_data.csv.vcf\"\n",
    "\n",
    "\n",
    "# get chr list\n",
    "sam_file = pysam.AlignmentFile(bam_path, \"rb\")\n",
    "chr_list = sam_file.references\n",
    "chr_length = sam_file.lengths\n",
    "sam_file.close()\n",
    "\n",
    "for chromosome, chr_len in zip(chr_list, chr_length):\n",
    "    print(chromosome)\n",
    "    positive_cigar_img6 = torch.load(data_dir + 'image6/' + chromosome + '/positive_cigar_img' + '.pt') # 6\n",
    "    negative_cigar_img6 = torch.load(data_dir + 'image6/' + chromosome + '/negative_cigar_img' + '.pt')\n",
    "    positive_cigar_img6 = torch.cat((positive_cigar_img6, positive_cigar_img6[:, 0:1] + positive_cigar_img6[:, 5:6]), 1)\n",
    "    negative_cigar_img6 = torch.cat((negative_cigar_img6, negative_cigar_img6[:, 0:1] + negative_cigar_img6[:, 5:6]), 1)\n",
    "    torch.save(positive_cigar_img6, data_dir + 'image/' + chromosome + '/positive_cigar_img' + '.pt')\n",
    "    torch.save(negative_cigar_img6, data_dir + 'image/' + chromosome + '/negative_cigar_img' + '.pt')"
   ]
  },
  {
   "cell_type": "code",
   "execution_count": 73,
   "id": "cdc3fc17",
   "metadata": {},
   "outputs": [
    {
     "data": {
      "text/plain": [
       "torch.Size([1621, 7, 224, 224])"
      ]
     },
     "execution_count": 73,
     "metadata": {},
     "output_type": "execute_result"
    }
   ],
   "source": [
    "torch.load(data_dir + 'image/' + \"chr1\" + '/positive_cigar_img' + '.pt').size()"
   ]
  },
  {
   "cell_type": "code",
   "execution_count": 46,
   "id": "2faa7587",
   "metadata": {},
   "outputs": [],
   "source": [
    "a = all_p_img[:, 6:]"
   ]
  },
  {
   "cell_type": "code",
   "execution_count": 64,
   "id": "4690f747",
   "metadata": {},
   "outputs": [],
   "source": [
    "a1 = a[:, 2]"
   ]
  },
  {
   "cell_type": "code",
   "execution_count": 65,
   "id": "08e5707b",
   "metadata": {},
   "outputs": [],
   "source": [
    "b1 = a[:, 5]"
   ]
  },
  {
   "cell_type": "code",
   "execution_count": 66,
   "id": "1c55dae0",
   "metadata": {},
   "outputs": [
    {
     "data": {
      "text/plain": [
       "tensor([[[True, True, True,  ..., True, True, True],\n",
       "         [True, True, True,  ..., True, True, True],\n",
       "         [True, True, True,  ..., True, True, True],\n",
       "         ...,\n",
       "         [True, True, True,  ..., True, True, True],\n",
       "         [True, True, True,  ..., True, True, True],\n",
       "         [True, True, True,  ..., True, True, True]],\n",
       "\n",
       "        [[True, True, True,  ..., True, True, True],\n",
       "         [True, True, True,  ..., True, True, True],\n",
       "         [True, True, True,  ..., True, True, True],\n",
       "         ...,\n",
       "         [True, True, True,  ..., True, True, True],\n",
       "         [True, True, True,  ..., True, True, True],\n",
       "         [True, True, True,  ..., True, True, True]],\n",
       "\n",
       "        [[True, True, True,  ..., True, True, True],\n",
       "         [True, True, True,  ..., True, True, True],\n",
       "         [True, True, True,  ..., True, True, True],\n",
       "         ...,\n",
       "         [True, True, True,  ..., True, True, True],\n",
       "         [True, True, True,  ..., True, True, True],\n",
       "         [True, True, True,  ..., True, True, True]],\n",
       "\n",
       "        ...,\n",
       "\n",
       "        [[True, True, True,  ..., True, True, True],\n",
       "         [True, True, True,  ..., True, True, True],\n",
       "         [True, True, True,  ..., True, True, True],\n",
       "         ...,\n",
       "         [True, True, True,  ..., True, True, True],\n",
       "         [True, True, True,  ..., True, True, True],\n",
       "         [True, True, True,  ..., True, True, True]],\n",
       "\n",
       "        [[True, True, True,  ..., True, True, True],\n",
       "         [True, True, True,  ..., True, True, True],\n",
       "         [True, True, True,  ..., True, True, True],\n",
       "         ...,\n",
       "         [True, True, True,  ..., True, True, True],\n",
       "         [True, True, True,  ..., True, True, True],\n",
       "         [True, True, True,  ..., True, True, True]],\n",
       "\n",
       "        [[True, True, True,  ..., True, True, True],\n",
       "         [True, True, True,  ..., True, True, True],\n",
       "         [True, True, True,  ..., True, True, True],\n",
       "         ...,\n",
       "         [True, True, True,  ..., True, True, True],\n",
       "         [True, True, True,  ..., True, True, True],\n",
       "         [True, True, True,  ..., True, True, True]]])"
      ]
     },
     "execution_count": 66,
     "metadata": {},
     "output_type": "execute_result"
    }
   ],
   "source": [
    "torch.eq(a1, b1)"
   ]
  },
  {
   "cell_type": "code",
   "execution_count": 61,
   "id": "cdfa1e15",
   "metadata": {},
   "outputs": [],
   "source": [
    "chromosome = \"chr1\"\n",
    "positive_cigar_img = torch.load(data_dir + 'image/' + chromosome + '/positive_cigar_img' + '.pt') # 3   1, 2\n",
    "negative_cigar_img = torch.load(data_dir + 'image/' + chromosome + '/negative_cigar_img' + '.pt')\n",
    "positive_cigar_img4 = torch.load(data_dir + 'image6/' + chromosome + '/positive_cigar_img' + '.pt') # 4  1, 2\n",
    "negative_cigar_img4 = torch.load(data_dir + 'image6/' + chromosome + '/negative_cigar_img' + '.pt')"
   ]
  },
  {
   "cell_type": "code",
   "execution_count": 63,
   "id": "e49a0da6",
   "metadata": {},
   "outputs": [
    {
     "data": {
      "text/plain": [
       "tensor([[[True, True, True,  ..., True, True, True],\n",
       "         [True, True, True,  ..., True, True, True],\n",
       "         [True, True, True,  ..., True, True, True],\n",
       "         ...,\n",
       "         [True, True, True,  ..., True, True, True],\n",
       "         [True, True, True,  ..., True, True, True],\n",
       "         [True, True, True,  ..., True, True, True]],\n",
       "\n",
       "        [[True, True, True,  ..., True, True, True],\n",
       "         [True, True, True,  ..., True, True, True],\n",
       "         [True, True, True,  ..., True, True, True],\n",
       "         ...,\n",
       "         [True, True, True,  ..., True, True, True],\n",
       "         [True, True, True,  ..., True, True, True],\n",
       "         [True, True, True,  ..., True, True, True]],\n",
       "\n",
       "        [[True, True, True,  ..., True, True, True],\n",
       "         [True, True, True,  ..., True, True, True],\n",
       "         [True, True, True,  ..., True, True, True],\n",
       "         ...,\n",
       "         [True, True, True,  ..., True, True, True],\n",
       "         [True, True, True,  ..., True, True, True],\n",
       "         [True, True, True,  ..., True, True, True]],\n",
       "\n",
       "        ...,\n",
       "\n",
       "        [[True, True, True,  ..., True, True, True],\n",
       "         [True, True, True,  ..., True, True, True],\n",
       "         [True, True, True,  ..., True, True, True],\n",
       "         ...,\n",
       "         [True, True, True,  ..., True, True, True],\n",
       "         [True, True, True,  ..., True, True, True],\n",
       "         [True, True, True,  ..., True, True, True]],\n",
       "\n",
       "        [[True, True, True,  ..., True, True, True],\n",
       "         [True, True, True,  ..., True, True, True],\n",
       "         [True, True, True,  ..., True, True, True],\n",
       "         ...,\n",
       "         [True, True, True,  ..., True, True, True],\n",
       "         [True, True, True,  ..., True, True, True],\n",
       "         [True, True, True,  ..., True, True, True]],\n",
       "\n",
       "        [[True, True, True,  ..., True, True, True],\n",
       "         [True, True, True,  ..., True, True, True],\n",
       "         [True, True, True,  ..., True, True, True],\n",
       "         ...,\n",
       "         [True, True, True,  ..., True, True, True],\n",
       "         [True, True, True,  ..., True, True, True],\n",
       "         [True, True, True,  ..., True, True, True]]])"
      ]
     },
     "execution_count": 63,
     "metadata": {},
     "output_type": "execute_result"
    }
   ],
   "source": [
    "torch.eq(positive_cigar_img[:,1], positive_cigar_img4[:,1])"
   ]
  },
  {
   "cell_type": "code",
   "execution_count": 68,
   "id": "b57e56ad",
   "metadata": {},
   "outputs": [
    {
     "data": {
      "text/plain": [
       "torch.Size([1621, 6, 224, 224])"
      ]
     },
     "execution_count": 68,
     "metadata": {},
     "output_type": "execute_result"
    }
   ],
   "source": [
    "torch.load('/home/xwm/DeepSVFilter/datasets/NA12878_PacBio_MtSinai/image9/image6/' + \"chr1\" + '/positive_cigar_img' + '.pt').size()\n"
   ]
  },
  {
   "cell_type": "code",
   "execution_count": 3,
   "id": "f9d401ef",
   "metadata": {},
   "outputs": [],
   "source": [
    "all_p_img = torch.load(data_dir + '/all_p_img' + '.pt')"
   ]
  },
  {
   "cell_type": "code",
   "execution_count": 4,
   "id": "1ddbc95a",
   "metadata": {},
   "outputs": [
    {
     "data": {
      "text/plain": [
       "torch.Size([22199, 11, 224, 224])"
      ]
     },
     "execution_count": 4,
     "metadata": {},
     "output_type": "execute_result"
    }
   ],
   "source": [
    "all_p_img.size()"
   ]
  },
  {
   "cell_type": "code",
   "execution_count": 82,
   "id": "0cee8cb2",
   "metadata": {},
   "outputs": [],
   "source": [
    "all_p_img11 = all_p_img[:, :11]\n",
    "all_n_img11 = all_n_img[:, :11]"
   ]
  },
  {
   "cell_type": "code",
   "execution_count": 83,
   "id": "ff65f482",
   "metadata": {},
   "outputs": [
    {
     "data": {
      "text/plain": [
       "torch.Size([22199, 11, 224, 224])"
      ]
     },
     "execution_count": 83,
     "metadata": {},
     "output_type": "execute_result"
    }
   ],
   "source": [
    "all_p_img11.size()"
   ]
  },
  {
   "cell_type": "code",
   "execution_count": 2,
   "id": "7cf5355b",
   "metadata": {},
   "outputs": [],
   "source": [
    "import utilities as ut\n",
    "from pudb import set_trace\n",
    "import pandas as pd\n",
    "import random\n",
    "import numpy as np\n",
    "import torch\n",
    "import os\n",
    "from multiprocessing import Pool, cpu_count\n",
    "import pysam\n",
    "\n",
    "data_dir = \"../datasets/NA12878_PacBio_MtSinai/\"\n",
    "\n",
    "bam_path = data_dir + \"sorted_final_merged.bam\"\n",
    "\n",
    "vcf_filename = data_dir + \"insert_result_data.csv.vcf\""
   ]
  },
  {
   "cell_type": "code",
   "execution_count": null,
   "id": "f542c8ce",
   "metadata": {},
   "outputs": [],
   "source": [
    "all_p_img = torch.load(data_dir + '/all_p_img13' + '.pt')\n",
    "all_p_img = all_p_img[:, :11]\n",
    "torch.save(all_p_img, data_dir + '/all_p_img' + '.pt')"
   ]
  },
  {
   "cell_type": "code",
   "execution_count": null,
   "id": "9954e91b",
   "metadata": {},
   "outputs": [],
   "source": [
    "all_n_img = torch.load(data_dir + '/all_n_img13' + '.pt')\n",
    "all_n_img = all_n_img[:, :11]\n",
    "torch.save(all_n_img, data_dir + '/all_n_img' + '.pt')"
   ]
  },
  {
   "cell_type": "code",
   "execution_count": 1,
   "id": "ca230510",
   "metadata": {},
   "outputs": [],
   "source": [
    "import torch\n",
    "data_dir = \"../datasets/NA12878_PacBio_MtSinai/\"\n",
    "t = torch.load(data_dir + \"chromosome_sign/\" + \"chr9_gl000199_random_m(i)d_sign.pt\")"
   ]
  },
  {
   "cell_type": "code",
   "execution_count": 8,
   "id": "9231af01",
   "metadata": {},
   "outputs": [],
   "source": [
    "for i in t:\n",
    "    if len(i) > 2:\n",
    "        break"
   ]
  },
  {
   "cell_type": "code",
   "execution_count": 4,
   "id": "6a7e92f2",
   "metadata": {},
   "outputs": [],
   "source": [
    "import numpy as np\n",
    "i = np.array([3, 2, 1])"
   ]
  },
  {
   "cell_type": "code",
   "execution_count": 5,
   "id": "c95af6ed",
   "metadata": {},
   "outputs": [
    {
     "data": {
      "text/plain": [
       "0.3333333333333333"
      ]
     },
     "execution_count": 5,
     "metadata": {},
     "output_type": "execute_result"
    }
   ],
   "source": [
    "1/ len(i)"
   ]
  },
  {
   "cell_type": "code",
   "execution_count": 10,
   "id": "8a32bffe",
   "metadata": {},
   "outputs": [
    {
     "ename": "TypeError",
     "evalue": "can't assign a numpy.ndarray to a torch.FloatTensor",
     "output_type": "error",
     "traceback": [
      "\u001b[0;31m---------------------------------------------------------------------------\u001b[0m",
      "\u001b[0;31mTypeError\u001b[0m                                 Traceback (most recent call last)",
      "\u001b[0;32m<ipython-input-10-a93c0c453fda>\u001b[0m in \u001b[0;36m<module>\u001b[0;34m\u001b[0m\n\u001b[1;32m      1\u001b[0m \u001b[0;32mimport\u001b[0m \u001b[0mnumpy\u001b[0m \u001b[0;32mas\u001b[0m \u001b[0mnp\u001b[0m\u001b[0;34m\u001b[0m\u001b[0;34m\u001b[0m\u001b[0m\n\u001b[0;32m----> 2\u001b[0;31m \u001b[0ma\u001b[0m\u001b[0;34m[\u001b[0m\u001b[0;36m0\u001b[0m\u001b[0;34m:\u001b[0m\u001b[0;36m5\u001b[0m\u001b[0;34m]\u001b[0m \u001b[0;34m=\u001b[0m \u001b[0mnp\u001b[0m\u001b[0;34m.\u001b[0m\u001b[0mquantile\u001b[0m\u001b[0;34m(\u001b[0m\u001b[0mi\u001b[0m\u001b[0;34m,\u001b[0m \u001b[0;34m[\u001b[0m\u001b[0;36m0\u001b[0m\u001b[0;34m,\u001b[0m \u001b[0;36m0.25\u001b[0m\u001b[0;34m,\u001b[0m \u001b[0;36m0.5\u001b[0m\u001b[0;34m,\u001b[0m \u001b[0;36m0.75\u001b[0m\u001b[0;34m,\u001b[0m \u001b[0;36m1\u001b[0m\u001b[0;34m]\u001b[0m\u001b[0;34m,\u001b[0m \u001b[0minterpolation\u001b[0m\u001b[0;34m=\u001b[0m\u001b[0;34m'linear'\u001b[0m\u001b[0;34m)\u001b[0m\u001b[0;34m\u001b[0m\u001b[0;34m\u001b[0m\u001b[0m\n\u001b[0m",
      "\u001b[0;31mTypeError\u001b[0m: can't assign a numpy.ndarray to a torch.FloatTensor"
     ]
    }
   ],
   "source": [
    "import numpy as np\n",
    "a[0:5] = np.quantile(i, [0, 0.25, 0.5, 0.75, 1], interpolation='linear')"
   ]
  },
  {
   "cell_type": "code",
   "execution_count": 9,
   "id": "96060237",
   "metadata": {},
   "outputs": [],
   "source": [
    "import torch\n",
    "a = torch.rand(5)"
   ]
  },
  {
   "cell_type": "code",
   "execution_count": 23,
   "id": "abdc71bb",
   "metadata": {},
   "outputs": [],
   "source": [
    "conjugate_i = [[0] for _ in range(100)]"
   ]
  },
  {
   "cell_type": "code",
   "execution_count": 24,
   "id": "fd349311",
   "metadata": {},
   "outputs": [],
   "source": [
    "conjugate_i[0] = torch.empty(5)"
   ]
  },
  {
   "cell_type": "code",
   "execution_count": 38,
   "id": "6578447a",
   "metadata": {},
   "outputs": [],
   "source": [
    "conjugate_i[0].append(2)"
   ]
  },
  {
   "cell_type": "code",
   "execution_count": 19,
   "id": "c1b157a0",
   "metadata": {},
   "outputs": [
    {
     "ename": "SyntaxError",
     "evalue": "invalid syntax (<ipython-input-19-1cafb9cbe394>, line 4)",
     "output_type": "error",
     "traceback": [
      "\u001b[0;36m  File \u001b[0;32m\"<ipython-input-19-1cafb9cbe394>\"\u001b[0;36m, line \u001b[0;32m4\u001b[0m\n\u001b[0;31m    a[j] for j in range(5) = han()\u001b[0m\n\u001b[0m           ^\u001b[0m\n\u001b[0;31mSyntaxError\u001b[0m\u001b[0;31m:\u001b[0m invalid syntax\n"
     ]
    }
   ],
   "source": [
    "def han():\n",
    "    return 1, 2, 3, 4, 5\n",
    "\n",
    "a[j] for j in range(5) = han()"
   ]
  },
  {
   "cell_type": "code",
   "execution_count": 4,
   "id": "826d60e9",
   "metadata": {},
   "outputs": [
    {
     "data": {
      "text/plain": [
       "1.2909944487358056"
      ]
     },
     "execution_count": 4,
     "metadata": {},
     "output_type": "execute_result"
    }
   ],
   "source": [
    "np.sqrt(sum([x ** 2 for x in i]) / len(i))"
   ]
  },
  {
   "cell_type": "code",
   "execution_count": 5,
   "id": "3b494eb7",
   "metadata": {},
   "outputs": [
    {
     "data": {
      "text/plain": [
       "['ALLOW_THREADS',\n",
       " 'AxisError',\n",
       " 'BUFSIZE',\n",
       " 'CLIP',\n",
       " 'ComplexWarning',\n",
       " 'DataSource',\n",
       " 'ERR_CALL',\n",
       " 'ERR_DEFAULT',\n",
       " 'ERR_IGNORE',\n",
       " 'ERR_LOG',\n",
       " 'ERR_PRINT',\n",
       " 'ERR_RAISE',\n",
       " 'ERR_WARN',\n",
       " 'FLOATING_POINT_SUPPORT',\n",
       " 'FPE_DIVIDEBYZERO',\n",
       " 'FPE_INVALID',\n",
       " 'FPE_OVERFLOW',\n",
       " 'FPE_UNDERFLOW',\n",
       " 'False_',\n",
       " 'Inf',\n",
       " 'Infinity',\n",
       " 'MAXDIMS',\n",
       " 'MAY_SHARE_BOUNDS',\n",
       " 'MAY_SHARE_EXACT',\n",
       " 'MachAr',\n",
       " 'ModuleDeprecationWarning',\n",
       " 'NAN',\n",
       " 'NINF',\n",
       " 'NZERO',\n",
       " 'NaN',\n",
       " 'PINF',\n",
       " 'PZERO',\n",
       " 'RAISE',\n",
       " 'RankWarning',\n",
       " 'SHIFT_DIVIDEBYZERO',\n",
       " 'SHIFT_INVALID',\n",
       " 'SHIFT_OVERFLOW',\n",
       " 'SHIFT_UNDERFLOW',\n",
       " 'ScalarType',\n",
       " 'Tester',\n",
       " 'TooHardError',\n",
       " 'True_',\n",
       " 'UFUNC_BUFSIZE_DEFAULT',\n",
       " 'UFUNC_PYVALS_NAME',\n",
       " 'VisibleDeprecationWarning',\n",
       " 'WRAP',\n",
       " '_NoValue',\n",
       " '_UFUNC_API',\n",
       " '__NUMPY_SETUP__',\n",
       " '__all__',\n",
       " '__builtins__',\n",
       " '__cached__',\n",
       " '__config__',\n",
       " '__doc__',\n",
       " '__file__',\n",
       " '__git_revision__',\n",
       " '__loader__',\n",
       " '__mkl_version__',\n",
       " '__name__',\n",
       " '__package__',\n",
       " '__path__',\n",
       " '__spec__',\n",
       " '__version__',\n",
       " '_add_newdoc_ufunc',\n",
       " '_distributor_init',\n",
       " '_globals',\n",
       " '_mat',\n",
       " '_pytesttester',\n",
       " 'abs',\n",
       " 'absolute',\n",
       " 'add',\n",
       " 'add_docstring',\n",
       " 'add_newdoc',\n",
       " 'add_newdoc_ufunc',\n",
       " 'alen',\n",
       " 'all',\n",
       " 'allclose',\n",
       " 'alltrue',\n",
       " 'amax',\n",
       " 'amin',\n",
       " 'angle',\n",
       " 'any',\n",
       " 'append',\n",
       " 'apply_along_axis',\n",
       " 'apply_over_axes',\n",
       " 'arange',\n",
       " 'arccos',\n",
       " 'arccosh',\n",
       " 'arcsin',\n",
       " 'arcsinh',\n",
       " 'arctan',\n",
       " 'arctan2',\n",
       " 'arctanh',\n",
       " 'argmax',\n",
       " 'argmin',\n",
       " 'argpartition',\n",
       " 'argsort',\n",
       " 'argwhere',\n",
       " 'around',\n",
       " 'array',\n",
       " 'array2string',\n",
       " 'array_equal',\n",
       " 'array_equiv',\n",
       " 'array_repr',\n",
       " 'array_split',\n",
       " 'array_str',\n",
       " 'asanyarray',\n",
       " 'asarray',\n",
       " 'asarray_chkfinite',\n",
       " 'ascontiguousarray',\n",
       " 'asfarray',\n",
       " 'asfortranarray',\n",
       " 'asmatrix',\n",
       " 'asscalar',\n",
       " 'atleast_1d',\n",
       " 'atleast_2d',\n",
       " 'atleast_3d',\n",
       " 'average',\n",
       " 'bartlett',\n",
       " 'base_repr',\n",
       " 'binary_repr',\n",
       " 'bincount',\n",
       " 'bitwise_and',\n",
       " 'bitwise_not',\n",
       " 'bitwise_or',\n",
       " 'bitwise_xor',\n",
       " 'blackman',\n",
       " 'block',\n",
       " 'bmat',\n",
       " 'bool',\n",
       " 'bool8',\n",
       " 'bool_',\n",
       " 'broadcast',\n",
       " 'broadcast_arrays',\n",
       " 'broadcast_to',\n",
       " 'busday_count',\n",
       " 'busday_offset',\n",
       " 'busdaycalendar',\n",
       " 'byte',\n",
       " 'byte_bounds',\n",
       " 'bytes0',\n",
       " 'bytes_',\n",
       " 'c_',\n",
       " 'can_cast',\n",
       " 'cast',\n",
       " 'cbrt',\n",
       " 'cdouble',\n",
       " 'ceil',\n",
       " 'cfloat',\n",
       " 'char',\n",
       " 'character',\n",
       " 'chararray',\n",
       " 'choose',\n",
       " 'clip',\n",
       " 'clongdouble',\n",
       " 'clongfloat',\n",
       " 'column_stack',\n",
       " 'common_type',\n",
       " 'compare_chararrays',\n",
       " 'compat',\n",
       " 'complex',\n",
       " 'complex128',\n",
       " 'complex256',\n",
       " 'complex64',\n",
       " 'complex_',\n",
       " 'complexfloating',\n",
       " 'compress',\n",
       " 'concatenate',\n",
       " 'conj',\n",
       " 'conjugate',\n",
       " 'convolve',\n",
       " 'copy',\n",
       " 'copysign',\n",
       " 'copyto',\n",
       " 'core',\n",
       " 'corrcoef',\n",
       " 'correlate',\n",
       " 'cos',\n",
       " 'cosh',\n",
       " 'count_nonzero',\n",
       " 'cov',\n",
       " 'cross',\n",
       " 'csingle',\n",
       " 'ctypeslib',\n",
       " 'cumprod',\n",
       " 'cumproduct',\n",
       " 'cumsum',\n",
       " 'datetime64',\n",
       " 'datetime_as_string',\n",
       " 'datetime_data',\n",
       " 'deg2rad',\n",
       " 'degrees',\n",
       " 'delete',\n",
       " 'deprecate',\n",
       " 'deprecate_with_doc',\n",
       " 'diag',\n",
       " 'diag_indices',\n",
       " 'diag_indices_from',\n",
       " 'diagflat',\n",
       " 'diagonal',\n",
       " 'diff',\n",
       " 'digitize',\n",
       " 'disp',\n",
       " 'divide',\n",
       " 'divmod',\n",
       " 'dot',\n",
       " 'double',\n",
       " 'dsplit',\n",
       " 'dstack',\n",
       " 'dtype',\n",
       " 'e',\n",
       " 'ediff1d',\n",
       " 'einsum',\n",
       " 'einsum_path',\n",
       " 'emath',\n",
       " 'empty',\n",
       " 'empty_like',\n",
       " 'equal',\n",
       " 'errstate',\n",
       " 'euler_gamma',\n",
       " 'exp',\n",
       " 'exp2',\n",
       " 'expand_dims',\n",
       " 'expm1',\n",
       " 'extract',\n",
       " 'eye',\n",
       " 'fabs',\n",
       " 'fastCopyAndTranspose',\n",
       " 'fft',\n",
       " 'fill_diagonal',\n",
       " 'find_common_type',\n",
       " 'finfo',\n",
       " 'fix',\n",
       " 'flatiter',\n",
       " 'flatnonzero',\n",
       " 'flexible',\n",
       " 'flip',\n",
       " 'fliplr',\n",
       " 'flipud',\n",
       " 'float',\n",
       " 'float128',\n",
       " 'float16',\n",
       " 'float32',\n",
       " 'float64',\n",
       " 'float_',\n",
       " 'float_power',\n",
       " 'floating',\n",
       " 'floor',\n",
       " 'floor_divide',\n",
       " 'fmax',\n",
       " 'fmin',\n",
       " 'fmod',\n",
       " 'format_float_positional',\n",
       " 'format_float_scientific',\n",
       " 'format_parser',\n",
       " 'frexp',\n",
       " 'frombuffer',\n",
       " 'fromfile',\n",
       " 'fromfunction',\n",
       " 'fromiter',\n",
       " 'frompyfunc',\n",
       " 'fromregex',\n",
       " 'fromstring',\n",
       " 'full',\n",
       " 'full_like',\n",
       " 'fv',\n",
       " 'gcd',\n",
       " 'generic',\n",
       " 'genfromtxt',\n",
       " 'geomspace',\n",
       " 'get_array_wrap',\n",
       " 'get_include',\n",
       " 'get_printoptions',\n",
       " 'getbufsize',\n",
       " 'geterr',\n",
       " 'geterrcall',\n",
       " 'geterrobj',\n",
       " 'gradient',\n",
       " 'greater',\n",
       " 'greater_equal',\n",
       " 'half',\n",
       " 'hamming',\n",
       " 'hanning',\n",
       " 'heaviside',\n",
       " 'histogram',\n",
       " 'histogram2d',\n",
       " 'histogram_bin_edges',\n",
       " 'histogramdd',\n",
       " 'hsplit',\n",
       " 'hstack',\n",
       " 'hypot',\n",
       " 'i0',\n",
       " 'identity',\n",
       " 'iinfo',\n",
       " 'imag',\n",
       " 'in1d',\n",
       " 'index_exp',\n",
       " 'indices',\n",
       " 'inexact',\n",
       " 'inf',\n",
       " 'info',\n",
       " 'infty',\n",
       " 'inner',\n",
       " 'insert',\n",
       " 'int',\n",
       " 'int0',\n",
       " 'int16',\n",
       " 'int32',\n",
       " 'int64',\n",
       " 'int8',\n",
       " 'int_',\n",
       " 'intc',\n",
       " 'integer',\n",
       " 'interp',\n",
       " 'intersect1d',\n",
       " 'intp',\n",
       " 'invert',\n",
       " 'ipmt',\n",
       " 'irr',\n",
       " 'is_busday',\n",
       " 'isclose',\n",
       " 'iscomplex',\n",
       " 'iscomplexobj',\n",
       " 'isfinite',\n",
       " 'isfortran',\n",
       " 'isin',\n",
       " 'isinf',\n",
       " 'isnan',\n",
       " 'isnat',\n",
       " 'isneginf',\n",
       " 'isposinf',\n",
       " 'isreal',\n",
       " 'isrealobj',\n",
       " 'isscalar',\n",
       " 'issctype',\n",
       " 'issubclass_',\n",
       " 'issubdtype',\n",
       " 'issubsctype',\n",
       " 'iterable',\n",
       " 'ix_',\n",
       " 'kaiser',\n",
       " 'kernel_version',\n",
       " 'kron',\n",
       " 'lcm',\n",
       " 'ldexp',\n",
       " 'left_shift',\n",
       " 'less',\n",
       " 'less_equal',\n",
       " 'lexsort',\n",
       " 'lib',\n",
       " 'linalg',\n",
       " 'linspace',\n",
       " 'little_endian',\n",
       " 'load',\n",
       " 'loads',\n",
       " 'loadtxt',\n",
       " 'log',\n",
       " 'log10',\n",
       " 'log1p',\n",
       " 'log2',\n",
       " 'logaddexp',\n",
       " 'logaddexp2',\n",
       " 'logical_and',\n",
       " 'logical_not',\n",
       " 'logical_or',\n",
       " 'logical_xor',\n",
       " 'logspace',\n",
       " 'long',\n",
       " 'longcomplex',\n",
       " 'longdouble',\n",
       " 'longfloat',\n",
       " 'longlong',\n",
       " 'lookfor',\n",
       " 'ma',\n",
       " 'mafromtxt',\n",
       " 'mask_indices',\n",
       " 'mat',\n",
       " 'math',\n",
       " 'matmul',\n",
       " 'matrix',\n",
       " 'matrixlib',\n",
       " 'max',\n",
       " 'maximum',\n",
       " 'maximum_sctype',\n",
       " 'may_share_memory',\n",
       " 'mean',\n",
       " 'median',\n",
       " 'memmap',\n",
       " 'meshgrid',\n",
       " 'mgrid',\n",
       " 'min',\n",
       " 'min_scalar_type',\n",
       " 'minimum',\n",
       " 'mintypecode',\n",
       " 'mirr',\n",
       " 'mkl',\n",
       " 'mod',\n",
       " 'modf',\n",
       " 'moveaxis',\n",
       " 'msort',\n",
       " 'multiply',\n",
       " 'nan',\n",
       " 'nan_to_num',\n",
       " 'nanargmax',\n",
       " 'nanargmin',\n",
       " 'nancumprod',\n",
       " 'nancumsum',\n",
       " 'nanmax',\n",
       " 'nanmean',\n",
       " 'nanmedian',\n",
       " 'nanmin',\n",
       " 'nanpercentile',\n",
       " 'nanprod',\n",
       " 'nanquantile',\n",
       " 'nanstd',\n",
       " 'nansum',\n",
       " 'nanvar',\n",
       " 'nbytes',\n",
       " 'ndarray',\n",
       " 'ndenumerate',\n",
       " 'ndfromtxt',\n",
       " 'ndim',\n",
       " 'ndindex',\n",
       " 'nditer',\n",
       " 'negative',\n",
       " 'nested_iters',\n",
       " 'newaxis',\n",
       " 'nextafter',\n",
       " 'nonzero',\n",
       " 'not_equal',\n",
       " 'nper',\n",
       " 'npv',\n",
       " 'numarray',\n",
       " 'number',\n",
       " 'obj2sctype',\n",
       " 'object',\n",
       " 'object0',\n",
       " 'object_',\n",
       " 'ogrid',\n",
       " 'oldnumeric',\n",
       " 'ones',\n",
       " 'ones_like',\n",
       " 'os',\n",
       " 'outer',\n",
       " 'packbits',\n",
       " 'pad',\n",
       " 'partition',\n",
       " 'percentile',\n",
       " 'pi',\n",
       " 'piecewise',\n",
       " 'place',\n",
       " 'pmt',\n",
       " 'poly',\n",
       " 'poly1d',\n",
       " 'polyadd',\n",
       " 'polyder',\n",
       " 'polydiv',\n",
       " 'polyfit',\n",
       " 'polyint',\n",
       " 'polymul',\n",
       " 'polynomial',\n",
       " 'polysub',\n",
       " 'polyval',\n",
       " 'positive',\n",
       " 'power',\n",
       " 'ppmt',\n",
       " 'printoptions',\n",
       " 'prod',\n",
       " 'product',\n",
       " 'promote_types',\n",
       " 'ptp',\n",
       " 'put',\n",
       " 'put_along_axis',\n",
       " 'putmask',\n",
       " 'pv',\n",
       " 'quantile',\n",
       " 'r_',\n",
       " 'rad2deg',\n",
       " 'radians',\n",
       " 'random',\n",
       " 'rate',\n",
       " 'ravel',\n",
       " 'ravel_multi_index',\n",
       " 'real',\n",
       " 'real_if_close',\n",
       " 'rec',\n",
       " 'recarray',\n",
       " 'recfromcsv',\n",
       " 'recfromtxt',\n",
       " 'reciprocal',\n",
       " 'record',\n",
       " 'remainder',\n",
       " 'repeat',\n",
       " 'require',\n",
       " 'reshape',\n",
       " 'resize',\n",
       " 'result_type',\n",
       " 'right_shift',\n",
       " 'rint',\n",
       " 'roll',\n",
       " 'rollaxis',\n",
       " 'roots',\n",
       " 'rot90',\n",
       " 'round',\n",
       " 'round_',\n",
       " 'row_stack',\n",
       " 's_',\n",
       " 'safe_eval',\n",
       " 'save',\n",
       " 'savetxt',\n",
       " 'savez',\n",
       " 'savez_compressed',\n",
       " 'sctype2char',\n",
       " 'sctypeDict',\n",
       " 'sctypeNA',\n",
       " 'sctypes',\n",
       " 'searchsorted',\n",
       " 'select',\n",
       " 'set_numeric_ops',\n",
       " 'set_printoptions',\n",
       " 'set_string_function',\n",
       " 'setbufsize',\n",
       " 'setdiff1d',\n",
       " 'seterr',\n",
       " 'seterrcall',\n",
       " 'seterrobj',\n",
       " 'setxor1d',\n",
       " 'shape',\n",
       " 'shares_memory',\n",
       " 'short',\n",
       " 'show_config',\n",
       " 'sign',\n",
       " 'signbit',\n",
       " 'signedinteger',\n",
       " 'sin',\n",
       " 'sinc',\n",
       " 'single',\n",
       " 'singlecomplex',\n",
       " 'sinh',\n",
       " 'size',\n",
       " 'sometrue',\n",
       " 'sort',\n",
       " 'sort_complex',\n",
       " 'source',\n",
       " 'spacing',\n",
       " 'split',\n",
       " 'sqrt',\n",
       " 'square',\n",
       " 'squeeze',\n",
       " 'stack',\n",
       " 'std',\n",
       " 'str',\n",
       " 'str0',\n",
       " 'str_',\n",
       " 'string_',\n",
       " 'subtract',\n",
       " 'sum',\n",
       " 'swapaxes',\n",
       " 'sys',\n",
       " 'take',\n",
       " 'take_along_axis',\n",
       " 'tan',\n",
       " 'tanh',\n",
       " 'tensordot',\n",
       " 'test',\n",
       " 'testing',\n",
       " 'tile',\n",
       " 'timedelta64',\n",
       " 'trace',\n",
       " 'tracemalloc_domain',\n",
       " 'transpose',\n",
       " 'trapz',\n",
       " 'tri',\n",
       " 'tril',\n",
       " 'tril_indices',\n",
       " 'tril_indices_from',\n",
       " 'trim_zeros',\n",
       " 'triu',\n",
       " 'triu_indices',\n",
       " 'triu_indices_from',\n",
       " 'true_divide',\n",
       " 'trunc',\n",
       " 'typeDict',\n",
       " 'typeNA',\n",
       " 'typecodes',\n",
       " 'typename',\n",
       " 'ubyte',\n",
       " 'ufunc',\n",
       " 'uint',\n",
       " 'uint0',\n",
       " 'uint16',\n",
       " 'uint32',\n",
       " 'uint64',\n",
       " 'uint8',\n",
       " 'uintc',\n",
       " 'uintp',\n",
       " 'ulonglong',\n",
       " 'unicode',\n",
       " 'unicode_',\n",
       " 'union1d',\n",
       " 'unique',\n",
       " 'unpackbits',\n",
       " 'unravel_index',\n",
       " 'unsignedinteger',\n",
       " 'unwrap',\n",
       " 'use_hugepage',\n",
       " 'ushort',\n",
       " 'vander',\n",
       " 'var',\n",
       " 'vdot',\n",
       " 'vectorize',\n",
       " 'version',\n",
       " 'void',\n",
       " 'void0',\n",
       " 'vsplit',\n",
       " 'vstack',\n",
       " 'warnings',\n",
       " 'where',\n",
       " 'who',\n",
       " 'zeros',\n",
       " 'zeros_like']"
      ]
     },
     "execution_count": 5,
     "metadata": {},
     "output_type": "execute_result"
    }
   ],
   "source": [
    "dir(np)"
   ]
  },
  {
   "cell_type": "code",
   "execution_count": 42,
   "id": "0ce4bfd7",
   "metadata": {},
   "outputs": [
    {
     "name": "stderr",
     "output_type": "stream",
     "text": [
      "Global seed set to 2022\n"
     ]
    },
    {
     "name": "stdout",
     "output_type": "stream",
     "text": [
      "python create_process_file.py --chr chr2 --len 243199373 &\n",
      "python create_process_file.py --chr chr3 --len 198022430 &\n",
      "python create_process_file.py --chr chr5 --len 180915260 &\n",
      "python create_process_file.py --chr chr9 --len 141213431 &\n",
      "python create_process_file.py --chr chr15 --len 102531392 &\n",
      "python create_process_file.py --chr chrX --len 155270560 &\n"
     ]
    }
   ],
   "source": [
    "import os\n",
    "from datetime import datetime\n",
    "# 打印时间函数\n",
    "import subprocess\n",
    "import utilities as ut\n",
    "from pudb import set_trace\n",
    "import pandas as pd\n",
    "import random\n",
    "import numpy as np\n",
    "import torchvision\n",
    "import math\n",
    "import torch\n",
    "import os\n",
    "from pytorch_lightning import seed_everything\n",
    "from multiprocessing import Pool, cpu_count\n",
    "import pysam\n",
    "\n",
    "# os.environ[\"CUDA_VISIBLE_DEVICES\"] = \"-1\"\n",
    "seed_everything(2022)\n",
    "\n",
    "\n",
    "data_dir = \"../datasets/NA12878_PacBio_MtSinai/\"\n",
    "\n",
    "bam_path = data_dir + \"sorted_final_merged.bam\"\n",
    "\n",
    "vcf_filename = data_dir + \"insert_result_data.csv.vcf\"\n",
    "\n",
    "\n",
    "sam_file = pysam.AlignmentFile(bam_path, \"rb\")\n",
    "chr_list = sam_file.references\n",
    "chr_length = sam_file.lengths\n",
    "sam_file.close()\n",
    "\n",
    "hight = 224\n",
    "\n",
    "data_list = []\n",
    "for chromosome, chr_len in zip(chr_list, chr_length):\n",
    "    if not os.path.exists(data_dir + 'flag/' + chromosome + '.txt'):\n",
    "        data_list.append((chromosome, chr_len))\n",
    "\n",
    "import subprocess\n",
    "d = subprocess.getoutput(\"ps -aux | grep xwm | grep python | grep len | awk '{print $14}'\").split()\n",
    "\n",
    "for chr, leng in data_list:\n",
    "    # subprocess.call(\"python create_process_file.py --chr \" + chr + \" --len \" + str(len) + \" > \" + chr + \".txt 2&>1\", shell=False)\n",
    "    if chr in d:\n",
    "        continue\n",
    "    print(\"python create_process_file.py --chr \" + chr + \" --len \" + str(leng) + \" &\")\n",
    "    # fd = open(chr + \".txt\")\n",
    "    # subprocess.Popen(\"python create_process_file.py --chr \" + chr + \" --len \" + str(len), shell=True)\n"
   ]
  },
  {
   "cell_type": "code",
   "execution_count": null,
   "id": "4bd70e03",
   "metadata": {
    "scrolled": false
   },
   "outputs": [],
   "source": [
    "len(data_list)"
   ]
  },
  {
   "cell_type": "code",
   "execution_count": 108,
   "id": "726b690e",
   "metadata": {},
   "outputs": [],
   "source": [
    "mid_sign = torch.load(data_dir + \"chromosome_sign/\" + \"chr1\" + \"_mids_sign.pt\")"
   ]
  },
  {
   "cell_type": "code",
   "execution_count": 115,
   "id": "e7f4a5ee",
   "metadata": {},
   "outputs": [
    {
     "name": "stdout",
     "output_type": "stream",
     "text": [
      "tensor(54.3923)\n",
      "tensor(246.3614)\n",
      "tensor(115113.)\n",
      "tensor(0.)\n",
      "tensor(5.9164)\n",
      "tensor(38.1470)\n",
      "tensor(58349.)\n",
      "tensor(0.)\n",
      "tensor(2.7061)\n",
      "tensor(14.3499)\n",
      "tensor(39356.)\n",
      "tensor(0.)\n",
      "tensor(39.1396)\n",
      "tensor(592.5312)\n",
      "tensor(149853.)\n",
      "tensor(0.)\n"
     ]
    }
   ],
   "source": [
    "for i in mid_sign:\n",
    "    i = i.float()\n",
    "    print(torch.mean(i))\n",
    "    print(torch.std(i))\n",
    "    print(torch.max(i))\n",
    "    print(torch.min(i))"
   ]
  },
  {
   "cell_type": "code",
   "execution_count": 112,
   "id": "ac84dfc9",
   "metadata": {},
   "outputs": [],
   "source": [
    "def my(a, b, c, d):\n",
    "    return 0\n",
    "    try:\n",
    "        print(\"running\")\n",
    "        return ut.cigar_new_img_single_optimal(sam_file, chromosome, b_e[0], b_e[1])\n",
    "    except Exception as e:\n",
    "        print(e)\n",
    "        print(\"Exception cigar_img_single_optimal\")\n",
    "        return 0\n",
    "        return ut.cigar_new_img_single_memory(sam_file, chromosome, b_e[0], b_e[1])\n",
    "    # print(\"===== finish(position) \" + chromosome + \" \" + str(i))"
   ]
  },
  {
   "cell_type": "code",
   "execution_count": 2,
   "id": "495709bf",
   "metadata": {},
   "outputs": [
    {
     "name": "stdout",
     "output_type": "stream",
     "text": [
      "cigar start\n"
     ]
    }
   ],
   "source": [
    "chromosome = \"chr1\"\n",
    "\n",
    "p_position = torch.load(data_dir + 'position/' + chromosome + '/positive' + '.pt')\n",
    "n_position = torch.load(data_dir + 'position/' + chromosome + '/negative' + '.pt')\n",
    "\n",
    "# img/positive_cigar_img\n",
    "print(\"cigar start\")\n",
    "positive_cigar_img = torch.empty(len(p_position), 4, hight, hight)\n",
    "negative_cigar_img = torch.empty(len(n_position), 4, hight, hight)\n",
    "a = [positive_cigar_img[i] for i in range(len(p_position))]\n",
    "b = [negative_cigar_img[i] for i in range(len(n_position))]\n",
    "\n",
    "sam_file = pysam.AlignmentFile(bam_path, \"rb\")"
   ]
  },
  {
   "cell_type": "code",
   "execution_count": 115,
   "id": "fa6359e2",
   "metadata": {},
   "outputs": [
    {
     "data": {
      "text/plain": [
       "list"
      ]
     },
     "execution_count": 115,
     "metadata": {},
     "output_type": "execute_result"
    }
   ],
   "source": [
    "type(p_position[0])"
   ]
  },
  {
   "cell_type": "code",
   "execution_count": 3,
   "id": "40a382ce",
   "metadata": {
    "scrolled": true
   },
   "outputs": [
    {
     "name": "stdout",
     "output_type": "stream",
     "text": [
      "[10604, 10769]\n",
      "[10828, 10963]\n"
     ]
    },
    {
     "name": "stderr",
     "output_type": "stream",
     "text": [
      "Process ForkPoolWorker-2:\n",
      "Process ForkPoolWorker-1:\n",
      "Traceback (most recent call last):\n",
      "Traceback (most recent call last):\n",
      "  File \"/home/xwm/anaconda3/envs/SV/lib/python3.6/multiprocessing/process.py\", line 258, in _bootstrap\n",
      "    self.run()\n",
      "  File \"/home/xwm/anaconda3/envs/SV/lib/python3.6/multiprocessing/process.py\", line 258, in _bootstrap\n",
      "    self.run()\n",
      "  File \"/home/xwm/anaconda3/envs/SV/lib/python3.6/multiprocessing/process.py\", line 93, in run\n",
      "    self._target(*self._args, **self._kwargs)\n",
      "  File \"/home/xwm/anaconda3/envs/SV/lib/python3.6/multiprocessing/process.py\", line 93, in run\n",
      "    self._target(*self._args, **self._kwargs)\n",
      "  File \"/home/xwm/anaconda3/envs/SV/lib/python3.6/multiprocessing/pool.py\", line 108, in worker\n",
      "    task = get()\n",
      "  File \"/home/xwm/anaconda3/envs/SV/lib/python3.6/multiprocessing/pool.py\", line 108, in worker\n",
      "    task = get()\n",
      "  File \"/home/xwm/anaconda3/envs/SV/lib/python3.6/multiprocessing/queues.py\", line 335, in get\n",
      "    res = self._reader.recv_bytes()\n",
      "  File \"/home/xwm/anaconda3/envs/SV/lib/python3.6/multiprocessing/queues.py\", line 334, in get\n",
      "    with self._rlock:\n",
      "  File \"/home/xwm/anaconda3/envs/SV/lib/python3.6/multiprocessing/connection.py\", line 216, in recv_bytes\n",
      "    buf = self._recv_bytes(maxlength)\n",
      "  File \"/home/xwm/anaconda3/envs/SV/lib/python3.6/multiprocessing/synchronize.py\", line 95, in __enter__\n",
      "    return self._semlock.__enter__()\n",
      "  File \"/home/xwm/anaconda3/envs/SV/lib/python3.6/multiprocessing/connection.py\", line 407, in _recv_bytes\n",
      "    buf = self._recv(4)\n",
      "KeyboardInterrupt\n",
      "  File \"/home/xwm/anaconda3/envs/SV/lib/python3.6/multiprocessing/connection.py\", line 379, in _recv\n",
      "    chunk = read(handle, remaining)\n",
      "KeyboardInterrupt\n"
     ]
    }
   ],
   "source": [
    "from itertools import repeat\n",
    "\n",
    "def funn(a):\n",
    "    print(a)\n",
    "    data_dir = \"../datasets/NA12878_PacBio_MtSinai/\"\n",
    "\n",
    "    bam_path = data_dir + \"sorted_final_merged.bam\"\n",
    "    sam_file = pysam.AlignmentFile(bam_path, \"rb\")\n",
    "    try:\n",
    "        return ut.cigar_new_img_single_optimal(sam_file, \"chr1\", 10, 20)\n",
    "    except Exception as e:\n",
    "        return torch.zeros([4, 4, 4])\n",
    "    \n",
    "pool = Pool(2)\n",
    "re = pool.map(funn, p_position[0:2])\n"
   ]
  },
  {
   "cell_type": "code",
   "execution_count": 7,
   "id": "0ba86877",
   "metadata": {},
   "outputs": [
    {
     "data": {
      "text/plain": [
       "torch.Size([4, 224, 224])"
      ]
     },
     "execution_count": 7,
     "metadata": {},
     "output_type": "execute_result"
    }
   ],
   "source": [
    "re[1].size()"
   ]
  },
  {
   "cell_type": "code",
   "execution_count": 48,
   "id": "b59a67f4",
   "metadata": {},
   "outputs": [
    {
     "name": "stdout",
     "output_type": "stream",
     "text": [
      "2\n",
      "0\n",
      "3\n",
      "1\n",
      "4\n",
      "6\n",
      "7\n",
      "5\n",
      "8\n",
      "9\n"
     ]
    }
   ],
   "source": [
    "from functools import partial\n",
    "from multiprocessing import Pool, cpu_count\n",
    "import time\n",
    "def mm(i, j):\n",
    "    time.sleep(9 - i)\n",
    "    print(i)\n",
    "    return 1\n",
    "\n",
    "pool = Pool(processes = 2, maxtasksperchild = 3)\n",
    "a = pool.starmap(mm, zip(range(10), range(10)))\n",
    "pool.close()\n"
   ]
  },
  {
   "cell_type": "code",
   "execution_count": 29,
   "id": "f9d2d617",
   "metadata": {},
   "outputs": [
    {
     "name": "stdout",
     "output_type": "stream",
     "text": [
      "1\n",
      "1\n",
      "1\n",
      "1\n",
      "1\n",
      "1\n",
      "1\n",
      "1\n",
      "1\n",
      "1\n"
     ]
    }
   ],
   "source": [
    "for i in a.get():\n",
    "    print(i)"
   ]
  },
  {
   "cell_type": "code",
   "execution_count": 79,
   "id": "778b4085",
   "metadata": {},
   "outputs": [
    {
     "data": {
      "text/plain": [
       "torch.Size([2, 1, 20])"
      ]
     },
     "execution_count": 79,
     "metadata": {},
     "output_type": "execute_result"
    }
   ],
   "source": [
    "c_n.size()  # num_layers, batch, hidden_size"
   ]
  },
  {
   "cell_type": "code",
   "execution_count": 3,
   "id": "c32abe97",
   "metadata": {},
   "outputs": [],
   "source": [
    "chromosome = \"chr22\"\n",
    "\n",
    "p_position = torch.load(data_dir + 'position/' + chromosome + '/positive' + '.pt')\n",
    "n_position = torch.load(data_dir + 'position/' + chromosome + '/negative' + '.pt')\n",
    "\n"
   ]
  },
  {
   "cell_type": "code",
   "execution_count": 4,
   "id": "87667893",
   "metadata": {},
   "outputs": [
    {
     "data": {
      "text/plain": [
       "440"
      ]
     },
     "execution_count": 4,
     "metadata": {},
     "output_type": "execute_result"
    }
   ],
   "source": [
    "len(p_position)"
   ]
  },
  {
   "cell_type": "code",
   "execution_count": 5,
   "id": "1f5ce74b",
   "metadata": {
    "collapsed": true
   },
   "outputs": [
    {
     "name": "stdout",
     "output_type": "stream",
     "text": [
      "===== finish(positive_img) chr22 0\n",
      "===== finish(positive_img) chr22 1\n",
      "===== finish(positive_img) chr22 2\n",
      "===== finish(positive_img) chr22 3\n",
      "===== finish(positive_img) chr22 4\n",
      "===== finish(positive_img) chr22 5\n",
      "===== finish(positive_img) chr22 6\n",
      "===== finish(positive_img) chr22 7\n",
      "===== finish(positive_img) chr22 8\n",
      "===== finish(positive_img) chr22 9\n",
      "===== finish(positive_img) chr22 10\n",
      "===== finish(positive_img) chr22 11\n",
      "===== finish(positive_img) chr22 12\n",
      "===== finish(positive_img) chr22 13\n",
      "===== finish(positive_img) chr22 14\n",
      "===== finish(positive_img) chr22 15\n",
      "===== finish(positive_img) chr22 16\n",
      "===== finish(positive_img) chr22 17\n",
      "===== finish(positive_img) chr22 18\n",
      "===== finish(positive_img) chr22 19\n",
      "===== finish(positive_img) chr22 20\n",
      "===== finish(positive_img) chr22 21\n",
      "===== finish(positive_img) chr22 22\n",
      "===== finish(positive_img) chr22 23\n",
      "===== finish(positive_img) chr22 24\n",
      "===== finish(positive_img) chr22 25\n",
      "===== finish(positive_img) chr22 26\n",
      "===== finish(positive_img) chr22 27\n",
      "===== finish(positive_img) chr22 28\n",
      "===== finish(positive_img) chr22 29\n",
      "===== finish(positive_img) chr22 30\n",
      "===== finish(positive_img) chr22 31\n",
      "===== finish(positive_img) chr22 32\n",
      "===== finish(positive_img) chr22 33\n",
      "===== finish(positive_img) chr22 34\n",
      "===== finish(positive_img) chr22 35\n",
      "===== finish(positive_img) chr22 36\n",
      "===== finish(positive_img) chr22 37\n",
      "===== finish(positive_img) chr22 38\n",
      "===== finish(positive_img) chr22 39\n",
      "===== finish(positive_img) chr22 40\n",
      "===== finish(positive_img) chr22 41\n",
      "===== finish(positive_img) chr22 42\n",
      "===== finish(positive_img) chr22 43\n",
      "===== finish(positive_img) chr22 44\n",
      "===== finish(positive_img) chr22 45\n",
      "===== finish(positive_img) chr22 46\n",
      "===== finish(positive_img) chr22 47\n",
      "===== finish(positive_img) chr22 48\n",
      "===== finish(positive_img) chr22 49\n",
      "===== finish(positive_img) chr22 50\n",
      "===== finish(positive_img) chr22 51\n",
      "===== finish(positive_img) chr22 52\n",
      "===== finish(positive_img) chr22 53\n",
      "===== finish(positive_img) chr22 54\n",
      "===== finish(positive_img) chr22 55\n",
      "===== finish(positive_img) chr22 56\n",
      "===== finish(positive_img) chr22 57\n",
      "===== finish(positive_img) chr22 58\n",
      "===== finish(positive_img) chr22 59\n",
      "===== finish(positive_img) chr22 60\n",
      "===== finish(positive_img) chr22 61\n",
      "===== finish(positive_img) chr22 62\n",
      "===== finish(positive_img) chr22 63\n",
      "===== finish(positive_img) chr22 64\n",
      "===== finish(positive_img) chr22 65\n",
      "===== finish(positive_img) chr22 66\n",
      "===== finish(positive_img) chr22 67\n",
      "===== finish(positive_img) chr22 68\n",
      "===== finish(positive_img) chr22 69\n",
      "===== finish(positive_img) chr22 70\n",
      "===== finish(positive_img) chr22 71\n",
      "===== finish(positive_img) chr22 72\n",
      "===== finish(positive_img) chr22 73\n",
      "===== finish(positive_img) chr22 74\n",
      "===== finish(positive_img) chr22 75\n",
      "===== finish(positive_img) chr22 76\n",
      "===== finish(positive_img) chr22 77\n",
      "===== finish(positive_img) chr22 78\n",
      "===== finish(positive_img) chr22 79\n",
      "===== finish(positive_img) chr22 80\n",
      "===== finish(positive_img) chr22 81\n",
      "===== finish(positive_img) chr22 82\n",
      "===== finish(positive_img) chr22 83\n",
      "===== finish(positive_img) chr22 84\n",
      "===== finish(positive_img) chr22 85\n",
      "===== finish(positive_img) chr22 86\n",
      "===== finish(positive_img) chr22 87\n",
      "===== finish(positive_img) chr22 88\n",
      "===== finish(positive_img) chr22 89\n",
      "===== finish(positive_img) chr22 90\n",
      "===== finish(positive_img) chr22 91\n",
      "===== finish(positive_img) chr22 92\n",
      "===== finish(positive_img) chr22 93\n",
      "===== finish(positive_img) chr22 94\n",
      "===== finish(positive_img) chr22 95\n",
      "===== finish(positive_img) chr22 96\n",
      "===== finish(positive_img) chr22 97\n",
      "===== finish(positive_img) chr22 98\n",
      "===== finish(positive_img) chr22 99\n",
      "===== finish(positive_img) chr22 100\n",
      "===== finish(positive_img) chr22 101\n",
      "===== finish(positive_img) chr22 102\n",
      "===== finish(positive_img) chr22 103\n",
      "===== finish(positive_img) chr22 104\n",
      "===== finish(positive_img) chr22 105\n",
      "===== finish(positive_img) chr22 106\n",
      "===== finish(positive_img) chr22 107\n",
      "===== finish(positive_img) chr22 108\n",
      "===== finish(positive_img) chr22 109\n",
      "===== finish(positive_img) chr22 110\n",
      "===== finish(positive_img) chr22 111\n",
      "===== finish(positive_img) chr22 112\n",
      "===== finish(positive_img) chr22 113\n",
      "===== finish(positive_img) chr22 114\n",
      "===== finish(positive_img) chr22 115\n",
      "===== finish(positive_img) chr22 116\n",
      "===== finish(positive_img) chr22 117\n",
      "===== finish(positive_img) chr22 118\n",
      "===== finish(positive_img) chr22 119\n",
      "===== finish(positive_img) chr22 120\n",
      "===== finish(positive_img) chr22 121\n",
      "===== finish(positive_img) chr22 122\n",
      "===== finish(positive_img) chr22 123\n",
      "===== finish(positive_img) chr22 124\n",
      "===== finish(positive_img) chr22 125\n",
      "===== finish(positive_img) chr22 126\n",
      "===== finish(positive_img) chr22 127\n",
      "===== finish(positive_img) chr22 128\n",
      "===== finish(positive_img) chr22 129\n",
      "===== finish(positive_img) chr22 130\n",
      "===== finish(positive_img) chr22 131\n",
      "===== finish(positive_img) chr22 132\n",
      "===== finish(positive_img) chr22 133\n",
      "===== finish(positive_img) chr22 134\n",
      "===== finish(positive_img) chr22 135\n",
      "===== finish(positive_img) chr22 136\n",
      "===== finish(positive_img) chr22 137\n",
      "===== finish(positive_img) chr22 138\n",
      "===== finish(positive_img) chr22 139\n",
      "===== finish(positive_img) chr22 140\n",
      "===== finish(positive_img) chr22 141\n",
      "===== finish(positive_img) chr22 142\n",
      "===== finish(positive_img) chr22 143\n",
      "===== finish(positive_img) chr22 144\n",
      "===== finish(positive_img) chr22 145\n",
      "===== finish(positive_img) chr22 146\n",
      "===== finish(positive_img) chr22 147\n",
      "===== finish(positive_img) chr22 148\n",
      "===== finish(positive_img) chr22 149\n",
      "===== finish(positive_img) chr22 150\n",
      "===== finish(positive_img) chr22 151\n",
      "===== finish(positive_img) chr22 152\n",
      "===== finish(positive_img) chr22 153\n",
      "===== finish(positive_img) chr22 154\n",
      "===== finish(positive_img) chr22 155\n",
      "===== finish(positive_img) chr22 156\n",
      "===== finish(positive_img) chr22 157\n",
      "===== finish(positive_img) chr22 158\n",
      "===== finish(positive_img) chr22 159\n",
      "===== finish(positive_img) chr22 160\n",
      "===== finish(positive_img) chr22 161\n",
      "===== finish(positive_img) chr22 162\n",
      "===== finish(positive_img) chr22 163\n",
      "===== finish(positive_img) chr22 164\n",
      "===== finish(positive_img) chr22 165\n",
      "===== finish(positive_img) chr22 166\n",
      "===== finish(positive_img) chr22 167\n",
      "===== finish(positive_img) chr22 168\n",
      "===== finish(positive_img) chr22 169\n",
      "===== finish(positive_img) chr22 170\n",
      "===== finish(positive_img) chr22 171\n",
      "===== finish(positive_img) chr22 172\n",
      "===== finish(positive_img) chr22 173\n",
      "===== finish(positive_img) chr22 174\n",
      "===== finish(positive_img) chr22 175\n",
      "===== finish(positive_img) chr22 176\n",
      "===== finish(positive_img) chr22 177\n",
      "===== finish(positive_img) chr22 178\n",
      "===== finish(positive_img) chr22 179\n",
      "===== finish(positive_img) chr22 180\n",
      "===== finish(positive_img) chr22 181\n",
      "===== finish(positive_img) chr22 182\n",
      "===== finish(positive_img) chr22 183\n",
      "===== finish(positive_img) chr22 184\n",
      "===== finish(positive_img) chr22 185\n",
      "===== finish(positive_img) chr22 186\n",
      "===== finish(positive_img) chr22 187\n",
      "===== finish(positive_img) chr22 188\n",
      "===== finish(positive_img) chr22 189\n",
      "===== finish(positive_img) chr22 190\n",
      "===== finish(positive_img) chr22 191\n",
      "===== finish(positive_img) chr22 192\n",
      "===== finish(positive_img) chr22 193\n",
      "===== finish(positive_img) chr22 194\n",
      "===== finish(positive_img) chr22 195\n",
      "===== finish(positive_img) chr22 196\n",
      "===== finish(positive_img) chr22 197\n",
      "===== finish(positive_img) chr22 198\n",
      "===== finish(positive_img) chr22 199\n",
      "===== finish(positive_img) chr22 200\n",
      "===== finish(positive_img) chr22 201\n",
      "===== finish(positive_img) chr22 202\n",
      "===== finish(positive_img) chr22 203\n",
      "===== finish(positive_img) chr22 204\n",
      "===== finish(positive_img) chr22 205\n",
      "===== finish(positive_img) chr22 206\n",
      "===== finish(positive_img) chr22 207\n",
      "===== finish(positive_img) chr22 208\n",
      "===== finish(positive_img) chr22 209\n",
      "===== finish(positive_img) chr22 210\n",
      "===== finish(positive_img) chr22 211\n",
      "===== finish(positive_img) chr22 212\n",
      "===== finish(positive_img) chr22 213\n",
      "===== finish(positive_img) chr22 214\n",
      "===== finish(positive_img) chr22 215\n",
      "===== finish(positive_img) chr22 216\n",
      "===== finish(positive_img) chr22 217\n",
      "===== finish(positive_img) chr22 218\n",
      "===== finish(positive_img) chr22 219\n",
      "===== finish(positive_img) chr22 220\n",
      "===== finish(positive_img) chr22 221\n",
      "===== finish(positive_img) chr22 222\n",
      "===== finish(positive_img) chr22 223\n",
      "===== finish(positive_img) chr22 224\n",
      "===== finish(positive_img) chr22 225\n",
      "===== finish(positive_img) chr22 226\n",
      "===== finish(positive_img) chr22 227\n",
      "===== finish(positive_img) chr22 228\n",
      "===== finish(positive_img) chr22 229\n",
      "===== finish(positive_img) chr22 230\n",
      "===== finish(positive_img) chr22 231\n",
      "===== finish(positive_img) chr22 232\n",
      "===== finish(positive_img) chr22 233\n",
      "===== finish(positive_img) chr22 234\n",
      "===== finish(positive_img) chr22 235\n",
      "===== finish(positive_img) chr22 236\n",
      "===== finish(positive_img) chr22 237\n",
      "===== finish(positive_img) chr22 238\n",
      "===== finish(positive_img) chr22 239\n",
      "===== finish(positive_img) chr22 240\n",
      "===== finish(positive_img) chr22 241\n",
      "===== finish(positive_img) chr22 242\n",
      "===== finish(positive_img) chr22 243\n",
      "===== finish(positive_img) chr22 244\n",
      "===== finish(positive_img) chr22 245\n",
      "===== finish(positive_img) chr22 246\n",
      "===== finish(positive_img) chr22 247\n",
      "===== finish(positive_img) chr22 248\n",
      "===== finish(positive_img) chr22 249\n",
      "===== finish(positive_img) chr22 250\n",
      "===== finish(positive_img) chr22 251\n",
      "===== finish(positive_img) chr22 252\n",
      "===== finish(positive_img) chr22 253\n",
      "===== finish(positive_img) chr22 254\n",
      "===== finish(positive_img) chr22 255\n",
      "===== finish(positive_img) chr22 256\n",
      "===== finish(positive_img) chr22 257\n",
      "===== finish(positive_img) chr22 258\n",
      "===== finish(positive_img) chr22 259\n",
      "===== finish(positive_img) chr22 260\n",
      "===== finish(positive_img) chr22 261\n",
      "===== finish(positive_img) chr22 262\n",
      "===== finish(positive_img) chr22 263\n",
      "===== finish(positive_img) chr22 264\n",
      "===== finish(positive_img) chr22 265\n",
      "===== finish(positive_img) chr22 266\n",
      "===== finish(positive_img) chr22 267\n",
      "===== finish(positive_img) chr22 268\n",
      "===== finish(positive_img) chr22 269\n",
      "===== finish(positive_img) chr22 270\n",
      "===== finish(positive_img) chr22 271\n",
      "===== finish(positive_img) chr22 272\n",
      "===== finish(positive_img) chr22 273\n",
      "===== finish(positive_img) chr22 274\n",
      "===== finish(positive_img) chr22 275\n",
      "===== finish(positive_img) chr22 276\n",
      "===== finish(positive_img) chr22 277\n",
      "===== finish(positive_img) chr22 278\n",
      "===== finish(positive_img) chr22 279\n",
      "===== finish(positive_img) chr22 280\n",
      "===== finish(positive_img) chr22 281\n",
      "===== finish(positive_img) chr22 282\n",
      "===== finish(positive_img) chr22 283\n",
      "===== finish(positive_img) chr22 284\n",
      "===== finish(positive_img) chr22 285\n",
      "===== finish(positive_img) chr22 286\n",
      "===== finish(positive_img) chr22 287\n",
      "===== finish(positive_img) chr22 288\n",
      "===== finish(positive_img) chr22 289\n",
      "===== finish(positive_img) chr22 290\n",
      "===== finish(positive_img) chr22 291\n",
      "===== finish(positive_img) chr22 292\n",
      "===== finish(positive_img) chr22 293\n",
      "===== finish(positive_img) chr22 294\n",
      "===== finish(positive_img) chr22 295\n",
      "===== finish(positive_img) chr22 296\n",
      "===== finish(positive_img) chr22 297\n",
      "===== finish(positive_img) chr22 298\n",
      "===== finish(positive_img) chr22 299\n",
      "===== finish(positive_img) chr22 300\n",
      "===== finish(positive_img) chr22 301\n",
      "===== finish(positive_img) chr22 302\n",
      "===== finish(positive_img) chr22 303\n",
      "===== finish(positive_img) chr22 304\n",
      "===== finish(positive_img) chr22 305\n",
      "===== finish(positive_img) chr22 306\n",
      "===== finish(positive_img) chr22 307\n",
      "===== finish(positive_img) chr22 308\n",
      "===== finish(positive_img) chr22 309\n",
      "===== finish(positive_img) chr22 310\n",
      "===== finish(positive_img) chr22 311\n",
      "===== finish(positive_img) chr22 312\n",
      "===== finish(positive_img) chr22 313\n",
      "===== finish(positive_img) chr22 314\n",
      "===== finish(positive_img) chr22 315\n",
      "===== finish(positive_img) chr22 316\n",
      "===== finish(positive_img) chr22 317\n",
      "===== finish(positive_img) chr22 318\n",
      "===== finish(positive_img) chr22 319\n",
      "===== finish(positive_img) chr22 320\n",
      "===== finish(positive_img) chr22 321\n",
      "===== finish(positive_img) chr22 322\n",
      "===== finish(positive_img) chr22 323\n",
      "===== finish(positive_img) chr22 324\n",
      "===== finish(positive_img) chr22 325\n",
      "===== finish(positive_img) chr22 326\n",
      "===== finish(positive_img) chr22 327\n",
      "===== finish(positive_img) chr22 328\n",
      "===== finish(positive_img) chr22 329\n",
      "===== finish(positive_img) chr22 330\n",
      "===== finish(positive_img) chr22 331\n",
      "===== finish(positive_img) chr22 332\n",
      "===== finish(positive_img) chr22 333\n",
      "===== finish(positive_img) chr22 334\n",
      "===== finish(positive_img) chr22 335\n",
      "===== finish(positive_img) chr22 336\n",
      "===== finish(positive_img) chr22 337\n",
      "===== finish(positive_img) chr22 338\n",
      "===== finish(positive_img) chr22 339\n",
      "===== finish(positive_img) chr22 340\n",
      "===== finish(positive_img) chr22 341\n",
      "===== finish(positive_img) chr22 342\n",
      "===== finish(positive_img) chr22 343\n",
      "===== finish(positive_img) chr22 344\n",
      "===== finish(positive_img) chr22 345\n",
      "===== finish(positive_img) chr22 346\n",
      "===== finish(positive_img) chr22 347\n",
      "===== finish(positive_img) chr22 348\n",
      "===== finish(positive_img) chr22 349\n",
      "===== finish(positive_img) chr22 350\n",
      "===== finish(positive_img) chr22 351\n",
      "===== finish(positive_img) chr22 352\n",
      "===== finish(positive_img) chr22 353\n",
      "===== finish(positive_img) chr22 354\n",
      "===== finish(positive_img) chr22 355\n",
      "===== finish(positive_img) chr22 356\n",
      "===== finish(positive_img) chr22 357\n",
      "===== finish(positive_img) chr22 358\n",
      "===== finish(positive_img) chr22 359\n",
      "===== finish(positive_img) chr22 360\n",
      "===== finish(positive_img) chr22 361\n",
      "===== finish(positive_img) chr22 362\n",
      "===== finish(positive_img) chr22 363\n",
      "===== finish(positive_img) chr22 364\n",
      "===== finish(positive_img) chr22 365\n",
      "===== finish(positive_img) chr22 366\n",
      "===== finish(positive_img) chr22 367\n",
      "===== finish(positive_img) chr22 368\n",
      "===== finish(positive_img) chr22 369\n",
      "===== finish(positive_img) chr22 370\n",
      "===== finish(positive_img) chr22 371\n",
      "===== finish(positive_img) chr22 372\n",
      "===== finish(positive_img) chr22 373\n",
      "===== finish(positive_img) chr22 374\n",
      "===== finish(positive_img) chr22 375\n",
      "===== finish(positive_img) chr22 376\n",
      "===== finish(positive_img) chr22 377\n",
      "===== finish(positive_img) chr22 378\n",
      "===== finish(positive_img) chr22 379\n",
      "===== finish(positive_img) chr22 380\n",
      "===== finish(positive_img) chr22 381\n",
      "===== finish(positive_img) chr22 382\n",
      "===== finish(positive_img) chr22 383\n",
      "===== finish(positive_img) chr22 384\n",
      "===== finish(positive_img) chr22 385\n",
      "===== finish(positive_img) chr22 386\n",
      "===== finish(positive_img) chr22 387\n",
      "===== finish(positive_img) chr22 388\n",
      "===== finish(positive_img) chr22 389\n",
      "===== finish(positive_img) chr22 390\n",
      "===== finish(positive_img) chr22 391\n",
      "===== finish(positive_img) chr22 392\n",
      "===== finish(positive_img) chr22 393\n",
      "===== finish(positive_img) chr22 394\n",
      "===== finish(positive_img) chr22 395\n",
      "===== finish(positive_img) chr22 396\n",
      "===== finish(positive_img) chr22 397\n",
      "===== finish(positive_img) chr22 398\n",
      "===== finish(positive_img) chr22 399\n",
      "===== finish(positive_img) chr22 400\n",
      "===== finish(positive_img) chr22 401\n",
      "===== finish(positive_img) chr22 402\n",
      "===== finish(positive_img) chr22 403\n",
      "===== finish(positive_img) chr22 404\n",
      "===== finish(positive_img) chr22 405\n",
      "===== finish(positive_img) chr22 406\n",
      "===== finish(positive_img) chr22 407\n",
      "===== finish(positive_img) chr22 408\n",
      "===== finish(positive_img) chr22 409\n",
      "===== finish(positive_img) chr22 410\n",
      "===== finish(positive_img) chr22 411\n",
      "===== finish(positive_img) chr22 412\n",
      "===== finish(positive_img) chr22 413\n",
      "===== finish(positive_img) chr22 414\n",
      "===== finish(positive_img) chr22 415\n",
      "===== finish(positive_img) chr22 416\n",
      "===== finish(positive_img) chr22 417\n",
      "===== finish(positive_img) chr22 418\n",
      "===== finish(positive_img) chr22 419\n",
      "===== finish(positive_img) chr22 420\n",
      "===== finish(positive_img) chr22 421\n",
      "===== finish(positive_img) chr22 422\n",
      "===== finish(positive_img) chr22 423\n",
      "===== finish(positive_img) chr22 424\n",
      "===== finish(positive_img) chr22 425\n",
      "===== finish(positive_img) chr22 426\n",
      "===== finish(positive_img) chr22 427\n",
      "===== finish(positive_img) chr22 428\n",
      "===== finish(positive_img) chr22 429\n",
      "===== finish(positive_img) chr22 430\n",
      "===== finish(positive_img) chr22 431\n",
      "===== finish(positive_img) chr22 432\n",
      "===== finish(positive_img) chr22 433\n",
      "===== finish(positive_img) chr22 434\n",
      "===== finish(positive_img) chr22 435\n",
      "===== finish(positive_img) chr22 436\n",
      "===== finish(positive_img) chr22 437\n",
      "===== finish(positive_img) chr22 438\n",
      "===== finish(positive_img) chr22 439\n",
      "===== finish(negative_img) chr22 0\n",
      "===== finish(negative_img) chr22 1\n",
      "===== finish(negative_img) chr22 2\n",
      "===== finish(negative_img) chr22 3\n",
      "===== finish(negative_img) chr22 4\n",
      "===== finish(negative_img) chr22 5\n",
      "===== finish(negative_img) chr22 6\n",
      "===== finish(negative_img) chr22 7\n",
      "===== finish(negative_img) chr22 8\n",
      "===== finish(negative_img) chr22 9\n",
      "===== finish(negative_img) chr22 10\n",
      "===== finish(negative_img) chr22 11\n",
      "===== finish(negative_img) chr22 12\n",
      "===== finish(negative_img) chr22 13\n",
      "===== finish(negative_img) chr22 14\n",
      "===== finish(negative_img) chr22 15\n",
      "===== finish(negative_img) chr22 16\n",
      "===== finish(negative_img) chr22 17\n",
      "===== finish(negative_img) chr22 18\n",
      "===== finish(negative_img) chr22 19\n",
      "===== finish(negative_img) chr22 20\n",
      "===== finish(negative_img) chr22 21\n",
      "===== finish(negative_img) chr22 22\n",
      "===== finish(negative_img) chr22 23\n",
      "===== finish(negative_img) chr22 24\n",
      "===== finish(negative_img) chr22 25\n",
      "===== finish(negative_img) chr22 26\n",
      "===== finish(negative_img) chr22 27\n",
      "===== finish(negative_img) chr22 28\n",
      "===== finish(negative_img) chr22 29\n",
      "===== finish(negative_img) chr22 30\n",
      "===== finish(negative_img) chr22 31\n",
      "===== finish(negative_img) chr22 32\n",
      "===== finish(negative_img) chr22 33\n",
      "===== finish(negative_img) chr22 34\n",
      "===== finish(negative_img) chr22 35\n",
      "===== finish(negative_img) chr22 36\n",
      "===== finish(negative_img) chr22 37\n",
      "===== finish(negative_img) chr22 38\n",
      "===== finish(negative_img) chr22 39\n",
      "===== finish(negative_img) chr22 40\n",
      "===== finish(negative_img) chr22 41\n",
      "===== finish(negative_img) chr22 42\n",
      "===== finish(negative_img) chr22 43\n",
      "===== finish(negative_img) chr22 44\n",
      "===== finish(negative_img) chr22 45\n",
      "===== finish(negative_img) chr22 46\n",
      "===== finish(negative_img) chr22 47\n",
      "===== finish(negative_img) chr22 48\n",
      "===== finish(negative_img) chr22 49\n",
      "===== finish(negative_img) chr22 50\n",
      "===== finish(negative_img) chr22 51\n",
      "===== finish(negative_img) chr22 52\n",
      "===== finish(negative_img) chr22 53\n",
      "===== finish(negative_img) chr22 54\n",
      "===== finish(negative_img) chr22 55\n",
      "===== finish(negative_img) chr22 56\n",
      "===== finish(negative_img) chr22 57\n",
      "===== finish(negative_img) chr22 58\n",
      "===== finish(negative_img) chr22 59\n",
      "===== finish(negative_img) chr22 60\n",
      "===== finish(negative_img) chr22 61\n",
      "===== finish(negative_img) chr22 62\n",
      "===== finish(negative_img) chr22 63\n",
      "===== finish(negative_img) chr22 64\n",
      "===== finish(negative_img) chr22 65\n",
      "===== finish(negative_img) chr22 66\n",
      "===== finish(negative_img) chr22 67\n",
      "===== finish(negative_img) chr22 68\n",
      "===== finish(negative_img) chr22 69\n",
      "===== finish(negative_img) chr22 70\n",
      "===== finish(negative_img) chr22 71\n",
      "===== finish(negative_img) chr22 72\n",
      "===== finish(negative_img) chr22 73\n",
      "===== finish(negative_img) chr22 74\n",
      "===== finish(negative_img) chr22 75\n",
      "===== finish(negative_img) chr22 76\n",
      "===== finish(negative_img) chr22 77\n",
      "===== finish(negative_img) chr22 78\n",
      "===== finish(negative_img) chr22 79\n",
      "===== finish(negative_img) chr22 80\n",
      "===== finish(negative_img) chr22 81\n",
      "===== finish(negative_img) chr22 82\n",
      "===== finish(negative_img) chr22 83\n",
      "===== finish(negative_img) chr22 84\n",
      "===== finish(negative_img) chr22 85\n",
      "===== finish(negative_img) chr22 86\n",
      "===== finish(negative_img) chr22 87\n",
      "===== finish(negative_img) chr22 88\n",
      "===== finish(negative_img) chr22 89\n",
      "===== finish(negative_img) chr22 90\n",
      "===== finish(negative_img) chr22 91\n",
      "===== finish(negative_img) chr22 92\n",
      "===== finish(negative_img) chr22 93\n",
      "===== finish(negative_img) chr22 94\n",
      "===== finish(negative_img) chr22 95\n",
      "===== finish(negative_img) chr22 96\n",
      "===== finish(negative_img) chr22 97\n",
      "===== finish(negative_img) chr22 98\n",
      "===== finish(negative_img) chr22 99\n",
      "===== finish(negative_img) chr22 100\n",
      "===== finish(negative_img) chr22 101\n",
      "===== finish(negative_img) chr22 102\n",
      "===== finish(negative_img) chr22 103\n",
      "===== finish(negative_img) chr22 104\n",
      "===== finish(negative_img) chr22 105\n",
      "===== finish(negative_img) chr22 106\n",
      "===== finish(negative_img) chr22 107\n",
      "===== finish(negative_img) chr22 108\n",
      "===== finish(negative_img) chr22 109\n",
      "===== finish(negative_img) chr22 110\n",
      "===== finish(negative_img) chr22 111\n",
      "===== finish(negative_img) chr22 112\n",
      "===== finish(negative_img) chr22 113\n",
      "===== finish(negative_img) chr22 114\n",
      "===== finish(negative_img) chr22 115\n",
      "===== finish(negative_img) chr22 116\n",
      "===== finish(negative_img) chr22 117\n",
      "===== finish(negative_img) chr22 118\n",
      "===== finish(negative_img) chr22 119\n",
      "===== finish(negative_img) chr22 120\n",
      "===== finish(negative_img) chr22 121\n",
      "===== finish(negative_img) chr22 122\n",
      "===== finish(negative_img) chr22 123\n",
      "===== finish(negative_img) chr22 124\n",
      "===== finish(negative_img) chr22 125\n",
      "===== finish(negative_img) chr22 126\n",
      "===== finish(negative_img) chr22 127\n",
      "===== finish(negative_img) chr22 128\n",
      "===== finish(negative_img) chr22 129\n",
      "===== finish(negative_img) chr22 130\n",
      "===== finish(negative_img) chr22 131\n",
      "===== finish(negative_img) chr22 132\n",
      "===== finish(negative_img) chr22 133\n",
      "===== finish(negative_img) chr22 134\n",
      "===== finish(negative_img) chr22 135\n",
      "===== finish(negative_img) chr22 136\n",
      "===== finish(negative_img) chr22 137\n",
      "===== finish(negative_img) chr22 138\n",
      "===== finish(negative_img) chr22 139\n",
      "===== finish(negative_img) chr22 140\n",
      "===== finish(negative_img) chr22 141\n",
      "===== finish(negative_img) chr22 142\n",
      "===== finish(negative_img) chr22 143\n",
      "===== finish(negative_img) chr22 144\n",
      "===== finish(negative_img) chr22 145\n",
      "===== finish(negative_img) chr22 146\n",
      "===== finish(negative_img) chr22 147\n",
      "===== finish(negative_img) chr22 148\n",
      "===== finish(negative_img) chr22 149\n",
      "===== finish(negative_img) chr22 150\n",
      "===== finish(negative_img) chr22 151\n",
      "===== finish(negative_img) chr22 152\n",
      "===== finish(negative_img) chr22 153\n",
      "===== finish(negative_img) chr22 154\n",
      "===== finish(negative_img) chr22 155\n",
      "===== finish(negative_img) chr22 156\n",
      "===== finish(negative_img) chr22 157\n",
      "===== finish(negative_img) chr22 158\n",
      "===== finish(negative_img) chr22 159\n",
      "===== finish(negative_img) chr22 160\n",
      "===== finish(negative_img) chr22 161\n",
      "===== finish(negative_img) chr22 162\n",
      "===== finish(negative_img) chr22 163\n",
      "===== finish(negative_img) chr22 164\n",
      "===== finish(negative_img) chr22 165\n",
      "===== finish(negative_img) chr22 166\n",
      "===== finish(negative_img) chr22 167\n",
      "===== finish(negative_img) chr22 168\n",
      "===== finish(negative_img) chr22 169\n",
      "===== finish(negative_img) chr22 170\n",
      "===== finish(negative_img) chr22 171\n",
      "===== finish(negative_img) chr22 172\n",
      "===== finish(negative_img) chr22 173\n",
      "===== finish(negative_img) chr22 174\n",
      "===== finish(negative_img) chr22 175\n",
      "===== finish(negative_img) chr22 176\n",
      "===== finish(negative_img) chr22 177\n",
      "===== finish(negative_img) chr22 178\n",
      "===== finish(negative_img) chr22 179\n",
      "===== finish(negative_img) chr22 180\n",
      "===== finish(negative_img) chr22 181\n",
      "===== finish(negative_img) chr22 182\n",
      "===== finish(negative_img) chr22 183\n",
      "===== finish(negative_img) chr22 184\n",
      "===== finish(negative_img) chr22 185\n",
      "===== finish(negative_img) chr22 186\n",
      "===== finish(negative_img) chr22 187\n",
      "===== finish(negative_img) chr22 188\n",
      "===== finish(negative_img) chr22 189\n",
      "===== finish(negative_img) chr22 190\n",
      "===== finish(negative_img) chr22 191\n",
      "===== finish(negative_img) chr22 192\n",
      "===== finish(negative_img) chr22 193\n",
      "===== finish(negative_img) chr22 194\n",
      "===== finish(negative_img) chr22 195\n",
      "===== finish(negative_img) chr22 196\n",
      "===== finish(negative_img) chr22 197\n",
      "===== finish(negative_img) chr22 198\n",
      "===== finish(negative_img) chr22 199\n",
      "===== finish(negative_img) chr22 200\n",
      "===== finish(negative_img) chr22 201\n",
      "===== finish(negative_img) chr22 202\n",
      "===== finish(negative_img) chr22 203\n",
      "===== finish(negative_img) chr22 204\n",
      "===== finish(negative_img) chr22 205\n",
      "===== finish(negative_img) chr22 206\n",
      "===== finish(negative_img) chr22 207\n",
      "===== finish(negative_img) chr22 208\n",
      "===== finish(negative_img) chr22 209\n",
      "===== finish(negative_img) chr22 210\n",
      "===== finish(negative_img) chr22 211\n",
      "===== finish(negative_img) chr22 212\n",
      "===== finish(negative_img) chr22 213\n",
      "===== finish(negative_img) chr22 214\n",
      "===== finish(negative_img) chr22 215\n",
      "===== finish(negative_img) chr22 216\n",
      "===== finish(negative_img) chr22 217\n",
      "===== finish(negative_img) chr22 218\n",
      "===== finish(negative_img) chr22 219\n",
      "===== finish(negative_img) chr22 220\n",
      "===== finish(negative_img) chr22 221\n",
      "===== finish(negative_img) chr22 222\n",
      "===== finish(negative_img) chr22 223\n",
      "===== finish(negative_img) chr22 224\n",
      "===== finish(negative_img) chr22 225\n",
      "===== finish(negative_img) chr22 226\n",
      "===== finish(negative_img) chr22 227\n",
      "===== finish(negative_img) chr22 228\n",
      "===== finish(negative_img) chr22 229\n",
      "===== finish(negative_img) chr22 230\n",
      "===== finish(negative_img) chr22 231\n",
      "===== finish(negative_img) chr22 232\n",
      "===== finish(negative_img) chr22 233\n",
      "===== finish(negative_img) chr22 234\n",
      "===== finish(negative_img) chr22 235\n",
      "===== finish(negative_img) chr22 236\n",
      "===== finish(negative_img) chr22 237\n",
      "===== finish(negative_img) chr22 238\n",
      "===== finish(negative_img) chr22 239\n",
      "===== finish(negative_img) chr22 240\n",
      "===== finish(negative_img) chr22 241\n",
      "===== finish(negative_img) chr22 242\n",
      "===== finish(negative_img) chr22 243\n",
      "===== finish(negative_img) chr22 244\n",
      "===== finish(negative_img) chr22 245\n",
      "===== finish(negative_img) chr22 246\n",
      "===== finish(negative_img) chr22 247\n",
      "===== finish(negative_img) chr22 248\n",
      "===== finish(negative_img) chr22 249\n",
      "===== finish(negative_img) chr22 250\n",
      "===== finish(negative_img) chr22 251\n",
      "===== finish(negative_img) chr22 252\n",
      "===== finish(negative_img) chr22 253\n",
      "===== finish(negative_img) chr22 254\n",
      "===== finish(negative_img) chr22 255\n",
      "===== finish(negative_img) chr22 256\n",
      "===== finish(negative_img) chr22 257\n",
      "===== finish(negative_img) chr22 258\n",
      "===== finish(negative_img) chr22 259\n",
      "===== finish(negative_img) chr22 260\n",
      "===== finish(negative_img) chr22 261\n",
      "===== finish(negative_img) chr22 262\n",
      "===== finish(negative_img) chr22 263\n",
      "===== finish(negative_img) chr22 264\n",
      "===== finish(negative_img) chr22 265\n",
      "===== finish(negative_img) chr22 266\n",
      "===== finish(negative_img) chr22 267\n",
      "===== finish(negative_img) chr22 268\n",
      "===== finish(negative_img) chr22 269\n",
      "===== finish(negative_img) chr22 270\n",
      "===== finish(negative_img) chr22 271\n",
      "===== finish(negative_img) chr22 272\n",
      "===== finish(negative_img) chr22 273\n",
      "===== finish(negative_img) chr22 274\n",
      "===== finish(negative_img) chr22 275\n",
      "===== finish(negative_img) chr22 276\n",
      "===== finish(negative_img) chr22 277\n",
      "===== finish(negative_img) chr22 278\n",
      "===== finish(negative_img) chr22 279\n",
      "===== finish(negative_img) chr22 280\n",
      "===== finish(negative_img) chr22 281\n",
      "===== finish(negative_img) chr22 282\n",
      "===== finish(negative_img) chr22 283\n",
      "===== finish(negative_img) chr22 284\n",
      "===== finish(negative_img) chr22 285\n",
      "===== finish(negative_img) chr22 286\n",
      "===== finish(negative_img) chr22 287\n",
      "===== finish(negative_img) chr22 288\n",
      "===== finish(negative_img) chr22 289\n",
      "===== finish(negative_img) chr22 290\n",
      "===== finish(negative_img) chr22 291\n",
      "===== finish(negative_img) chr22 292\n",
      "===== finish(negative_img) chr22 293\n",
      "===== finish(negative_img) chr22 294\n",
      "===== finish(negative_img) chr22 295\n",
      "===== finish(negative_img) chr22 296\n",
      "===== finish(negative_img) chr22 297\n",
      "===== finish(negative_img) chr22 298\n",
      "===== finish(negative_img) chr22 299\n",
      "===== finish(negative_img) chr22 300\n",
      "===== finish(negative_img) chr22 301\n",
      "===== finish(negative_img) chr22 302\n",
      "===== finish(negative_img) chr22 303\n",
      "===== finish(negative_img) chr22 304\n",
      "===== finish(negative_img) chr22 305\n",
      "===== finish(negative_img) chr22 306\n",
      "===== finish(negative_img) chr22 307\n",
      "===== finish(negative_img) chr22 308\n",
      "===== finish(negative_img) chr22 309\n",
      "===== finish(negative_img) chr22 310\n",
      "===== finish(negative_img) chr22 311\n",
      "===== finish(negative_img) chr22 312\n",
      "===== finish(negative_img) chr22 313\n",
      "===== finish(negative_img) chr22 314\n",
      "===== finish(negative_img) chr22 315\n",
      "===== finish(negative_img) chr22 316\n",
      "===== finish(negative_img) chr22 317\n",
      "===== finish(negative_img) chr22 318\n",
      "===== finish(negative_img) chr22 319\n",
      "===== finish(negative_img) chr22 320\n",
      "===== finish(negative_img) chr22 321\n",
      "===== finish(negative_img) chr22 322\n",
      "===== finish(negative_img) chr22 323\n",
      "===== finish(negative_img) chr22 324\n",
      "===== finish(negative_img) chr22 325\n",
      "===== finish(negative_img) chr22 326\n",
      "===== finish(negative_img) chr22 327\n",
      "===== finish(negative_img) chr22 328\n",
      "===== finish(negative_img) chr22 329\n",
      "===== finish(negative_img) chr22 330\n",
      "===== finish(negative_img) chr22 331\n",
      "===== finish(negative_img) chr22 332\n",
      "===== finish(negative_img) chr22 333\n",
      "===== finish(negative_img) chr22 334\n",
      "===== finish(negative_img) chr22 335\n",
      "===== finish(negative_img) chr22 336\n",
      "===== finish(negative_img) chr22 337\n",
      "===== finish(negative_img) chr22 338\n",
      "===== finish(negative_img) chr22 339\n",
      "===== finish(negative_img) chr22 340\n",
      "===== finish(negative_img) chr22 341\n",
      "===== finish(negative_img) chr22 342\n",
      "===== finish(negative_img) chr22 343\n",
      "===== finish(negative_img) chr22 344\n",
      "===== finish(negative_img) chr22 345\n",
      "===== finish(negative_img) chr22 346\n",
      "===== finish(negative_img) chr22 347\n",
      "===== finish(negative_img) chr22 348\n",
      "===== finish(negative_img) chr22 349\n",
      "===== finish(negative_img) chr22 350\n",
      "===== finish(negative_img) chr22 351\n",
      "===== finish(negative_img) chr22 352\n",
      "===== finish(negative_img) chr22 353\n",
      "===== finish(negative_img) chr22 354\n",
      "===== finish(negative_img) chr22 355\n",
      "===== finish(negative_img) chr22 356\n",
      "===== finish(negative_img) chr22 357\n",
      "===== finish(negative_img) chr22 358\n",
      "===== finish(negative_img) chr22 359\n",
      "===== finish(negative_img) chr22 360\n",
      "===== finish(negative_img) chr22 361\n",
      "===== finish(negative_img) chr22 362\n",
      "===== finish(negative_img) chr22 363\n",
      "===== finish(negative_img) chr22 364\n",
      "===== finish(negative_img) chr22 365\n",
      "===== finish(negative_img) chr22 366\n",
      "===== finish(negative_img) chr22 367\n",
      "===== finish(negative_img) chr22 368\n",
      "===== finish(negative_img) chr22 369\n",
      "===== finish(negative_img) chr22 370\n",
      "===== finish(negative_img) chr22 371\n",
      "===== finish(negative_img) chr22 372\n",
      "===== finish(negative_img) chr22 373\n",
      "===== finish(negative_img) chr22 374\n",
      "===== finish(negative_img) chr22 375\n",
      "===== finish(negative_img) chr22 376\n",
      "===== finish(negative_img) chr22 377\n",
      "===== finish(negative_img) chr22 378\n",
      "===== finish(negative_img) chr22 379\n",
      "===== finish(negative_img) chr22 380\n",
      "===== finish(negative_img) chr22 381\n",
      "===== finish(negative_img) chr22 382\n",
      "===== finish(negative_img) chr22 383\n",
      "===== finish(negative_img) chr22 384\n",
      "===== finish(negative_img) chr22 385\n",
      "===== finish(negative_img) chr22 386\n",
      "===== finish(negative_img) chr22 387\n",
      "===== finish(negative_img) chr22 388\n",
      "===== finish(negative_img) chr22 389\n",
      "===== finish(negative_img) chr22 390\n",
      "===== finish(negative_img) chr22 391\n",
      "===== finish(negative_img) chr22 392\n",
      "===== finish(negative_img) chr22 393\n",
      "===== finish(negative_img) chr22 394\n",
      "===== finish(negative_img) chr22 395\n",
      "===== finish(negative_img) chr22 396\n",
      "===== finish(negative_img) chr22 397\n",
      "===== finish(negative_img) chr22 398\n",
      "===== finish(negative_img) chr22 399\n",
      "===== finish(negative_img) chr22 400\n",
      "===== finish(negative_img) chr22 401\n",
      "===== finish(negative_img) chr22 402\n",
      "===== finish(negative_img) chr22 403\n",
      "===== finish(negative_img) chr22 404\n",
      "===== finish(negative_img) chr22 405\n",
      "===== finish(negative_img) chr22 406\n",
      "===== finish(negative_img) chr22 407\n",
      "===== finish(negative_img) chr22 408\n",
      "===== finish(negative_img) chr22 409\n",
      "===== finish(negative_img) chr22 410\n",
      "===== finish(negative_img) chr22 411\n",
      "===== finish(negative_img) chr22 412\n",
      "===== finish(negative_img) chr22 413\n",
      "===== finish(negative_img) chr22 414\n",
      "===== finish(negative_img) chr22 415\n",
      "===== finish(negative_img) chr22 416\n",
      "===== finish(negative_img) chr22 417\n",
      "===== finish(negative_img) chr22 418\n",
      "===== finish(negative_img) chr22 419\n",
      "===== finish(negative_img) chr22 420\n",
      "===== finish(negative_img) chr22 421\n",
      "===== finish(negative_img) chr22 422\n",
      "===== finish(negative_img) chr22 423\n",
      "===== finish(negative_img) chr22 424\n",
      "===== finish(negative_img) chr22 425\n",
      "===== finish(negative_img) chr22 426\n",
      "===== finish(negative_img) chr22 427\n",
      "===== finish(negative_img) chr22 428\n",
      "===== finish(negative_img) chr22 429\n",
      "===== finish(negative_img) chr22 430\n",
      "===== finish(negative_img) chr22 431\n",
      "===== finish(negative_img) chr22 432\n",
      "===== finish(negative_img) chr22 433\n",
      "===== finish(negative_img) chr22 434\n",
      "===== finish(negative_img) chr22 435\n",
      "===== finish(negative_img) chr22 436\n",
      "===== finish(negative_img) chr22 437\n",
      "===== finish(negative_img) chr22 438\n",
      "===== finish(negative_img) chr22 439\n"
     ]
    }
   ],
   "source": [
    "mid_sign_img = torch.load(data_dir + \"chromosome_img/\" + chromosome + \"_m(i)d_sign.pt\")\n",
    "\n",
    "positive_img_i_list = [[] for _ in range(len(p_position))]\n",
    "negative_img_i_list = [[] for _ in range(len(n_position))]\n",
    "\n",
    "for i, b_e in enumerate(p_position):\n",
    "    positive_img_i_list[i] = mid_sign_img[b_e[0]:b_e[1]]\n",
    "    print(\"===== finish(positive_img) \" + chromosome + \" \" + str(i))\n",
    "\n",
    "\n",
    "for i, b_e in enumerate(n_position):\n",
    "    negative_img_i_list[i] = mid_sign_img[b_e[0]:b_e[1]]\n",
    "    print(\"===== finish(negative_img) \" + chromosome + \" \" + str(i))"
   ]
  },
  {
   "cell_type": "code",
   "execution_count": 63,
   "id": "f315a9bf",
   "metadata": {},
   "outputs": [
    {
     "data": {
      "text/plain": [
       "tensor(0.8415)"
      ]
     },
     "execution_count": 63,
     "metadata": {},
     "output_type": "execute_result"
    }
   ],
   "source": [
    "torch.mean(mid_sign_img)"
   ]
  },
  {
   "cell_type": "code",
   "execution_count": 6,
   "id": "68c2cd0d",
   "metadata": {},
   "outputs": [],
   "source": [
    "all_positive_img_i_list = []"
   ]
  },
  {
   "cell_type": "code",
   "execution_count": 11,
   "id": "791277c0",
   "metadata": {},
   "outputs": [],
   "source": [
    "all_positive_img_i_list[-1:-1] = positive_img_i_list"
   ]
  },
  {
   "cell_type": "code",
   "execution_count": 14,
   "id": "92203bd5",
   "metadata": {},
   "outputs": [
    {
     "data": {
      "text/plain": [
       "torch.Size([27, 12])"
      ]
     },
     "execution_count": 14,
     "metadata": {},
     "output_type": "execute_result"
    }
   ],
   "source": [
    "all_positive_img_i_list[0].size()"
   ]
  },
  {
   "cell_type": "code",
   "execution_count": 15,
   "id": "248bd0b6",
   "metadata": {},
   "outputs": [],
   "source": [
    "def a():\n",
    "    return (torch.rand(2), torch.rand(3)), torch.rand(4)"
   ]
  },
  {
   "cell_type": "code",
   "execution_count": 37,
   "id": "7a093553",
   "metadata": {},
   "outputs": [],
   "source": [
    "q = torch.rand([12, 4]).t()"
   ]
  },
  {
   "cell_type": "code",
   "execution_count": 39,
   "id": "9e8b5530",
   "metadata": {},
   "outputs": [],
   "source": [
    "pool = torch.nn.MaxPool1d(2, stride=1)"
   ]
  },
  {
   "cell_type": "code",
   "execution_count": 41,
   "id": "96ab4a4e",
   "metadata": {},
   "outputs": [
    {
     "data": {
      "text/plain": [
       "torch.Size([4, 11])"
      ]
     },
     "execution_count": 41,
     "metadata": {},
     "output_type": "execute_result"
    }
   ],
   "source": [
    "pool(q).size()"
   ]
  },
  {
   "cell_type": "code",
   "execution_count": 1,
   "id": "8d8ab822",
   "metadata": {},
   "outputs": [
    {
     "name": "stderr",
     "output_type": "stream",
     "text": [
      "Global seed set to 2022\n"
     ]
    }
   ],
   "source": [
    "import utilities as ut\n",
    "from pudb import set_trace\n",
    "import pandas as pd\n",
    "import random\n",
    "import numpy as np\n",
    "import torch\n",
    "from pytorch_lightning.loggers import TensorBoardLogger\n",
    "import os\n",
    "from net import IDENet\n",
    "import pytorch_lightning as pl\n",
    "from pytorch_lightning import seed_everything\n",
    "from pytorch_lightning.callbacks import ModelCheckpoint\n",
    "from multiprocessing import Pool, cpu_count\n",
    "import pysam\n",
    "import ray\n",
    "from ray import tune\n",
    "from ray.tune import CLIReporter\n",
    "from ray.tune.suggest import Repeater\n",
    "from ray.tune.schedulers import ASHAScheduler, PopulationBasedTraining\n",
    "from ray.tune.suggest.hyperopt import HyperOptSearch\n",
    "from ray.tune.integration.pytorch_lightning import TuneReportCallback, \\\n",
    "    TuneReportCheckpointCallback\n",
    "\n",
    "\n",
    "os.environ[\"CUDA_VISIBLE_DEVICES\"] = \"1\"\n",
    "\n",
    "\n",
    "seed_everything(2022)\n",
    "\n",
    "data_dir = \"../datasets/NA12878_PacBio_MtSinai/\"\n"
   ]
  },
  {
   "cell_type": "code",
   "execution_count": null,
   "id": "34fe599a",
   "metadata": {},
   "outputs": [],
   "source": []
  },
  {
   "cell_type": "code",
   "execution_count": null,
   "id": "80b5707f",
   "metadata": {},
   "outputs": [],
   "source": [
    "all = torch.empty(0)\n",
    "for chromosome, len in data_list:\n",
    "    mid_sign_img = torch.load(data_dir + \"chromosome_img/\" + chromosome + \"_m(i)d_sign.pt\")\n",
    "    all = torch.cat([all, mid_sign_img[:, 9]], 0)"
   ]
  },
  {
   "cell_type": "code",
   "execution_count": null,
   "id": "1b3ea03e",
   "metadata": {},
   "outputs": [],
   "source": [
    "all"
   ]
  },
  {
   "cell_type": "code",
   "execution_count": 2,
   "id": "7c9154c5",
   "metadata": {},
   "outputs": [
    {
     "name": "stdout",
     "output_type": "stream",
     "text": [
      "chrM\t0\n"
     ]
    },
    {
     "name": "stderr",
     "output_type": "stream",
     "text": [
      "/home/xwm/DeepSVFilter/code/utilities.py:50: RuntimeWarning: invalid value encountered in power\n",
      "  return (np.prod(records)) ** (1 / len(records))\n"
     ]
    }
   ],
   "source": [
    "chromosome = \"chr1\"\n",
    "\n",
    "mid_sign_list = torch.load(data_dir + \"chromosome_sign/\" + chromosome + \"_m(i)d_sign.pt\")\n",
    "# torch.save(mid_sign_list, data_dir + \"chromosome_sign/\" + chromosome + \"_m(i)d_sign.pt\")\n",
    "mid_sign_img = ut.mid_list2img(mid_sign_list, chromosome)"
   ]
  },
  {
   "cell_type": "code",
   "execution_count": 30,
   "id": "15e67c2a",
   "metadata": {},
   "outputs": [],
   "source": [
    "for chromosome, len in data_list:\n",
    "    mid_sign_img = torch.load(data_dir + \"chromosome_img/\" + chromosome + \"_m(i)d_sign.pt\")\n",
    "    mm = torch.empty(len(mid_sign_img), 9)\n",
    "    mm[:, 0] = mid_sign_img[:, 7]\n",
    "    mm[:, 1] = mid_sign_img[:, 1]\n",
    "    mm[:, 2] = mid_sign_img[:, 2]\n",
    "    mm[:, 3] = mid_sign_img[:, 3]\n",
    "    mm[:, 4] = mid_sign_img[:, 4]\n",
    "    mm[:, 5] = mid_sign_img[:, 8]\n",
    "    mm[:, 6] = mid_sign_img[:, 5]\n",
    "    mm[:, 7] = mid_sign_img[:, 6]\n",
    "    mm[:, 8] = mid_sign_img[:, 11]\n",
    "    torch.save(mm, data_dir + \"chromosome_img/\" + chromosome + \"_m(i)d_sign9.pt\")"
   ]
  },
  {
   "cell_type": "code",
   "execution_count": 31,
   "id": "f7052b77",
   "metadata": {},
   "outputs": [
    {
     "data": {
      "text/plain": [
       "torch.return_types.max(\n",
       "values=tensor([583.0000,   1.0000,   2.0000,   3.0000, 787.0000,  51.4965,   5.1856,\n",
       "         51.2486,  11.5437]),\n",
       "indices=tensor([13681,    12,    12,    12, 13296, 11510, 15843, 11510, 13296]))"
      ]
     },
     "execution_count": 31,
     "metadata": {},
     "output_type": "execute_result"
    }
   ],
   "source": [
    "torch.max(mm, dim = 0)"
   ]
  },
  {
   "cell_type": "code",
   "execution_count": 13,
   "id": "1a84fac3",
   "metadata": {},
   "outputs": [
    {
     "data": {
      "text/plain": [
       "tensor([0., 0., 0., 0., 0., 0., 0., 1., 0., 0., 0., 0.])"
      ]
     },
     "execution_count": 13,
     "metadata": {},
     "output_type": "execute_result"
    }
   ],
   "source": [
    "mid_sign_img[6]"
   ]
  },
  {
   "cell_type": "code",
   "execution_count": 49,
   "id": "6dacb8a2",
   "metadata": {},
   "outputs": [],
   "source": [
    "c1d = torch.nn.Conv1d(in_channels=128, out_channels = 128, kernel_size = 2, stride  = 1)"
   ]
  },
  {
   "cell_type": "code",
   "execution_count": 52,
   "id": "d38db9c3",
   "metadata": {},
   "outputs": [],
   "source": [
    "x = torch.rand(1, 128, 500)\n",
    "while x.shape[-1] > 512:\n",
    "    x = c1d(x)\n",
    "    print(x.shape)"
   ]
  },
  {
   "cell_type": "code",
   "execution_count": 90,
   "id": "029c7592",
   "metadata": {},
   "outputs": [
    {
     "name": "stderr",
     "output_type": "stream",
     "text": [
      "Global seed set to 2022\n"
     ]
    },
    {
     "name": "stdout",
     "output_type": "stream",
     "text": [
      "chrM\n",
      "chr1\n",
      "chr2\n",
      "chr3\n",
      "chr4\n",
      "chr5\n",
      "chr6\n",
      "chr7\n",
      "chr8\n",
      "chr9\n",
      "chr10\n",
      "chr11\n",
      "chr12\n",
      "chr13\n",
      "chr14\n",
      "chr15\n",
      "chr16\n",
      "chr17\n",
      "chr18\n",
      "chr19\n",
      "chr20\n",
      "chr21\n",
      "chr22\n",
      "chrX\n",
      "chrY\n",
      "chr1_gl000191_random\n",
      "chr1_gl000192_random\n",
      "chr4_ctg9_hap1\n",
      "chr4_gl000193_random\n",
      "chr4_gl000194_random\n",
      "chr6_apd_hap1\n",
      "chr6_cox_hap2\n",
      "chr6_dbb_hap3\n",
      "chr6_mann_hap4\n",
      "chr6_mcf_hap5\n",
      "chr6_qbl_hap6\n",
      "chr6_ssto_hap7\n",
      "chr7_gl000195_random\n",
      "chr8_gl000196_random\n",
      "chr8_gl000197_random\n",
      "chr9_gl000198_random\n",
      "chr9_gl000199_random\n",
      "chr9_gl000200_random\n",
      "chr9_gl000201_random\n",
      "chr11_gl000202_random\n",
      "chr17_ctg5_hap1\n",
      "chr17_gl000203_random\n",
      "chr17_gl000204_random\n",
      "chr17_gl000205_random\n",
      "chr17_gl000206_random\n",
      "chr18_gl000207_random\n",
      "chr19_gl000208_random\n",
      "chr19_gl000209_random\n",
      "chr21_gl000210_random\n",
      "chrUn_gl000211\n",
      "chrUn_gl000212\n",
      "chrUn_gl000213\n",
      "chrUn_gl000214\n",
      "chrUn_gl000215\n",
      "chrUn_gl000216\n",
      "chrUn_gl000217\n",
      "chrUn_gl000218\n",
      "chrUn_gl000219\n",
      "chrUn_gl000220\n",
      "chrUn_gl000221\n",
      "chrUn_gl000222\n",
      "chrUn_gl000223\n",
      "chrUn_gl000224\n",
      "chrUn_gl000225\n",
      "chrUn_gl000226\n",
      "chrUn_gl000227\n",
      "chrUn_gl000228\n",
      "chrUn_gl000229\n",
      "chrUn_gl000230\n",
      "chrUn_gl000231\n",
      "chrUn_gl000232\n",
      "chrUn_gl000233\n",
      "chrUn_gl000234\n",
      "chrUn_gl000235\n",
      "chrUn_gl000236\n",
      "chrUn_gl000237\n",
      "chrUn_gl000238\n",
      "chrUn_gl000239\n",
      "chrUn_gl000240\n",
      "chrUn_gl000241\n",
      "chrUn_gl000242\n",
      "chrUn_gl000243\n",
      "chrUn_gl000244\n",
      "chrUn_gl000245\n",
      "chrUn_gl000246\n",
      "chrUn_gl000247\n",
      "chrUn_gl000248\n",
      "chrUn_gl000249\n"
     ]
    }
   ],
   "source": [
    "import os\n",
    "from datetime import datetime\n",
    "# 打印时间函数\n",
    "import subprocess\n",
    "import utilities as ut\n",
    "from pudb import set_trace\n",
    "import pandas as pd\n",
    "import random\n",
    "import numpy as np\n",
    "import torchvision\n",
    "import math\n",
    "import torch\n",
    "import os\n",
    "from pytorch_lightning import seed_everything\n",
    "from multiprocessing import Pool, cpu_count\n",
    "import pysam\n",
    "\n",
    "# os.environ[\"CUDA_VISIBLE_DEVICES\"] = \"-1\"\n",
    "seed_everything(2022)\n",
    "\n",
    "\n",
    "data_dir = \"../datasets/NA12878_PacBio_MtSinai/\"\n",
    "\n",
    "bam_path = data_dir + \"sorted_final_merged.bam\"\n",
    "\n",
    "vcf_filename = data_dir + \"insert_result_data.csv.vcf\"\n",
    "\n",
    "\n",
    "sam_file = pysam.AlignmentFile(bam_path, \"rb\")\n",
    "chr_list = sam_file.references\n",
    "chr_length = sam_file.lengths\n",
    "sam_file.close()\n",
    "\n",
    "hight = 224\n",
    "\n",
    "data_list = []\n",
    "for chromosome, chr_len in zip(chr_list, chr_length):\n",
    "    print(chromosome)\n",
    "    positive_cigar_img = torch.load(data_dir + 'image6/' + chromosome + '/positive_cigar_img' + '.pt')\n",
    "    torch.save(positive_cigar_img[:, :4], data_dir + 'image/' + chromosome + '/positive_cigar_img' + '.pt')\n",
    "    negative_cigar_img = torch.load(data_dir + 'image6/' + chromosome + '/negative_cigar_img' + '.pt')\n",
    "    torch.save(negative_cigar_img[:, :4], data_dir + 'image/' + chromosome + '/negative_cigar_img' + '.pt')"
   ]
  },
  {
   "cell_type": "code",
   "execution_count": 96,
   "id": "d09f56ce",
   "metadata": {
    "scrolled": true
   },
   "outputs": [
    {
     "data": {
      "text/plain": [
       "tensor(43.0287)"
      ]
     },
     "execution_count": 96,
     "metadata": {},
     "output_type": "execute_result"
    }
   ],
   "source": [
    "torch.mean(positive_cigar_img[:, 0])"
   ]
  },
  {
   "cell_type": "code",
   "execution_count": 91,
   "id": "14fbf73c",
   "metadata": {},
   "outputs": [],
   "source": [
    "positive_cigar_img = torch.load(data_dir + 'image/' + \"chr1\" + '/positive_cigar_img' + '.pt')"
   ]
  },
  {
   "cell_type": "code",
   "execution_count": 69,
   "id": "561985b9",
   "metadata": {},
   "outputs": [
    {
     "data": {
      "text/plain": [
       "tensor([], size=(0, 224, 224), dtype=torch.bool)"
      ]
     },
     "execution_count": 69,
     "metadata": {},
     "output_type": "execute_result"
    }
   ],
   "source": [
    "torch.eq(positive_cigar_img[:,0], positive_cigar_img[:,3])"
   ]
  },
  {
   "cell_type": "code",
   "execution_count": 108,
   "id": "1e9660b2",
   "metadata": {},
   "outputs": [],
   "source": [
    "all_p_img = torch.load(data_dir + '/all_n_img3+3+5' + '.pt')"
   ]
  },
  {
   "cell_type": "code",
   "execution_count": 110,
   "id": "070d9aca",
   "metadata": {},
   "outputs": [
    {
     "data": {
      "text/plain": [
       "torch.Size([22199, 11, 224, 224])"
      ]
     },
     "execution_count": 110,
     "metadata": {},
     "output_type": "execute_result"
    }
   ],
   "source": [
    "all_p_img.size()"
   ]
  },
  {
   "cell_type": "code",
   "execution_count": 111,
   "id": "4e526c8f",
   "metadata": {},
   "outputs": [],
   "source": [
    "p_img = all_p_img[:, :10]"
   ]
  },
  {
   "cell_type": "code",
   "execution_count": 112,
   "id": "d97fdfab",
   "metadata": {},
   "outputs": [
    {
     "data": {
      "text/plain": [
       "torch.Size([22199, 10, 224, 224])"
      ]
     },
     "execution_count": 112,
     "metadata": {},
     "output_type": "execute_result"
    }
   ],
   "source": [
    "p_img.size()"
   ]
  },
  {
   "cell_type": "code",
   "execution_count": 113,
   "id": "7f6706d3",
   "metadata": {},
   "outputs": [],
   "source": [
    "torch.save(p_img, data_dir + '/all_n_img' + '.pt')"
   ]
  },
  {
   "cell_type": "code",
   "execution_count": 98,
   "id": "402d33dd",
   "metadata": {},
   "outputs": [],
   "source": [
    "positive_img_i_list = torch.load(data_dir + 'image/' + \"chr1\" + '/positive_img_m(i)d' + '.pt')"
   ]
  },
  {
   "cell_type": "code",
   "execution_count": 99,
   "id": "70fc8871",
   "metadata": {},
   "outputs": [
    {
     "data": {
      "text/plain": [
       "1621"
      ]
     },
     "execution_count": 99,
     "metadata": {},
     "output_type": "execute_result"
    }
   ],
   "source": [
    "len(positive_img_i_list)"
   ]
  },
  {
   "cell_type": "code",
   "execution_count": 3,
   "id": "f2016991",
   "metadata": {},
   "outputs": [],
   "source": [
    "import torch\n",
    "data_dir = \"../datasets/NA12878_PacBio_MtSinai/\"\n",
    "positive_img_i_list = torch.load(data_dir + 'image/' + \"chr1\" + '/positive_img_m(i)d' + '.pt')"
   ]
  },
  {
   "cell_type": "code",
   "execution_count": 4,
   "id": "037a4d1e",
   "metadata": {},
   "outputs": [
    {
     "data": {
      "text/plain": [
       "1621"
      ]
     },
     "execution_count": 4,
     "metadata": {},
     "output_type": "execute_result"
    }
   ],
   "source": [
    "len(positive_img_i_list)"
   ]
  },
  {
   "cell_type": "code",
   "execution_count": 6,
   "id": "a80864fc",
   "metadata": {},
   "outputs": [
    {
     "data": {
      "text/plain": [
       "torch.Size([135, 9])"
      ]
     },
     "execution_count": 6,
     "metadata": {},
     "output_type": "execute_result"
    }
   ],
   "source": [
    "positive_img_i_list[1].shape"
   ]
  },
  {
   "cell_type": "code",
   "execution_count": 7,
   "id": "6418410e",
   "metadata": {},
   "outputs": [],
   "source": [
    "negative_img_i_list = torch.empty(1, 9)"
   ]
  },
  {
   "cell_type": "code",
   "execution_count": 8,
   "id": "5297c69b",
   "metadata": {},
   "outputs": [],
   "source": [
    "list = [0] * 10"
   ]
  },
  {
   "cell_type": "code",
   "execution_count": 11,
   "id": "0f477ca0",
   "metadata": {},
   "outputs": [
    {
     "data": {
      "text/plain": [
       "[0, 2, 0, 0, 0, 0, 0, 0, 0, 0]"
      ]
     },
     "execution_count": 11,
     "metadata": {},
     "output_type": "execute_result"
    }
   ],
   "source": [
    "list"
   ]
  },
  {
   "cell_type": "code",
   "execution_count": 10,
   "id": "fb8ba641",
   "metadata": {},
   "outputs": [],
   "source": [
    "list[1] = list[0] + 2"
   ]
  },
  {
   "cell_type": "code",
   "execution_count": 13,
   "id": "b0d5e083",
   "metadata": {},
   "outputs": [],
   "source": [
    "p_list_index, positive_img_i_list = torch.load(data_dir + 'image/' + \"chr1\" + '/positive_img_m(i)d' + '.pt')"
   ]
  },
  {
   "cell_type": "code",
   "execution_count": 21,
   "id": "4a7e177d",
   "metadata": {},
   "outputs": [
    {
     "data": {
      "text/plain": [
       "940746"
      ]
     },
     "execution_count": 21,
     "metadata": {},
     "output_type": "execute_result"
    }
   ],
   "source": [
    "import numpy as np\n",
    "np.max(p_list_index)"
   ]
  },
  {
   "cell_type": "code",
   "execution_count": 57,
   "id": "0966effb",
   "metadata": {},
   "outputs": [
    {
     "data": {
      "text/plain": [
       "torch.Size([940746, 9])"
      ]
     },
     "execution_count": 57,
     "metadata": {},
     "output_type": "execute_result"
    }
   ],
   "source": [
    "positive_img_i_list.size()"
   ]
  },
  {
   "cell_type": "code",
   "execution_count": 50,
   "id": "809c5912",
   "metadata": {},
   "outputs": [],
   "source": [
    "for i in p_list_index:\n",
    "    i=2"
   ]
  },
  {
   "cell_type": "code",
   "execution_count": 32,
   "id": "1f0866fd",
   "metadata": {},
   "outputs": [],
   "source": [
    "import numpy as np\n",
    "\n",
    "dt = np.array([2])\n"
   ]
  },
  {
   "cell_type": "code",
   "execution_count": 35,
   "id": "ee9a4a6f",
   "metadata": {},
   "outputs": [
    {
     "ename": "IndexError",
     "evalue": "index 2 is out of bounds for axis 0 with size 1",
     "output_type": "error",
     "traceback": [
      "\u001b[0;31m---------------------------------------------------------------------------\u001b[0m",
      "\u001b[0;31mIndexError\u001b[0m                                Traceback (most recent call last)",
      "\u001b[0;32m<ipython-input-35-e1de7f6a8ccf>\u001b[0m in \u001b[0;36m<module>\u001b[0;34m\u001b[0m\n\u001b[0;32m----> 1\u001b[0;31m \u001b[0mdt\u001b[0m\u001b[0;34m[\u001b[0m\u001b[0;36m2\u001b[0m\u001b[0;34m]\u001b[0m \u001b[0;34m=\u001b[0m \u001b[0;36m0\u001b[0m\u001b[0;34m\u001b[0m\u001b[0;34m\u001b[0m\u001b[0m\n\u001b[0m",
      "\u001b[0;31mIndexError\u001b[0m: index 2 is out of bounds for axis 0 with size 1"
     ]
    }
   ],
   "source": [
    "dt[2] = 0"
   ]
  },
  {
   "cell_type": "code",
   "execution_count": 42,
   "id": "ee238d7c",
   "metadata": {},
   "outputs": [],
   "source": [
    "dt = np.zeros([3, 5], dtype=int)"
   ]
  },
  {
   "cell_type": "code",
   "execution_count": 43,
   "id": "eabb1da4",
   "metadata": {},
   "outputs": [
    {
     "data": {
      "text/plain": [
       "numpy.int64"
      ]
     },
     "execution_count": 43,
     "metadata": {},
     "output_type": "execute_result"
    }
   ],
   "source": [
    "type(dt[0][0])"
   ]
  },
  {
   "cell_type": "code",
   "execution_count": 66,
   "id": "01258931",
   "metadata": {},
   "outputs": [],
   "source": [
    "ap_list_index = [0]\n",
    "save_path = data_dir + 'image/' + \"chr1\"\n",
    "p_list_index = torch.load(save_path + '/positive_img_m(i)d.index' + '.pt')"
   ]
  },
  {
   "cell_type": "code",
   "execution_count": 67,
   "id": "27f18df2",
   "metadata": {},
   "outputs": [],
   "source": [
    "ap_list_index = ap_list_index + p_list_index[1:]"
   ]
  },
  {
   "cell_type": "code",
   "execution_count": 68,
   "id": "23e75ad8",
   "metadata": {},
   "outputs": [
    {
     "data": {
      "text/plain": [
       "1622"
      ]
     },
     "execution_count": 68,
     "metadata": {},
     "output_type": "execute_result"
    }
   ],
   "source": [
    "len(p_list_index)"
   ]
  },
  {
   "cell_type": "code",
   "execution_count": 69,
   "id": "3681901f",
   "metadata": {},
   "outputs": [
    {
     "data": {
      "text/plain": [
       "1622"
      ]
     },
     "execution_count": 69,
     "metadata": {},
     "output_type": "execute_result"
    }
   ],
   "source": [
    "len(ap_list_index)"
   ]
  },
  {
   "cell_type": "code",
   "execution_count": 74,
   "id": "839b9846",
   "metadata": {},
   "outputs": [
    {
     "name": "stderr",
     "output_type": "stream",
     "text": [
      "Process ForkPoolWorker-2:\n",
      "Process ForkPoolWorker-1:\n",
      "Traceback (most recent call last):\n",
      "Traceback (most recent call last):\n",
      "  File \"/home/xwm/anaconda3/envs/SV/lib/python3.6/multiprocessing/process.py\", line 258, in _bootstrap\n",
      "    self.run()\n",
      "  File \"/home/xwm/anaconda3/envs/SV/lib/python3.6/multiprocessing/process.py\", line 258, in _bootstrap\n",
      "    self.run()\n",
      "  File \"/home/xwm/anaconda3/envs/SV/lib/python3.6/multiprocessing/process.py\", line 93, in run\n",
      "    self._target(*self._args, **self._kwargs)\n",
      "  File \"/home/xwm/anaconda3/envs/SV/lib/python3.6/multiprocessing/process.py\", line 93, in run\n",
      "    self._target(*self._args, **self._kwargs)\n",
      "  File \"/home/xwm/anaconda3/envs/SV/lib/python3.6/multiprocessing/pool.py\", line 108, in worker\n",
      "    task = get()\n",
      "  File \"/home/xwm/anaconda3/envs/SV/lib/python3.6/multiprocessing/pool.py\", line 108, in worker\n",
      "    task = get()\n",
      "  File \"/home/xwm/anaconda3/envs/SV/lib/python3.6/multiprocessing/queues.py\", line 334, in get\n",
      "    with self._rlock:\n",
      "  File \"/home/xwm/anaconda3/envs/SV/lib/python3.6/multiprocessing/queues.py\", line 335, in get\n",
      "    res = self._reader.recv_bytes()\n",
      "  File \"/home/xwm/anaconda3/envs/SV/lib/python3.6/multiprocessing/synchronize.py\", line 95, in __enter__\n",
      "    return self._semlock.__enter__()\n",
      "  File \"/home/xwm/anaconda3/envs/SV/lib/python3.6/multiprocessing/connection.py\", line 216, in recv_bytes\n",
      "    buf = self._recv_bytes(maxlength)\n",
      "  File \"/home/xwm/anaconda3/envs/SV/lib/python3.6/multiprocessing/connection.py\", line 407, in _recv_bytes\n",
      "    buf = self._recv(4)\n",
      "  File \"/home/xwm/anaconda3/envs/SV/lib/python3.6/multiprocessing/connection.py\", line 379, in _recv\n",
      "    chunk = read(handle, remaining)\n",
      "KeyboardInterrupt\n",
      "KeyboardInterrupt\n"
     ]
    }
   ],
   "source": [
    "from multiprocessing import Pool, cpu_count\n",
    "pool = Pool(2)\n",
    "all_p_list, all_n_list = pool.map(torch.load, [data_dir + '/all_p_list' + '.pt', data_dir + '/all_n_list' + '.pt'])"
   ]
  },
  {
   "cell_type": "code",
   "execution_count": 76,
   "id": "6df1b132",
   "metadata": {},
   "outputs": [
    {
     "data": {
      "text/plain": [
       "torch.Size([22199, 512, 9])"
      ]
     },
     "execution_count": 76,
     "metadata": {},
     "output_type": "execute_result"
    }
   ],
   "source": [
    "model = IDENet(all_p_img, all_n_img, all_p_list, all_n_list, config)"
   ]
  },
  {
   "cell_type": "code",
   "execution_count": 83,
   "id": "c83e313f",
   "metadata": {},
   "outputs": [],
   "source": [
    "all_p_list, all_n_list = pool.map(torch.load, [data_dir + '/all_p_list2000' + '.pt', data_dir + '/all_n_list2000' + '.pt'])"
   ]
  },
  {
   "cell_type": "code",
   "execution_count": 84,
   "id": "12bfa9ea",
   "metadata": {},
   "outputs": [
    {
     "data": {
      "text/plain": [
       "torch.Size([2000, 512, 9])"
      ]
     },
     "execution_count": 84,
     "metadata": {},
     "output_type": "execute_result"
    }
   ],
   "source": [
    "all_p_list.size()"
   ]
  },
  {
   "cell_type": "code",
   "execution_count": 8,
   "id": "b72b542e",
   "metadata": {},
   "outputs": [],
   "source": [
    "positive_cigar_img = torch.empty(len(p_position), 4, hight, hight)\n",
    "negative_cigar_img = torch.empty(len(n_position), 4, hight, hight)\n",
    "a = [positive_cigar_img[i] for i in range(len(p_position))]\n",
    "b = [negative_cigar_img[i] for i in range(len(n_position))]"
   ]
  },
  {
   "cell_type": "code",
   "execution_count": 15,
   "id": "20167b58",
   "metadata": {},
   "outputs": [],
   "source": [
    "a[:][:] = [1]"
   ]
  },
  {
   "cell_type": "code",
   "execution_count": 16,
   "id": "e54ee95d",
   "metadata": {},
   "outputs": [
    {
     "data": {
      "text/plain": [
       "tensor([[[1., 1., 1.,  ..., 1., 1., 1.],\n",
       "         [1., 1., 1.,  ..., 1., 1., 1.],\n",
       "         [1., 1., 1.,  ..., 1., 1., 1.],\n",
       "         ...,\n",
       "         [1., 1., 1.,  ..., 1., 1., 1.],\n",
       "         [1., 1., 1.,  ..., 1., 1., 1.],\n",
       "         [1., 1., 1.,  ..., 1., 1., 1.]],\n",
       "\n",
       "        [[1., 1., 1.,  ..., 1., 1., 1.],\n",
       "         [1., 1., 1.,  ..., 1., 1., 1.],\n",
       "         [1., 1., 1.,  ..., 1., 1., 1.],\n",
       "         ...,\n",
       "         [1., 1., 1.,  ..., 1., 1., 1.],\n",
       "         [1., 1., 1.,  ..., 1., 1., 1.],\n",
       "         [1., 1., 1.,  ..., 1., 1., 1.]],\n",
       "\n",
       "        [[1., 1., 1.,  ..., 1., 1., 1.],\n",
       "         [1., 1., 1.,  ..., 1., 1., 1.],\n",
       "         [1., 1., 1.,  ..., 1., 1., 1.],\n",
       "         ...,\n",
       "         [1., 1., 1.,  ..., 1., 1., 1.],\n",
       "         [1., 1., 1.,  ..., 1., 1., 1.],\n",
       "         [1., 1., 1.,  ..., 1., 1., 1.]],\n",
       "\n",
       "        [[1., 1., 1.,  ..., 1., 1., 1.],\n",
       "         [1., 1., 1.,  ..., 1., 1., 1.],\n",
       "         [1., 1., 1.,  ..., 1., 1., 1.],\n",
       "         ...,\n",
       "         [1., 1., 1.,  ..., 1., 1., 1.],\n",
       "         [1., 1., 1.,  ..., 1., 1., 1.],\n",
       "         [1., 1., 1.,  ..., 1., 1., 1.]]])"
      ]
     },
     "execution_count": 16,
     "metadata": {},
     "output_type": "execute_result"
    }
   ],
   "source": [
    "positive_cigar_img[0]"
   ]
  },
  {
   "cell_type": "code",
   "execution_count": 59,
   "id": "92c7846e",
   "metadata": {},
   "outputs": [],
   "source": [
    "cigars_img = torch.zeros([4, hight, hight])"
   ]
  },
  {
   "cell_type": "code",
   "execution_count": 90,
   "id": "507cd605",
   "metadata": {},
   "outputs": [
    {
     "data": {
      "text/plain": [
       "0.0"
      ]
     },
     "execution_count": 90,
     "metadata": {},
     "output_type": "execute_result"
    }
   ],
   "source": [
    "0 ** 0.001"
   ]
  },
  {
   "cell_type": "code",
   "execution_count": 182,
   "id": "cfb582ce",
   "metadata": {},
   "outputs": [],
   "source": [
    "p_list_index = torch.load(data_dir + \"chromosome_img/\" + '/chrM_m(i)d_sign12_c++.pt')\n",
    "n_list_index = torch.load(data_dir + \"chromosome_img/\" + '/chrM_m(i)d_sign12.pt')"
   ]
  },
  {
   "cell_type": "code",
   "execution_count": 188,
   "id": "ad849015",
   "metadata": {},
   "outputs": [
    {
     "data": {
      "text/plain": [
       "tensor([True, True, True,  ..., True, True, True])"
      ]
     },
     "execution_count": 188,
     "metadata": {},
     "output_type": "execute_result"
    }
   ],
   "source": [
    "torch.eq(p_list_index[:, 0], n_list_index[:, 0])"
   ]
  },
  {
   "cell_type": "code",
   "execution_count": 176,
   "id": "b62e0707",
   "metadata": {},
   "outputs": [
    {
     "data": {
      "text/plain": [
       "tensor([[1., 0., 0.,  ..., 0., 0., 0.],\n",
       "        [1., 0., 0.,  ..., 0., 0., 0.],\n",
       "        [1., 0., 0.,  ..., 0., 0., 0.],\n",
       "        ...,\n",
       "        [1., 0., 0.,  ..., 0., 0., 0.],\n",
       "        [1., 0., 0.,  ..., 0., 0., 0.],\n",
       "        [1., 0., 0.,  ..., 0., 0., 0.]])"
      ]
     },
     "execution_count": 176,
     "metadata": {},
     "output_type": "execute_result"
    }
   ],
   "source": [
    "torch.tensor(p_list_index)"
   ]
  },
  {
   "cell_type": "code",
   "execution_count": 4,
   "id": "0ac93ab0",
   "metadata": {},
   "outputs": [],
   "source": [
    "import csv\n",
    "import codecs\n",
    "def data_write_csv(file_name, datas):#file_name为写入CSV文件的路径，datas为要写入数据列表\n",
    "    file_csv = codecs.open(file_name,'w+','utf-8')#追加\n",
    "    writer = csv.writer(file_csv, delimiter=' ', quotechar=' ', quoting=csv.QUOTE_MINIMAL)\n",
    "    for data in datas:\n",
    "        writer.writerow(data)\n",
    "    print(\"保存文件成功，处理结束\")"
   ]
  },
  {
   "cell_type": "code",
   "execution_count": 3,
   "id": "48915dfe",
   "metadata": {},
   "outputs": [
    {
     "name": "stdout",
     "output_type": "stream",
     "text": [
      "chr3\n",
      "chr4\n",
      "chr5\n",
      "chr6\n"
     ]
    }
   ],
   "source": [
    "i = 10\n",
    "\n",
    "wait = [\"chr3\", \"chr4\", \"chr5\", \"chr6\", \"chr12\", \"chr14\", \"chrX\"]\n",
    "\n",
    "for chromosome, length in data_list:\n",
    "    if chromosome not in wait:\n",
    "        continue\n",
    "    mid_sign_img = torch.load(data_dir + \"chromosome_img/\" + chromosome + \"_m(i)d_sign12.pt\")\n",
    "    if torch.mean(mid_sign_img[:, i]).isnan():\n",
    "        print(chromosome)\n",
    "        \n",
    "# 12 14 X 6 5 "
   ]
  },
  {
   "cell_type": "code",
   "execution_count": 5,
   "id": "24f3185e",
   "metadata": {},
   "outputs": [
    {
     "name": "stdout",
     "output_type": "stream",
     "text": [
      "tensor(0.3863)\n",
      "tensor(2849.6404)\n",
      "tensor(0.)\n",
      "tensor(2.9611)\n"
     ]
    }
   ],
   "source": [
    "import torch\n",
    "data_dir = \"../datasets/NA12878_PacBio_MtSinai/\"\n",
    "\n",
    "i = 9\n",
    "mid_sign_img = torch.load(data_dir + \"chromosome_img/\" + \"chr12\" + \"_m(i)d_sign12.pt\")\n",
    "\n",
    "print(torch.mean(mid_sign_img[:, i]))\n",
    "print(torch.max(mid_sign_img[:, i]))\n",
    "print(torch.min(mid_sign_img[:, i]))\n",
    "print(torch.std(mid_sign_img[:, i]))"
   ]
  },
  {
   "cell_type": "code",
   "execution_count": 33,
   "id": "8a196054",
   "metadata": {},
   "outputs": [
    {
     "data": {
      "text/plain": [
       "tensor([0., 0., 0.,  ..., 0., 0., 0.])"
      ]
     },
     "execution_count": 33,
     "metadata": {},
     "output_type": "execute_result"
    }
   ],
   "source": [
    "mid_sign_img[:, i]"
   ]
  },
  {
   "cell_type": "code",
   "execution_count": 7,
   "id": "65791e09",
   "metadata": {},
   "outputs": [
    {
     "name": "stderr",
     "output_type": "stream",
     "text": [
      "Global seed set to 2022\n"
     ]
    }
   ],
   "source": [
    "import os\n",
    "from datetime import datetime\n",
    "# 打印时间函数\n",
    "import subprocess\n",
    "import utilities as ut\n",
    "from pudb import set_trace\n",
    "import pandas as pd\n",
    "import random\n",
    "import numpy as np\n",
    "import torchvision\n",
    "import math\n",
    "import torch\n",
    "import os\n",
    "from pytorch_lightning import seed_everything\n",
    "from multiprocessing import Pool, cpu_count\n",
    "import pysam\n",
    "\n",
    "# os.environ[\"CUDA_VISIBLE_DEVICES\"] = \"-1\"\n",
    "seed_everything(2022)\n",
    "\n",
    "\n",
    "data_dir = \"../datasets/NA12878_PacBio_MtSinai/\"\n",
    "\n",
    "bam_path = data_dir + \"sorted_final_merged.bam\"\n",
    "\n",
    "vcf_filename = data_dir + \"insert_result_data.csv.vcf\"\n",
    "\n",
    "\n",
    "sam_file = pysam.AlignmentFile(bam_path, \"rb\")\n",
    "chr_list = sam_file.references\n",
    "chr_length = sam_file.lengths\n",
    "sam_file.close()\n",
    "\n",
    "hight = 224\n",
    "\n",
    "data_list = []\n",
    "for chromosome, chr_len in zip(chr_list, chr_length):\n",
    "    if not os.path.exists(data_dir + 'flag/' + chromosome + '.txt'):\n",
    "        data_list.append((chromosome, chr_len))\n",
    "\n",
    "import subprocess\n",
    "d = subprocess.getoutput(\"ps -aux | grep xwm | grep python | grep len | awk '{print $14}'\").split()\n",
    "\n",
    "for chr, leng in data_list:\n",
    "    # subprocess.call(\"python create_process_file.py --chr \" + chr + \" --len \" + str(len) + \" > \" + chr + \".txt 2&>1\", shell=False)\n",
    "    if chr in d:\n",
    "        continue\n",
    "    print(\"python create_process_file.py --chr \" + chr + \" --len \" + str(leng) + \" &\")\n",
    "    # fd = open(chr + \".txt\")\n",
    "    # subprocess.Popen(\"python create_process_file.py --chr \" + chr + \" --len \" + str(len), shell=True)\n"
   ]
  },
  {
   "cell_type": "code",
   "execution_count": 10,
   "id": "3d644680",
   "metadata": {},
   "outputs": [],
   "source": [
    "chromosome_sign = torch.load(data_dir + \"chromosome_sign/\" + \"chrM\" + \".pt\")"
   ]
  },
  {
   "cell_type": "code",
   "execution_count": 19,
   "id": "e855170c",
   "metadata": {},
   "outputs": [
    {
     "name": "stdout",
     "output_type": "stream",
     "text": [
      "tensor(2285.9333)\n",
      "tensor(2378.0747)\n",
      "tensor(2069.7974)\n"
     ]
    }
   ],
   "source": [
    "print(torch.mean(chromosome_sign[0].float()))\n",
    "print(torch.mean(chromosome_sign[1].float()))\n",
    "print(torch.mean(chromosome_sign[2].float())) #  + 3 * torch.std(chromosome_sign[1].float())"
   ]
  },
  {
   "cell_type": "code",
   "execution_count": 6,
   "id": "4b8e7dc1",
   "metadata": {},
   "outputs": [],
   "source": [
    "data = torch.load(data_dir + \"positive_data/\" + \"0.pt\")"
   ]
  },
  {
   "cell_type": "code",
   "execution_count": 8,
   "id": "54762446",
   "metadata": {},
   "outputs": [
    {
     "data": {
      "text/plain": [
       "torch.Size([11, 224, 224])"
      ]
     },
     "execution_count": 8,
     "metadata": {},
     "output_type": "execute_result"
    }
   ],
   "source": [
    "data[0].shape"
   ]
  },
  {
   "cell_type": "code",
   "execution_count": 2,
   "id": "d626b9de",
   "metadata": {},
   "outputs": [
    {
     "name": "stderr",
     "output_type": "stream",
     "text": [
      "Some weights of the model checkpoint at albert-base-v2 were not used when initializing AlbertModel: ['predictions.bias', 'predictions.LayerNorm.bias', 'predictions.dense.bias', 'predictions.decoder.weight', 'predictions.dense.weight', 'predictions.decoder.bias', 'predictions.LayerNorm.weight']\n",
      "- This IS expected if you are initializing AlbertModel from the checkpoint of a model trained on another task or with another architecture (e.g. initializing a BertForSequenceClassification model from a BertForPreTraining model).\n",
      "- This IS NOT expected if you are initializing AlbertModel from the checkpoint of a model that you expect to be exactly identical (initializing a BertForSequenceClassification model from a BertForSequenceClassification model).\n"
     ]
    }
   ],
   "source": [
    "from transformers import AlbertModel\n",
    "bert = AlbertModel.from_pretrained(\"albert-base-v2\")"
   ]
  },
  {
   "cell_type": "code",
   "execution_count": 15,
   "id": "241366be",
   "metadata": {},
   "outputs": [
    {
     "name": "stdout",
     "output_type": "stream",
     "text": [
      "<class 'torch.nn.modules.normalization.LayerNorm'>\n"
     ]
    }
   ],
   "source": [
    "import torch\n",
    "import torch.nn as nn\n",
    "\n",
    "bert.embeddings.word_embeddings = nn.modules.sparse.Embedding(30000, 11, padding_idx=0)\n",
    "bert.embeddings.position_embeddings = nn.modules.sparse.Embedding(512, 11)\n",
    "bert.embeddings.token_type_embeddings = nn.modules.sparse.Embedding(2, 11)\n",
    "bert.embeddings.LayerNorm = nn.modules.normalization.LayerNorm((11,), eps=1e-12, elementwise_affine=True)\n",
    "bert.encoder.embedding_hidden_mapping_in = nn.modules.linear.Linear(in_features=11, out_features=768, bias=True)\n",
    "# print(type(bert.embeddings.LayerNorm))"
   ]
  },
  {
   "cell_type": "code",
   "execution_count": 16,
   "id": "b51a3425",
   "metadata": {},
   "outputs": [
    {
     "name": "stdout",
     "output_type": "stream",
     "text": [
      "AlbertModel(\n",
      "  (embeddings): AlbertEmbeddings(\n",
      "    (word_embeddings): Embedding(30000, 11, padding_idx=0)\n",
      "    (position_embeddings): Embedding(512, 11)\n",
      "    (token_type_embeddings): Embedding(2, 11)\n",
      "    (LayerNorm): LayerNorm((11,), eps=1e-12, elementwise_affine=True)\n",
      "    (dropout): Dropout(p=0, inplace=False)\n",
      "  )\n",
      "  (encoder): AlbertTransformer(\n",
      "    (embedding_hidden_mapping_in): Linear(in_features=11, out_features=768, bias=True)\n",
      "    (albert_layer_groups): ModuleList(\n",
      "      (0): AlbertLayerGroup(\n",
      "        (albert_layers): ModuleList(\n",
      "          (0): AlbertLayer(\n",
      "            (full_layer_layer_norm): LayerNorm((768,), eps=1e-12, elementwise_affine=True)\n",
      "            (attention): AlbertAttention(\n",
      "              (query): Linear(in_features=768, out_features=768, bias=True)\n",
      "              (key): Linear(in_features=768, out_features=768, bias=True)\n",
      "              (value): Linear(in_features=768, out_features=768, bias=True)\n",
      "              (attention_dropout): Dropout(p=0, inplace=False)\n",
      "              (output_dropout): Dropout(p=0, inplace=False)\n",
      "              (dense): Linear(in_features=768, out_features=768, bias=True)\n",
      "              (LayerNorm): LayerNorm((768,), eps=1e-12, elementwise_affine=True)\n",
      "            )\n",
      "            (ffn): Linear(in_features=768, out_features=3072, bias=True)\n",
      "            (ffn_output): Linear(in_features=3072, out_features=768, bias=True)\n",
      "            (activation): NewGELUActivation()\n",
      "            (dropout): Dropout(p=0, inplace=False)\n",
      "          )\n",
      "        )\n",
      "      )\n",
      "    )\n",
      "  )\n",
      "  (pooler): Linear(in_features=768, out_features=768, bias=True)\n",
      "  (pooler_activation): Tanh()\n",
      ")\n"
     ]
    }
   ],
   "source": [
    "print(bert)"
   ]
  },
  {
   "cell_type": "code",
   "execution_count": 6,
   "id": "d04c6706",
   "metadata": {},
   "outputs": [],
   "source": [
    "b = bert(inputs_embeds = a)"
   ]
  },
  {
   "cell_type": "code",
   "execution_count": 2,
   "id": "2c1b8f3c",
   "metadata": {},
   "outputs": [
    {
     "name": "stdout",
     "output_type": "stream",
     "text": [
      "[*] Start generating images ===\n",
      "[*] End generating images ===\n"
     ]
    }
   ],
   "source": [
    "chromosome_sign, mid_sign, mid_sign_list = ut.preprocess(bam_path, \"chrM\", 16571, data_dir)"
   ]
  },
  {
   "cell_type": "code",
   "execution_count": 3,
   "id": "0bd75966",
   "metadata": {},
   "outputs": [
    {
     "name": "stdout",
     "output_type": "stream",
     "text": [
      "tensor(2039.1899)\n",
      "tensor(2129.0603)\n",
      "tensor(2069.7974)\n"
     ]
    }
   ],
   "source": [
    "print(torch.mean(chromosome_sign[0].float()))\n",
    "print(torch.mean(chromosome_sign[1].float()))\n",
    "print(torch.mean(chromosome_sign[2].float())) #  + 3 * torch.std(chromosome_sign[1].float())"
   ]
  },
  {
   "cell_type": "code",
   "execution_count": 39,
   "id": "5eae5fd5",
   "metadata": {},
   "outputs": [],
   "source": [
    "a = torch.ones(4, 100)\n",
    "b = torch.tensor([1, 2, 3, 4])"
   ]
  },
  {
   "cell_type": "code",
   "execution_count": 54,
   "id": "57c852b2",
   "metadata": {},
   "outputs": [],
   "source": [
    "import net\n",
    "resnet_conv2ds = net.conv2ds_after_resnet(1, 6)\n"
   ]
  },
  {
   "cell_type": "code",
   "execution_count": 55,
   "id": "1ee383d4",
   "metadata": {},
   "outputs": [],
   "source": [
    "feature = torch.rand(4, 11, 1000).unsqueeze(1)"
   ]
  },
  {
   "cell_type": "code",
   "execution_count": 56,
   "id": "679f2c4f",
   "metadata": {},
   "outputs": [
    {
     "data": {
      "text/plain": [
       "torch.Size([4, 6, 1, 990])"
      ]
     },
     "execution_count": 56,
     "metadata": {},
     "output_type": "execute_result"
    }
   ],
   "source": [
    "resnet_conv2ds(feature).shape"
   ]
  },
  {
   "cell_type": "code",
   "execution_count": 26,
   "id": "174a5ca2",
   "metadata": {},
   "outputs": [],
   "source": [
    "import pandas as pd\n",
    "data_dir = \"/home/xwm/DeepSVFilter/datasets/NA12878_PacBio_MtSinai/\"\n",
    "filename = data_dir + \"NA12878.sorted.vcf\"\n",
    "delete_result_data = pd.read_csv(filename + \"_ins\", sep = \"\\t\")"
   ]
  },
  {
   "cell_type": "code",
   "execution_count": 30,
   "id": "f302e5ed",
   "metadata": {},
   "outputs": [
    {
     "data": {
      "text/plain": [
       "0            10632\n",
       "1            10851\n",
       "2            66191\n",
       "3            66493\n",
       "4           386669\n",
       "           ...    \n",
       "22194    155232155\n",
       "22195    155258759\n",
       "22196    155258939\n",
       "22197    155259677\n",
       "22198    155259881\n",
       "Name: POS, Length: 22199, dtype: int64"
      ]
     },
     "execution_count": 30,
     "metadata": {},
     "output_type": "execute_result"
    }
   ],
   "source": [
    "delete_result_data[\"POS\"]"
   ]
  },
  {
   "cell_type": "code",
   "execution_count": 31,
   "id": "99577154",
   "metadata": {},
   "outputs": [
    {
     "data": {
      "text/plain": [
       "0        IMPRECISE;SVTYPE=INS;END=10743;CIPOS=-50,50;NS...\n",
       "1        IMPRECISE;SVTYPE=INS;END=10942;CIPOS=-50,50;NS...\n",
       "2        IMPRECISE;SVTYPE=INS;END=66192;SVLEN=+261;CIPO...\n",
       "3        IMPRECISE;SVTYPE=INS;END=66494;SVLEN=+62;CIPOS...\n",
       "4        IMPRECISE;SVTYPE=INS;END=386767;CIPOS=-50,50;N...\n",
       "                               ...                        \n",
       "22194    IMPRECISE;SVTYPE=INS;END=155232238;CIPOS=-100,...\n",
       "22195    IMPRECISE;SVTYPE=INS;END=155258859;CIPOS=-50,5...\n",
       "22196    IMPRECISE;SVTYPE=INS;END=155259040;CIPOS=-100,...\n",
       "22197    IMPRECISE;SVTYPE=INS;END=155259780;CIPOS=-100,...\n",
       "22198    IMPRECISE;SVTYPE=INS;END=155259965;CIPOS=-100,...\n",
       "Name: INFO, Length: 22199, dtype: object"
      ]
     },
     "execution_count": 31,
     "metadata": {},
     "output_type": "execute_result"
    }
   ],
   "source": [
    "delete_result_data[\"INFO\"]"
   ]
  },
  {
   "cell_type": "code",
   "execution_count": 1,
   "id": "ffb4be2a",
   "metadata": {},
   "outputs": [
    {
     "name": "stderr",
     "output_type": "stream",
     "text": [
      "Some weights of the model checkpoint at albert-base-v2 were not used when initializing AlbertModel: ['predictions.bias', 'predictions.dense.bias', 'predictions.decoder.weight', 'predictions.dense.weight', 'predictions.LayerNorm.weight', 'predictions.LayerNorm.bias', 'predictions.decoder.bias']\n",
      "- This IS expected if you are initializing AlbertModel from the checkpoint of a model trained on another task or with another architecture (e.g. initializing a BertForSequenceClassification model from a BertForPreTraining model).\n",
      "- This IS NOT expected if you are initializing AlbertModel from the checkpoint of a model that you expect to be exactly identical (initializing a BertForSequenceClassification model from a BertForSequenceClassification model).\n"
     ]
    }
   ],
   "source": [
    "from transformers import AlbertModel\n",
    "import torch.nn as nn\n",
    "bert = AlbertModel.from_pretrained(\"albert-base-v2\")\n",
    "bert.embeddings.word_embeddings = nn.modules.sparse.Embedding(30000, 11, padding_idx=0)\n",
    "bert.embeddings.position_embeddings = nn.modules.sparse.Embedding(512, 11)\n",
    "bert.embeddings.token_type_embeddings = nn.modules.sparse.Embedding(2, 11)\n",
    "bert.embeddings.LayerNorm = nn.modules.normalization.LayerNorm((11,), eps=1e-12, elementwise_affine=True)\n",
    "bert.encoder.embedding_hidden_mapping_in = nn.modules.linear.Linear(in_features=11, out_features=768, bias=True)"
   ]
  },
  {
   "cell_type": "code",
   "execution_count": 13,
   "id": "6991b8d1",
   "metadata": {},
   "outputs": [],
   "source": [
    "torch.save(bert, \"init_albert.pt\")"
   ]
  },
  {
   "cell_type": "code",
   "execution_count": 14,
   "id": "ea87581f",
   "metadata": {},
   "outputs": [],
   "source": [
    "import torchvision\n",
    "\n",
    "resnet_model = torchvision.models.resnet50(pretrained=True)"
   ]
  },
  {
   "cell_type": "code",
   "execution_count": 15,
   "id": "a9b01b5d",
   "metadata": {},
   "outputs": [],
   "source": [
    "torch.save(resnet_model, \"init_resnet50.pt\")"
   ]
  },
  {
   "cell_type": "code",
   "execution_count": 2,
   "id": "1229a70b",
   "metadata": {},
   "outputs": [],
   "source": [
    "import torch\n",
    "a = torch.rand([4, 3])"
   ]
  },
  {
   "cell_type": "code",
   "execution_count": 5,
   "id": "1bb158e1",
   "metadata": {},
   "outputs": [
    {
     "data": {
      "text/plain": [
       "tensor([1, 1, 0, 2])"
      ]
     },
     "execution_count": 5,
     "metadata": {},
     "output_type": "execute_result"
    }
   ],
   "source": [
    "torch.argmax(a, dim = 1)"
   ]
  },
  {
   "cell_type": "code",
   "execution_count": 6,
   "id": "559d47d2",
   "metadata": {},
   "outputs": [],
   "source": [
    "y = [0, 1, 0, 1]"
   ]
  },
  {
   "cell_type": "code",
   "execution_count": 14,
   "id": "b81fb88d",
   "metadata": {},
   "outputs": [
    {
     "data": {
      "text/plain": [
       "False"
      ]
     },
     "execution_count": 14,
     "metadata": {},
     "output_type": "execute_result"
    }
   ],
   "source": [
    "y == torch.argmax(a, dim = 1)"
   ]
  },
  {
   "cell_type": "code",
   "execution_count": 14,
   "id": "11d0f32b",
   "metadata": {},
   "outputs": [],
   "source": [
    "import torch\n",
    "data_dir = \"/home/xwm/DeepSVFilter/datasets/NA12878_PacBio_MtSinai/\"\n",
    "\n",
    "all_ins_img = torch.load(data_dir + '/ins/0' + '.pt')\n",
    "# all_del_img = torch.load(data_dir + '/all_del_img' + '.pt')\n",
    "# all_n_img = torch.load(data_dir + '/all_n_img' + '.pt')\n",
    "all_ins_list = torch.load(data_dir + '/all_ins_list' + '.pt')"
   ]
  },
  {
   "cell_type": "code",
   "execution_count": 13,
   "id": "b65c3d8f",
   "metadata": {},
   "outputs": [
    {
     "data": {
      "text/plain": [
       "torch.Size([512, 11])"
      ]
     },
     "execution_count": 13,
     "metadata": {},
     "output_type": "execute_result"
    }
   ],
   "source": [
    "all_ins_list[1].size()"
   ]
  },
  {
   "cell_type": "code",
   "execution_count": 4,
   "id": "fda433aa",
   "metadata": {},
   "outputs": [],
   "source": [
    "from sklearn.metrics import classification_report\n",
    "y_true = [0, 1, 2, 2, 2]\n",
    "y_pred = [0, 0, 2, 2, 1]\n",
    "a = classification_report(y_true, y_pred, output_dict = True)"
   ]
  },
  {
   "cell_type": "code",
   "execution_count": 9,
   "id": "540869d9",
   "metadata": {},
   "outputs": [
    {
     "name": "stdout",
     "output_type": "stream",
     "text": [
      "{'0': {'precision': 0.5, 'recall': 1.0, 'f1-score': 0.6666666666666666, 'support': 1}, '1': {'precision': 0.0, 'recall': 0.0, 'f1-score': 0.0, 'support': 1}, '2': {'precision': 1.0, 'recall': 0.6666666666666666, 'f1-score': 0.8, 'support': 3}, 'accuracy': 0.6, 'macro avg': {'precision': 0.5, 'recall': 0.5555555555555555, 'f1-score': 0.48888888888888893, 'support': 5}, 'weighted avg': {'precision': 0.7, 'recall': 0.6, 'f1-score': 0.6133333333333334, 'support': 5}}\n"
     ]
    }
   ],
   "source": [
    "print(a)"
   ]
  },
  {
   "cell_type": "code",
   "execution_count": 8,
   "id": "757db98b",
   "metadata": {},
   "outputs": [
    {
     "data": {
      "text/plain": [
       "0.61"
      ]
     },
     "execution_count": 8,
     "metadata": {},
     "output_type": "execute_result"
    }
   ],
   "source": [
    "float(a.split()[-2])"
   ]
  },
  {
   "cell_type": "code",
   "execution_count": null,
   "id": "aab3bfe9",
   "metadata": {},
   "outputs": [],
   "source": []
  }
 ],
 "metadata": {
  "kernelspec": {
   "display_name": "Python 3",
   "language": "python",
   "name": "python3"
  },
  "language_info": {
   "codemirror_mode": {
    "name": "ipython",
    "version": 3
   },
   "file_extension": ".py",
   "mimetype": "text/x-python",
   "name": "python",
   "nbconvert_exporter": "python",
   "pygments_lexer": "ipython3",
   "version": "3.6.13"
  }
 },
 "nbformat": 4,
 "nbformat_minor": 5
}
