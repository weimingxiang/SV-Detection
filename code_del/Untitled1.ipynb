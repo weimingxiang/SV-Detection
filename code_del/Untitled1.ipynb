{
 "cells": [
  {
   "cell_type": "code",
   "execution_count": 1,
   "id": "c2067108",
   "metadata": {},
   "outputs": [],
   "source": [
    "import utilities as ut\n",
    "from pudb import set_trace\n",
    "import pandas as pd\n",
    "import random\n",
    "import numpy as np\n",
    "import torch\n",
    "import torch.nn as nn\n",
    "from pytorch_lightning.loggers import TensorBoardLogger\n",
    "import os\n",
    "from net import IDENet\n",
    "import pytorch_lightning as pl\n",
    "from pytorch_lightning import seed_everything\n",
    "from pytorch_lightning.callbacks import ModelCheckpoint\n",
    "from multiprocessing import Pool, cpu_count\n",
    "import pysam\n",
    "import time\n",
    "import ray\n",
    "from ray import tune\n",
    "from ray.tune import CLIReporter\n",
    "from ray.tune.suggest import Repeater\n",
    "from ray.tune.schedulers import ASHAScheduler, PopulationBasedTraining\n",
    "from ray.tune.suggest.hyperopt import HyperOptSearch\n",
    "from ray.tune.integration.pytorch_lightning import TuneReportCallback, \\\n",
    "    TuneReportCheckpointCallback\n",
    "import list2img\n",
    "from hyperopt import hp\n",
    "from sklearn.metrics import classification_report\n"
   ]
  },
  {
   "cell_type": "code",
   "execution_count": 2,
   "id": "d26cb875",
   "metadata": {},
   "outputs": [],
   "source": [
    "data_dir = \"/home/xwm/DeepSVFilter/code_BIBM/\"\n",
    "config = {\n",
    "    \"lr\": 7.1873e-06,\n",
    "    \"batch_size\": 118, # 14,\n",
    "    \"beta1\": 0.9,\n",
    "    \"beta2\": 0.999,\n",
    "    'weight_decay': 0.0011615,\n",
    "    # \"classfication_dim_stride\": 20, # no use\n",
    "}"
   ]
  },
  {
   "cell_type": "code",
   "execution_count": 20,
   "id": "81fd89d0",
   "metadata": {},
   "outputs": [],
   "source": [
    "model = IDENet.load_from_checkpoint(\n",
    "    \"/home/xwm/DeepSVFilter/code_BIBM/checkpoints_predict/4channel_predict_del/epoch=10-validation_mean=0.91-train_mean=0.92.ckpt\",\n",
    "    path = data_dir, config = config)"
   ]
  },
  {
   "cell_type": "code",
   "execution_count": 21,
   "id": "c36deee7",
   "metadata": {
    "scrolled": false
   },
   "outputs": [
    {
     "name": "stderr",
     "output_type": "stream",
     "text": [
      "GPU available: True, used: True\n",
      "TPU available: False, using: 0 TPU cores\n",
      "IPU available: False, using: 0 IPUs\n",
      "LOCAL_RANK: 0 - CUDA_VISIBLE_DEVICES: [0]\n"
     ]
    },
    {
     "data": {
      "application/vnd.jupyter.widget-view+json": {
       "model_id": "7579c81eb3ad433bb7afac143f7e2191",
       "version_major": 2,
       "version_minor": 0
      },
      "text/plain": [
       "Testing: 0it [00:00, ?it/s]"
      ]
     },
     "metadata": {},
     "output_type": "display_data"
    },
    {
     "name": "stdout",
     "output_type": "stream",
     "text": [
      "--------------------------------------------------------------------------------\n",
      "DATALOADER:0 TEST RESULTS\n",
      "{'validation_loss': 0.17735622823238373,\n",
      " 'validation_loss_epoch': 0.17735622823238373}\n",
      "--------------------------------------------------------------------------------\n"
     ]
    }
   ],
   "source": [
    "os.environ[\"CUDA_VISIBLE_DEVICES\"] = \"0\"\n",
    "trainer = pl.Trainer(gpus=1)\n",
    "model.eval()\n",
    "result = trainer.test(model)"
   ]
  },
  {
   "cell_type": "code",
   "execution_count": 22,
   "id": "724990be",
   "metadata": {},
   "outputs": [],
   "source": [
    "output = torch.load(\"test_output.pt\")\n",
    "\n",
    "y = torch.empty(0, 2)\n",
    "y_hat = torch.empty(0, 2).cuda()\n",
    "\n",
    "\n",
    "for out in output:\n",
    "    for ii in out['y']:\n",
    "        if ii == 0:\n",
    "            y = torch.cat([y, torch.tensor([1, 0]).unsqueeze(0)], 0)\n",
    "        else:\n",
    "            # y[i] = 1\n",
    "            y = torch.cat([y, torch.tensor([0, 1]).unsqueeze(0)], 0)\n",
    "    y_hat = torch.cat([y_hat, out['y_hat']], 0)"
   ]
  },
  {
   "cell_type": "code",
   "execution_count": 45,
   "id": "09a1e58c",
   "metadata": {},
   "outputs": [
    {
     "name": "stderr",
     "output_type": "stream",
     "text": [
      "/home/xwm/anaconda3/envs/SV/lib/python3.6/site-packages/ipykernel_launcher.py:36: DeprecationWarning: scipy.interp is deprecated and will be removed in SciPy 2.0.0, use numpy.interp instead\n"
     ]
    },
    {
     "data": {
      "image/png": "[encoded data removed]",
      "text/plain": [
       "<Figure size 432x288 with 1 Axes>"
      ]
     },
     "metadata": {
      "needs_background": "light"
     },
     "output_type": "display_data"
    }
   ],
   "source": [
    "# 引入必要的库\n",
    "import numpy as np\n",
    "import matplotlib.pyplot as plt\n",
    "from itertools import cycle\n",
    "from sklearn import svm, datasets\n",
    "from sklearn.metrics import roc_curve, auc\n",
    "from sklearn.model_selection import train_test_split\n",
    "from sklearn.preprocessing import label_binarize\n",
    "from sklearn.multiclass import OneVsRestClassifier\n",
    "from scipy import interp\n",
    "\n",
    "# 加载数据\n",
    "y_test = y.cpu().numpy()\n",
    "y_score = y_hat.cpu().numpy()\n",
    "# 设置种类\n",
    "n_classes = y.shape[1]\n",
    "\n",
    "# 计算每一类的ROC\n",
    "fpr = dict()\n",
    "tpr = dict()\n",
    "roc_auc = dict()\n",
    "for i in range(n_classes):\n",
    "    fpr[i], tpr[i], _ = roc_curve(y_test[:, i], y_score[:, i])\n",
    "    roc_auc[i] = auc(fpr[i], tpr[i])\n",
    "\n",
    "# Compute micro-average ROC curve and ROC area（方法二）\n",
    "fpr[\"micro\"], tpr[\"micro\"], _ = roc_curve(y_test.ravel(), y_score.ravel())\n",
    "roc_auc[\"micro\"] = auc(fpr[\"micro\"], tpr[\"micro\"])\n",
    "\n",
    "# Compute macro-average ROC curve and ROC area（方法一）\n",
    "# First aggregate all false positive rates\n",
    "all_fpr = np.unique(np.concatenate([fpr[i] for i in range(n_classes)]))\n",
    "# Then interpolate all ROC curves at this points\n",
    "mean_tpr = np.zeros_like(all_fpr)\n",
    "for i in range(n_classes):\n",
    "    mean_tpr += interp(all_fpr, fpr[i], tpr[i])\n",
    "# Finally average it and compute AUC\n",
    "mean_tpr /= n_classes\n",
    "fpr[\"macro\"] = all_fpr\n",
    "tpr[\"macro\"] = mean_tpr\n",
    "roc_auc[\"macro\"] = auc(fpr[\"macro\"], tpr[\"macro\"])\n",
    "\n",
    "# Plot all ROC curves\n",
    "lw=2\n",
    "plt.figure()\n",
    "\n",
    "i = 1\n",
    "color = 'blue'\n",
    "plt.plot(fpr[i], tpr[i], color=color, lw=lw,\n",
    "         label='ROC curve area = {1:0.2f}'\n",
    "         ''.format(i, roc_auc[i]))\n",
    "    \n",
    "plt.xlim([0.0, 1.0])\n",
    "plt.ylim([0.0, 1.05])\n",
    "plt.xlabel('False Positive Rate')\n",
    "plt.ylabel('True Positive Rate')\n",
    "# plt.title('Some extension of Receiver operating characteristic to multi-class')\n",
    "plt.legend(loc=\"lower right\")\n",
    "plt.savefig(\"del_roc.pdf\", dpi=1000, bbox_inches = 'tight')\n",
    "plt.show()\n"
   ]
  },
  {
   "cell_type": "code",
   "execution_count": 24,
   "id": "8c7b2e63",
   "metadata": {},
   "outputs": [],
   "source": [
    "metric = classification_report(torch.argmax(y.cpu(), dim = 1), torch.argmax(y_hat.cpu(), dim = 1), output_dict = True)"
   ]
  },
  {
   "cell_type": "code",
   "execution_count": 25,
   "id": "740ff41c",
   "metadata": {
    "scrolled": false
   },
   "outputs": [
    {
     "name": "stdout",
     "output_type": "stream",
     "text": [
      "              precision    recall  f1-score   support\n",
      "\n",
      "           0     0.9298    0.9334    0.9316      8444\n",
      "           1     0.8629    0.8560    0.8594      4131\n",
      "\n",
      "    accuracy                         0.9080     12575\n",
      "   macro avg     0.8963    0.8947    0.8955     12575\n",
      "weighted avg     0.9078    0.9080    0.9079     12575\n",
      "\n"
     ]
    }
   ],
   "source": [
    "print(classification_report(torch.argmax(y.cpu(), dim = 1), torch.argmax(y_hat.cpu(), dim = 1), digits=4))"
   ]
  },
  {
   "cell_type": "code",
   "execution_count": 26,
   "id": "c95a18c9",
   "metadata": {},
   "outputs": [
    {
     "data": {
      "text/plain": [
       "0.9079920477137177"
      ]
     },
     "execution_count": 26,
     "metadata": {},
     "output_type": "execute_result"
    }
   ],
   "source": [
    "metric[\"accuracy\"]"
   ]
  },
  {
   "cell_type": "code",
   "execution_count": 27,
   "id": "c9d1450d",
   "metadata": {},
   "outputs": [
    {
     "data": {
      "text/plain": [
       "{'precision': 0.8963350029963661,\n",
       " 'recall': 0.8947054718279519,\n",
       " 'f1-score': 0.8955115552778347,\n",
       " 'support': 12575}"
      ]
     },
     "execution_count": 27,
     "metadata": {},
     "output_type": "execute_result"
    }
   ],
   "source": [
    "metric[\"macro avg\"]"
   ]
  },
  {
   "cell_type": "code",
   "execution_count": 28,
   "id": "0e1823dd",
   "metadata": {},
   "outputs": [
    {
     "data": {
      "text/plain": [
       "{'precision': 0.9298100743187449,\n",
       " 'recall': 0.9334438654666035,\n",
       " 'f1-score': 0.9316234265114355,\n",
       " 'support': 8444}"
      ]
     },
     "execution_count": 28,
     "metadata": {},
     "output_type": "execute_result"
    }
   ],
   "source": [
    "metric[\"0\"]"
   ]
  },
  {
   "cell_type": "code",
   "execution_count": 29,
   "id": "d6d2b983",
   "metadata": {},
   "outputs": [
    {
     "data": {
      "text/plain": [
       "{'precision': 0.8628599316739873,\n",
       " 'recall': 0.8559670781893004,\n",
       " 'f1-score': 0.8593996840442338,\n",
       " 'support': 4131}"
      ]
     },
     "execution_count": 29,
     "metadata": {},
     "output_type": "execute_result"
    }
   ],
   "source": [
    "metric[\"1\"]"
   ]
  },
  {
   "cell_type": "code",
   "execution_count": null,
   "id": "bfb1ff53",
   "metadata": {},
   "outputs": [],
   "source": []
  }
 ],
 "metadata": {
  "kernelspec": {
   "display_name": "Python 3",
   "language": "python",
   "name": "python3"
  },
  "language_info": {
   "codemirror_mode": {
    "name": "ipython",
    "version": 3
   },
   "file_extension": ".py",
   "mimetype": "text/x-python",
   "name": "python",
   "nbconvert_exporter": "python",
   "pygments_lexer": "ipython3",
   "version": "3.6.13"
  }
 },
 "nbformat": 4,
 "nbformat_minor": 5
}
