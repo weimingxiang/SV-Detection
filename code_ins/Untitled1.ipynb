{
 "cells": [
  {
   "cell_type": "code",
   "execution_count": 13,
   "id": "c2067108",
   "metadata": {},
   "outputs": [],
   "source": [
    "import utilities as ut\n",
    "from pudb import set_trace\n",
    "import pandas as pd\n",
    "import random\n",
    "import numpy as np\n",
    "import torch\n",
    "import torch.nn as nn\n",
    "from pytorch_lightning.loggers import TensorBoardLogger\n",
    "import os\n",
    "from net import IDENet\n",
    "import pytorch_lightning as pl\n",
    "from pytorch_lightning import seed_everything\n",
    "from pytorch_lightning.callbacks import ModelCheckpoint\n",
    "from multiprocessing import Pool, cpu_count\n",
    "import pysam\n",
    "import time\n",
    "import ray\n",
    "from ray import tune\n",
    "from ray.tune import CLIReporter\n",
    "from ray.tune.suggest import Repeater\n",
    "from ray.tune.schedulers import ASHAScheduler, PopulationBasedTraining\n",
    "from ray.tune.suggest.hyperopt import HyperOptSearch\n",
    "from ray.tune.integration.pytorch_lightning import TuneReportCallback, \\\n",
    "    TuneReportCheckpointCallback\n",
    "import list2img\n",
    "from hyperopt import hp\n",
    "from sklearn.metrics import classification_report\n"
   ]
  },
  {
   "cell_type": "code",
   "execution_count": 14,
   "id": "d26cb875",
   "metadata": {},
   "outputs": [],
   "source": [
    "data_dir = \"/home/xwm/DeepSVFilter/code_BIBM/\"\n",
    "config = {\n",
    "    \"lr\": 7.1873e-06,\n",
    "    \"batch_size\": 118, # 14,\n",
    "    \"beta1\": 0.9,\n",
    "    \"beta2\": 0.999,\n",
    "    'weight_decay': 0.0011615,\n",
    "    # \"classfication_dim_stride\": 20, # no use\n",
    "}"
   ]
  },
  {
   "cell_type": "code",
   "execution_count": 35,
   "id": "81fd89d0",
   "metadata": {},
   "outputs": [],
   "source": [
    "model = IDENet.load_from_checkpoint(\n",
    "    \"/home/xwm/DeepSVFilter/code_BIBM/code_ins/checkpoints_predict/4channel_predict_ins/epoch=08-validation_mean=0.89-train_mean=0.92.ckpt\",\n",
    "    path = data_dir, config = config)"
   ]
  },
  {
   "cell_type": "code",
   "execution_count": 36,
   "id": "c36deee7",
   "metadata": {
    "scrolled": false
   },
   "outputs": [
    {
     "name": "stderr",
     "output_type": "stream",
     "text": [
      "GPU available: True, used: True\n",
      "TPU available: False, using: 0 TPU cores\n",
      "IPU available: False, using: 0 IPUs\n",
      "LOCAL_RANK: 0 - CUDA_VISIBLE_DEVICES: [1]\n"
     ]
    },
    {
     "data": {
      "application/vnd.jupyter.widget-view+json": {
       "model_id": "c032db79ba964cbb9024136ac3200436",
       "version_major": 2,
       "version_minor": 0
      },
      "text/plain": [
       "Testing: 0it [00:00, ?it/s]"
      ]
     },
     "metadata": {},
     "output_type": "display_data"
    },
    {
     "name": "stdout",
     "output_type": "stream",
     "text": [
      "--------------------------------------------------------------------------------\n",
      "DATALOADER:0 TEST RESULTS\n",
      "{'validation_loss': 0.18264935910701752,\n",
      " 'validation_loss_epoch': 0.18264935910701752}\n",
      "--------------------------------------------------------------------------------\n"
     ]
    }
   ],
   "source": [
    "os.environ[\"CUDA_VISIBLE_DEVICES\"] = \"1\"\n",
    "trainer = pl.Trainer(gpus=1)\n",
    "model.eval()\n",
    "result = trainer.test(model)"
   ]
  },
  {
   "cell_type": "code",
   "execution_count": 37,
   "id": "724990be",
   "metadata": {},
   "outputs": [],
   "source": [
    "output = torch.load(\"test_output.pt\")\n",
    "\n",
    "y = torch.empty(0, 2)\n",
    "y_hat = torch.empty(0, 2).cuda()\n",
    "\n",
    "\n",
    "for out in output:\n",
    "    for ii in out['y']:\n",
    "        if ii == 0:\n",
    "            y = torch.cat([y, torch.tensor([1, 0]).unsqueeze(0)], 0)\n",
    "        else:\n",
    "            # y[i] = 1\n",
    "            y = torch.cat([y, torch.tensor([0, 1]).unsqueeze(0)], 0)\n",
    "    y_hat = torch.cat([y_hat, out['y_hat']], 0)"
   ]
  },
  {
   "cell_type": "code",
   "execution_count": 38,
   "id": "09a1e58c",
   "metadata": {},
   "outputs": [
    {
     "name": "stderr",
     "output_type": "stream",
     "text": [
      "/home/xwm/anaconda3/envs/SV/lib/python3.6/site-packages/ipykernel_launcher.py:36: DeprecationWarning: scipy.interp is deprecated and will be removed in SciPy 2.0.0, use numpy.interp instead\n"
     ]
    },
    {
     "data": {
      "image/png": "[encoded data removed]",
      "text/plain": [
       "<Figure size 432x288 with 1 Axes>"
      ]
     },
     "metadata": {
      "needs_background": "light"
     },
     "output_type": "display_data"
    }
   ],
   "source": [
    "# 引入必要的库\n",
    "import numpy as np\n",
    "import matplotlib.pyplot as plt\n",
    "from itertools import cycle\n",
    "from sklearn import svm, datasets\n",
    "from sklearn.metrics import roc_curve, auc\n",
    "from sklearn.model_selection import train_test_split\n",
    "from sklearn.preprocessing import label_binarize\n",
    "from sklearn.multiclass import OneVsRestClassifier\n",
    "from scipy import interp\n",
    "\n",
    "# 加载数据\n",
    "y_test = y.cpu().numpy()\n",
    "y_score = y_hat.cpu().numpy()\n",
    "# 设置种类\n",
    "n_classes = y.shape[1]\n",
    "\n",
    "# 计算每一类的ROC\n",
    "fpr = dict()\n",
    "tpr = dict()\n",
    "roc_auc = dict()\n",
    "for i in range(n_classes):\n",
    "    fpr[i], tpr[i], _ = roc_curve(y_test[:, i], y_score[:, i])\n",
    "    roc_auc[i] = auc(fpr[i], tpr[i])\n",
    "\n",
    "# Compute micro-average ROC curve and ROC area（方法二）\n",
    "fpr[\"micro\"], tpr[\"micro\"], _ = roc_curve(y_test.ravel(), y_score.ravel())\n",
    "roc_auc[\"micro\"] = auc(fpr[\"micro\"], tpr[\"micro\"])\n",
    "\n",
    "# Compute macro-average ROC curve and ROC area（方法一）\n",
    "# First aggregate all false positive rates\n",
    "all_fpr = np.unique(np.concatenate([fpr[i] for i in range(n_classes)]))\n",
    "# Then interpolate all ROC curves at this points\n",
    "mean_tpr = np.zeros_like(all_fpr)\n",
    "for i in range(n_classes):\n",
    "    mean_tpr += interp(all_fpr, fpr[i], tpr[i])\n",
    "# Finally average it and compute AUC\n",
    "mean_tpr /= n_classes\n",
    "fpr[\"macro\"] = all_fpr\n",
    "tpr[\"macro\"] = mean_tpr\n",
    "roc_auc[\"macro\"] = auc(fpr[\"macro\"], tpr[\"macro\"])\n",
    "\n",
    "# Plot all ROC curves\n",
    "lw=2\n",
    "plt.figure()\n",
    "\n",
    "i = 1\n",
    "color = 'blue'\n",
    "plt.plot(fpr[i], tpr[i], color=color, lw=lw,\n",
    "         label='ROC curve area = {1:0.2f}'\n",
    "         ''.format(i, roc_auc[i]))\n",
    "    \n",
    "plt.xlim([0.0, 1.0])\n",
    "plt.ylim([0.0, 1.05])\n",
    "plt.xlabel('False Positive Rate')\n",
    "plt.ylabel('True Positive Rate')\n",
    "# plt.title('Some extension of Receiver operating characteristic to multi-class')\n",
    "plt.legend(loc=\"lower right\")\n",
    "plt.savefig(\"ins_roc.pdf\", dpi=1000, bbox_inches = 'tight')\n",
    "plt.show()\n"
   ]
  },
  {
   "cell_type": "code",
   "execution_count": 39,
   "id": "8c7b2e63",
   "metadata": {},
   "outputs": [],
   "source": [
    "metric = classification_report(torch.argmax(y.cpu(), dim = 1), torch.argmax(y_hat.cpu(), dim = 1), output_dict = True)"
   ]
  },
  {
   "cell_type": "code",
   "execution_count": 40,
   "id": "740ff41c",
   "metadata": {
    "scrolled": false
   },
   "outputs": [
    {
     "name": "stdout",
     "output_type": "stream",
     "text": [
      "              precision    recall  f1-score   support\n",
      "\n",
      "           0     0.8897    0.9543    0.9209      8443\n",
      "           1     0.8975    0.7719    0.8300      4380\n",
      "\n",
      "    accuracy                         0.8920     12823\n",
      "   macro avg     0.8936    0.8631    0.8754     12823\n",
      "weighted avg     0.8924    0.8920    0.8898     12823\n",
      "\n"
     ]
    }
   ],
   "source": [
    "print(classification_report(torch.argmax(y.cpu(), dim = 1), torch.argmax(y_hat.cpu(), dim = 1), digits=4))"
   ]
  },
  {
   "cell_type": "code",
   "execution_count": 41,
   "id": "c95a18c9",
   "metadata": {},
   "outputs": [
    {
     "data": {
      "text/plain": [
       "0.8919909537549715"
      ]
     },
     "execution_count": 41,
     "metadata": {},
     "output_type": "execute_result"
    }
   ],
   "source": [
    "metric[\"accuracy\"]"
   ]
  },
  {
   "cell_type": "code",
   "execution_count": 44,
   "id": "d6d2b983",
   "metadata": {},
   "outputs": [
    {
     "data": {
      "text/plain": [
       "{'precision': 0.8975311919299177,\n",
       " 'recall': 0.7719178082191781,\n",
       " 'f1-score': 0.8299987725543144,\n",
       " 'support': 4380}"
      ]
     },
     "execution_count": 44,
     "metadata": {},
     "output_type": "execute_result"
    }
   ],
   "source": [
    "metric[\"1\"]"
   ]
  },
  {
   "cell_type": "code",
   "execution_count": null,
   "id": "bfb1ff53",
   "metadata": {},
   "outputs": [],
   "source": []
  }
 ],
 "metadata": {
  "kernelspec": {
   "display_name": "Python 3",
   "language": "python",
   "name": "python3"
  },
  "language_info": {
   "codemirror_mode": {
    "name": "ipython",
    "version": 3
   },
   "file_extension": ".py",
   "mimetype": "text/x-python",
   "name": "python",
   "nbconvert_exporter": "python",
   "pygments_lexer": "ipython3",
   "version": "3.6.13"
  }
 },
 "nbformat": 4,
 "nbformat_minor": 5
}
